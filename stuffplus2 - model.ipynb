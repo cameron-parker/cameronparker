{
 "cells": [
  {
   "cell_type": "code",
   "execution_count": 378,
   "id": "805e63dc",
   "metadata": {},
   "outputs": [],
   "source": [
    "import numpy as np\n",
    "import pandas as pd\n",
    "import matplotlib.pyplot as plt\n",
    "import seaborn as sns\n",
    "from sklearn.ensemble import RandomForestRegressor\n",
    "from sklearn.model_selection import train_test_split, cross_val_score\n",
    "from sklearn.tree import DecisionTreeRegressor\n",
    "from pathlib import Path\n",
    "import statsmodels.api as sm\n",
    "import glob\n",
    "import os\n",
    "import xgboost as xgb\n",
    "from xgboost import XGBRegressor\n",
    "from sklearn.metrics import mean_squared_error\n",
    "import matplotlib.patches as patches"
   ]
  },
  {
   "cell_type": "markdown",
   "id": "e7050c73",
   "metadata": {},
   "source": [
    "Stuff+ model trained on the 2023 NCAA baseball season, using all available games on Trackman."
   ]
  },
  {
   "cell_type": "code",
   "execution_count": 1,
   "id": "e87c6dd7",
   "metadata": {},
   "outputs": [],
   "source": [
    "data = pd.read_csv(r'2023NCAATrackman.csv', low_memory=False)"
   ]
  },
  {
   "cell_type": "code",
   "execution_count": 381,
   "id": "09420070",
   "metadata": {},
   "outputs": [],
   "source": [
    "df = data[['Pitcher', 'PitcherTeam', 'TaggedPitchType', 'PitchCall', 'TaggedHitType',\n",
    "           'PlayResult', 'RelSpeed', 'VertRelAngle', 'HorzRelAngle', 'SpinRate',\n",
    "           'SpinAxis', 'RelHeight', 'RelSide', 'Extension', 'InducedVertBreak', \n",
    "           'HorzBreak', 'ZoneSpeed', 'VertApprAngle', 'HorzApprAngle', 'EffectiveVelo', 'PlateLocSide', 'PlateLocHeight']]"
   ]
  },
  {
   "cell_type": "code",
   "execution_count": 382,
   "id": "ec91b5d2",
   "metadata": {},
   "outputs": [],
   "source": [
    "df = df.replace([np.inf, -np.inf], np.nan)\n",
    "df = df.dropna()\n",
    "df = df.reset_index()"
   ]
  },
  {
   "cell_type": "markdown",
   "metadata": {},
   "source": [
    "Adjust some of the variables so that they treat positive and negative the same - where it make sense to."
   ]
  },
  {
   "cell_type": "code",
   "execution_count": 383,
   "id": "1b5f35c4",
   "metadata": {},
   "outputs": [],
   "source": [
    "df.insert(6, \"DifferentialBreak\", df[\"InducedVertBreak\"] - df[\"HorzBreak\"].abs(), True)\n",
    "df.insert(10, \"ABSSideRelease\", df[\"RelSide\"].abs(), True)\n",
    "df.insert(11, 'ABSHorzBreak', df['HorzBreak'].abs(), True)"
   ]
  },
  {
   "cell_type": "markdown",
   "metadata": {},
   "source": [
    "Here are the run values used for this model."
   ]
  },
  {
   "cell_type": "code",
   "execution_count": 384,
   "id": "3b205a20",
   "metadata": {},
   "outputs": [],
   "source": [
    "home_run = 1.374328827219,\n",
    "triple = 1.05755624961515,\n",
    "double = 0.766083122898271,\n",
    "single = 0.467292970729251\n",
    "ball = 0.0636883289483747,\n",
    "hit_by_pitch = 0.0636883289483747,\n",
    "blocked_ball = 0.0636883289483747,\n",
    "foul = -0.0380502742575014,\n",
    "foul_tip = -0.0380502742575014,\n",
    "bunt_foul = -0.0380502742575014,\n",
    "bunt_foul_tip = -0.0380502742575014,\n",
    "called_strike = -0.065092516089806,\n",
    "swinging_strike = -0.118124935770601,\n",
    "swinging_strike_blocked = -0.118124935770601,\n",
    "force_out = -0.1955687665555,\n",
    "grounded_into_double_play = -0.1955687665555,\n",
    "fielders_choice_out = -0.1955687665555,\n",
    "fielders_choice = -0.1955687665555,\n",
    "field_out = -0.1955687665555,\n",
    "double_play = -0.1955687665555,\n",
    "Sac_fly = -0.236889645519856,\n",
    "field_error = -0.236889645519856,\n",
    "catcher_interf = -0.789788814378052\n",
    "sac_fly_double_play = -0.789788814378052\n",
    "triple_play = -0.789788814378052"
   ]
  },
  {
   "cell_type": "markdown",
   "metadata": {},
   "source": [
    "Next, the technique for assigning each pitch in the dataframe a run value."
   ]
  },
  {
   "cell_type": "code",
   "execution_count": 385,
   "id": "5abd6f1d",
   "metadata": {},
   "outputs": [],
   "source": [
    "df[\"in play\"] = df['PlayResult'] + ' ' + df['TaggedHitType']"
   ]
  },
  {
   "cell_type": "code",
   "execution_count": 386,
   "id": "e4bdc9d5",
   "metadata": {},
   "outputs": [],
   "source": [
    "inplay = df['PitchCall'] == 'InPlay'\n",
    "df.loc[inplay, 'PitchCall'] = df.loc[inplay, 'in play']"
   ]
  },
  {
   "cell_type": "code",
   "execution_count": 387,
   "id": "6fb54e12",
   "metadata": {},
   "outputs": [],
   "source": [
    "for index, row in df.iterrows():\n",
    "    if row['PitchCall'] == 'InPlay':\n",
    "        repval = row['in play']\n",
    "        df.at[index, 'PitchCall'] = repval"
   ]
  },
  {
   "cell_type": "code",
   "execution_count": 388,
   "id": "7abb566d",
   "metadata": {},
   "outputs": [],
   "source": [
    "repl = {'StrikeSwinging': 'swinging_strike', 'BallCalled': 'ball',\n",
    "       'FoulBall': 'foul', 'Out FlyBall': 'field_out', 'Single GroundBall': 'single',\n",
    "       'StrikeCalled': 'called_strike', 'Out Popup': 'field_out',\n",
    "       'Out GroundBall': 'field_out', 'Double FlyBall': 'double', \n",
    "       'BallinDirt': 'ball', 'HomeRune LineDrive': 'home_run', \n",
    "       'Out LineDrive': 'field_out', 'HitByPitch': 'hit_by_pitch', \n",
    "       'Single LineDrive': 'single', 'Double LineDrive': 'double',\n",
    "       'Error GroundBall': 'field_error', 'Sacrifice FlyBall': 'Sac_fly',\n",
    "       'HomeRun FlyBall': 'home_run', 'Double GroundBall': 'double', \n",
    "       'FieldersChoice GroundBall': 'fielders_choice', 'Single Bunt': 'single', \n",
    "       'Sacrifice Bunt': 'fielders_choice_out', 'Error Bunt': 'field_error', \n",
    "       'Single FlyBall': 'single', 'Sacrifice LineDrive': 'sac_fly', 'Out Bunt': 'field_out',\n",
    "       'Triple LineDrive': 'triple', 'Single Popup': 'single', 'Error Popup': 'field_error',\n",
    "       'Triple FlyBall': 'triple', 'Sacrifice Popup': 'sac_fly'}"
   ]
  },
  {
   "cell_type": "code",
   "execution_count": 389,
   "id": "ab2b3f15",
   "metadata": {},
   "outputs": [],
   "source": [
    "df['PitchCall'] = df['PitchCall'].replace(repl)"
   ]
  },
  {
   "cell_type": "code",
   "execution_count": 390,
   "id": "7d8d9119",
   "metadata": {},
   "outputs": [],
   "source": [
    "df[\"Run Values\"] = df[\"PitchCall\"].map({\n",
    "'home_run': 1.374328827219,\n",
    "'triple': 1.05755624961515,\n",
    "'double': 0.766083122898271,\n",
    "'single': 0.467292970729251,\n",
    "'ball': 0.0636883289483747,\n",
    "'hit_by_pitch': 0.0636883289483747,\n",
    "'blocked_ball': 0.0636883289483747,\n",
    "'foul': -0.0380502742575014,\n",
    "'foul_tip': -0.0380502742575014,\n",
    "'bunt_foul': -0.0380502742575014,\n",
    "'bunt_foul_tip': -0.0380502742575014,\n",
    "'called_strike': -0.065092516089806,\n",
    "'swinging_strike': -0.118124935770601,\n",
    "'swinging_strike_blocked': -0.118124935770601,\n",
    "'force_out': -0.1955687665555,\n",
    "'grounded_into_double_play': -0.1955687665555,\n",
    "'fielders_choice_out': -0.1955687665555,\n",
    "'fielders_choice': -0.1955687665555,\n",
    "'field_out': -0.1955687665555,\n",
    "'double_play': -0.1955687665555,\n",
    "'Sac_fly': -0.236889645519856,\n",
    "'field_error': -0.236889645519856,\n",
    "'catcher_interf': -0.789788814378052,\n",
    "'sac_fly_double_play': -0.789788814378052,\n",
    "'triple_play': -0.789788814378052\n",
    "                                       })"
   ]
  },
  {
   "cell_type": "code",
   "execution_count": 391,
   "id": "5171a3e6",
   "metadata": {},
   "outputs": [],
   "source": [
    "df = df.drop(['in play', 'PlayResult', 'PitchCall', 'TaggedHitType'], axis=1)"
   ]
  },
  {
   "cell_type": "code",
   "execution_count": 392,
   "id": "01420049",
   "metadata": {},
   "outputs": [],
   "source": [
    "df = df.drop(['index'], axis=1)"
   ]
  },
  {
   "cell_type": "code",
   "execution_count": 394,
   "id": "13e744da",
   "metadata": {},
   "outputs": [],
   "source": [
    "df.rename(columns = {'Run Values':'RV'}, inplace=True)"
   ]
  },
  {
   "cell_type": "code",
   "execution_count": 395,
   "id": "af7aa724",
   "metadata": {},
   "outputs": [],
   "source": [
    "#fix the pitchers' names:\n",
    "df['Pitcher'] = df['Pitcher'].str.split(' ', expand=True)[1] + ' ' + df['Pitcher'].str.split(' ', expand=True)[0]"
   ]
  },
  {
   "cell_type": "code",
   "execution_count": 396,
   "id": "ec3fee66",
   "metadata": {},
   "outputs": [],
   "source": [
    "df = df.replace(',','', regex=True)"
   ]
  },
  {
   "cell_type": "code",
   "execution_count": 397,
   "id": "f54b197a",
   "metadata": {},
   "outputs": [],
   "source": [
    "df = df.dropna()"
   ]
  },
  {
   "cell_type": "markdown",
   "metadata": {},
   "source": [
    "To train, I've subset the table by pitch type, splitting up each \"fastball\" variety as well as offspeed pitches and breaking balls.\n",
    "\n",
    "Tags on the Trackman games aren't always accurate, especially tags for the away team, but this will make do."
   ]
  },
  {
   "cell_type": "code",
   "execution_count": 398,
   "id": "6a4d3ca4",
   "metadata": {},
   "outputs": [],
   "source": [
    "dff = df[(df['TaggedPitchType'] == 'Fastball') | \n",
    "          (df['TaggedPitchType'] == 'FourSeamFastball')]\n",
    "dfc = df[df['TaggedPitchType'] == 'Cutter']\n",
    "dsk = df[(df['TaggedPitchType'] == 'TwoSeamFastball') |\n",
    "          (df['TaggedPitchType'] == 'Sinker')]\n",
    "dsl = df[df['TaggedPitchType'] == 'Slider']\n",
    "dch = df[df['TaggedPitchType'] == 'ChangeUp']\n",
    "dcb = df[df['TaggedPitchType'] == 'Curveball']\n",
    "dsp = df[df['TaggedPitchType'] == 'Splitter']"
   ]
  },
  {
   "cell_type": "code",
   "execution_count": 399,
   "id": "72d4f9d2",
   "metadata": {},
   "outputs": [],
   "source": [
    "X1 = dff[['DifferentialBreak', 'RelSpeed', 'VertRelAngle', 'ABSSideRelease', 'HorzRelAngle', 'SpinRate', 'SpinAxis', \n",
    "        'RelHeight', 'Extension', 'InducedVertBreak', 'ABSHorzBreak', 'VertApprAngle', 'HorzApprAngle', 'EffectiveVelo']]\n",
    "y1 = dff['RV']"
   ]
  },
  {
   "cell_type": "code",
   "execution_count": 400,
   "id": "a5e167be",
   "metadata": {},
   "outputs": [],
   "source": [
    "X2 = dfc[['DifferentialBreak', 'RelSpeed', 'VertRelAngle', 'ABSSideRelease', 'HorzRelAngle', 'SpinRate', 'SpinAxis', \n",
    "        'RelHeight', 'Extension', 'InducedVertBreak', 'ABSHorzBreak', 'VertApprAngle', 'HorzApprAngle', 'EffectiveVelo']]\n",
    "y2 = dfc['RV']"
   ]
  },
  {
   "cell_type": "code",
   "execution_count": 401,
   "id": "12300ea4",
   "metadata": {},
   "outputs": [],
   "source": [
    "X3 = dsk[['DifferentialBreak', 'RelSpeed', 'VertRelAngle', 'ABSSideRelease', 'HorzRelAngle', 'SpinRate', 'SpinAxis', \n",
    "        'RelHeight', 'Extension', 'InducedVertBreak', 'ABSHorzBreak', 'VertApprAngle', 'HorzApprAngle', 'EffectiveVelo']]\n",
    "y3 = dsk['RV']"
   ]
  },
  {
   "cell_type": "code",
   "execution_count": 402,
   "id": "d9aa2a5f",
   "metadata": {},
   "outputs": [],
   "source": [
    "X4 = dsl[['DifferentialBreak', 'RelSpeed', 'VertRelAngle', 'ABSSideRelease', 'HorzRelAngle', 'SpinRate', 'SpinAxis', \n",
    "        'RelHeight', 'Extension', 'InducedVertBreak', 'ABSHorzBreak', 'VertApprAngle', 'HorzApprAngle', 'EffectiveVelo']]\n",
    "y4 = dsl['RV']"
   ]
  },
  {
   "cell_type": "code",
   "execution_count": 403,
   "id": "fefec8e5",
   "metadata": {},
   "outputs": [],
   "source": [
    "X5 = dch[['DifferentialBreak', 'RelSpeed', 'VertRelAngle', 'ABSSideRelease', 'HorzRelAngle', 'SpinRate', 'SpinAxis', \n",
    "        'RelHeight', 'Extension', 'InducedVertBreak', 'ABSHorzBreak', 'VertApprAngle', 'HorzApprAngle', 'EffectiveVelo']]\n",
    "y5 = dch['RV']"
   ]
  },
  {
   "cell_type": "code",
   "execution_count": 404,
   "id": "a6bc3e15",
   "metadata": {},
   "outputs": [],
   "source": [
    "X6 = dcb[['DifferentialBreak', 'RelSpeed', 'VertRelAngle', 'ABSSideRelease', 'HorzRelAngle', 'SpinRate', 'SpinAxis', \n",
    "        'RelHeight', 'Extension', 'InducedVertBreak', 'ABSHorzBreak', 'VertApprAngle', 'HorzApprAngle', 'EffectiveVelo']]\n",
    "y6 = dcb['RV']"
   ]
  },
  {
   "cell_type": "code",
   "execution_count": 405,
   "id": "05731059",
   "metadata": {},
   "outputs": [],
   "source": [
    "X7 = dsp[['DifferentialBreak', 'RelSpeed', 'VertRelAngle', 'ABSSideRelease', 'HorzRelAngle', 'SpinRate', 'SpinAxis', \n",
    "        'RelHeight', 'Extension', 'InducedVertBreak', 'ABSHorzBreak', 'VertApprAngle', 'HorzApprAngle', 'EffectiveVelo']]\n",
    "y7 = dsp['RV']"
   ]
  },
  {
   "cell_type": "code",
   "execution_count": 406,
   "id": "e7bab43c",
   "metadata": {},
   "outputs": [],
   "source": [
    "#Split data into training and testing sets\n",
    "X1_train, X1_test, y1_train, y1_test = train_test_split(X1, y1, test_size=0.25, random_state=0)\n",
    "X2_train, X2_test, y2_train, y2_test = train_test_split(X2, y2, test_size=0.25, random_state=0)\n",
    "X3_train, X3_test, y3_train, y3_test = train_test_split(X3, y3, test_size=0.25, random_state=0)\n",
    "X4_train, X4_test, y4_train, y4_test = train_test_split(X4, y4, test_size=0.25, random_state=0)\n",
    "X5_train, X5_test, y5_train, y5_test = train_test_split(X5, y5, test_size=0.25, random_state=0)\n",
    "X6_train, X6_test, y6_train, y6_test = train_test_split(X6, y6, test_size=0.25, random_state=0)\n",
    "X7_train, X7_test, y7_train, y7_test = train_test_split(X7, y7, test_size=0.25, random_state=0)"
   ]
  },
  {
   "cell_type": "markdown",
   "metadata": {},
   "source": [
    "The method for each pitch type subset:\n",
    "1. fit the model with scikit-learn's random forest and XGBoost\n",
    "2. obtain the list of feature importances, to help contextualize the model's predictions\n",
    "3. the predicted run value used is the average of each prediction method"
   ]
  },
  {
   "cell_type": "code",
   "execution_count": 407,
   "id": "b39609f8",
   "metadata": {},
   "outputs": [
    {
     "data": {
      "text/html": [
       "<style>#sk-container-id-29 {color: black;}#sk-container-id-29 pre{padding: 0;}#sk-container-id-29 div.sk-toggleable {background-color: white;}#sk-container-id-29 label.sk-toggleable__label {cursor: pointer;display: block;width: 100%;margin-bottom: 0;padding: 0.3em;box-sizing: border-box;text-align: center;}#sk-container-id-29 label.sk-toggleable__label-arrow:before {content: \"▸\";float: left;margin-right: 0.25em;color: #696969;}#sk-container-id-29 label.sk-toggleable__label-arrow:hover:before {color: black;}#sk-container-id-29 div.sk-estimator:hover label.sk-toggleable__label-arrow:before {color: black;}#sk-container-id-29 div.sk-toggleable__content {max-height: 0;max-width: 0;overflow: hidden;text-align: left;background-color: #f0f8ff;}#sk-container-id-29 div.sk-toggleable__content pre {margin: 0.2em;color: black;border-radius: 0.25em;background-color: #f0f8ff;}#sk-container-id-29 input.sk-toggleable__control:checked~div.sk-toggleable__content {max-height: 200px;max-width: 100%;overflow: auto;}#sk-container-id-29 input.sk-toggleable__control:checked~label.sk-toggleable__label-arrow:before {content: \"▾\";}#sk-container-id-29 div.sk-estimator input.sk-toggleable__control:checked~label.sk-toggleable__label {background-color: #d4ebff;}#sk-container-id-29 div.sk-label input.sk-toggleable__control:checked~label.sk-toggleable__label {background-color: #d4ebff;}#sk-container-id-29 input.sk-hidden--visually {border: 0;clip: rect(1px 1px 1px 1px);clip: rect(1px, 1px, 1px, 1px);height: 1px;margin: -1px;overflow: hidden;padding: 0;position: absolute;width: 1px;}#sk-container-id-29 div.sk-estimator {font-family: monospace;background-color: #f0f8ff;border: 1px dotted black;border-radius: 0.25em;box-sizing: border-box;margin-bottom: 0.5em;}#sk-container-id-29 div.sk-estimator:hover {background-color: #d4ebff;}#sk-container-id-29 div.sk-parallel-item::after {content: \"\";width: 100%;border-bottom: 1px solid gray;flex-grow: 1;}#sk-container-id-29 div.sk-label:hover label.sk-toggleable__label {background-color: #d4ebff;}#sk-container-id-29 div.sk-serial::before {content: \"\";position: absolute;border-left: 1px solid gray;box-sizing: border-box;top: 0;bottom: 0;left: 50%;z-index: 0;}#sk-container-id-29 div.sk-serial {display: flex;flex-direction: column;align-items: center;background-color: white;padding-right: 0.2em;padding-left: 0.2em;position: relative;}#sk-container-id-29 div.sk-item {position: relative;z-index: 1;}#sk-container-id-29 div.sk-parallel {display: flex;align-items: stretch;justify-content: center;background-color: white;position: relative;}#sk-container-id-29 div.sk-item::before, #sk-container-id-29 div.sk-parallel-item::before {content: \"\";position: absolute;border-left: 1px solid gray;box-sizing: border-box;top: 0;bottom: 0;left: 50%;z-index: -1;}#sk-container-id-29 div.sk-parallel-item {display: flex;flex-direction: column;z-index: 1;position: relative;background-color: white;}#sk-container-id-29 div.sk-parallel-item:first-child::after {align-self: flex-end;width: 50%;}#sk-container-id-29 div.sk-parallel-item:last-child::after {align-self: flex-start;width: 50%;}#sk-container-id-29 div.sk-parallel-item:only-child::after {width: 0;}#sk-container-id-29 div.sk-dashed-wrapped {border: 1px dashed gray;margin: 0 0.4em 0.5em 0.4em;box-sizing: border-box;padding-bottom: 0.4em;background-color: white;}#sk-container-id-29 div.sk-label label {font-family: monospace;font-weight: bold;display: inline-block;line-height: 1.2em;}#sk-container-id-29 div.sk-label-container {text-align: center;}#sk-container-id-29 div.sk-container {/* jupyter's `normalize.less` sets `[hidden] { display: none; }` but bootstrap.min.css set `[hidden] { display: none !important; }` so we also need the `!important` here to be able to override the default hidden behavior on the sphinx rendered scikit-learn.org. See: https://github.com/scikit-learn/scikit-learn/issues/21755 */display: inline-block !important;position: relative;}#sk-container-id-29 div.sk-text-repr-fallback {display: none;}</style><div id=\"sk-container-id-29\" class=\"sk-top-container\"><div class=\"sk-text-repr-fallback\"><pre>RandomForestRegressor(max_depth=10, n_estimators=10)</pre><b>In a Jupyter environment, please rerun this cell to show the HTML representation or trust the notebook. <br />On GitHub, the HTML representation is unable to render, please try loading this page with nbviewer.org.</b></div><div class=\"sk-container\" hidden><div class=\"sk-item\"><div class=\"sk-estimator sk-toggleable\"><input class=\"sk-toggleable__control sk-hidden--visually\" id=\"sk-estimator-id-29\" type=\"checkbox\" checked><label for=\"sk-estimator-id-29\" class=\"sk-toggleable__label sk-toggleable__label-arrow\">RandomForestRegressor</label><div class=\"sk-toggleable__content\"><pre>RandomForestRegressor(max_depth=10, n_estimators=10)</pre></div></div></div></div></div>"
      ],
      "text/plain": [
       "RandomForestRegressor(max_depth=10, n_estimators=10)"
      ]
     },
     "execution_count": 407,
     "metadata": {},
     "output_type": "execute_result"
    }
   ],
   "source": [
    "#fastball randomforest\n",
    "rfr1 = RandomForestRegressor(n_estimators=10, max_depth=10)\n",
    "rfr1.fit(X1_train, y1_train)"
   ]
  },
  {
   "cell_type": "code",
   "execution_count": 408,
   "id": "c73bf080",
   "metadata": {},
   "outputs": [
    {
     "data": {
      "text/html": [
       "<style>#sk-container-id-30 {color: black;}#sk-container-id-30 pre{padding: 0;}#sk-container-id-30 div.sk-toggleable {background-color: white;}#sk-container-id-30 label.sk-toggleable__label {cursor: pointer;display: block;width: 100%;margin-bottom: 0;padding: 0.3em;box-sizing: border-box;text-align: center;}#sk-container-id-30 label.sk-toggleable__label-arrow:before {content: \"▸\";float: left;margin-right: 0.25em;color: #696969;}#sk-container-id-30 label.sk-toggleable__label-arrow:hover:before {color: black;}#sk-container-id-30 div.sk-estimator:hover label.sk-toggleable__label-arrow:before {color: black;}#sk-container-id-30 div.sk-toggleable__content {max-height: 0;max-width: 0;overflow: hidden;text-align: left;background-color: #f0f8ff;}#sk-container-id-30 div.sk-toggleable__content pre {margin: 0.2em;color: black;border-radius: 0.25em;background-color: #f0f8ff;}#sk-container-id-30 input.sk-toggleable__control:checked~div.sk-toggleable__content {max-height: 200px;max-width: 100%;overflow: auto;}#sk-container-id-30 input.sk-toggleable__control:checked~label.sk-toggleable__label-arrow:before {content: \"▾\";}#sk-container-id-30 div.sk-estimator input.sk-toggleable__control:checked~label.sk-toggleable__label {background-color: #d4ebff;}#sk-container-id-30 div.sk-label input.sk-toggleable__control:checked~label.sk-toggleable__label {background-color: #d4ebff;}#sk-container-id-30 input.sk-hidden--visually {border: 0;clip: rect(1px 1px 1px 1px);clip: rect(1px, 1px, 1px, 1px);height: 1px;margin: -1px;overflow: hidden;padding: 0;position: absolute;width: 1px;}#sk-container-id-30 div.sk-estimator {font-family: monospace;background-color: #f0f8ff;border: 1px dotted black;border-radius: 0.25em;box-sizing: border-box;margin-bottom: 0.5em;}#sk-container-id-30 div.sk-estimator:hover {background-color: #d4ebff;}#sk-container-id-30 div.sk-parallel-item::after {content: \"\";width: 100%;border-bottom: 1px solid gray;flex-grow: 1;}#sk-container-id-30 div.sk-label:hover label.sk-toggleable__label {background-color: #d4ebff;}#sk-container-id-30 div.sk-serial::before {content: \"\";position: absolute;border-left: 1px solid gray;box-sizing: border-box;top: 0;bottom: 0;left: 50%;z-index: 0;}#sk-container-id-30 div.sk-serial {display: flex;flex-direction: column;align-items: center;background-color: white;padding-right: 0.2em;padding-left: 0.2em;position: relative;}#sk-container-id-30 div.sk-item {position: relative;z-index: 1;}#sk-container-id-30 div.sk-parallel {display: flex;align-items: stretch;justify-content: center;background-color: white;position: relative;}#sk-container-id-30 div.sk-item::before, #sk-container-id-30 div.sk-parallel-item::before {content: \"\";position: absolute;border-left: 1px solid gray;box-sizing: border-box;top: 0;bottom: 0;left: 50%;z-index: -1;}#sk-container-id-30 div.sk-parallel-item {display: flex;flex-direction: column;z-index: 1;position: relative;background-color: white;}#sk-container-id-30 div.sk-parallel-item:first-child::after {align-self: flex-end;width: 50%;}#sk-container-id-30 div.sk-parallel-item:last-child::after {align-self: flex-start;width: 50%;}#sk-container-id-30 div.sk-parallel-item:only-child::after {width: 0;}#sk-container-id-30 div.sk-dashed-wrapped {border: 1px dashed gray;margin: 0 0.4em 0.5em 0.4em;box-sizing: border-box;padding-bottom: 0.4em;background-color: white;}#sk-container-id-30 div.sk-label label {font-family: monospace;font-weight: bold;display: inline-block;line-height: 1.2em;}#sk-container-id-30 div.sk-label-container {text-align: center;}#sk-container-id-30 div.sk-container {/* jupyter's `normalize.less` sets `[hidden] { display: none; }` but bootstrap.min.css set `[hidden] { display: none !important; }` so we also need the `!important` here to be able to override the default hidden behavior on the sphinx rendered scikit-learn.org. See: https://github.com/scikit-learn/scikit-learn/issues/21755 */display: inline-block !important;position: relative;}#sk-container-id-30 div.sk-text-repr-fallback {display: none;}</style><div id=\"sk-container-id-30\" class=\"sk-top-container\"><div class=\"sk-text-repr-fallback\"><pre>XGBRegressor(base_score=None, booster=None, callbacks=None,\n",
       "             colsample_bylevel=None, colsample_bynode=None,\n",
       "             colsample_bytree=None, early_stopping_rounds=None,\n",
       "             enable_categorical=False, eval_metric=None, feature_types=None,\n",
       "             gamma=None, gpu_id=None, grow_policy=None, importance_type=None,\n",
       "             interaction_constraints=None, learning_rate=None, max_bin=None,\n",
       "             max_cat_threshold=None, max_cat_to_onehot=None,\n",
       "             max_delta_step=None, max_depth=None, max_leaves=None,\n",
       "             min_child_weight=None, missing=nan, monotone_constraints=None,\n",
       "             n_estimators=100, n_jobs=None, num_parallel_tree=None,\n",
       "             predictor=None, random_state=None, ...)</pre><b>In a Jupyter environment, please rerun this cell to show the HTML representation or trust the notebook. <br />On GitHub, the HTML representation is unable to render, please try loading this page with nbviewer.org.</b></div><div class=\"sk-container\" hidden><div class=\"sk-item\"><div class=\"sk-estimator sk-toggleable\"><input class=\"sk-toggleable__control sk-hidden--visually\" id=\"sk-estimator-id-30\" type=\"checkbox\" checked><label for=\"sk-estimator-id-30\" class=\"sk-toggleable__label sk-toggleable__label-arrow\">XGBRegressor</label><div class=\"sk-toggleable__content\"><pre>XGBRegressor(base_score=None, booster=None, callbacks=None,\n",
       "             colsample_bylevel=None, colsample_bynode=None,\n",
       "             colsample_bytree=None, early_stopping_rounds=None,\n",
       "             enable_categorical=False, eval_metric=None, feature_types=None,\n",
       "             gamma=None, gpu_id=None, grow_policy=None, importance_type=None,\n",
       "             interaction_constraints=None, learning_rate=None, max_bin=None,\n",
       "             max_cat_threshold=None, max_cat_to_onehot=None,\n",
       "             max_delta_step=None, max_depth=None, max_leaves=None,\n",
       "             min_child_weight=None, missing=nan, monotone_constraints=None,\n",
       "             n_estimators=100, n_jobs=None, num_parallel_tree=None,\n",
       "             predictor=None, random_state=None, ...)</pre></div></div></div></div></div>"
      ],
      "text/plain": [
       "XGBRegressor(base_score=None, booster=None, callbacks=None,\n",
       "             colsample_bylevel=None, colsample_bynode=None,\n",
       "             colsample_bytree=None, early_stopping_rounds=None,\n",
       "             enable_categorical=False, eval_metric=None, feature_types=None,\n",
       "             gamma=None, gpu_id=None, grow_policy=None, importance_type=None,\n",
       "             interaction_constraints=None, learning_rate=None, max_bin=None,\n",
       "             max_cat_threshold=None, max_cat_to_onehot=None,\n",
       "             max_delta_step=None, max_depth=None, max_leaves=None,\n",
       "             min_child_weight=None, missing=nan, monotone_constraints=None,\n",
       "             n_estimators=100, n_jobs=None, num_parallel_tree=None,\n",
       "             predictor=None, random_state=None, ...)"
      ]
     },
     "execution_count": 408,
     "metadata": {},
     "output_type": "execute_result"
    }
   ],
   "source": [
    "#fastball xgboost\n",
    "xgb_model1 = XGBRegressor()\n",
    "xgb_model1.fit(X1_train, y1_train)"
   ]
  },
  {
   "cell_type": "code",
   "execution_count": 409,
   "id": "776e4384",
   "metadata": {},
   "outputs": [],
   "source": [
    "#fastball feature importances\n",
    "feature_importances1r = pd.DataFrame(rfr1.feature_importances_, index = X1_train.columns, columns=['importance']).sort_values('importance', ascending=False)\n",
    "feature_importances1x = pd.DataFrame(xgb_model1.feature_importances_, index = X1_train.columns, columns=['importance']).sort_values('importance', ascending=False)\n",
    "feature_importances1 = feature_importances1x.join(feature_importances1r,  how='outer', lsuffix='_xgb', rsuffix='_rf')\n",
    "feature_importances1['mean_importance_FF'] = (feature_importances1['importance_xgb'] + feature_importances1['importance_rf']) / 2\n",
    "feature_importances1 = feature_importances1.sort_values(by='mean_importance_FF', ascending=False).drop(['importance_xgb', 'importance_rf'], axis=1).reset_index()"
   ]
  },
  {
   "cell_type": "code",
   "execution_count": 410,
   "id": "227f12ae",
   "metadata": {},
   "outputs": [
    {
     "name": "stderr",
     "output_type": "stream",
     "text": [
      "C:\\Users\\parke\\AppData\\Local\\Temp\\ipykernel_11980\\1419107988.py:1: SettingWithCopyWarning: \n",
      "A value is trying to be set on a copy of a slice from a DataFrame.\n",
      "Try using .loc[row_indexer,col_indexer] = value instead\n",
      "\n",
      "See the caveats in the documentation: https://pandas.pydata.org/pandas-docs/stable/user_guide/indexing.html#returning-a-view-versus-a-copy\n",
      "  dff['rfPredictRV'] = rfr1.predict(X1)\n"
     ]
    }
   ],
   "source": [
    "dff['rfPredictRV'] = rfr1.predict(X1)"
   ]
  },
  {
   "cell_type": "code",
   "execution_count": 411,
   "id": "76e4d017",
   "metadata": {},
   "outputs": [
    {
     "name": "stderr",
     "output_type": "stream",
     "text": [
      "C:\\Users\\parke\\AppData\\Local\\Temp\\ipykernel_11980\\2069723281.py:1: SettingWithCopyWarning: \n",
      "A value is trying to be set on a copy of a slice from a DataFrame.\n",
      "Try using .loc[row_indexer,col_indexer] = value instead\n",
      "\n",
      "See the caveats in the documentation: https://pandas.pydata.org/pandas-docs/stable/user_guide/indexing.html#returning-a-view-versus-a-copy\n",
      "  dff['xgPredictRV'] = xgb_model1.predict(X1)\n"
     ]
    }
   ],
   "source": [
    "dff['xgPredictRV'] = xgb_model1.predict(X1)"
   ]
  },
  {
   "cell_type": "code",
   "execution_count": 412,
   "id": "2f40ef4d",
   "metadata": {},
   "outputs": [
    {
     "name": "stderr",
     "output_type": "stream",
     "text": [
      "C:\\Users\\parke\\AppData\\Local\\Temp\\ipykernel_11980\\339207183.py:1: SettingWithCopyWarning: \n",
      "A value is trying to be set on a copy of a slice from a DataFrame.\n",
      "Try using .loc[row_indexer,col_indexer] = value instead\n",
      "\n",
      "See the caveats in the documentation: https://pandas.pydata.org/pandas-docs/stable/user_guide/indexing.html#returning-a-view-versus-a-copy\n",
      "  dff['xRV'] = (dff['rfPredictRV'] + dff['xgPredictRV']) / 2\n"
     ]
    }
   ],
   "source": [
    "dff['xRV'] = (dff['rfPredictRV'] + dff['xgPredictRV']) / 2"
   ]
  },
  {
   "cell_type": "code",
   "execution_count": 413,
   "id": "4c3da3f6",
   "metadata": {},
   "outputs": [
    {
     "data": {
      "text/html": [
       "<style>#sk-container-id-31 {color: black;}#sk-container-id-31 pre{padding: 0;}#sk-container-id-31 div.sk-toggleable {background-color: white;}#sk-container-id-31 label.sk-toggleable__label {cursor: pointer;display: block;width: 100%;margin-bottom: 0;padding: 0.3em;box-sizing: border-box;text-align: center;}#sk-container-id-31 label.sk-toggleable__label-arrow:before {content: \"▸\";float: left;margin-right: 0.25em;color: #696969;}#sk-container-id-31 label.sk-toggleable__label-arrow:hover:before {color: black;}#sk-container-id-31 div.sk-estimator:hover label.sk-toggleable__label-arrow:before {color: black;}#sk-container-id-31 div.sk-toggleable__content {max-height: 0;max-width: 0;overflow: hidden;text-align: left;background-color: #f0f8ff;}#sk-container-id-31 div.sk-toggleable__content pre {margin: 0.2em;color: black;border-radius: 0.25em;background-color: #f0f8ff;}#sk-container-id-31 input.sk-toggleable__control:checked~div.sk-toggleable__content {max-height: 200px;max-width: 100%;overflow: auto;}#sk-container-id-31 input.sk-toggleable__control:checked~label.sk-toggleable__label-arrow:before {content: \"▾\";}#sk-container-id-31 div.sk-estimator input.sk-toggleable__control:checked~label.sk-toggleable__label {background-color: #d4ebff;}#sk-container-id-31 div.sk-label input.sk-toggleable__control:checked~label.sk-toggleable__label {background-color: #d4ebff;}#sk-container-id-31 input.sk-hidden--visually {border: 0;clip: rect(1px 1px 1px 1px);clip: rect(1px, 1px, 1px, 1px);height: 1px;margin: -1px;overflow: hidden;padding: 0;position: absolute;width: 1px;}#sk-container-id-31 div.sk-estimator {font-family: monospace;background-color: #f0f8ff;border: 1px dotted black;border-radius: 0.25em;box-sizing: border-box;margin-bottom: 0.5em;}#sk-container-id-31 div.sk-estimator:hover {background-color: #d4ebff;}#sk-container-id-31 div.sk-parallel-item::after {content: \"\";width: 100%;border-bottom: 1px solid gray;flex-grow: 1;}#sk-container-id-31 div.sk-label:hover label.sk-toggleable__label {background-color: #d4ebff;}#sk-container-id-31 div.sk-serial::before {content: \"\";position: absolute;border-left: 1px solid gray;box-sizing: border-box;top: 0;bottom: 0;left: 50%;z-index: 0;}#sk-container-id-31 div.sk-serial {display: flex;flex-direction: column;align-items: center;background-color: white;padding-right: 0.2em;padding-left: 0.2em;position: relative;}#sk-container-id-31 div.sk-item {position: relative;z-index: 1;}#sk-container-id-31 div.sk-parallel {display: flex;align-items: stretch;justify-content: center;background-color: white;position: relative;}#sk-container-id-31 div.sk-item::before, #sk-container-id-31 div.sk-parallel-item::before {content: \"\";position: absolute;border-left: 1px solid gray;box-sizing: border-box;top: 0;bottom: 0;left: 50%;z-index: -1;}#sk-container-id-31 div.sk-parallel-item {display: flex;flex-direction: column;z-index: 1;position: relative;background-color: white;}#sk-container-id-31 div.sk-parallel-item:first-child::after {align-self: flex-end;width: 50%;}#sk-container-id-31 div.sk-parallel-item:last-child::after {align-self: flex-start;width: 50%;}#sk-container-id-31 div.sk-parallel-item:only-child::after {width: 0;}#sk-container-id-31 div.sk-dashed-wrapped {border: 1px dashed gray;margin: 0 0.4em 0.5em 0.4em;box-sizing: border-box;padding-bottom: 0.4em;background-color: white;}#sk-container-id-31 div.sk-label label {font-family: monospace;font-weight: bold;display: inline-block;line-height: 1.2em;}#sk-container-id-31 div.sk-label-container {text-align: center;}#sk-container-id-31 div.sk-container {/* jupyter's `normalize.less` sets `[hidden] { display: none; }` but bootstrap.min.css set `[hidden] { display: none !important; }` so we also need the `!important` here to be able to override the default hidden behavior on the sphinx rendered scikit-learn.org. See: https://github.com/scikit-learn/scikit-learn/issues/21755 */display: inline-block !important;position: relative;}#sk-container-id-31 div.sk-text-repr-fallback {display: none;}</style><div id=\"sk-container-id-31\" class=\"sk-top-container\"><div class=\"sk-text-repr-fallback\"><pre>RandomForestRegressor(max_depth=10, n_estimators=10)</pre><b>In a Jupyter environment, please rerun this cell to show the HTML representation or trust the notebook. <br />On GitHub, the HTML representation is unable to render, please try loading this page with nbviewer.org.</b></div><div class=\"sk-container\" hidden><div class=\"sk-item\"><div class=\"sk-estimator sk-toggleable\"><input class=\"sk-toggleable__control sk-hidden--visually\" id=\"sk-estimator-id-31\" type=\"checkbox\" checked><label for=\"sk-estimator-id-31\" class=\"sk-toggleable__label sk-toggleable__label-arrow\">RandomForestRegressor</label><div class=\"sk-toggleable__content\"><pre>RandomForestRegressor(max_depth=10, n_estimators=10)</pre></div></div></div></div></div>"
      ],
      "text/plain": [
       "RandomForestRegressor(max_depth=10, n_estimators=10)"
      ]
     },
     "execution_count": 413,
     "metadata": {},
     "output_type": "execute_result"
    }
   ],
   "source": [
    "#cutter randomforest\n",
    "rfr2 = RandomForestRegressor(n_estimators=10, max_depth=10)\n",
    "rfr2.fit(X2_train, y2_train)"
   ]
  },
  {
   "cell_type": "code",
   "execution_count": 414,
   "id": "f4d27f66",
   "metadata": {},
   "outputs": [
    {
     "data": {
      "text/html": [
       "<style>#sk-container-id-32 {color: black;}#sk-container-id-32 pre{padding: 0;}#sk-container-id-32 div.sk-toggleable {background-color: white;}#sk-container-id-32 label.sk-toggleable__label {cursor: pointer;display: block;width: 100%;margin-bottom: 0;padding: 0.3em;box-sizing: border-box;text-align: center;}#sk-container-id-32 label.sk-toggleable__label-arrow:before {content: \"▸\";float: left;margin-right: 0.25em;color: #696969;}#sk-container-id-32 label.sk-toggleable__label-arrow:hover:before {color: black;}#sk-container-id-32 div.sk-estimator:hover label.sk-toggleable__label-arrow:before {color: black;}#sk-container-id-32 div.sk-toggleable__content {max-height: 0;max-width: 0;overflow: hidden;text-align: left;background-color: #f0f8ff;}#sk-container-id-32 div.sk-toggleable__content pre {margin: 0.2em;color: black;border-radius: 0.25em;background-color: #f0f8ff;}#sk-container-id-32 input.sk-toggleable__control:checked~div.sk-toggleable__content {max-height: 200px;max-width: 100%;overflow: auto;}#sk-container-id-32 input.sk-toggleable__control:checked~label.sk-toggleable__label-arrow:before {content: \"▾\";}#sk-container-id-32 div.sk-estimator input.sk-toggleable__control:checked~label.sk-toggleable__label {background-color: #d4ebff;}#sk-container-id-32 div.sk-label input.sk-toggleable__control:checked~label.sk-toggleable__label {background-color: #d4ebff;}#sk-container-id-32 input.sk-hidden--visually {border: 0;clip: rect(1px 1px 1px 1px);clip: rect(1px, 1px, 1px, 1px);height: 1px;margin: -1px;overflow: hidden;padding: 0;position: absolute;width: 1px;}#sk-container-id-32 div.sk-estimator {font-family: monospace;background-color: #f0f8ff;border: 1px dotted black;border-radius: 0.25em;box-sizing: border-box;margin-bottom: 0.5em;}#sk-container-id-32 div.sk-estimator:hover {background-color: #d4ebff;}#sk-container-id-32 div.sk-parallel-item::after {content: \"\";width: 100%;border-bottom: 1px solid gray;flex-grow: 1;}#sk-container-id-32 div.sk-label:hover label.sk-toggleable__label {background-color: #d4ebff;}#sk-container-id-32 div.sk-serial::before {content: \"\";position: absolute;border-left: 1px solid gray;box-sizing: border-box;top: 0;bottom: 0;left: 50%;z-index: 0;}#sk-container-id-32 div.sk-serial {display: flex;flex-direction: column;align-items: center;background-color: white;padding-right: 0.2em;padding-left: 0.2em;position: relative;}#sk-container-id-32 div.sk-item {position: relative;z-index: 1;}#sk-container-id-32 div.sk-parallel {display: flex;align-items: stretch;justify-content: center;background-color: white;position: relative;}#sk-container-id-32 div.sk-item::before, #sk-container-id-32 div.sk-parallel-item::before {content: \"\";position: absolute;border-left: 1px solid gray;box-sizing: border-box;top: 0;bottom: 0;left: 50%;z-index: -1;}#sk-container-id-32 div.sk-parallel-item {display: flex;flex-direction: column;z-index: 1;position: relative;background-color: white;}#sk-container-id-32 div.sk-parallel-item:first-child::after {align-self: flex-end;width: 50%;}#sk-container-id-32 div.sk-parallel-item:last-child::after {align-self: flex-start;width: 50%;}#sk-container-id-32 div.sk-parallel-item:only-child::after {width: 0;}#sk-container-id-32 div.sk-dashed-wrapped {border: 1px dashed gray;margin: 0 0.4em 0.5em 0.4em;box-sizing: border-box;padding-bottom: 0.4em;background-color: white;}#sk-container-id-32 div.sk-label label {font-family: monospace;font-weight: bold;display: inline-block;line-height: 1.2em;}#sk-container-id-32 div.sk-label-container {text-align: center;}#sk-container-id-32 div.sk-container {/* jupyter's `normalize.less` sets `[hidden] { display: none; }` but bootstrap.min.css set `[hidden] { display: none !important; }` so we also need the `!important` here to be able to override the default hidden behavior on the sphinx rendered scikit-learn.org. See: https://github.com/scikit-learn/scikit-learn/issues/21755 */display: inline-block !important;position: relative;}#sk-container-id-32 div.sk-text-repr-fallback {display: none;}</style><div id=\"sk-container-id-32\" class=\"sk-top-container\"><div class=\"sk-text-repr-fallback\"><pre>XGBRegressor(base_score=None, booster=None, callbacks=None,\n",
       "             colsample_bylevel=None, colsample_bynode=None,\n",
       "             colsample_bytree=None, early_stopping_rounds=None,\n",
       "             enable_categorical=False, eval_metric=None, feature_types=None,\n",
       "             gamma=None, gpu_id=None, grow_policy=None, importance_type=None,\n",
       "             interaction_constraints=None, learning_rate=None, max_bin=None,\n",
       "             max_cat_threshold=None, max_cat_to_onehot=None,\n",
       "             max_delta_step=None, max_depth=None, max_leaves=None,\n",
       "             min_child_weight=None, missing=nan, monotone_constraints=None,\n",
       "             n_estimators=100, n_jobs=None, num_parallel_tree=None,\n",
       "             predictor=None, random_state=None, ...)</pre><b>In a Jupyter environment, please rerun this cell to show the HTML representation or trust the notebook. <br />On GitHub, the HTML representation is unable to render, please try loading this page with nbviewer.org.</b></div><div class=\"sk-container\" hidden><div class=\"sk-item\"><div class=\"sk-estimator sk-toggleable\"><input class=\"sk-toggleable__control sk-hidden--visually\" id=\"sk-estimator-id-32\" type=\"checkbox\" checked><label for=\"sk-estimator-id-32\" class=\"sk-toggleable__label sk-toggleable__label-arrow\">XGBRegressor</label><div class=\"sk-toggleable__content\"><pre>XGBRegressor(base_score=None, booster=None, callbacks=None,\n",
       "             colsample_bylevel=None, colsample_bynode=None,\n",
       "             colsample_bytree=None, early_stopping_rounds=None,\n",
       "             enable_categorical=False, eval_metric=None, feature_types=None,\n",
       "             gamma=None, gpu_id=None, grow_policy=None, importance_type=None,\n",
       "             interaction_constraints=None, learning_rate=None, max_bin=None,\n",
       "             max_cat_threshold=None, max_cat_to_onehot=None,\n",
       "             max_delta_step=None, max_depth=None, max_leaves=None,\n",
       "             min_child_weight=None, missing=nan, monotone_constraints=None,\n",
       "             n_estimators=100, n_jobs=None, num_parallel_tree=None,\n",
       "             predictor=None, random_state=None, ...)</pre></div></div></div></div></div>"
      ],
      "text/plain": [
       "XGBRegressor(base_score=None, booster=None, callbacks=None,\n",
       "             colsample_bylevel=None, colsample_bynode=None,\n",
       "             colsample_bytree=None, early_stopping_rounds=None,\n",
       "             enable_categorical=False, eval_metric=None, feature_types=None,\n",
       "             gamma=None, gpu_id=None, grow_policy=None, importance_type=None,\n",
       "             interaction_constraints=None, learning_rate=None, max_bin=None,\n",
       "             max_cat_threshold=None, max_cat_to_onehot=None,\n",
       "             max_delta_step=None, max_depth=None, max_leaves=None,\n",
       "             min_child_weight=None, missing=nan, monotone_constraints=None,\n",
       "             n_estimators=100, n_jobs=None, num_parallel_tree=None,\n",
       "             predictor=None, random_state=None, ...)"
      ]
     },
     "execution_count": 414,
     "metadata": {},
     "output_type": "execute_result"
    }
   ],
   "source": [
    "#cutter xgboost\n",
    "xgb_model2 = XGBRegressor()\n",
    "xgb_model2.fit(X2_train, y2_train)"
   ]
  },
  {
   "cell_type": "code",
   "execution_count": 415,
   "id": "e54e9b91",
   "metadata": {},
   "outputs": [],
   "source": [
    "#cutter feature importances\n",
    "feature_importances2r = pd.DataFrame(rfr2.feature_importances_, index = X2_train.columns, columns=['importance']).sort_values('importance', ascending=False)\n",
    "feature_importances2x = pd.DataFrame(xgb_model2.feature_importances_, index = X2_train.columns, columns=['importance']).sort_values('importance', ascending=False)\n",
    "feature_importances2 = feature_importances2x.join(feature_importances2r,  how='outer', lsuffix='_xgb', rsuffix='_rf')\n",
    "feature_importances2['mean_importance_CT'] = (feature_importances2['importance_xgb'] + feature_importances2['importance_rf']) / 2\n",
    "feature_importances2 = feature_importances2.sort_values(by='mean_importance_CT', ascending=False).drop(['importance_xgb', 'importance_rf'], axis=1).reset_index()"
   ]
  },
  {
   "cell_type": "code",
   "execution_count": 416,
   "id": "83811d5f",
   "metadata": {},
   "outputs": [
    {
     "name": "stderr",
     "output_type": "stream",
     "text": [
      "C:\\Users\\parke\\AppData\\Local\\Temp\\ipykernel_11980\\160193162.py:1: SettingWithCopyWarning: \n",
      "A value is trying to be set on a copy of a slice from a DataFrame.\n",
      "Try using .loc[row_indexer,col_indexer] = value instead\n",
      "\n",
      "See the caveats in the documentation: https://pandas.pydata.org/pandas-docs/stable/user_guide/indexing.html#returning-a-view-versus-a-copy\n",
      "  dfc['rfPredictRV'] = rfr2.predict(X2)\n",
      "C:\\Users\\parke\\AppData\\Local\\Temp\\ipykernel_11980\\160193162.py:2: SettingWithCopyWarning: \n",
      "A value is trying to be set on a copy of a slice from a DataFrame.\n",
      "Try using .loc[row_indexer,col_indexer] = value instead\n",
      "\n",
      "See the caveats in the documentation: https://pandas.pydata.org/pandas-docs/stable/user_guide/indexing.html#returning-a-view-versus-a-copy\n",
      "  dfc['xgPredictRV'] = xgb_model2.predict(X2)\n",
      "C:\\Users\\parke\\AppData\\Local\\Temp\\ipykernel_11980\\160193162.py:3: SettingWithCopyWarning: \n",
      "A value is trying to be set on a copy of a slice from a DataFrame.\n",
      "Try using .loc[row_indexer,col_indexer] = value instead\n",
      "\n",
      "See the caveats in the documentation: https://pandas.pydata.org/pandas-docs/stable/user_guide/indexing.html#returning-a-view-versus-a-copy\n",
      "  dfc['xRV'] = (dfc['rfPredictRV'] + dfc['xgPredictRV']) / 2\n"
     ]
    }
   ],
   "source": [
    "dfc['rfPredictRV'] = rfr2.predict(X2)\n",
    "dfc['xgPredictRV'] = xgb_model2.predict(X2)\n",
    "dfc['xRV'] = (dfc['rfPredictRV'] + dfc['xgPredictRV']) / 2"
   ]
  },
  {
   "cell_type": "code",
   "execution_count": 417,
   "id": "9d514b33",
   "metadata": {},
   "outputs": [
    {
     "data": {
      "text/html": [
       "<style>#sk-container-id-33 {color: black;}#sk-container-id-33 pre{padding: 0;}#sk-container-id-33 div.sk-toggleable {background-color: white;}#sk-container-id-33 label.sk-toggleable__label {cursor: pointer;display: block;width: 100%;margin-bottom: 0;padding: 0.3em;box-sizing: border-box;text-align: center;}#sk-container-id-33 label.sk-toggleable__label-arrow:before {content: \"▸\";float: left;margin-right: 0.25em;color: #696969;}#sk-container-id-33 label.sk-toggleable__label-arrow:hover:before {color: black;}#sk-container-id-33 div.sk-estimator:hover label.sk-toggleable__label-arrow:before {color: black;}#sk-container-id-33 div.sk-toggleable__content {max-height: 0;max-width: 0;overflow: hidden;text-align: left;background-color: #f0f8ff;}#sk-container-id-33 div.sk-toggleable__content pre {margin: 0.2em;color: black;border-radius: 0.25em;background-color: #f0f8ff;}#sk-container-id-33 input.sk-toggleable__control:checked~div.sk-toggleable__content {max-height: 200px;max-width: 100%;overflow: auto;}#sk-container-id-33 input.sk-toggleable__control:checked~label.sk-toggleable__label-arrow:before {content: \"▾\";}#sk-container-id-33 div.sk-estimator input.sk-toggleable__control:checked~label.sk-toggleable__label {background-color: #d4ebff;}#sk-container-id-33 div.sk-label input.sk-toggleable__control:checked~label.sk-toggleable__label {background-color: #d4ebff;}#sk-container-id-33 input.sk-hidden--visually {border: 0;clip: rect(1px 1px 1px 1px);clip: rect(1px, 1px, 1px, 1px);height: 1px;margin: -1px;overflow: hidden;padding: 0;position: absolute;width: 1px;}#sk-container-id-33 div.sk-estimator {font-family: monospace;background-color: #f0f8ff;border: 1px dotted black;border-radius: 0.25em;box-sizing: border-box;margin-bottom: 0.5em;}#sk-container-id-33 div.sk-estimator:hover {background-color: #d4ebff;}#sk-container-id-33 div.sk-parallel-item::after {content: \"\";width: 100%;border-bottom: 1px solid gray;flex-grow: 1;}#sk-container-id-33 div.sk-label:hover label.sk-toggleable__label {background-color: #d4ebff;}#sk-container-id-33 div.sk-serial::before {content: \"\";position: absolute;border-left: 1px solid gray;box-sizing: border-box;top: 0;bottom: 0;left: 50%;z-index: 0;}#sk-container-id-33 div.sk-serial {display: flex;flex-direction: column;align-items: center;background-color: white;padding-right: 0.2em;padding-left: 0.2em;position: relative;}#sk-container-id-33 div.sk-item {position: relative;z-index: 1;}#sk-container-id-33 div.sk-parallel {display: flex;align-items: stretch;justify-content: center;background-color: white;position: relative;}#sk-container-id-33 div.sk-item::before, #sk-container-id-33 div.sk-parallel-item::before {content: \"\";position: absolute;border-left: 1px solid gray;box-sizing: border-box;top: 0;bottom: 0;left: 50%;z-index: -1;}#sk-container-id-33 div.sk-parallel-item {display: flex;flex-direction: column;z-index: 1;position: relative;background-color: white;}#sk-container-id-33 div.sk-parallel-item:first-child::after {align-self: flex-end;width: 50%;}#sk-container-id-33 div.sk-parallel-item:last-child::after {align-self: flex-start;width: 50%;}#sk-container-id-33 div.sk-parallel-item:only-child::after {width: 0;}#sk-container-id-33 div.sk-dashed-wrapped {border: 1px dashed gray;margin: 0 0.4em 0.5em 0.4em;box-sizing: border-box;padding-bottom: 0.4em;background-color: white;}#sk-container-id-33 div.sk-label label {font-family: monospace;font-weight: bold;display: inline-block;line-height: 1.2em;}#sk-container-id-33 div.sk-label-container {text-align: center;}#sk-container-id-33 div.sk-container {/* jupyter's `normalize.less` sets `[hidden] { display: none; }` but bootstrap.min.css set `[hidden] { display: none !important; }` so we also need the `!important` here to be able to override the default hidden behavior on the sphinx rendered scikit-learn.org. See: https://github.com/scikit-learn/scikit-learn/issues/21755 */display: inline-block !important;position: relative;}#sk-container-id-33 div.sk-text-repr-fallback {display: none;}</style><div id=\"sk-container-id-33\" class=\"sk-top-container\"><div class=\"sk-text-repr-fallback\"><pre>RandomForestRegressor(max_depth=10, n_estimators=10)</pre><b>In a Jupyter environment, please rerun this cell to show the HTML representation or trust the notebook. <br />On GitHub, the HTML representation is unable to render, please try loading this page with nbviewer.org.</b></div><div class=\"sk-container\" hidden><div class=\"sk-item\"><div class=\"sk-estimator sk-toggleable\"><input class=\"sk-toggleable__control sk-hidden--visually\" id=\"sk-estimator-id-33\" type=\"checkbox\" checked><label for=\"sk-estimator-id-33\" class=\"sk-toggleable__label sk-toggleable__label-arrow\">RandomForestRegressor</label><div class=\"sk-toggleable__content\"><pre>RandomForestRegressor(max_depth=10, n_estimators=10)</pre></div></div></div></div></div>"
      ],
      "text/plain": [
       "RandomForestRegressor(max_depth=10, n_estimators=10)"
      ]
     },
     "execution_count": 417,
     "metadata": {},
     "output_type": "execute_result"
    }
   ],
   "source": [
    "#sinker randomforest\n",
    "rfr3 = RandomForestRegressor(n_estimators=10, max_depth=10)\n",
    "rfr3.fit(X3_train, y3_train)"
   ]
  },
  {
   "cell_type": "code",
   "execution_count": 418,
   "id": "c613242f",
   "metadata": {},
   "outputs": [
    {
     "data": {
      "text/html": [
       "<style>#sk-container-id-34 {color: black;}#sk-container-id-34 pre{padding: 0;}#sk-container-id-34 div.sk-toggleable {background-color: white;}#sk-container-id-34 label.sk-toggleable__label {cursor: pointer;display: block;width: 100%;margin-bottom: 0;padding: 0.3em;box-sizing: border-box;text-align: center;}#sk-container-id-34 label.sk-toggleable__label-arrow:before {content: \"▸\";float: left;margin-right: 0.25em;color: #696969;}#sk-container-id-34 label.sk-toggleable__label-arrow:hover:before {color: black;}#sk-container-id-34 div.sk-estimator:hover label.sk-toggleable__label-arrow:before {color: black;}#sk-container-id-34 div.sk-toggleable__content {max-height: 0;max-width: 0;overflow: hidden;text-align: left;background-color: #f0f8ff;}#sk-container-id-34 div.sk-toggleable__content pre {margin: 0.2em;color: black;border-radius: 0.25em;background-color: #f0f8ff;}#sk-container-id-34 input.sk-toggleable__control:checked~div.sk-toggleable__content {max-height: 200px;max-width: 100%;overflow: auto;}#sk-container-id-34 input.sk-toggleable__control:checked~label.sk-toggleable__label-arrow:before {content: \"▾\";}#sk-container-id-34 div.sk-estimator input.sk-toggleable__control:checked~label.sk-toggleable__label {background-color: #d4ebff;}#sk-container-id-34 div.sk-label input.sk-toggleable__control:checked~label.sk-toggleable__label {background-color: #d4ebff;}#sk-container-id-34 input.sk-hidden--visually {border: 0;clip: rect(1px 1px 1px 1px);clip: rect(1px, 1px, 1px, 1px);height: 1px;margin: -1px;overflow: hidden;padding: 0;position: absolute;width: 1px;}#sk-container-id-34 div.sk-estimator {font-family: monospace;background-color: #f0f8ff;border: 1px dotted black;border-radius: 0.25em;box-sizing: border-box;margin-bottom: 0.5em;}#sk-container-id-34 div.sk-estimator:hover {background-color: #d4ebff;}#sk-container-id-34 div.sk-parallel-item::after {content: \"\";width: 100%;border-bottom: 1px solid gray;flex-grow: 1;}#sk-container-id-34 div.sk-label:hover label.sk-toggleable__label {background-color: #d4ebff;}#sk-container-id-34 div.sk-serial::before {content: \"\";position: absolute;border-left: 1px solid gray;box-sizing: border-box;top: 0;bottom: 0;left: 50%;z-index: 0;}#sk-container-id-34 div.sk-serial {display: flex;flex-direction: column;align-items: center;background-color: white;padding-right: 0.2em;padding-left: 0.2em;position: relative;}#sk-container-id-34 div.sk-item {position: relative;z-index: 1;}#sk-container-id-34 div.sk-parallel {display: flex;align-items: stretch;justify-content: center;background-color: white;position: relative;}#sk-container-id-34 div.sk-item::before, #sk-container-id-34 div.sk-parallel-item::before {content: \"\";position: absolute;border-left: 1px solid gray;box-sizing: border-box;top: 0;bottom: 0;left: 50%;z-index: -1;}#sk-container-id-34 div.sk-parallel-item {display: flex;flex-direction: column;z-index: 1;position: relative;background-color: white;}#sk-container-id-34 div.sk-parallel-item:first-child::after {align-self: flex-end;width: 50%;}#sk-container-id-34 div.sk-parallel-item:last-child::after {align-self: flex-start;width: 50%;}#sk-container-id-34 div.sk-parallel-item:only-child::after {width: 0;}#sk-container-id-34 div.sk-dashed-wrapped {border: 1px dashed gray;margin: 0 0.4em 0.5em 0.4em;box-sizing: border-box;padding-bottom: 0.4em;background-color: white;}#sk-container-id-34 div.sk-label label {font-family: monospace;font-weight: bold;display: inline-block;line-height: 1.2em;}#sk-container-id-34 div.sk-label-container {text-align: center;}#sk-container-id-34 div.sk-container {/* jupyter's `normalize.less` sets `[hidden] { display: none; }` but bootstrap.min.css set `[hidden] { display: none !important; }` so we also need the `!important` here to be able to override the default hidden behavior on the sphinx rendered scikit-learn.org. See: https://github.com/scikit-learn/scikit-learn/issues/21755 */display: inline-block !important;position: relative;}#sk-container-id-34 div.sk-text-repr-fallback {display: none;}</style><div id=\"sk-container-id-34\" class=\"sk-top-container\"><div class=\"sk-text-repr-fallback\"><pre>XGBRegressor(base_score=None, booster=None, callbacks=None,\n",
       "             colsample_bylevel=None, colsample_bynode=None,\n",
       "             colsample_bytree=None, early_stopping_rounds=None,\n",
       "             enable_categorical=False, eval_metric=None, feature_types=None,\n",
       "             gamma=None, gpu_id=None, grow_policy=None, importance_type=None,\n",
       "             interaction_constraints=None, learning_rate=None, max_bin=None,\n",
       "             max_cat_threshold=None, max_cat_to_onehot=None,\n",
       "             max_delta_step=None, max_depth=None, max_leaves=None,\n",
       "             min_child_weight=None, missing=nan, monotone_constraints=None,\n",
       "             n_estimators=100, n_jobs=None, num_parallel_tree=None,\n",
       "             predictor=None, random_state=None, ...)</pre><b>In a Jupyter environment, please rerun this cell to show the HTML representation or trust the notebook. <br />On GitHub, the HTML representation is unable to render, please try loading this page with nbviewer.org.</b></div><div class=\"sk-container\" hidden><div class=\"sk-item\"><div class=\"sk-estimator sk-toggleable\"><input class=\"sk-toggleable__control sk-hidden--visually\" id=\"sk-estimator-id-34\" type=\"checkbox\" checked><label for=\"sk-estimator-id-34\" class=\"sk-toggleable__label sk-toggleable__label-arrow\">XGBRegressor</label><div class=\"sk-toggleable__content\"><pre>XGBRegressor(base_score=None, booster=None, callbacks=None,\n",
       "             colsample_bylevel=None, colsample_bynode=None,\n",
       "             colsample_bytree=None, early_stopping_rounds=None,\n",
       "             enable_categorical=False, eval_metric=None, feature_types=None,\n",
       "             gamma=None, gpu_id=None, grow_policy=None, importance_type=None,\n",
       "             interaction_constraints=None, learning_rate=None, max_bin=None,\n",
       "             max_cat_threshold=None, max_cat_to_onehot=None,\n",
       "             max_delta_step=None, max_depth=None, max_leaves=None,\n",
       "             min_child_weight=None, missing=nan, monotone_constraints=None,\n",
       "             n_estimators=100, n_jobs=None, num_parallel_tree=None,\n",
       "             predictor=None, random_state=None, ...)</pre></div></div></div></div></div>"
      ],
      "text/plain": [
       "XGBRegressor(base_score=None, booster=None, callbacks=None,\n",
       "             colsample_bylevel=None, colsample_bynode=None,\n",
       "             colsample_bytree=None, early_stopping_rounds=None,\n",
       "             enable_categorical=False, eval_metric=None, feature_types=None,\n",
       "             gamma=None, gpu_id=None, grow_policy=None, importance_type=None,\n",
       "             interaction_constraints=None, learning_rate=None, max_bin=None,\n",
       "             max_cat_threshold=None, max_cat_to_onehot=None,\n",
       "             max_delta_step=None, max_depth=None, max_leaves=None,\n",
       "             min_child_weight=None, missing=nan, monotone_constraints=None,\n",
       "             n_estimators=100, n_jobs=None, num_parallel_tree=None,\n",
       "             predictor=None, random_state=None, ...)"
      ]
     },
     "execution_count": 418,
     "metadata": {},
     "output_type": "execute_result"
    }
   ],
   "source": [
    "#sinker xgboost\n",
    "xgb_model3 = XGBRegressor()\n",
    "xgb_model3.fit(X3_train, y3_train)"
   ]
  },
  {
   "cell_type": "code",
   "execution_count": 419,
   "id": "9fda8a66",
   "metadata": {},
   "outputs": [],
   "source": [
    "#sinker feature importances\n",
    "feature_importances3r = pd.DataFrame(rfr3.feature_importances_, index = X3_train.columns, columns=['importance']).sort_values('importance', ascending=False)\n",
    "feature_importances3x = pd.DataFrame(xgb_model3.feature_importances_, index = X3_train.columns, columns=['importance']).sort_values('importance', ascending=False)\n",
    "feature_importances3 = feature_importances3x.join(feature_importances3r,  how='outer', lsuffix='_xgb', rsuffix='_rf')\n",
    "feature_importances3['mean_importance_SK'] = (feature_importances3['importance_xgb'] + feature_importances3['importance_rf']) / 2\n",
    "feature_importances3 = feature_importances3.sort_values(by='mean_importance_SK', ascending=False).drop(['importance_xgb', 'importance_rf'], axis=1).reset_index()"
   ]
  },
  {
   "cell_type": "code",
   "execution_count": 420,
   "id": "1ce8dd61",
   "metadata": {},
   "outputs": [
    {
     "name": "stderr",
     "output_type": "stream",
     "text": [
      "C:\\Users\\parke\\AppData\\Local\\Temp\\ipykernel_11980\\4016345501.py:1: SettingWithCopyWarning: \n",
      "A value is trying to be set on a copy of a slice from a DataFrame.\n",
      "Try using .loc[row_indexer,col_indexer] = value instead\n",
      "\n",
      "See the caveats in the documentation: https://pandas.pydata.org/pandas-docs/stable/user_guide/indexing.html#returning-a-view-versus-a-copy\n",
      "  dsk['rfPredictRV'] = rfr3.predict(X3)\n",
      "C:\\Users\\parke\\AppData\\Local\\Temp\\ipykernel_11980\\4016345501.py:2: SettingWithCopyWarning: \n",
      "A value is trying to be set on a copy of a slice from a DataFrame.\n",
      "Try using .loc[row_indexer,col_indexer] = value instead\n",
      "\n",
      "See the caveats in the documentation: https://pandas.pydata.org/pandas-docs/stable/user_guide/indexing.html#returning-a-view-versus-a-copy\n",
      "  dsk['xgPredictRV'] = xgb_model3.predict(X3)\n",
      "C:\\Users\\parke\\AppData\\Local\\Temp\\ipykernel_11980\\4016345501.py:3: SettingWithCopyWarning: \n",
      "A value is trying to be set on a copy of a slice from a DataFrame.\n",
      "Try using .loc[row_indexer,col_indexer] = value instead\n",
      "\n",
      "See the caveats in the documentation: https://pandas.pydata.org/pandas-docs/stable/user_guide/indexing.html#returning-a-view-versus-a-copy\n",
      "  dsk['xRV'] = (dsk['rfPredictRV'] + dsk['xgPredictRV']) / 2\n"
     ]
    }
   ],
   "source": [
    "dsk['rfPredictRV'] = rfr3.predict(X3)\n",
    "dsk['xgPredictRV'] = xgb_model3.predict(X3)\n",
    "dsk['xRV'] = (dsk['rfPredictRV'] + dsk['xgPredictRV']) / 2"
   ]
  },
  {
   "cell_type": "code",
   "execution_count": 421,
   "id": "1e882141",
   "metadata": {},
   "outputs": [
    {
     "data": {
      "text/html": [
       "<style>#sk-container-id-35 {color: black;}#sk-container-id-35 pre{padding: 0;}#sk-container-id-35 div.sk-toggleable {background-color: white;}#sk-container-id-35 label.sk-toggleable__label {cursor: pointer;display: block;width: 100%;margin-bottom: 0;padding: 0.3em;box-sizing: border-box;text-align: center;}#sk-container-id-35 label.sk-toggleable__label-arrow:before {content: \"▸\";float: left;margin-right: 0.25em;color: #696969;}#sk-container-id-35 label.sk-toggleable__label-arrow:hover:before {color: black;}#sk-container-id-35 div.sk-estimator:hover label.sk-toggleable__label-arrow:before {color: black;}#sk-container-id-35 div.sk-toggleable__content {max-height: 0;max-width: 0;overflow: hidden;text-align: left;background-color: #f0f8ff;}#sk-container-id-35 div.sk-toggleable__content pre {margin: 0.2em;color: black;border-radius: 0.25em;background-color: #f0f8ff;}#sk-container-id-35 input.sk-toggleable__control:checked~div.sk-toggleable__content {max-height: 200px;max-width: 100%;overflow: auto;}#sk-container-id-35 input.sk-toggleable__control:checked~label.sk-toggleable__label-arrow:before {content: \"▾\";}#sk-container-id-35 div.sk-estimator input.sk-toggleable__control:checked~label.sk-toggleable__label {background-color: #d4ebff;}#sk-container-id-35 div.sk-label input.sk-toggleable__control:checked~label.sk-toggleable__label {background-color: #d4ebff;}#sk-container-id-35 input.sk-hidden--visually {border: 0;clip: rect(1px 1px 1px 1px);clip: rect(1px, 1px, 1px, 1px);height: 1px;margin: -1px;overflow: hidden;padding: 0;position: absolute;width: 1px;}#sk-container-id-35 div.sk-estimator {font-family: monospace;background-color: #f0f8ff;border: 1px dotted black;border-radius: 0.25em;box-sizing: border-box;margin-bottom: 0.5em;}#sk-container-id-35 div.sk-estimator:hover {background-color: #d4ebff;}#sk-container-id-35 div.sk-parallel-item::after {content: \"\";width: 100%;border-bottom: 1px solid gray;flex-grow: 1;}#sk-container-id-35 div.sk-label:hover label.sk-toggleable__label {background-color: #d4ebff;}#sk-container-id-35 div.sk-serial::before {content: \"\";position: absolute;border-left: 1px solid gray;box-sizing: border-box;top: 0;bottom: 0;left: 50%;z-index: 0;}#sk-container-id-35 div.sk-serial {display: flex;flex-direction: column;align-items: center;background-color: white;padding-right: 0.2em;padding-left: 0.2em;position: relative;}#sk-container-id-35 div.sk-item {position: relative;z-index: 1;}#sk-container-id-35 div.sk-parallel {display: flex;align-items: stretch;justify-content: center;background-color: white;position: relative;}#sk-container-id-35 div.sk-item::before, #sk-container-id-35 div.sk-parallel-item::before {content: \"\";position: absolute;border-left: 1px solid gray;box-sizing: border-box;top: 0;bottom: 0;left: 50%;z-index: -1;}#sk-container-id-35 div.sk-parallel-item {display: flex;flex-direction: column;z-index: 1;position: relative;background-color: white;}#sk-container-id-35 div.sk-parallel-item:first-child::after {align-self: flex-end;width: 50%;}#sk-container-id-35 div.sk-parallel-item:last-child::after {align-self: flex-start;width: 50%;}#sk-container-id-35 div.sk-parallel-item:only-child::after {width: 0;}#sk-container-id-35 div.sk-dashed-wrapped {border: 1px dashed gray;margin: 0 0.4em 0.5em 0.4em;box-sizing: border-box;padding-bottom: 0.4em;background-color: white;}#sk-container-id-35 div.sk-label label {font-family: monospace;font-weight: bold;display: inline-block;line-height: 1.2em;}#sk-container-id-35 div.sk-label-container {text-align: center;}#sk-container-id-35 div.sk-container {/* jupyter's `normalize.less` sets `[hidden] { display: none; }` but bootstrap.min.css set `[hidden] { display: none !important; }` so we also need the `!important` here to be able to override the default hidden behavior on the sphinx rendered scikit-learn.org. See: https://github.com/scikit-learn/scikit-learn/issues/21755 */display: inline-block !important;position: relative;}#sk-container-id-35 div.sk-text-repr-fallback {display: none;}</style><div id=\"sk-container-id-35\" class=\"sk-top-container\"><div class=\"sk-text-repr-fallback\"><pre>RandomForestRegressor(max_depth=10, n_estimators=10)</pre><b>In a Jupyter environment, please rerun this cell to show the HTML representation or trust the notebook. <br />On GitHub, the HTML representation is unable to render, please try loading this page with nbviewer.org.</b></div><div class=\"sk-container\" hidden><div class=\"sk-item\"><div class=\"sk-estimator sk-toggleable\"><input class=\"sk-toggleable__control sk-hidden--visually\" id=\"sk-estimator-id-35\" type=\"checkbox\" checked><label for=\"sk-estimator-id-35\" class=\"sk-toggleable__label sk-toggleable__label-arrow\">RandomForestRegressor</label><div class=\"sk-toggleable__content\"><pre>RandomForestRegressor(max_depth=10, n_estimators=10)</pre></div></div></div></div></div>"
      ],
      "text/plain": [
       "RandomForestRegressor(max_depth=10, n_estimators=10)"
      ]
     },
     "execution_count": 421,
     "metadata": {},
     "output_type": "execute_result"
    }
   ],
   "source": [
    "#slider randomforest\n",
    "rfr4 = RandomForestRegressor(n_estimators=10, max_depth=10)\n",
    "rfr4.fit(X4_train, y4_train)"
   ]
  },
  {
   "cell_type": "code",
   "execution_count": 422,
   "id": "2c658730",
   "metadata": {},
   "outputs": [
    {
     "data": {
      "text/html": [
       "<style>#sk-container-id-36 {color: black;}#sk-container-id-36 pre{padding: 0;}#sk-container-id-36 div.sk-toggleable {background-color: white;}#sk-container-id-36 label.sk-toggleable__label {cursor: pointer;display: block;width: 100%;margin-bottom: 0;padding: 0.3em;box-sizing: border-box;text-align: center;}#sk-container-id-36 label.sk-toggleable__label-arrow:before {content: \"▸\";float: left;margin-right: 0.25em;color: #696969;}#sk-container-id-36 label.sk-toggleable__label-arrow:hover:before {color: black;}#sk-container-id-36 div.sk-estimator:hover label.sk-toggleable__label-arrow:before {color: black;}#sk-container-id-36 div.sk-toggleable__content {max-height: 0;max-width: 0;overflow: hidden;text-align: left;background-color: #f0f8ff;}#sk-container-id-36 div.sk-toggleable__content pre {margin: 0.2em;color: black;border-radius: 0.25em;background-color: #f0f8ff;}#sk-container-id-36 input.sk-toggleable__control:checked~div.sk-toggleable__content {max-height: 200px;max-width: 100%;overflow: auto;}#sk-container-id-36 input.sk-toggleable__control:checked~label.sk-toggleable__label-arrow:before {content: \"▾\";}#sk-container-id-36 div.sk-estimator input.sk-toggleable__control:checked~label.sk-toggleable__label {background-color: #d4ebff;}#sk-container-id-36 div.sk-label input.sk-toggleable__control:checked~label.sk-toggleable__label {background-color: #d4ebff;}#sk-container-id-36 input.sk-hidden--visually {border: 0;clip: rect(1px 1px 1px 1px);clip: rect(1px, 1px, 1px, 1px);height: 1px;margin: -1px;overflow: hidden;padding: 0;position: absolute;width: 1px;}#sk-container-id-36 div.sk-estimator {font-family: monospace;background-color: #f0f8ff;border: 1px dotted black;border-radius: 0.25em;box-sizing: border-box;margin-bottom: 0.5em;}#sk-container-id-36 div.sk-estimator:hover {background-color: #d4ebff;}#sk-container-id-36 div.sk-parallel-item::after {content: \"\";width: 100%;border-bottom: 1px solid gray;flex-grow: 1;}#sk-container-id-36 div.sk-label:hover label.sk-toggleable__label {background-color: #d4ebff;}#sk-container-id-36 div.sk-serial::before {content: \"\";position: absolute;border-left: 1px solid gray;box-sizing: border-box;top: 0;bottom: 0;left: 50%;z-index: 0;}#sk-container-id-36 div.sk-serial {display: flex;flex-direction: column;align-items: center;background-color: white;padding-right: 0.2em;padding-left: 0.2em;position: relative;}#sk-container-id-36 div.sk-item {position: relative;z-index: 1;}#sk-container-id-36 div.sk-parallel {display: flex;align-items: stretch;justify-content: center;background-color: white;position: relative;}#sk-container-id-36 div.sk-item::before, #sk-container-id-36 div.sk-parallel-item::before {content: \"\";position: absolute;border-left: 1px solid gray;box-sizing: border-box;top: 0;bottom: 0;left: 50%;z-index: -1;}#sk-container-id-36 div.sk-parallel-item {display: flex;flex-direction: column;z-index: 1;position: relative;background-color: white;}#sk-container-id-36 div.sk-parallel-item:first-child::after {align-self: flex-end;width: 50%;}#sk-container-id-36 div.sk-parallel-item:last-child::after {align-self: flex-start;width: 50%;}#sk-container-id-36 div.sk-parallel-item:only-child::after {width: 0;}#sk-container-id-36 div.sk-dashed-wrapped {border: 1px dashed gray;margin: 0 0.4em 0.5em 0.4em;box-sizing: border-box;padding-bottom: 0.4em;background-color: white;}#sk-container-id-36 div.sk-label label {font-family: monospace;font-weight: bold;display: inline-block;line-height: 1.2em;}#sk-container-id-36 div.sk-label-container {text-align: center;}#sk-container-id-36 div.sk-container {/* jupyter's `normalize.less` sets `[hidden] { display: none; }` but bootstrap.min.css set `[hidden] { display: none !important; }` so we also need the `!important` here to be able to override the default hidden behavior on the sphinx rendered scikit-learn.org. See: https://github.com/scikit-learn/scikit-learn/issues/21755 */display: inline-block !important;position: relative;}#sk-container-id-36 div.sk-text-repr-fallback {display: none;}</style><div id=\"sk-container-id-36\" class=\"sk-top-container\"><div class=\"sk-text-repr-fallback\"><pre>XGBRegressor(base_score=None, booster=None, callbacks=None,\n",
       "             colsample_bylevel=None, colsample_bynode=None,\n",
       "             colsample_bytree=None, early_stopping_rounds=None,\n",
       "             enable_categorical=False, eval_metric=None, feature_types=None,\n",
       "             gamma=None, gpu_id=None, grow_policy=None, importance_type=None,\n",
       "             interaction_constraints=None, learning_rate=None, max_bin=None,\n",
       "             max_cat_threshold=None, max_cat_to_onehot=None,\n",
       "             max_delta_step=None, max_depth=None, max_leaves=None,\n",
       "             min_child_weight=None, missing=nan, monotone_constraints=None,\n",
       "             n_estimators=100, n_jobs=None, num_parallel_tree=None,\n",
       "             predictor=None, random_state=None, ...)</pre><b>In a Jupyter environment, please rerun this cell to show the HTML representation or trust the notebook. <br />On GitHub, the HTML representation is unable to render, please try loading this page with nbviewer.org.</b></div><div class=\"sk-container\" hidden><div class=\"sk-item\"><div class=\"sk-estimator sk-toggleable\"><input class=\"sk-toggleable__control sk-hidden--visually\" id=\"sk-estimator-id-36\" type=\"checkbox\" checked><label for=\"sk-estimator-id-36\" class=\"sk-toggleable__label sk-toggleable__label-arrow\">XGBRegressor</label><div class=\"sk-toggleable__content\"><pre>XGBRegressor(base_score=None, booster=None, callbacks=None,\n",
       "             colsample_bylevel=None, colsample_bynode=None,\n",
       "             colsample_bytree=None, early_stopping_rounds=None,\n",
       "             enable_categorical=False, eval_metric=None, feature_types=None,\n",
       "             gamma=None, gpu_id=None, grow_policy=None, importance_type=None,\n",
       "             interaction_constraints=None, learning_rate=None, max_bin=None,\n",
       "             max_cat_threshold=None, max_cat_to_onehot=None,\n",
       "             max_delta_step=None, max_depth=None, max_leaves=None,\n",
       "             min_child_weight=None, missing=nan, monotone_constraints=None,\n",
       "             n_estimators=100, n_jobs=None, num_parallel_tree=None,\n",
       "             predictor=None, random_state=None, ...)</pre></div></div></div></div></div>"
      ],
      "text/plain": [
       "XGBRegressor(base_score=None, booster=None, callbacks=None,\n",
       "             colsample_bylevel=None, colsample_bynode=None,\n",
       "             colsample_bytree=None, early_stopping_rounds=None,\n",
       "             enable_categorical=False, eval_metric=None, feature_types=None,\n",
       "             gamma=None, gpu_id=None, grow_policy=None, importance_type=None,\n",
       "             interaction_constraints=None, learning_rate=None, max_bin=None,\n",
       "             max_cat_threshold=None, max_cat_to_onehot=None,\n",
       "             max_delta_step=None, max_depth=None, max_leaves=None,\n",
       "             min_child_weight=None, missing=nan, monotone_constraints=None,\n",
       "             n_estimators=100, n_jobs=None, num_parallel_tree=None,\n",
       "             predictor=None, random_state=None, ...)"
      ]
     },
     "execution_count": 422,
     "metadata": {},
     "output_type": "execute_result"
    }
   ],
   "source": [
    "#slider xgboost\n",
    "xgb_model4 = XGBRegressor()\n",
    "xgb_model4.fit(X4_train, y4_train)"
   ]
  },
  {
   "cell_type": "code",
   "execution_count": 423,
   "id": "2c4b193c",
   "metadata": {},
   "outputs": [],
   "source": [
    "#slider feature importances\n",
    "feature_importances4r = pd.DataFrame(rfr4.feature_importances_, index = X4_train.columns, columns=['importance']).sort_values('importance', ascending=False)\n",
    "feature_importances4x = pd.DataFrame(xgb_model4.feature_importances_, index = X4_train.columns, columns=['importance']).sort_values('importance', ascending=False)\n",
    "feature_importances4 = feature_importances4x.join(feature_importances4r,  how='outer', lsuffix='_xgb', rsuffix='_rf')\n",
    "feature_importances4['mean_importance_SL'] = (feature_importances4['importance_xgb'] + feature_importances4['importance_rf']) / 2\n",
    "feature_importances4 = feature_importances4.sort_values(by='mean_importance_SL', ascending=False).drop(['importance_xgb', 'importance_rf'], axis=1).reset_index()"
   ]
  },
  {
   "cell_type": "code",
   "execution_count": 424,
   "id": "e2b46297",
   "metadata": {},
   "outputs": [
    {
     "name": "stderr",
     "output_type": "stream",
     "text": [
      "C:\\Users\\parke\\AppData\\Local\\Temp\\ipykernel_11980\\3321447266.py:1: SettingWithCopyWarning: \n",
      "A value is trying to be set on a copy of a slice from a DataFrame.\n",
      "Try using .loc[row_indexer,col_indexer] = value instead\n",
      "\n",
      "See the caveats in the documentation: https://pandas.pydata.org/pandas-docs/stable/user_guide/indexing.html#returning-a-view-versus-a-copy\n",
      "  dsl['rfPredictRV'] = rfr4.predict(X4)\n",
      "C:\\Users\\parke\\AppData\\Local\\Temp\\ipykernel_11980\\3321447266.py:2: SettingWithCopyWarning: \n",
      "A value is trying to be set on a copy of a slice from a DataFrame.\n",
      "Try using .loc[row_indexer,col_indexer] = value instead\n",
      "\n",
      "See the caveats in the documentation: https://pandas.pydata.org/pandas-docs/stable/user_guide/indexing.html#returning-a-view-versus-a-copy\n",
      "  dsl['xgPredictRV'] = xgb_model4.predict(X4)\n",
      "C:\\Users\\parke\\AppData\\Local\\Temp\\ipykernel_11980\\3321447266.py:3: SettingWithCopyWarning: \n",
      "A value is trying to be set on a copy of a slice from a DataFrame.\n",
      "Try using .loc[row_indexer,col_indexer] = value instead\n",
      "\n",
      "See the caveats in the documentation: https://pandas.pydata.org/pandas-docs/stable/user_guide/indexing.html#returning-a-view-versus-a-copy\n",
      "  dsl['xRV'] = (dsl['rfPredictRV'] + dsl['xgPredictRV']) / 2\n"
     ]
    }
   ],
   "source": [
    "dsl['rfPredictRV'] = rfr4.predict(X4)\n",
    "dsl['xgPredictRV'] = xgb_model4.predict(X4)\n",
    "dsl['xRV'] = (dsl['rfPredictRV'] + dsl['xgPredictRV']) / 2"
   ]
  },
  {
   "cell_type": "code",
   "execution_count": 425,
   "id": "f3905e5f",
   "metadata": {},
   "outputs": [
    {
     "data": {
      "text/html": [
       "<style>#sk-container-id-37 {color: black;}#sk-container-id-37 pre{padding: 0;}#sk-container-id-37 div.sk-toggleable {background-color: white;}#sk-container-id-37 label.sk-toggleable__label {cursor: pointer;display: block;width: 100%;margin-bottom: 0;padding: 0.3em;box-sizing: border-box;text-align: center;}#sk-container-id-37 label.sk-toggleable__label-arrow:before {content: \"▸\";float: left;margin-right: 0.25em;color: #696969;}#sk-container-id-37 label.sk-toggleable__label-arrow:hover:before {color: black;}#sk-container-id-37 div.sk-estimator:hover label.sk-toggleable__label-arrow:before {color: black;}#sk-container-id-37 div.sk-toggleable__content {max-height: 0;max-width: 0;overflow: hidden;text-align: left;background-color: #f0f8ff;}#sk-container-id-37 div.sk-toggleable__content pre {margin: 0.2em;color: black;border-radius: 0.25em;background-color: #f0f8ff;}#sk-container-id-37 input.sk-toggleable__control:checked~div.sk-toggleable__content {max-height: 200px;max-width: 100%;overflow: auto;}#sk-container-id-37 input.sk-toggleable__control:checked~label.sk-toggleable__label-arrow:before {content: \"▾\";}#sk-container-id-37 div.sk-estimator input.sk-toggleable__control:checked~label.sk-toggleable__label {background-color: #d4ebff;}#sk-container-id-37 div.sk-label input.sk-toggleable__control:checked~label.sk-toggleable__label {background-color: #d4ebff;}#sk-container-id-37 input.sk-hidden--visually {border: 0;clip: rect(1px 1px 1px 1px);clip: rect(1px, 1px, 1px, 1px);height: 1px;margin: -1px;overflow: hidden;padding: 0;position: absolute;width: 1px;}#sk-container-id-37 div.sk-estimator {font-family: monospace;background-color: #f0f8ff;border: 1px dotted black;border-radius: 0.25em;box-sizing: border-box;margin-bottom: 0.5em;}#sk-container-id-37 div.sk-estimator:hover {background-color: #d4ebff;}#sk-container-id-37 div.sk-parallel-item::after {content: \"\";width: 100%;border-bottom: 1px solid gray;flex-grow: 1;}#sk-container-id-37 div.sk-label:hover label.sk-toggleable__label {background-color: #d4ebff;}#sk-container-id-37 div.sk-serial::before {content: \"\";position: absolute;border-left: 1px solid gray;box-sizing: border-box;top: 0;bottom: 0;left: 50%;z-index: 0;}#sk-container-id-37 div.sk-serial {display: flex;flex-direction: column;align-items: center;background-color: white;padding-right: 0.2em;padding-left: 0.2em;position: relative;}#sk-container-id-37 div.sk-item {position: relative;z-index: 1;}#sk-container-id-37 div.sk-parallel {display: flex;align-items: stretch;justify-content: center;background-color: white;position: relative;}#sk-container-id-37 div.sk-item::before, #sk-container-id-37 div.sk-parallel-item::before {content: \"\";position: absolute;border-left: 1px solid gray;box-sizing: border-box;top: 0;bottom: 0;left: 50%;z-index: -1;}#sk-container-id-37 div.sk-parallel-item {display: flex;flex-direction: column;z-index: 1;position: relative;background-color: white;}#sk-container-id-37 div.sk-parallel-item:first-child::after {align-self: flex-end;width: 50%;}#sk-container-id-37 div.sk-parallel-item:last-child::after {align-self: flex-start;width: 50%;}#sk-container-id-37 div.sk-parallel-item:only-child::after {width: 0;}#sk-container-id-37 div.sk-dashed-wrapped {border: 1px dashed gray;margin: 0 0.4em 0.5em 0.4em;box-sizing: border-box;padding-bottom: 0.4em;background-color: white;}#sk-container-id-37 div.sk-label label {font-family: monospace;font-weight: bold;display: inline-block;line-height: 1.2em;}#sk-container-id-37 div.sk-label-container {text-align: center;}#sk-container-id-37 div.sk-container {/* jupyter's `normalize.less` sets `[hidden] { display: none; }` but bootstrap.min.css set `[hidden] { display: none !important; }` so we also need the `!important` here to be able to override the default hidden behavior on the sphinx rendered scikit-learn.org. See: https://github.com/scikit-learn/scikit-learn/issues/21755 */display: inline-block !important;position: relative;}#sk-container-id-37 div.sk-text-repr-fallback {display: none;}</style><div id=\"sk-container-id-37\" class=\"sk-top-container\"><div class=\"sk-text-repr-fallback\"><pre>RandomForestRegressor(max_depth=10, n_estimators=10)</pre><b>In a Jupyter environment, please rerun this cell to show the HTML representation or trust the notebook. <br />On GitHub, the HTML representation is unable to render, please try loading this page with nbviewer.org.</b></div><div class=\"sk-container\" hidden><div class=\"sk-item\"><div class=\"sk-estimator sk-toggleable\"><input class=\"sk-toggleable__control sk-hidden--visually\" id=\"sk-estimator-id-37\" type=\"checkbox\" checked><label for=\"sk-estimator-id-37\" class=\"sk-toggleable__label sk-toggleable__label-arrow\">RandomForestRegressor</label><div class=\"sk-toggleable__content\"><pre>RandomForestRegressor(max_depth=10, n_estimators=10)</pre></div></div></div></div></div>"
      ],
      "text/plain": [
       "RandomForestRegressor(max_depth=10, n_estimators=10)"
      ]
     },
     "execution_count": 425,
     "metadata": {},
     "output_type": "execute_result"
    }
   ],
   "source": [
    "#changeup randomforest\n",
    "rfr5 = RandomForestRegressor(n_estimators=10, max_depth=10)\n",
    "rfr5.fit(X5_train, y5_train)"
   ]
  },
  {
   "cell_type": "code",
   "execution_count": 426,
   "id": "d4409954",
   "metadata": {},
   "outputs": [
    {
     "data": {
      "text/html": [
       "<style>#sk-container-id-38 {color: black;}#sk-container-id-38 pre{padding: 0;}#sk-container-id-38 div.sk-toggleable {background-color: white;}#sk-container-id-38 label.sk-toggleable__label {cursor: pointer;display: block;width: 100%;margin-bottom: 0;padding: 0.3em;box-sizing: border-box;text-align: center;}#sk-container-id-38 label.sk-toggleable__label-arrow:before {content: \"▸\";float: left;margin-right: 0.25em;color: #696969;}#sk-container-id-38 label.sk-toggleable__label-arrow:hover:before {color: black;}#sk-container-id-38 div.sk-estimator:hover label.sk-toggleable__label-arrow:before {color: black;}#sk-container-id-38 div.sk-toggleable__content {max-height: 0;max-width: 0;overflow: hidden;text-align: left;background-color: #f0f8ff;}#sk-container-id-38 div.sk-toggleable__content pre {margin: 0.2em;color: black;border-radius: 0.25em;background-color: #f0f8ff;}#sk-container-id-38 input.sk-toggleable__control:checked~div.sk-toggleable__content {max-height: 200px;max-width: 100%;overflow: auto;}#sk-container-id-38 input.sk-toggleable__control:checked~label.sk-toggleable__label-arrow:before {content: \"▾\";}#sk-container-id-38 div.sk-estimator input.sk-toggleable__control:checked~label.sk-toggleable__label {background-color: #d4ebff;}#sk-container-id-38 div.sk-label input.sk-toggleable__control:checked~label.sk-toggleable__label {background-color: #d4ebff;}#sk-container-id-38 input.sk-hidden--visually {border: 0;clip: rect(1px 1px 1px 1px);clip: rect(1px, 1px, 1px, 1px);height: 1px;margin: -1px;overflow: hidden;padding: 0;position: absolute;width: 1px;}#sk-container-id-38 div.sk-estimator {font-family: monospace;background-color: #f0f8ff;border: 1px dotted black;border-radius: 0.25em;box-sizing: border-box;margin-bottom: 0.5em;}#sk-container-id-38 div.sk-estimator:hover {background-color: #d4ebff;}#sk-container-id-38 div.sk-parallel-item::after {content: \"\";width: 100%;border-bottom: 1px solid gray;flex-grow: 1;}#sk-container-id-38 div.sk-label:hover label.sk-toggleable__label {background-color: #d4ebff;}#sk-container-id-38 div.sk-serial::before {content: \"\";position: absolute;border-left: 1px solid gray;box-sizing: border-box;top: 0;bottom: 0;left: 50%;z-index: 0;}#sk-container-id-38 div.sk-serial {display: flex;flex-direction: column;align-items: center;background-color: white;padding-right: 0.2em;padding-left: 0.2em;position: relative;}#sk-container-id-38 div.sk-item {position: relative;z-index: 1;}#sk-container-id-38 div.sk-parallel {display: flex;align-items: stretch;justify-content: center;background-color: white;position: relative;}#sk-container-id-38 div.sk-item::before, #sk-container-id-38 div.sk-parallel-item::before {content: \"\";position: absolute;border-left: 1px solid gray;box-sizing: border-box;top: 0;bottom: 0;left: 50%;z-index: -1;}#sk-container-id-38 div.sk-parallel-item {display: flex;flex-direction: column;z-index: 1;position: relative;background-color: white;}#sk-container-id-38 div.sk-parallel-item:first-child::after {align-self: flex-end;width: 50%;}#sk-container-id-38 div.sk-parallel-item:last-child::after {align-self: flex-start;width: 50%;}#sk-container-id-38 div.sk-parallel-item:only-child::after {width: 0;}#sk-container-id-38 div.sk-dashed-wrapped {border: 1px dashed gray;margin: 0 0.4em 0.5em 0.4em;box-sizing: border-box;padding-bottom: 0.4em;background-color: white;}#sk-container-id-38 div.sk-label label {font-family: monospace;font-weight: bold;display: inline-block;line-height: 1.2em;}#sk-container-id-38 div.sk-label-container {text-align: center;}#sk-container-id-38 div.sk-container {/* jupyter's `normalize.less` sets `[hidden] { display: none; }` but bootstrap.min.css set `[hidden] { display: none !important; }` so we also need the `!important` here to be able to override the default hidden behavior on the sphinx rendered scikit-learn.org. See: https://github.com/scikit-learn/scikit-learn/issues/21755 */display: inline-block !important;position: relative;}#sk-container-id-38 div.sk-text-repr-fallback {display: none;}</style><div id=\"sk-container-id-38\" class=\"sk-top-container\"><div class=\"sk-text-repr-fallback\"><pre>XGBRegressor(base_score=None, booster=None, callbacks=None,\n",
       "             colsample_bylevel=None, colsample_bynode=None,\n",
       "             colsample_bytree=None, early_stopping_rounds=None,\n",
       "             enable_categorical=False, eval_metric=None, feature_types=None,\n",
       "             gamma=None, gpu_id=None, grow_policy=None, importance_type=None,\n",
       "             interaction_constraints=None, learning_rate=None, max_bin=None,\n",
       "             max_cat_threshold=None, max_cat_to_onehot=None,\n",
       "             max_delta_step=None, max_depth=None, max_leaves=None,\n",
       "             min_child_weight=None, missing=nan, monotone_constraints=None,\n",
       "             n_estimators=100, n_jobs=None, num_parallel_tree=None,\n",
       "             predictor=None, random_state=None, ...)</pre><b>In a Jupyter environment, please rerun this cell to show the HTML representation or trust the notebook. <br />On GitHub, the HTML representation is unable to render, please try loading this page with nbviewer.org.</b></div><div class=\"sk-container\" hidden><div class=\"sk-item\"><div class=\"sk-estimator sk-toggleable\"><input class=\"sk-toggleable__control sk-hidden--visually\" id=\"sk-estimator-id-38\" type=\"checkbox\" checked><label for=\"sk-estimator-id-38\" class=\"sk-toggleable__label sk-toggleable__label-arrow\">XGBRegressor</label><div class=\"sk-toggleable__content\"><pre>XGBRegressor(base_score=None, booster=None, callbacks=None,\n",
       "             colsample_bylevel=None, colsample_bynode=None,\n",
       "             colsample_bytree=None, early_stopping_rounds=None,\n",
       "             enable_categorical=False, eval_metric=None, feature_types=None,\n",
       "             gamma=None, gpu_id=None, grow_policy=None, importance_type=None,\n",
       "             interaction_constraints=None, learning_rate=None, max_bin=None,\n",
       "             max_cat_threshold=None, max_cat_to_onehot=None,\n",
       "             max_delta_step=None, max_depth=None, max_leaves=None,\n",
       "             min_child_weight=None, missing=nan, monotone_constraints=None,\n",
       "             n_estimators=100, n_jobs=None, num_parallel_tree=None,\n",
       "             predictor=None, random_state=None, ...)</pre></div></div></div></div></div>"
      ],
      "text/plain": [
       "XGBRegressor(base_score=None, booster=None, callbacks=None,\n",
       "             colsample_bylevel=None, colsample_bynode=None,\n",
       "             colsample_bytree=None, early_stopping_rounds=None,\n",
       "             enable_categorical=False, eval_metric=None, feature_types=None,\n",
       "             gamma=None, gpu_id=None, grow_policy=None, importance_type=None,\n",
       "             interaction_constraints=None, learning_rate=None, max_bin=None,\n",
       "             max_cat_threshold=None, max_cat_to_onehot=None,\n",
       "             max_delta_step=None, max_depth=None, max_leaves=None,\n",
       "             min_child_weight=None, missing=nan, monotone_constraints=None,\n",
       "             n_estimators=100, n_jobs=None, num_parallel_tree=None,\n",
       "             predictor=None, random_state=None, ...)"
      ]
     },
     "execution_count": 426,
     "metadata": {},
     "output_type": "execute_result"
    }
   ],
   "source": [
    "#changeup xgboost\n",
    "xgb_model5 = XGBRegressor()\n",
    "xgb_model5.fit(X5_train, y5_train)"
   ]
  },
  {
   "cell_type": "code",
   "execution_count": 427,
   "id": "3775362e",
   "metadata": {},
   "outputs": [],
   "source": [
    "#changeup feature importances\n",
    "feature_importances5r = pd.DataFrame(rfr5.feature_importances_, index = X5_train.columns, columns=['importance']).sort_values('importance', ascending=False)\n",
    "feature_importances5x = pd.DataFrame(xgb_model5.feature_importances_, index = X5_train.columns, columns=['importance']).sort_values('importance', ascending=False)\n",
    "feature_importances5 = feature_importances5x.join(feature_importances5r,  how='outer', lsuffix='_xgb', rsuffix='_rf')\n",
    "feature_importances5['mean_importance_CH'] = (feature_importances5['importance_xgb'] + feature_importances5['importance_rf']) / 2\n",
    "feature_importances5 = feature_importances5.sort_values(by='mean_importance_CH', ascending=False).drop(['importance_xgb', 'importance_rf'], axis=1).reset_index()"
   ]
  },
  {
   "cell_type": "code",
   "execution_count": 428,
   "id": "b9096de6",
   "metadata": {},
   "outputs": [
    {
     "name": "stderr",
     "output_type": "stream",
     "text": [
      "C:\\Users\\parke\\AppData\\Local\\Temp\\ipykernel_11980\\493573308.py:1: SettingWithCopyWarning: \n",
      "A value is trying to be set on a copy of a slice from a DataFrame.\n",
      "Try using .loc[row_indexer,col_indexer] = value instead\n",
      "\n",
      "See the caveats in the documentation: https://pandas.pydata.org/pandas-docs/stable/user_guide/indexing.html#returning-a-view-versus-a-copy\n",
      "  dch['rfPredictRV'] = rfr5.predict(X5)\n",
      "C:\\Users\\parke\\AppData\\Local\\Temp\\ipykernel_11980\\493573308.py:2: SettingWithCopyWarning: \n",
      "A value is trying to be set on a copy of a slice from a DataFrame.\n",
      "Try using .loc[row_indexer,col_indexer] = value instead\n",
      "\n",
      "See the caveats in the documentation: https://pandas.pydata.org/pandas-docs/stable/user_guide/indexing.html#returning-a-view-versus-a-copy\n",
      "  dch['xgPredictRV'] = xgb_model5.predict(X5)\n",
      "C:\\Users\\parke\\AppData\\Local\\Temp\\ipykernel_11980\\493573308.py:3: SettingWithCopyWarning: \n",
      "A value is trying to be set on a copy of a slice from a DataFrame.\n",
      "Try using .loc[row_indexer,col_indexer] = value instead\n",
      "\n",
      "See the caveats in the documentation: https://pandas.pydata.org/pandas-docs/stable/user_guide/indexing.html#returning-a-view-versus-a-copy\n",
      "  dch['xRV'] = (dch['rfPredictRV'] + dch['xgPredictRV']) / 2\n"
     ]
    }
   ],
   "source": [
    "dch['rfPredictRV'] = rfr5.predict(X5)\n",
    "dch['xgPredictRV'] = xgb_model5.predict(X5)\n",
    "dch['xRV'] = (dch['rfPredictRV'] + dch['xgPredictRV']) / 2"
   ]
  },
  {
   "cell_type": "code",
   "execution_count": 429,
   "id": "175cd717",
   "metadata": {},
   "outputs": [
    {
     "data": {
      "text/html": [
       "<style>#sk-container-id-39 {color: black;}#sk-container-id-39 pre{padding: 0;}#sk-container-id-39 div.sk-toggleable {background-color: white;}#sk-container-id-39 label.sk-toggleable__label {cursor: pointer;display: block;width: 100%;margin-bottom: 0;padding: 0.3em;box-sizing: border-box;text-align: center;}#sk-container-id-39 label.sk-toggleable__label-arrow:before {content: \"▸\";float: left;margin-right: 0.25em;color: #696969;}#sk-container-id-39 label.sk-toggleable__label-arrow:hover:before {color: black;}#sk-container-id-39 div.sk-estimator:hover label.sk-toggleable__label-arrow:before {color: black;}#sk-container-id-39 div.sk-toggleable__content {max-height: 0;max-width: 0;overflow: hidden;text-align: left;background-color: #f0f8ff;}#sk-container-id-39 div.sk-toggleable__content pre {margin: 0.2em;color: black;border-radius: 0.25em;background-color: #f0f8ff;}#sk-container-id-39 input.sk-toggleable__control:checked~div.sk-toggleable__content {max-height: 200px;max-width: 100%;overflow: auto;}#sk-container-id-39 input.sk-toggleable__control:checked~label.sk-toggleable__label-arrow:before {content: \"▾\";}#sk-container-id-39 div.sk-estimator input.sk-toggleable__control:checked~label.sk-toggleable__label {background-color: #d4ebff;}#sk-container-id-39 div.sk-label input.sk-toggleable__control:checked~label.sk-toggleable__label {background-color: #d4ebff;}#sk-container-id-39 input.sk-hidden--visually {border: 0;clip: rect(1px 1px 1px 1px);clip: rect(1px, 1px, 1px, 1px);height: 1px;margin: -1px;overflow: hidden;padding: 0;position: absolute;width: 1px;}#sk-container-id-39 div.sk-estimator {font-family: monospace;background-color: #f0f8ff;border: 1px dotted black;border-radius: 0.25em;box-sizing: border-box;margin-bottom: 0.5em;}#sk-container-id-39 div.sk-estimator:hover {background-color: #d4ebff;}#sk-container-id-39 div.sk-parallel-item::after {content: \"\";width: 100%;border-bottom: 1px solid gray;flex-grow: 1;}#sk-container-id-39 div.sk-label:hover label.sk-toggleable__label {background-color: #d4ebff;}#sk-container-id-39 div.sk-serial::before {content: \"\";position: absolute;border-left: 1px solid gray;box-sizing: border-box;top: 0;bottom: 0;left: 50%;z-index: 0;}#sk-container-id-39 div.sk-serial {display: flex;flex-direction: column;align-items: center;background-color: white;padding-right: 0.2em;padding-left: 0.2em;position: relative;}#sk-container-id-39 div.sk-item {position: relative;z-index: 1;}#sk-container-id-39 div.sk-parallel {display: flex;align-items: stretch;justify-content: center;background-color: white;position: relative;}#sk-container-id-39 div.sk-item::before, #sk-container-id-39 div.sk-parallel-item::before {content: \"\";position: absolute;border-left: 1px solid gray;box-sizing: border-box;top: 0;bottom: 0;left: 50%;z-index: -1;}#sk-container-id-39 div.sk-parallel-item {display: flex;flex-direction: column;z-index: 1;position: relative;background-color: white;}#sk-container-id-39 div.sk-parallel-item:first-child::after {align-self: flex-end;width: 50%;}#sk-container-id-39 div.sk-parallel-item:last-child::after {align-self: flex-start;width: 50%;}#sk-container-id-39 div.sk-parallel-item:only-child::after {width: 0;}#sk-container-id-39 div.sk-dashed-wrapped {border: 1px dashed gray;margin: 0 0.4em 0.5em 0.4em;box-sizing: border-box;padding-bottom: 0.4em;background-color: white;}#sk-container-id-39 div.sk-label label {font-family: monospace;font-weight: bold;display: inline-block;line-height: 1.2em;}#sk-container-id-39 div.sk-label-container {text-align: center;}#sk-container-id-39 div.sk-container {/* jupyter's `normalize.less` sets `[hidden] { display: none; }` but bootstrap.min.css set `[hidden] { display: none !important; }` so we also need the `!important` here to be able to override the default hidden behavior on the sphinx rendered scikit-learn.org. See: https://github.com/scikit-learn/scikit-learn/issues/21755 */display: inline-block !important;position: relative;}#sk-container-id-39 div.sk-text-repr-fallback {display: none;}</style><div id=\"sk-container-id-39\" class=\"sk-top-container\"><div class=\"sk-text-repr-fallback\"><pre>RandomForestRegressor(max_depth=10, n_estimators=10)</pre><b>In a Jupyter environment, please rerun this cell to show the HTML representation or trust the notebook. <br />On GitHub, the HTML representation is unable to render, please try loading this page with nbviewer.org.</b></div><div class=\"sk-container\" hidden><div class=\"sk-item\"><div class=\"sk-estimator sk-toggleable\"><input class=\"sk-toggleable__control sk-hidden--visually\" id=\"sk-estimator-id-39\" type=\"checkbox\" checked><label for=\"sk-estimator-id-39\" class=\"sk-toggleable__label sk-toggleable__label-arrow\">RandomForestRegressor</label><div class=\"sk-toggleable__content\"><pre>RandomForestRegressor(max_depth=10, n_estimators=10)</pre></div></div></div></div></div>"
      ],
      "text/plain": [
       "RandomForestRegressor(max_depth=10, n_estimators=10)"
      ]
     },
     "execution_count": 429,
     "metadata": {},
     "output_type": "execute_result"
    }
   ],
   "source": [
    "#curveball randomforest\n",
    "rfr6 = RandomForestRegressor(n_estimators=10, max_depth=10)\n",
    "rfr6.fit(X6_train, y6_train)"
   ]
  },
  {
   "cell_type": "code",
   "execution_count": 430,
   "id": "7da184cf",
   "metadata": {},
   "outputs": [
    {
     "data": {
      "text/html": [
       "<style>#sk-container-id-40 {color: black;}#sk-container-id-40 pre{padding: 0;}#sk-container-id-40 div.sk-toggleable {background-color: white;}#sk-container-id-40 label.sk-toggleable__label {cursor: pointer;display: block;width: 100%;margin-bottom: 0;padding: 0.3em;box-sizing: border-box;text-align: center;}#sk-container-id-40 label.sk-toggleable__label-arrow:before {content: \"▸\";float: left;margin-right: 0.25em;color: #696969;}#sk-container-id-40 label.sk-toggleable__label-arrow:hover:before {color: black;}#sk-container-id-40 div.sk-estimator:hover label.sk-toggleable__label-arrow:before {color: black;}#sk-container-id-40 div.sk-toggleable__content {max-height: 0;max-width: 0;overflow: hidden;text-align: left;background-color: #f0f8ff;}#sk-container-id-40 div.sk-toggleable__content pre {margin: 0.2em;color: black;border-radius: 0.25em;background-color: #f0f8ff;}#sk-container-id-40 input.sk-toggleable__control:checked~div.sk-toggleable__content {max-height: 200px;max-width: 100%;overflow: auto;}#sk-container-id-40 input.sk-toggleable__control:checked~label.sk-toggleable__label-arrow:before {content: \"▾\";}#sk-container-id-40 div.sk-estimator input.sk-toggleable__control:checked~label.sk-toggleable__label {background-color: #d4ebff;}#sk-container-id-40 div.sk-label input.sk-toggleable__control:checked~label.sk-toggleable__label {background-color: #d4ebff;}#sk-container-id-40 input.sk-hidden--visually {border: 0;clip: rect(1px 1px 1px 1px);clip: rect(1px, 1px, 1px, 1px);height: 1px;margin: -1px;overflow: hidden;padding: 0;position: absolute;width: 1px;}#sk-container-id-40 div.sk-estimator {font-family: monospace;background-color: #f0f8ff;border: 1px dotted black;border-radius: 0.25em;box-sizing: border-box;margin-bottom: 0.5em;}#sk-container-id-40 div.sk-estimator:hover {background-color: #d4ebff;}#sk-container-id-40 div.sk-parallel-item::after {content: \"\";width: 100%;border-bottom: 1px solid gray;flex-grow: 1;}#sk-container-id-40 div.sk-label:hover label.sk-toggleable__label {background-color: #d4ebff;}#sk-container-id-40 div.sk-serial::before {content: \"\";position: absolute;border-left: 1px solid gray;box-sizing: border-box;top: 0;bottom: 0;left: 50%;z-index: 0;}#sk-container-id-40 div.sk-serial {display: flex;flex-direction: column;align-items: center;background-color: white;padding-right: 0.2em;padding-left: 0.2em;position: relative;}#sk-container-id-40 div.sk-item {position: relative;z-index: 1;}#sk-container-id-40 div.sk-parallel {display: flex;align-items: stretch;justify-content: center;background-color: white;position: relative;}#sk-container-id-40 div.sk-item::before, #sk-container-id-40 div.sk-parallel-item::before {content: \"\";position: absolute;border-left: 1px solid gray;box-sizing: border-box;top: 0;bottom: 0;left: 50%;z-index: -1;}#sk-container-id-40 div.sk-parallel-item {display: flex;flex-direction: column;z-index: 1;position: relative;background-color: white;}#sk-container-id-40 div.sk-parallel-item:first-child::after {align-self: flex-end;width: 50%;}#sk-container-id-40 div.sk-parallel-item:last-child::after {align-self: flex-start;width: 50%;}#sk-container-id-40 div.sk-parallel-item:only-child::after {width: 0;}#sk-container-id-40 div.sk-dashed-wrapped {border: 1px dashed gray;margin: 0 0.4em 0.5em 0.4em;box-sizing: border-box;padding-bottom: 0.4em;background-color: white;}#sk-container-id-40 div.sk-label label {font-family: monospace;font-weight: bold;display: inline-block;line-height: 1.2em;}#sk-container-id-40 div.sk-label-container {text-align: center;}#sk-container-id-40 div.sk-container {/* jupyter's `normalize.less` sets `[hidden] { display: none; }` but bootstrap.min.css set `[hidden] { display: none !important; }` so we also need the `!important` here to be able to override the default hidden behavior on the sphinx rendered scikit-learn.org. See: https://github.com/scikit-learn/scikit-learn/issues/21755 */display: inline-block !important;position: relative;}#sk-container-id-40 div.sk-text-repr-fallback {display: none;}</style><div id=\"sk-container-id-40\" class=\"sk-top-container\"><div class=\"sk-text-repr-fallback\"><pre>XGBRegressor(base_score=None, booster=None, callbacks=None,\n",
       "             colsample_bylevel=None, colsample_bynode=None,\n",
       "             colsample_bytree=None, early_stopping_rounds=None,\n",
       "             enable_categorical=False, eval_metric=None, feature_types=None,\n",
       "             gamma=None, gpu_id=None, grow_policy=None, importance_type=None,\n",
       "             interaction_constraints=None, learning_rate=None, max_bin=None,\n",
       "             max_cat_threshold=None, max_cat_to_onehot=None,\n",
       "             max_delta_step=None, max_depth=None, max_leaves=None,\n",
       "             min_child_weight=None, missing=nan, monotone_constraints=None,\n",
       "             n_estimators=100, n_jobs=None, num_parallel_tree=None,\n",
       "             predictor=None, random_state=None, ...)</pre><b>In a Jupyter environment, please rerun this cell to show the HTML representation or trust the notebook. <br />On GitHub, the HTML representation is unable to render, please try loading this page with nbviewer.org.</b></div><div class=\"sk-container\" hidden><div class=\"sk-item\"><div class=\"sk-estimator sk-toggleable\"><input class=\"sk-toggleable__control sk-hidden--visually\" id=\"sk-estimator-id-40\" type=\"checkbox\" checked><label for=\"sk-estimator-id-40\" class=\"sk-toggleable__label sk-toggleable__label-arrow\">XGBRegressor</label><div class=\"sk-toggleable__content\"><pre>XGBRegressor(base_score=None, booster=None, callbacks=None,\n",
       "             colsample_bylevel=None, colsample_bynode=None,\n",
       "             colsample_bytree=None, early_stopping_rounds=None,\n",
       "             enable_categorical=False, eval_metric=None, feature_types=None,\n",
       "             gamma=None, gpu_id=None, grow_policy=None, importance_type=None,\n",
       "             interaction_constraints=None, learning_rate=None, max_bin=None,\n",
       "             max_cat_threshold=None, max_cat_to_onehot=None,\n",
       "             max_delta_step=None, max_depth=None, max_leaves=None,\n",
       "             min_child_weight=None, missing=nan, monotone_constraints=None,\n",
       "             n_estimators=100, n_jobs=None, num_parallel_tree=None,\n",
       "             predictor=None, random_state=None, ...)</pre></div></div></div></div></div>"
      ],
      "text/plain": [
       "XGBRegressor(base_score=None, booster=None, callbacks=None,\n",
       "             colsample_bylevel=None, colsample_bynode=None,\n",
       "             colsample_bytree=None, early_stopping_rounds=None,\n",
       "             enable_categorical=False, eval_metric=None, feature_types=None,\n",
       "             gamma=None, gpu_id=None, grow_policy=None, importance_type=None,\n",
       "             interaction_constraints=None, learning_rate=None, max_bin=None,\n",
       "             max_cat_threshold=None, max_cat_to_onehot=None,\n",
       "             max_delta_step=None, max_depth=None, max_leaves=None,\n",
       "             min_child_weight=None, missing=nan, monotone_constraints=None,\n",
       "             n_estimators=100, n_jobs=None, num_parallel_tree=None,\n",
       "             predictor=None, random_state=None, ...)"
      ]
     },
     "execution_count": 430,
     "metadata": {},
     "output_type": "execute_result"
    }
   ],
   "source": [
    "#curveball xgboost\n",
    "xgb_model6 = XGBRegressor()\n",
    "xgb_model6.fit(X6_train, y6_train)"
   ]
  },
  {
   "cell_type": "code",
   "execution_count": 431,
   "id": "15b4a5a5",
   "metadata": {},
   "outputs": [],
   "source": [
    "#curveball feature importances\n",
    "feature_importances6r = pd.DataFrame(rfr6.feature_importances_, index = X6_train.columns, columns=['importance']).sort_values('importance', ascending=False)\n",
    "feature_importances6x = pd.DataFrame(xgb_model6.feature_importances_, index = X6_train.columns, columns=['importance']).sort_values('importance', ascending=False)\n",
    "feature_importances6 = feature_importances6x.join(feature_importances6r,  how='outer', lsuffix='_xgb', rsuffix='_rf')\n",
    "feature_importances6['mean_importance_CB'] = (feature_importances6['importance_xgb'] + feature_importances6['importance_rf']) / 2\n",
    "feature_importances6 = feature_importances6.sort_values(by='mean_importance_CB', ascending=False).drop(['importance_xgb', 'importance_rf'], axis=1).reset_index()"
   ]
  },
  {
   "cell_type": "code",
   "execution_count": 433,
   "id": "64618828",
   "metadata": {},
   "outputs": [],
   "source": [
    "mean_features0 = feature_importances1.merge(feature_importances2, on='index', how='left')\n",
    "mean_features1 = mean_features0.merge(feature_importances3, on='index', how='left')\n",
    "mean_features2 = mean_features1.merge(feature_importances4, on='index', how='left')\n",
    "mean_features3 = mean_features2.merge(feature_importances5, on='index', how='left')\n",
    "mean_features = mean_features3.merge(feature_importances6, on='index', how='left')\n",
    "\n",
    "#mean_features.to_csv(r'2023stuffplus_feature_importances2.csv', index=False)"
   ]
  },
  {
   "cell_type": "code",
   "execution_count": 434,
   "id": "53ad22f3",
   "metadata": {},
   "outputs": [
    {
     "name": "stderr",
     "output_type": "stream",
     "text": [
      "C:\\Users\\parke\\AppData\\Local\\Temp\\ipykernel_11980\\2053571981.py:1: SettingWithCopyWarning: \n",
      "A value is trying to be set on a copy of a slice from a DataFrame.\n",
      "Try using .loc[row_indexer,col_indexer] = value instead\n",
      "\n",
      "See the caveats in the documentation: https://pandas.pydata.org/pandas-docs/stable/user_guide/indexing.html#returning-a-view-versus-a-copy\n",
      "  dcb['rfPredictRV'] = rfr6.predict(X6)\n",
      "C:\\Users\\parke\\AppData\\Local\\Temp\\ipykernel_11980\\2053571981.py:2: SettingWithCopyWarning: \n",
      "A value is trying to be set on a copy of a slice from a DataFrame.\n",
      "Try using .loc[row_indexer,col_indexer] = value instead\n",
      "\n",
      "See the caveats in the documentation: https://pandas.pydata.org/pandas-docs/stable/user_guide/indexing.html#returning-a-view-versus-a-copy\n",
      "  dcb['xgPredictRV'] = xgb_model6.predict(X6)\n",
      "C:\\Users\\parke\\AppData\\Local\\Temp\\ipykernel_11980\\2053571981.py:3: SettingWithCopyWarning: \n",
      "A value is trying to be set on a copy of a slice from a DataFrame.\n",
      "Try using .loc[row_indexer,col_indexer] = value instead\n",
      "\n",
      "See the caveats in the documentation: https://pandas.pydata.org/pandas-docs/stable/user_guide/indexing.html#returning-a-view-versus-a-copy\n",
      "  dcb['xRV'] = (dcb['rfPredictRV'] + dcb['xgPredictRV']) / 2\n"
     ]
    }
   ],
   "source": [
    "dcb['rfPredictRV'] = rfr6.predict(X6)\n",
    "dcb['xgPredictRV'] = xgb_model6.predict(X6)\n",
    "dcb['xRV'] = (dcb['rfPredictRV'] + dcb['xgPredictRV']) / 2"
   ]
  },
  {
   "cell_type": "code",
   "execution_count": 435,
   "id": "3c20bdf1",
   "metadata": {},
   "outputs": [
    {
     "data": {
      "text/html": [
       "<style>#sk-container-id-41 {color: black;}#sk-container-id-41 pre{padding: 0;}#sk-container-id-41 div.sk-toggleable {background-color: white;}#sk-container-id-41 label.sk-toggleable__label {cursor: pointer;display: block;width: 100%;margin-bottom: 0;padding: 0.3em;box-sizing: border-box;text-align: center;}#sk-container-id-41 label.sk-toggleable__label-arrow:before {content: \"▸\";float: left;margin-right: 0.25em;color: #696969;}#sk-container-id-41 label.sk-toggleable__label-arrow:hover:before {color: black;}#sk-container-id-41 div.sk-estimator:hover label.sk-toggleable__label-arrow:before {color: black;}#sk-container-id-41 div.sk-toggleable__content {max-height: 0;max-width: 0;overflow: hidden;text-align: left;background-color: #f0f8ff;}#sk-container-id-41 div.sk-toggleable__content pre {margin: 0.2em;color: black;border-radius: 0.25em;background-color: #f0f8ff;}#sk-container-id-41 input.sk-toggleable__control:checked~div.sk-toggleable__content {max-height: 200px;max-width: 100%;overflow: auto;}#sk-container-id-41 input.sk-toggleable__control:checked~label.sk-toggleable__label-arrow:before {content: \"▾\";}#sk-container-id-41 div.sk-estimator input.sk-toggleable__control:checked~label.sk-toggleable__label {background-color: #d4ebff;}#sk-container-id-41 div.sk-label input.sk-toggleable__control:checked~label.sk-toggleable__label {background-color: #d4ebff;}#sk-container-id-41 input.sk-hidden--visually {border: 0;clip: rect(1px 1px 1px 1px);clip: rect(1px, 1px, 1px, 1px);height: 1px;margin: -1px;overflow: hidden;padding: 0;position: absolute;width: 1px;}#sk-container-id-41 div.sk-estimator {font-family: monospace;background-color: #f0f8ff;border: 1px dotted black;border-radius: 0.25em;box-sizing: border-box;margin-bottom: 0.5em;}#sk-container-id-41 div.sk-estimator:hover {background-color: #d4ebff;}#sk-container-id-41 div.sk-parallel-item::after {content: \"\";width: 100%;border-bottom: 1px solid gray;flex-grow: 1;}#sk-container-id-41 div.sk-label:hover label.sk-toggleable__label {background-color: #d4ebff;}#sk-container-id-41 div.sk-serial::before {content: \"\";position: absolute;border-left: 1px solid gray;box-sizing: border-box;top: 0;bottom: 0;left: 50%;z-index: 0;}#sk-container-id-41 div.sk-serial {display: flex;flex-direction: column;align-items: center;background-color: white;padding-right: 0.2em;padding-left: 0.2em;position: relative;}#sk-container-id-41 div.sk-item {position: relative;z-index: 1;}#sk-container-id-41 div.sk-parallel {display: flex;align-items: stretch;justify-content: center;background-color: white;position: relative;}#sk-container-id-41 div.sk-item::before, #sk-container-id-41 div.sk-parallel-item::before {content: \"\";position: absolute;border-left: 1px solid gray;box-sizing: border-box;top: 0;bottom: 0;left: 50%;z-index: -1;}#sk-container-id-41 div.sk-parallel-item {display: flex;flex-direction: column;z-index: 1;position: relative;background-color: white;}#sk-container-id-41 div.sk-parallel-item:first-child::after {align-self: flex-end;width: 50%;}#sk-container-id-41 div.sk-parallel-item:last-child::after {align-self: flex-start;width: 50%;}#sk-container-id-41 div.sk-parallel-item:only-child::after {width: 0;}#sk-container-id-41 div.sk-dashed-wrapped {border: 1px dashed gray;margin: 0 0.4em 0.5em 0.4em;box-sizing: border-box;padding-bottom: 0.4em;background-color: white;}#sk-container-id-41 div.sk-label label {font-family: monospace;font-weight: bold;display: inline-block;line-height: 1.2em;}#sk-container-id-41 div.sk-label-container {text-align: center;}#sk-container-id-41 div.sk-container {/* jupyter's `normalize.less` sets `[hidden] { display: none; }` but bootstrap.min.css set `[hidden] { display: none !important; }` so we also need the `!important` here to be able to override the default hidden behavior on the sphinx rendered scikit-learn.org. See: https://github.com/scikit-learn/scikit-learn/issues/21755 */display: inline-block !important;position: relative;}#sk-container-id-41 div.sk-text-repr-fallback {display: none;}</style><div id=\"sk-container-id-41\" class=\"sk-top-container\"><div class=\"sk-text-repr-fallback\"><pre>RandomForestRegressor(max_depth=10, n_estimators=10)</pre><b>In a Jupyter environment, please rerun this cell to show the HTML representation or trust the notebook. <br />On GitHub, the HTML representation is unable to render, please try loading this page with nbviewer.org.</b></div><div class=\"sk-container\" hidden><div class=\"sk-item\"><div class=\"sk-estimator sk-toggleable\"><input class=\"sk-toggleable__control sk-hidden--visually\" id=\"sk-estimator-id-41\" type=\"checkbox\" checked><label for=\"sk-estimator-id-41\" class=\"sk-toggleable__label sk-toggleable__label-arrow\">RandomForestRegressor</label><div class=\"sk-toggleable__content\"><pre>RandomForestRegressor(max_depth=10, n_estimators=10)</pre></div></div></div></div></div>"
      ],
      "text/plain": [
       "RandomForestRegressor(max_depth=10, n_estimators=10)"
      ]
     },
     "execution_count": 435,
     "metadata": {},
     "output_type": "execute_result"
    }
   ],
   "source": [
    "#splitter randomforest\n",
    "rfr7 = RandomForestRegressor(n_estimators=10, max_depth=10)\n",
    "rfr7.fit(X7_train, y7_train)"
   ]
  },
  {
   "cell_type": "code",
   "execution_count": 436,
   "id": "85c83c6d",
   "metadata": {},
   "outputs": [
    {
     "data": {
      "text/html": [
       "<style>#sk-container-id-42 {color: black;}#sk-container-id-42 pre{padding: 0;}#sk-container-id-42 div.sk-toggleable {background-color: white;}#sk-container-id-42 label.sk-toggleable__label {cursor: pointer;display: block;width: 100%;margin-bottom: 0;padding: 0.3em;box-sizing: border-box;text-align: center;}#sk-container-id-42 label.sk-toggleable__label-arrow:before {content: \"▸\";float: left;margin-right: 0.25em;color: #696969;}#sk-container-id-42 label.sk-toggleable__label-arrow:hover:before {color: black;}#sk-container-id-42 div.sk-estimator:hover label.sk-toggleable__label-arrow:before {color: black;}#sk-container-id-42 div.sk-toggleable__content {max-height: 0;max-width: 0;overflow: hidden;text-align: left;background-color: #f0f8ff;}#sk-container-id-42 div.sk-toggleable__content pre {margin: 0.2em;color: black;border-radius: 0.25em;background-color: #f0f8ff;}#sk-container-id-42 input.sk-toggleable__control:checked~div.sk-toggleable__content {max-height: 200px;max-width: 100%;overflow: auto;}#sk-container-id-42 input.sk-toggleable__control:checked~label.sk-toggleable__label-arrow:before {content: \"▾\";}#sk-container-id-42 div.sk-estimator input.sk-toggleable__control:checked~label.sk-toggleable__label {background-color: #d4ebff;}#sk-container-id-42 div.sk-label input.sk-toggleable__control:checked~label.sk-toggleable__label {background-color: #d4ebff;}#sk-container-id-42 input.sk-hidden--visually {border: 0;clip: rect(1px 1px 1px 1px);clip: rect(1px, 1px, 1px, 1px);height: 1px;margin: -1px;overflow: hidden;padding: 0;position: absolute;width: 1px;}#sk-container-id-42 div.sk-estimator {font-family: monospace;background-color: #f0f8ff;border: 1px dotted black;border-radius: 0.25em;box-sizing: border-box;margin-bottom: 0.5em;}#sk-container-id-42 div.sk-estimator:hover {background-color: #d4ebff;}#sk-container-id-42 div.sk-parallel-item::after {content: \"\";width: 100%;border-bottom: 1px solid gray;flex-grow: 1;}#sk-container-id-42 div.sk-label:hover label.sk-toggleable__label {background-color: #d4ebff;}#sk-container-id-42 div.sk-serial::before {content: \"\";position: absolute;border-left: 1px solid gray;box-sizing: border-box;top: 0;bottom: 0;left: 50%;z-index: 0;}#sk-container-id-42 div.sk-serial {display: flex;flex-direction: column;align-items: center;background-color: white;padding-right: 0.2em;padding-left: 0.2em;position: relative;}#sk-container-id-42 div.sk-item {position: relative;z-index: 1;}#sk-container-id-42 div.sk-parallel {display: flex;align-items: stretch;justify-content: center;background-color: white;position: relative;}#sk-container-id-42 div.sk-item::before, #sk-container-id-42 div.sk-parallel-item::before {content: \"\";position: absolute;border-left: 1px solid gray;box-sizing: border-box;top: 0;bottom: 0;left: 50%;z-index: -1;}#sk-container-id-42 div.sk-parallel-item {display: flex;flex-direction: column;z-index: 1;position: relative;background-color: white;}#sk-container-id-42 div.sk-parallel-item:first-child::after {align-self: flex-end;width: 50%;}#sk-container-id-42 div.sk-parallel-item:last-child::after {align-self: flex-start;width: 50%;}#sk-container-id-42 div.sk-parallel-item:only-child::after {width: 0;}#sk-container-id-42 div.sk-dashed-wrapped {border: 1px dashed gray;margin: 0 0.4em 0.5em 0.4em;box-sizing: border-box;padding-bottom: 0.4em;background-color: white;}#sk-container-id-42 div.sk-label label {font-family: monospace;font-weight: bold;display: inline-block;line-height: 1.2em;}#sk-container-id-42 div.sk-label-container {text-align: center;}#sk-container-id-42 div.sk-container {/* jupyter's `normalize.less` sets `[hidden] { display: none; }` but bootstrap.min.css set `[hidden] { display: none !important; }` so we also need the `!important` here to be able to override the default hidden behavior on the sphinx rendered scikit-learn.org. See: https://github.com/scikit-learn/scikit-learn/issues/21755 */display: inline-block !important;position: relative;}#sk-container-id-42 div.sk-text-repr-fallback {display: none;}</style><div id=\"sk-container-id-42\" class=\"sk-top-container\"><div class=\"sk-text-repr-fallback\"><pre>XGBRegressor(base_score=None, booster=None, callbacks=None,\n",
       "             colsample_bylevel=None, colsample_bynode=None,\n",
       "             colsample_bytree=None, early_stopping_rounds=None,\n",
       "             enable_categorical=False, eval_metric=None, feature_types=None,\n",
       "             gamma=None, gpu_id=None, grow_policy=None, importance_type=None,\n",
       "             interaction_constraints=None, learning_rate=None, max_bin=None,\n",
       "             max_cat_threshold=None, max_cat_to_onehot=None,\n",
       "             max_delta_step=None, max_depth=None, max_leaves=None,\n",
       "             min_child_weight=None, missing=nan, monotone_constraints=None,\n",
       "             n_estimators=100, n_jobs=None, num_parallel_tree=None,\n",
       "             predictor=None, random_state=None, ...)</pre><b>In a Jupyter environment, please rerun this cell to show the HTML representation or trust the notebook. <br />On GitHub, the HTML representation is unable to render, please try loading this page with nbviewer.org.</b></div><div class=\"sk-container\" hidden><div class=\"sk-item\"><div class=\"sk-estimator sk-toggleable\"><input class=\"sk-toggleable__control sk-hidden--visually\" id=\"sk-estimator-id-42\" type=\"checkbox\" checked><label for=\"sk-estimator-id-42\" class=\"sk-toggleable__label sk-toggleable__label-arrow\">XGBRegressor</label><div class=\"sk-toggleable__content\"><pre>XGBRegressor(base_score=None, booster=None, callbacks=None,\n",
       "             colsample_bylevel=None, colsample_bynode=None,\n",
       "             colsample_bytree=None, early_stopping_rounds=None,\n",
       "             enable_categorical=False, eval_metric=None, feature_types=None,\n",
       "             gamma=None, gpu_id=None, grow_policy=None, importance_type=None,\n",
       "             interaction_constraints=None, learning_rate=None, max_bin=None,\n",
       "             max_cat_threshold=None, max_cat_to_onehot=None,\n",
       "             max_delta_step=None, max_depth=None, max_leaves=None,\n",
       "             min_child_weight=None, missing=nan, monotone_constraints=None,\n",
       "             n_estimators=100, n_jobs=None, num_parallel_tree=None,\n",
       "             predictor=None, random_state=None, ...)</pre></div></div></div></div></div>"
      ],
      "text/plain": [
       "XGBRegressor(base_score=None, booster=None, callbacks=None,\n",
       "             colsample_bylevel=None, colsample_bynode=None,\n",
       "             colsample_bytree=None, early_stopping_rounds=None,\n",
       "             enable_categorical=False, eval_metric=None, feature_types=None,\n",
       "             gamma=None, gpu_id=None, grow_policy=None, importance_type=None,\n",
       "             interaction_constraints=None, learning_rate=None, max_bin=None,\n",
       "             max_cat_threshold=None, max_cat_to_onehot=None,\n",
       "             max_delta_step=None, max_depth=None, max_leaves=None,\n",
       "             min_child_weight=None, missing=nan, monotone_constraints=None,\n",
       "             n_estimators=100, n_jobs=None, num_parallel_tree=None,\n",
       "             predictor=None, random_state=None, ...)"
      ]
     },
     "execution_count": 436,
     "metadata": {},
     "output_type": "execute_result"
    }
   ],
   "source": [
    "#splitter xgboost\n",
    "xgb_model7 = XGBRegressor()\n",
    "xgb_model7.fit(X7_train, y7_train)"
   ]
  },
  {
   "cell_type": "code",
   "execution_count": 437,
   "id": "d0d73eae",
   "metadata": {},
   "outputs": [
    {
     "name": "stderr",
     "output_type": "stream",
     "text": [
      "C:\\Users\\parke\\AppData\\Local\\Temp\\ipykernel_11980\\3618380927.py:1: SettingWithCopyWarning: \n",
      "A value is trying to be set on a copy of a slice from a DataFrame.\n",
      "Try using .loc[row_indexer,col_indexer] = value instead\n",
      "\n",
      "See the caveats in the documentation: https://pandas.pydata.org/pandas-docs/stable/user_guide/indexing.html#returning-a-view-versus-a-copy\n",
      "  dsp['rfPredictRV'] = rfr7.predict(X7)\n",
      "C:\\Users\\parke\\AppData\\Local\\Temp\\ipykernel_11980\\3618380927.py:2: SettingWithCopyWarning: \n",
      "A value is trying to be set on a copy of a slice from a DataFrame.\n",
      "Try using .loc[row_indexer,col_indexer] = value instead\n",
      "\n",
      "See the caveats in the documentation: https://pandas.pydata.org/pandas-docs/stable/user_guide/indexing.html#returning-a-view-versus-a-copy\n",
      "  dsp['xgPredictRV'] = xgb_model7.predict(X7)\n",
      "C:\\Users\\parke\\AppData\\Local\\Temp\\ipykernel_11980\\3618380927.py:3: SettingWithCopyWarning: \n",
      "A value is trying to be set on a copy of a slice from a DataFrame.\n",
      "Try using .loc[row_indexer,col_indexer] = value instead\n",
      "\n",
      "See the caveats in the documentation: https://pandas.pydata.org/pandas-docs/stable/user_guide/indexing.html#returning-a-view-versus-a-copy\n",
      "  dsp['xRV'] = (dsp['rfPredictRV'] + dsp['xgPredictRV']) / 2\n"
     ]
    }
   ],
   "source": [
    "dsp['rfPredictRV'] = rfr7.predict(X7)\n",
    "dsp['xgPredictRV'] = xgb_model7.predict(X7)\n",
    "dsp['xRV'] = (dsp['rfPredictRV'] + dsp['xgPredictRV']) / 2"
   ]
  },
  {
   "cell_type": "markdown",
   "metadata": {},
   "source": [
    "Now, calculate Stuff+"
   ]
  },
  {
   "cell_type": "code",
   "execution_count": 438,
   "id": "37cadcb8",
   "metadata": {},
   "outputs": [
    {
     "name": "stderr",
     "output_type": "stream",
     "text": [
      "C:\\Users\\parke\\AppData\\Local\\Temp\\ipykernel_11980\\3046490841.py:1: SettingWithCopyWarning: \n",
      "A value is trying to be set on a copy of a slice from a DataFrame.\n",
      "Try using .loc[row_indexer,col_indexer] = value instead\n",
      "\n",
      "See the caveats in the documentation: https://pandas.pydata.org/pandas-docs/stable/user_guide/indexing.html#returning-a-view-versus-a-copy\n",
      "  dff['xRV/100'] = dff['xRV'] * 100\n",
      "C:\\Users\\parke\\AppData\\Local\\Temp\\ipykernel_11980\\3046490841.py:2: SettingWithCopyWarning: \n",
      "A value is trying to be set on a copy of a slice from a DataFrame.\n",
      "Try using .loc[row_indexer,col_indexer] = value instead\n",
      "\n",
      "See the caveats in the documentation: https://pandas.pydata.org/pandas-docs/stable/user_guide/indexing.html#returning-a-view-versus-a-copy\n",
      "  dfc['xRV/100'] = dfc['xRV'] * 100\n",
      "C:\\Users\\parke\\AppData\\Local\\Temp\\ipykernel_11980\\3046490841.py:3: SettingWithCopyWarning: \n",
      "A value is trying to be set on a copy of a slice from a DataFrame.\n",
      "Try using .loc[row_indexer,col_indexer] = value instead\n",
      "\n",
      "See the caveats in the documentation: https://pandas.pydata.org/pandas-docs/stable/user_guide/indexing.html#returning-a-view-versus-a-copy\n",
      "  dsk['xRV/100'] = dsk['xRV'] * 100\n",
      "C:\\Users\\parke\\AppData\\Local\\Temp\\ipykernel_11980\\3046490841.py:4: SettingWithCopyWarning: \n",
      "A value is trying to be set on a copy of a slice from a DataFrame.\n",
      "Try using .loc[row_indexer,col_indexer] = value instead\n",
      "\n",
      "See the caveats in the documentation: https://pandas.pydata.org/pandas-docs/stable/user_guide/indexing.html#returning-a-view-versus-a-copy\n",
      "  dch['xRV/100'] = dch['xRV'] * 100\n",
      "C:\\Users\\parke\\AppData\\Local\\Temp\\ipykernel_11980\\3046490841.py:5: SettingWithCopyWarning: \n",
      "A value is trying to be set on a copy of a slice from a DataFrame.\n",
      "Try using .loc[row_indexer,col_indexer] = value instead\n",
      "\n",
      "See the caveats in the documentation: https://pandas.pydata.org/pandas-docs/stable/user_guide/indexing.html#returning-a-view-versus-a-copy\n",
      "  dcb['xRV/100'] = dcb['xRV'] * 100\n",
      "C:\\Users\\parke\\AppData\\Local\\Temp\\ipykernel_11980\\3046490841.py:6: SettingWithCopyWarning: \n",
      "A value is trying to be set on a copy of a slice from a DataFrame.\n",
      "Try using .loc[row_indexer,col_indexer] = value instead\n",
      "\n",
      "See the caveats in the documentation: https://pandas.pydata.org/pandas-docs/stable/user_guide/indexing.html#returning-a-view-versus-a-copy\n",
      "  dsl['xRV/100'] = dsl['xRV'] * 100\n",
      "C:\\Users\\parke\\AppData\\Local\\Temp\\ipykernel_11980\\3046490841.py:7: SettingWithCopyWarning: \n",
      "A value is trying to be set on a copy of a slice from a DataFrame.\n",
      "Try using .loc[row_indexer,col_indexer] = value instead\n",
      "\n",
      "See the caveats in the documentation: https://pandas.pydata.org/pandas-docs/stable/user_guide/indexing.html#returning-a-view-versus-a-copy\n",
      "  dsp['xRV/100'] = dsp['xRV'] * 100\n"
     ]
    }
   ],
   "source": [
    "dff['xRV/100'] = dff['xRV'] * 100\n",
    "dfc['xRV/100'] = dfc['xRV'] * 100\n",
    "dsk['xRV/100'] = dsk['xRV'] * 100\n",
    "dch['xRV/100'] = dch['xRV'] * 100\n",
    "dcb['xRV/100'] = dcb['xRV'] * 100\n",
    "dsl['xRV/100'] = dsl['xRV'] * 100\n",
    "dsp['xRV/100'] = dsp['xRV'] * 100"
   ]
  },
  {
   "cell_type": "code",
   "execution_count": 439,
   "id": "2e8c4469",
   "metadata": {},
   "outputs": [],
   "source": [
    "#Create a new column called xRV/100 scaled negative which is the xRV/100 - 3.503456\n",
    "dff = dff.assign(xRV100_scaled_negative=dff['xRV/100'] - 3.50345)\n",
    "dfc = dfc.assign(xRV100_scaled_negative=dfc['xRV/100'] - 3.50345)\n",
    "dsk = dsk.assign(xRV100_scaled_negative=dsk['xRV/100'] - 3.50345)\n",
    "dch = dch.assign(xRV100_scaled_negative=dch['xRV/100'] - 3.50345)\n",
    "dsl = dsl.assign(xRV100_scaled_negative=dsl['xRV/100'] - 3.50345)\n",
    "dcb = dcb.assign(xRV100_scaled_negative=dcb['xRV/100'] - 3.50345)\n",
    "dsp = dsp.assign(xRV100_scaled_negative=dsp['xRV/100'] - 3.50345)"
   ]
  },
  {
   "cell_type": "code",
   "execution_count": 440,
   "id": "67ed9e0a",
   "metadata": {},
   "outputs": [],
   "source": [
    "#Create a new column which is the aboslute value of xRV/100 scaled negative\n",
    "dff = dff.assign(xRV100_scaled_negative_abs=dff['xRV100_scaled_negative'].abs())\n",
    "dfc = dfc.assign(xRV100_scaled_negative_abs=dfc['xRV100_scaled_negative'].abs())\n",
    "dsk = dsk.assign(xRV100_scaled_negative_abs=dsk['xRV100_scaled_negative'].abs())\n",
    "dch = dch.assign(xRV100_scaled_negative_abs=dch['xRV100_scaled_negative'].abs())\n",
    "dsl = dsl.assign(xRV100_scaled_negative_abs=dsl['xRV100_scaled_negative'].abs())\n",
    "dcb = dcb.assign(xRV100_scaled_negative_abs=dcb['xRV100_scaled_negative'].abs())\n",
    "dsp = dsp.assign(xRV100_scaled_negative_abs=dsp['xRV100_scaled_negative'].abs())"
   ]
  },
  {
   "cell_type": "code",
   "execution_count": 441,
   "id": "25a91eca",
   "metadata": {},
   "outputs": [],
   "source": [
    "#create a new column called Stuff+ which is ((xRV100_scaled_negative_abs)/mean of xRV100_scaled_negative_abs) * 100\n",
    "dff = dff.assign(Stuff_plus=(dff['xRV100_scaled_negative_abs']/dff['xRV100_scaled_negative_abs'].mean())*100)\n",
    "dfc = dfc.assign(Stuff_plus=(dfc['xRV100_scaled_negative_abs']/dfc['xRV100_scaled_negative_abs'].mean())*100)\n",
    "dsk = dsk.assign(Stuff_plus=(dsk['xRV100_scaled_negative_abs']/dsk['xRV100_scaled_negative_abs'].mean())*100)\n",
    "dch = dch.assign(Stuff_plus=(dch['xRV100_scaled_negative_abs']/dch['xRV100_scaled_negative_abs'].mean())*100)\n",
    "dsl = dsl.assign(Stuff_plus=(dsl['xRV100_scaled_negative_abs']/dsl['xRV100_scaled_negative_abs'].mean())*100)\n",
    "dcb = dcb.assign(Stuff_plus=(dcb['xRV100_scaled_negative_abs']/dcb['xRV100_scaled_negative_abs'].mean())*100)\n",
    "dsp = dsp.assign(Stuff_plus=(dsp['xRV100_scaled_negative_abs']/dsp['xRV100_scaled_negative_abs'].mean())*100)"
   ]
  },
  {
   "cell_type": "markdown",
   "metadata": {},
   "source": [
    "For each pitch type subset, get each pitcher's average Stuff+."
   ]
  },
  {
   "cell_type": "code",
   "execution_count": 443,
   "id": "89b6891d",
   "metadata": {},
   "outputs": [],
   "source": [
    "#fastball averages\n",
    "dffavg = dff.groupby(['Pitcher', 'PitcherTeam', 'TaggedPitchType']).agg({'RelSpeed': 'mean', 'SpinRate': 'mean', 'InducedVertBreak': 'mean', 'HorzBreak': 'mean', 'VertApprAngle': 'mean', 'Stuff_plus': 'mean'}).reset_index()"
   ]
  },
  {
   "cell_type": "code",
   "execution_count": 444,
   "id": "0f13da97",
   "metadata": {},
   "outputs": [],
   "source": [
    "pff = dff.groupby(['Pitcher', 'PitcherTeam']).size().to_numpy()\n",
    "dffavg['PitchCount'] = pff"
   ]
  },
  {
   "cell_type": "code",
   "execution_count": 445,
   "id": "9a204180",
   "metadata": {},
   "outputs": [],
   "source": [
    "dffavg = dffavg.round(2)"
   ]
  },
  {
   "cell_type": "code",
   "execution_count": 446,
   "id": "033d1280",
   "metadata": {},
   "outputs": [
    {
     "data": {
      "text/html": [
       "<div>\n",
       "<style scoped>\n",
       "    .dataframe tbody tr th:only-of-type {\n",
       "        vertical-align: middle;\n",
       "    }\n",
       "\n",
       "    .dataframe tbody tr th {\n",
       "        vertical-align: top;\n",
       "    }\n",
       "\n",
       "    .dataframe thead th {\n",
       "        text-align: right;\n",
       "    }\n",
       "</style>\n",
       "<table border=\"1\" class=\"dataframe\">\n",
       "  <thead>\n",
       "    <tr style=\"text-align: right;\">\n",
       "      <th></th>\n",
       "      <th>Pitcher</th>\n",
       "      <th>PitcherTeam</th>\n",
       "      <th>TaggedPitchType</th>\n",
       "      <th>RelSpeed</th>\n",
       "      <th>SpinRate</th>\n",
       "      <th>InducedVertBreak</th>\n",
       "      <th>HorzBreak</th>\n",
       "      <th>VertApprAngle</th>\n",
       "      <th>Stuff_plus</th>\n",
       "      <th>PitchCount</th>\n",
       "    </tr>\n",
       "  </thead>\n",
       "  <tbody>\n",
       "    <tr>\n",
       "      <th>4302</th>\n",
       "      <td>Paul Skenes</td>\n",
       "      <td>LSU_TIG</td>\n",
       "      <td>Fastball</td>\n",
       "      <td>98.27</td>\n",
       "      <td>2514.83</td>\n",
       "      <td>15.79</td>\n",
       "      <td>17.05</td>\n",
       "      <td>-5.1</td>\n",
       "      <td>158.45</td>\n",
       "      <td>1705</td>\n",
       "    </tr>\n",
       "  </tbody>\n",
       "</table>\n",
       "</div>"
      ],
      "text/plain": [
       "          Pitcher PitcherTeam TaggedPitchType  RelSpeed  SpinRate  \\\n",
       "4302  Paul Skenes     LSU_TIG        Fastball     98.27   2514.83   \n",
       "\n",
       "      InducedVertBreak  HorzBreak  VertApprAngle  Stuff_plus  PitchCount  \n",
       "4302             15.79      17.05           -5.1      158.45        1705  "
      ]
     },
     "execution_count": 446,
     "metadata": {},
     "output_type": "execute_result"
    }
   ],
   "source": [
    "dffavg.loc[dffavg['Pitcher'] == 'Paul Skenes']"
   ]
  },
  {
   "cell_type": "code",
   "execution_count": 447,
   "id": "60ce8909",
   "metadata": {},
   "outputs": [],
   "source": [
    "#cutter average\n",
    "dfcavg = dfc.groupby(['Pitcher', 'PitcherTeam', 'TaggedPitchType']).agg({'RelSpeed': 'mean', 'SpinRate': 'mean', 'InducedVertBreak': 'mean', 'HorzBreak': 'mean', 'VertApprAngle': 'mean', 'Stuff_plus': 'mean'}).reset_index()"
   ]
  },
  {
   "cell_type": "code",
   "execution_count": 448,
   "id": "b1f4d891",
   "metadata": {},
   "outputs": [],
   "source": [
    "pcc = dfc.groupby(['Pitcher', 'PitcherTeam']).size().to_numpy()\n",
    "dfcavg['PitchCount'] = pcc"
   ]
  },
  {
   "cell_type": "code",
   "execution_count": 449,
   "id": "c29fd971",
   "metadata": {},
   "outputs": [],
   "source": [
    "dfcavg = dfcavg.round(2)"
   ]
  },
  {
   "cell_type": "code",
   "execution_count": 450,
   "id": "297e66b3",
   "metadata": {},
   "outputs": [],
   "source": [
    "#sinkers\n",
    "dskavg = dsk.groupby(['Pitcher', 'PitcherTeam', 'TaggedPitchType']).agg({'RelSpeed': 'mean', 'SpinRate': 'mean', 'InducedVertBreak': 'mean', 'HorzBreak': 'mean', 'VertApprAngle': 'mean', 'Stuff_plus': 'mean'}).reset_index()"
   ]
  },
  {
   "cell_type": "code",
   "execution_count": 451,
   "id": "62ee83e8",
   "metadata": {},
   "outputs": [],
   "source": [
    "psk = dsk.groupby(['Pitcher', 'PitcherTeam']).size().to_numpy()\n",
    "dskavg['PitchCount'] = psk"
   ]
  },
  {
   "cell_type": "code",
   "execution_count": 452,
   "id": "dde5b3e4",
   "metadata": {},
   "outputs": [],
   "source": [
    "dskavg = dskavg.round(2)"
   ]
  },
  {
   "cell_type": "code",
   "execution_count": 453,
   "id": "7facd866",
   "metadata": {},
   "outputs": [],
   "source": [
    "#changeups\n",
    "dchavg = dch.groupby(['Pitcher', 'PitcherTeam', 'TaggedPitchType']).agg({'RelSpeed': 'mean', 'SpinRate': 'mean', 'InducedVertBreak': 'mean', 'HorzBreak': 'mean', 'VertApprAngle': 'mean', 'Stuff_plus': 'mean'}).reset_index()"
   ]
  },
  {
   "cell_type": "code",
   "execution_count": 454,
   "id": "c42e9bf6",
   "metadata": {},
   "outputs": [],
   "source": [
    "pch = dch.groupby(['Pitcher', 'PitcherTeam']).size().to_numpy()\n",
    "dchavg['PitchCount'] = pch"
   ]
  },
  {
   "cell_type": "code",
   "execution_count": 455,
   "id": "a47c5afa",
   "metadata": {},
   "outputs": [],
   "source": [
    "dchavg = dchavg.round(2)"
   ]
  },
  {
   "cell_type": "code",
   "execution_count": 456,
   "id": "1a354fc5",
   "metadata": {},
   "outputs": [],
   "source": [
    "#sliders\n",
    "dslavg = dsl.groupby(['Pitcher', 'PitcherTeam', 'TaggedPitchType']).agg({'RelSpeed': 'mean', 'SpinRate': 'mean', 'InducedVertBreak': 'mean', 'HorzBreak': 'mean', 'VertApprAngle': 'mean', 'Stuff_plus': 'mean'}).reset_index()"
   ]
  },
  {
   "cell_type": "code",
   "execution_count": 457,
   "id": "9b999fc1",
   "metadata": {},
   "outputs": [],
   "source": [
    "psl = dsl.groupby(['Pitcher', 'PitcherTeam']).size().to_numpy()\n",
    "dslavg['PitchCount'] = psl"
   ]
  },
  {
   "cell_type": "code",
   "execution_count": 458,
   "id": "336bf62c",
   "metadata": {},
   "outputs": [],
   "source": [
    "dslavg = dslavg.round(2)"
   ]
  },
  {
   "cell_type": "code",
   "execution_count": 459,
   "id": "16903151",
   "metadata": {},
   "outputs": [],
   "source": [
    "#curveball\n",
    "dcbavg = dcb.groupby(['Pitcher', 'PitcherTeam', 'TaggedPitchType']).agg({'RelSpeed': 'mean', 'SpinRate': 'mean', 'InducedVertBreak': 'mean', 'HorzBreak': 'mean', 'VertApprAngle': 'mean', 'Stuff_plus': 'mean'}).reset_index()"
   ]
  },
  {
   "cell_type": "code",
   "execution_count": 460,
   "id": "f30520fa",
   "metadata": {},
   "outputs": [],
   "source": [
    "pcb = dcb.groupby(['Pitcher', 'PitcherTeam']).size().to_numpy()\n",
    "dcbavg['PitchCount'] = pcb"
   ]
  },
  {
   "cell_type": "code",
   "execution_count": 461,
   "id": "4919171a",
   "metadata": {},
   "outputs": [],
   "source": [
    "dcbavg = dcbavg.round(2)"
   ]
  },
  {
   "cell_type": "code",
   "execution_count": 462,
   "id": "57f39444",
   "metadata": {},
   "outputs": [],
   "source": [
    "#splitter\n",
    "dspavg = dsp.groupby(['Pitcher', 'PitcherTeam', 'TaggedPitchType']).agg({'RelSpeed': 'mean', 'SpinRate': 'mean', 'InducedVertBreak': 'mean', 'HorzBreak': 'mean', 'VertApprAngle': 'mean', 'Stuff_plus': 'mean'}).reset_index()"
   ]
  },
  {
   "cell_type": "code",
   "execution_count": 463,
   "id": "c3a674f2",
   "metadata": {},
   "outputs": [],
   "source": [
    "psp = dsp.groupby(['Pitcher', 'PitcherTeam']).size().to_numpy()\n",
    "dspavg['PitchCount'] = psp"
   ]
  },
  {
   "cell_type": "code",
   "execution_count": 464,
   "id": "5450e3bb",
   "metadata": {},
   "outputs": [],
   "source": [
    "dstuffplus = pd.concat([dffavg, dfcavg, dskavg, dchavg, dcbavg, dslavg, dspavg])"
   ]
  },
  {
   "cell_type": "markdown",
   "metadata": {},
   "source": [
    "The final table with Stuff+ for each pitcher by pitch type:"
   ]
  },
  {
   "cell_type": "code",
   "execution_count": null,
   "metadata": {},
   "outputs": [],
   "source": [
    "dstuffplus.head(10)"
   ]
  },
  {
   "cell_type": "markdown",
   "metadata": {},
   "source": [
    "The arsenal Stuff+ value is calculated with a weighted average by pitch count:"
   ]
  },
  {
   "cell_type": "code",
   "execution_count": 469,
   "id": "daa3ccf1",
   "metadata": {},
   "outputs": [],
   "source": [
    "def w_avg(df, values, weights):\n",
    "    d = df[values]\n",
    "    w = df[weights]\n",
    "    return (d * w).sum() / w.sum()"
   ]
  },
  {
   "cell_type": "code",
   "execution_count": 470,
   "id": "a8406053",
   "metadata": {},
   "outputs": [],
   "source": [
    "dstuffplus_arsenal = dstuffplus.groupby(['Pitcher', 'PitcherTeam']).apply(w_avg, 'Stuff_plus', 'PitchCount').reset_index()"
   ]
  },
  {
   "cell_type": "code",
   "execution_count": 471,
   "id": "53649897",
   "metadata": {},
   "outputs": [
    {
     "data": {
      "text/html": [
       "<div>\n",
       "<style scoped>\n",
       "    .dataframe tbody tr th:only-of-type {\n",
       "        vertical-align: middle;\n",
       "    }\n",
       "\n",
       "    .dataframe tbody tr th {\n",
       "        vertical-align: top;\n",
       "    }\n",
       "\n",
       "    .dataframe thead th {\n",
       "        text-align: right;\n",
       "    }\n",
       "</style>\n",
       "<table border=\"1\" class=\"dataframe\">\n",
       "  <thead>\n",
       "    <tr style=\"text-align: right;\">\n",
       "      <th></th>\n",
       "      <th>Pitcher</th>\n",
       "      <th>0</th>\n",
       "    </tr>\n",
       "  </thead>\n",
       "  <tbody>\n",
       "    <tr>\n",
       "      <th>0</th>\n",
       "      <td>Austin Anderson</td>\n",
       "      <td>121.363922</td>\n",
       "    </tr>\n",
       "    <tr>\n",
       "      <th>1</th>\n",
       "      <td>Dylan McShane</td>\n",
       "      <td>93.545789</td>\n",
       "    </tr>\n",
       "    <tr>\n",
       "      <th>2</th>\n",
       "      <td>Grayson Grinsell</td>\n",
       "      <td>137.557070</td>\n",
       "    </tr>\n",
       "    <tr>\n",
       "      <th>3</th>\n",
       "      <td>Gus Rogers</td>\n",
       "      <td>69.052800</td>\n",
       "    </tr>\n",
       "    <tr>\n",
       "      <th>4</th>\n",
       "      <td>Ian Umlandt</td>\n",
       "      <td>85.324667</td>\n",
       "    </tr>\n",
       "    <tr>\n",
       "      <th>5</th>\n",
       "      <td>Jace Stoffal</td>\n",
       "      <td>105.015712</td>\n",
       "    </tr>\n",
       "    <tr>\n",
       "      <th>6</th>\n",
       "      <td>Jackson Jaha</td>\n",
       "      <td>91.999762</td>\n",
       "    </tr>\n",
       "    <tr>\n",
       "      <th>7</th>\n",
       "      <td>Jackson Pace</td>\n",
       "      <td>79.962592</td>\n",
       "    </tr>\n",
       "    <tr>\n",
       "      <th>8</th>\n",
       "      <td>Jacob Hughes</td>\n",
       "      <td>107.337013</td>\n",
       "    </tr>\n",
       "    <tr>\n",
       "      <th>9</th>\n",
       "      <td>Josh Mollerus</td>\n",
       "      <td>131.131969</td>\n",
       "    </tr>\n",
       "    <tr>\n",
       "      <th>10</th>\n",
       "      <td>Leo Uelman</td>\n",
       "      <td>88.942796</td>\n",
       "    </tr>\n",
       "    <tr>\n",
       "      <th>11</th>\n",
       "      <td>Logan Mercado</td>\n",
       "      <td>119.711912</td>\n",
       "    </tr>\n",
       "    <tr>\n",
       "      <th>12</th>\n",
       "      <td>Logan Olson</td>\n",
       "      <td>88.088911</td>\n",
       "    </tr>\n",
       "    <tr>\n",
       "      <th>13</th>\n",
       "      <td>Matt Dallas</td>\n",
       "      <td>93.245320</td>\n",
       "    </tr>\n",
       "    <tr>\n",
       "      <th>14</th>\n",
       "      <td>Matthew Grabmann</td>\n",
       "      <td>92.202883</td>\n",
       "    </tr>\n",
       "    <tr>\n",
       "      <th>15</th>\n",
       "      <td>Turner Spoljaric</td>\n",
       "      <td>86.417392</td>\n",
       "    </tr>\n",
       "  </tbody>\n",
       "</table>\n",
       "</div>"
      ],
      "text/plain": [
       "             Pitcher           0\n",
       "0    Austin Anderson  121.363922\n",
       "1      Dylan McShane   93.545789\n",
       "2   Grayson Grinsell  137.557070\n",
       "3         Gus Rogers   69.052800\n",
       "4        Ian Umlandt   85.324667\n",
       "5       Jace Stoffal  105.015712\n",
       "6       Jackson Jaha   91.999762\n",
       "7       Jackson Pace   79.962592\n",
       "8       Jacob Hughes  107.337013\n",
       "9      Josh Mollerus  131.131969\n",
       "10        Leo Uelman   88.942796\n",
       "11     Logan Mercado  119.711912\n",
       "12       Logan Olson   88.088911\n",
       "13       Matt Dallas   93.245320\n",
       "14  Matthew Grabmann   92.202883\n",
       "15  Turner Spoljaric   86.417392"
      ]
     },
     "execution_count": 471,
     "metadata": {},
     "output_type": "execute_result"
    }
   ],
   "source": [
    "dstuffplus_arsenal.head(10)"
   ]
  },
  {
   "cell_type": "markdown",
   "metadata": {},
   "source": [
    "Below are functions that can be used to get the Stuff+ for each pitch type, utilizing the unique trained models for each pitch type:"
   ]
  },
  {
   "cell_type": "code",
   "execution_count": 472,
   "id": "c08b8aa2",
   "metadata": {},
   "outputs": [],
   "source": [
    "def getFBstuff(df):\n",
    "    \n",
    "    '''Function to get fastball stuff plus.\n",
    "    DataFrame must Run Values already input.\n",
    "    Gets xRV, then does calculations to get Stuff+\n",
    "    returns DataFrame with Stuff+ value for each pitch.\n",
    "    Only use for fastballs, function accesses trained model for fastballs.\n",
    "    '''\n",
    "    #first, we need to add some columns that we'll use for prediction.\n",
    "    df.insert(6, \"DifferentialBreak\", df[\"InducedVertBreak\"] - df[\"HorzBreak\"].abs(), True)\n",
    "    df.insert(10, \"ABSSideRelease\", df[\"RelSide\"].abs(), True)\n",
    "    df.insert(11, 'ABSHorzBreak', df['HorzBreak'].abs(), True)\n",
    "\n",
    "    #next, set your predictor and response variables. \n",
    "    X = df[['DifferentialBreak', 'RelSpeed', 'VertRelAngle', 'ABSSideRelease', 'HorzRelAngle', 'SpinRate', 'SpinAxis', \n",
    "        'RelHeight', 'Extension', 'InducedVertBreak', 'ABSHorzBreak', 'VertApprAngle', 'HorzApprAngle', 'EffectiveVelo']]\n",
    "    y = df['RV']\n",
    "\n",
    "    #now, we can use the random forest and xgboost objects from this doc to predict.\n",
    "    #X1 and y1 refer to the objects trained on fastballs.\n",
    "    df['rfPredictRV'] = rfr1.predict(X)\n",
    "    df['xgPredictRV'] = xgb_model1.predict(X)\n",
    "    df['xRV'] = (df['rfPredictRV'] + df['xgPredictRV']) / 2\n",
    "    #the xRV column is the mean of the two different predictors' results.\n",
    "\n",
    "    #calculating Stuff+:\n",
    "\n",
    "    #add a column for xRV * 100\n",
    "    df['xRV100'] = df['xRV'] * 100\n",
    "\n",
    "    #add a column to scale the xRV100, so that we can take its abs\n",
    "    df = df.assign(xRV100_scaled_negative=df['xRV100'] - 3.50345)\n",
    "\n",
    "    df = df.assign(xRV100_scaled_negative_abs=df['xRV100_scaled_negative'].abs())\n",
    "    \n",
    "    #and get the stuff plus:\n",
    "    df_stuffplus = df.assign(Stuff_plus=(df['xRV100_scaled_negative_abs']/df['xRV100_scaled_negative_abs'].mean())*100)\n",
    "\n",
    "    return df_stuffplus"
   ]
  },
  {
   "cell_type": "code",
   "execution_count": 473,
   "id": "83dc94dd",
   "metadata": {},
   "outputs": [],
   "source": [
    "def getCTstuff(df):\n",
    "    \n",
    "    '''Function to get cutter stuff plus.\n",
    "    DataFrame must Run Values already input.\n",
    "    Gets xRV, then does calculations to get Stuff+\n",
    "    returns DataFrame with Stuff+ value for each pitch.\n",
    "    Only use for specific pitch type, function accesses trained model for pitch type.\n",
    "    '''\n",
    "    #first, we need to add some columns that we'll use for prediction.\n",
    "    df.insert(6, \"DifferentialBreak\", df[\"InducedVertBreak\"] - df[\"HorzBreak\"].abs(), True)\n",
    "    df.insert(10, \"ABSSideRelease\", df[\"RelSide\"].abs(), True)\n",
    "    df.insert(11, 'ABSHorzBreak', df['HorzBreak'].abs(), True)\n",
    "\n",
    "    #next, set your predictor and response variables. \n",
    "    X = df[['DifferentialBreak', 'RelSpeed', 'VertRelAngle', 'ABSSideRelease', 'HorzRelAngle', 'SpinRate', 'SpinAxis', \n",
    "        'RelHeight', 'Extension', 'InducedVertBreak', 'ABSHorzBreak', 'VertApprAngle', 'HorzApprAngle', 'EffectiveVelo']]\n",
    "    y = df['RV']\n",
    "\n",
    "    #now, we can use the random forest and xgboost objects from this doc to predict.\n",
    "    #X1 and y1 refer to the objects trained on fastballs.\n",
    "    df['rfPredictRV'] = rfr2.predict(X)\n",
    "    df['xgPredictRV'] = xgb_model2.predict(X)\n",
    "    df['xRV'] = (df['rfPredictRV'] + df['xgPredictRV']) / 2\n",
    "    #the xRV column is the mean of the two different predictors' results.\n",
    "\n",
    "    #calculating Stuff+:\n",
    "\n",
    "    #add a column for xRV * 100\n",
    "    df['xRV100'] = df['xRV'] * 100\n",
    "\n",
    "    #add a column to scale the xRV100, so that we can take its abs\n",
    "    df = df.assign(xRV100_scaled_negative=df['xRV100'] - 3.50345)\n",
    "\n",
    "    df = df.assign(xRV100_scaled_negative_abs=df['xRV100_scaled_negative'].abs())\n",
    "    \n",
    "    #and get the stuff plus:\n",
    "    df_stuffplus = df.assign(Stuff_plus=(df['xRV100_scaled_negative_abs']/df['xRV100_scaled_negative_abs'].mean())*100)\n",
    "\n",
    "    return df_stuffplus"
   ]
  },
  {
   "cell_type": "code",
   "execution_count": 474,
   "id": "a2ab0ff1",
   "metadata": {},
   "outputs": [],
   "source": [
    "def getSKstuff(df):\n",
    "    \n",
    "    '''Function to get sinker stuff plus.\n",
    "    DataFrame must Run Values already input.\n",
    "    Gets xRV, then does calculations to get Stuff+\n",
    "    returns DataFrame with Stuff+ value for each pitch.\n",
    "    Only use for specific pitch type, function accesses trained model for pitch type.\n",
    "    '''\n",
    "    #first, we need to add some columns that we'll use for prediction.\n",
    "    df.insert(6, \"DifferentialBreak\", df[\"InducedVertBreak\"] - df[\"HorzBreak\"].abs(), True)\n",
    "    df.insert(10, \"ABSSideRelease\", df[\"RelSide\"].abs(), True)\n",
    "    df.insert(11, 'ABSHorzBreak', df['HorzBreak'].abs(), True)\n",
    "\n",
    "    #next, set your predictor and response variables. \n",
    "    X = df[['DifferentialBreak', 'RelSpeed', 'VertRelAngle', 'ABSSideRelease', 'HorzRelAngle', 'SpinRate', 'SpinAxis', \n",
    "        'RelHeight', 'Extension', 'InducedVertBreak', 'ABSHorzBreak', 'VertApprAngle', 'HorzApprAngle', 'EffectiveVelo']]\n",
    "    y = df['RV']\n",
    "\n",
    "    #now, we can use the random forest and xgboost objects from this doc to predict.\n",
    "    #X1 and y1 refer to the objects trained on fastballs.\n",
    "    df['rfPredictRV'] = rfr3.predict(X)\n",
    "    df['xgPredictRV'] = xgb_model3.predict(X)\n",
    "    df['xRV'] = (df['rfPredictRV'] + df['xgPredictRV']) / 2\n",
    "    #the xRV column is the mean of the two different predictors' results.\n",
    "\n",
    "    #calculating Stuff+:\n",
    "\n",
    "    #add a column for xRV * 100\n",
    "    df['xRV100'] = df['xRV'] * 100\n",
    "\n",
    "    #add a column to scale the xRV100, so that we can take its abs\n",
    "    df = df.assign(xRV100_scaled_negative=df['xRV100'] - 3.50345)\n",
    "\n",
    "    df = df.assign(xRV100_scaled_negative_abs=df['xRV100_scaled_negative'].abs())\n",
    "    \n",
    "    #and get the stuff plus:\n",
    "    df_stuffplus = df.assign(Stuff_plus=(df['xRV100_scaled_negative_abs']/df['xRV100_scaled_negative_abs'].mean())*100)\n",
    "\n",
    "    return df_stuffplus"
   ]
  },
  {
   "cell_type": "code",
   "execution_count": 475,
   "id": "2d622b61",
   "metadata": {},
   "outputs": [],
   "source": [
    "def getCHstuff(df):\n",
    "    \n",
    "    '''Function to get changeup stuff plus.\n",
    "    DataFrame must Run Values already input.\n",
    "    Gets xRV, then does calculations to get Stuff+\n",
    "    returns DataFrame with Stuff+ value for each pitch.\n",
    "    Only use for specific pitch type, function accesses trained model for pitch type.\n",
    "    '''\n",
    "    #first, we need to add some columns that we'll use for prediction.\n",
    "    df.insert(6, \"DifferentialBreak\", df[\"InducedVertBreak\"] - df[\"HorzBreak\"].abs(), True)\n",
    "    df.insert(10, \"ABSSideRelease\", df[\"RelSide\"].abs(), True)\n",
    "    df.insert(11, 'ABSHorzBreak', df['HorzBreak'].abs(), True)\n",
    "\n",
    "    #next, set your predictor and response variables. \n",
    "    X = df[['DifferentialBreak', 'RelSpeed', 'VertRelAngle', 'ABSSideRelease', 'HorzRelAngle', 'SpinRate', 'SpinAxis', \n",
    "        'RelHeight', 'Extension', 'InducedVertBreak', 'ABSHorzBreak', 'VertApprAngle', 'HorzApprAngle', 'EffectiveVelo']]\n",
    "    y = df['RV']\n",
    "\n",
    "    #now, we can use the random forest and xgboost objects from this doc to predict.\n",
    "    #X1 and y1 refer to the objects trained on fastballs.\n",
    "    df['rfPredictRV'] = rfr5.predict(X)\n",
    "    df['xgPredictRV'] = xgb_model5.predict(X)\n",
    "    df['xRV'] = (df['rfPredictRV'] + df['xgPredictRV']) / 2\n",
    "    #the xRV column is the mean of the two different predictors' results.\n",
    "\n",
    "    #calculating Stuff+:\n",
    "\n",
    "    #add a column for xRV * 100\n",
    "    df['xRV100'] = df['xRV'] * 100\n",
    "\n",
    "    #add a column to scale the xRV100, so that we can take its abs\n",
    "    df = df.assign(xRV100_scaled_negative=df['xRV100'] - 3.50345)\n",
    "\n",
    "    df = df.assign(xRV100_scaled_negative_abs=df['xRV100_scaled_negative'].abs())\n",
    "    \n",
    "    #and get the stuff plus:\n",
    "    df_stuffplus = df.assign(Stuff_plus=(df['xRV100_scaled_negative_abs']/df['xRV100_scaled_negative_abs'].mean())*100)\n",
    "\n",
    "    return df_stuffplus"
   ]
  },
  {
   "cell_type": "code",
   "execution_count": 476,
   "id": "0704b97e",
   "metadata": {},
   "outputs": [],
   "source": [
    "def getSLstuff(df):\n",
    "    \n",
    "    '''Function to get slider stuff plus.\n",
    "    DataFrame must Run Values already input.\n",
    "    Gets xRV, then does calculations to get Stuff+\n",
    "    returns DataFrame with Stuff+ value for each pitch.\n",
    "    Only use for specific pitch type, function accesses trained model for pitch type.\n",
    "    '''\n",
    "    #first, we need to add some columns that we'll use for prediction.\n",
    "    df.insert(6, \"DifferentialBreak\", df[\"InducedVertBreak\"] - df[\"HorzBreak\"].abs(), True)\n",
    "    df.insert(10, \"ABSSideRelease\", df[\"RelSide\"].abs(), True)\n",
    "    df.insert(11, 'ABSHorzBreak', df['HorzBreak'].abs(), True)\n",
    "\n",
    "    #next, set your predictor and response variables. \n",
    "    X = df[['DifferentialBreak', 'RelSpeed', 'VertRelAngle', 'ABSSideRelease', 'HorzRelAngle', 'SpinRate', 'SpinAxis', \n",
    "        'RelHeight', 'Extension', 'InducedVertBreak', 'ABSHorzBreak', 'VertApprAngle', 'HorzApprAngle', 'EffectiveVelo']]\n",
    "    y = df['RV']\n",
    "\n",
    "    #now, we can use the random forest and xgboost objects from this doc to predict.\n",
    "    #X1 and y1 refer to the objects trained on fastballs.\n",
    "    df['rfPredictRV'] = rfr4.predict(X)\n",
    "    df['xgPredictRV'] = xgb_model4.predict(X)\n",
    "    df['xRV'] = (df['rfPredictRV'] + df['xgPredictRV']) / 2\n",
    "    #the xRV column is the mean of the two different predictors' results.\n",
    "\n",
    "    #calculating Stuff+:\n",
    "\n",
    "    #add a column for xRV * 100\n",
    "    df['xRV100'] = df['xRV'] * 100\n",
    "\n",
    "    #add a column to scale the xRV100, so that we can take its abs\n",
    "    df = df.assign(xRV100_scaled_negative=df['xRV100'] - 3.50345)\n",
    "\n",
    "    df = df.assign(xRV100_scaled_negative_abs=df['xRV100_scaled_negative'].abs())\n",
    "    \n",
    "    #and get the stuff plus:\n",
    "    df_stuffplus = df.assign(Stuff_plus=(df['xRV100_scaled_negative_abs']/df['xRV100_scaled_negative_abs'].mean())*100)\n",
    "\n",
    "    return df_stuffplus"
   ]
  },
  {
   "cell_type": "code",
   "execution_count": 477,
   "id": "18222575",
   "metadata": {},
   "outputs": [],
   "source": [
    "def getCBstuff(df):\n",
    "    \n",
    "    '''Function to get curveball stuff plus.\n",
    "    DataFrame must Run Values already input.\n",
    "    Gets xRV, then does calculations to get Stuff+\n",
    "    returns DataFrame with Stuff+ value for each pitch.\n",
    "    Only use for specific pitch type, function accesses trained model for pitch type.\n",
    "    '''\n",
    "    #first, we need to add some columns that we'll use for prediction.\n",
    "    df.insert(6, \"DifferentialBreak\", df[\"InducedVertBreak\"] - df[\"HorzBreak\"].abs(), True)\n",
    "    df.insert(10, \"ABSSideRelease\", df[\"RelSide\"].abs(), True)\n",
    "    df.insert(11, 'ABSHorzBreak', df['HorzBreak'].abs(), True)\n",
    "\n",
    "    #next, set your predictor and response variables. \n",
    "    X = df[['DifferentialBreak', 'RelSpeed', 'VertRelAngle', 'ABSSideRelease', 'HorzRelAngle', 'SpinRate', 'SpinAxis', \n",
    "        'RelHeight', 'Extension', 'InducedVertBreak', 'ABSHorzBreak', 'VertApprAngle', 'HorzApprAngle', 'EffectiveVelo']]\n",
    "    y = df['RV']\n",
    "\n",
    "    #now, we can use the random forest and xgboost objects from this doc to predict.\n",
    "    #X1 and y1 refer to the objects trained on fastballs.\n",
    "    df['rfPredictRV'] = rfr6.predict(X)\n",
    "    df['xgPredictRV'] = xgb_model6.predict(X)\n",
    "    df['xRV'] = (df['rfPredictRV'] + df['xgPredictRV']) / 2\n",
    "    #the xRV column is the mean of the two different predictors' results.\n",
    "\n",
    "    #calculating Stuff+:\n",
    "\n",
    "    #add a column for xRV * 100\n",
    "    df['xRV100'] = df['xRV'] * 100\n",
    "\n",
    "    #add a column to scale the xRV100, so that we can take its abs\n",
    "    df = df.assign(xRV100_scaled_negative=df['xRV100'] - 3.50345)\n",
    "\n",
    "    df = df.assign(xRV100_scaled_negative_abs=df['xRV100_scaled_negative'].abs())\n",
    "    \n",
    "    #and get the stuff plus:\n",
    "    df_stuffplus = df.assign(Stuff_plus=(df['xRV100_scaled_negative_abs']/df['xRV100_scaled_negative_abs'].mean())*100)\n",
    "\n",
    "    return df_stuffplus"
   ]
  }
 ],
 "metadata": {
  "kernelspec": {
   "display_name": "Python 3 (ipykernel)",
   "language": "python",
   "name": "python3"
  },
  "language_info": {
   "codemirror_mode": {
    "name": "ipython",
    "version": 3
   },
   "file_extension": ".py",
   "mimetype": "text/x-python",
   "name": "python",
   "nbconvert_exporter": "python",
   "pygments_lexer": "ipython3",
   "version": "3.11.4"
  }
 },
 "nbformat": 4,
 "nbformat_minor": 5
}
