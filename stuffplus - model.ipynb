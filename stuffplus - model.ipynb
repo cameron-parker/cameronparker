{
 "cells": [
  {
   "cell_type": "code",
   "execution_count": 1,
   "id": "805e63dc",
   "metadata": {},
   "outputs": [],
   "source": [
    "import numpy as np\n",
    "import pandas as pd\n",
    "import matplotlib.pyplot as plt\n",
    "import seaborn as sns\n",
    "from sklearn.ensemble import RandomForestRegressor\n",
    "from sklearn.model_selection import train_test_split, cross_val_score\n",
    "from sklearn.tree import DecisionTreeRegressor\n",
    "from pathlib import Path\n",
    "import statsmodels.api as sm\n",
    "import glob\n",
    "import os\n",
    "import xgboost as xgb\n",
    "from xgboost import XGBRegressor\n",
    "from sklearn.metrics import mean_squared_error\n",
    "import matplotlib.patches as patches"
   ]
  },
  {
   "cell_type": "markdown",
   "id": "e7050c73",
   "metadata": {},
   "source": [
    "Stuff+ model trained on the 2023 NCAA baseball season, using all available games on Trackman."
   ]
  },
  {
   "cell_type": "code",
   "execution_count": 2,
   "id": "e87c6dd7",
   "metadata": {},
   "outputs": [],
   "source": [
    "data = pd.read_csv(r'2023NCAATrackman.csv', low_memory=False)"
   ]
  },
  {
   "cell_type": "code",
   "execution_count": 3,
   "id": "09420070",
   "metadata": {},
   "outputs": [],
   "source": [
    "df = data[['Pitcher', 'PitcherTeam', 'TaggedPitchType', 'PitchCall', 'TaggedHitType',\n",
    "           'PlayResult', 'RelSpeed', 'VertRelAngle', 'HorzRelAngle', 'SpinRate',\n",
    "           'SpinAxis', 'RelHeight', 'RelSide', 'Extension', 'InducedVertBreak', \n",
    "           'HorzBreak', 'ZoneSpeed', 'VertApprAngle', 'HorzApprAngle', 'EffectiveVelo', 'PlateLocSide', 'PlateLocHeight']]"
   ]
  },
  {
   "cell_type": "code",
   "execution_count": 4,
   "id": "ec91b5d2",
   "metadata": {},
   "outputs": [],
   "source": [
    "df = df.replace([np.inf, -np.inf], np.nan)\n",
    "df = df.dropna()\n",
    "df = df.reset_index()"
   ]
  },
  {
   "cell_type": "markdown",
   "metadata": {},
   "source": [
    "Adjust some of the variables so that they treat positive and negative the same - where it make sense to."
   ]
  },
  {
   "cell_type": "code",
   "execution_count": 5,
   "id": "1b5f35c4",
   "metadata": {},
   "outputs": [],
   "source": [
    "df.insert(6, \"DifferentialBreak\", df[\"InducedVertBreak\"] - df[\"HorzBreak\"].abs(), True)\n",
    "df.insert(10, \"ABSSideRelease\", df[\"RelSide\"].abs(), True)\n",
    "df.insert(11, 'ABSHorzBreak', df['HorzBreak'].abs(), True)"
   ]
  },
  {
   "cell_type": "markdown",
   "metadata": {},
   "source": [
    "Here are the run values used for this model."
   ]
  },
  {
   "cell_type": "code",
   "execution_count": 6,
   "id": "3b205a20",
   "metadata": {},
   "outputs": [],
   "source": [
    "home_run = 1.374328827219,\n",
    "triple = 1.05755624961515,\n",
    "double = 0.766083122898271,\n",
    "single = 0.467292970729251\n",
    "ball = 0.0636883289483747,\n",
    "hit_by_pitch = 0.0636883289483747,\n",
    "blocked_ball = 0.0636883289483747,\n",
    "foul = -0.0380502742575014,\n",
    "foul_tip = -0.0380502742575014,\n",
    "bunt_foul = -0.0380502742575014,\n",
    "bunt_foul_tip = -0.0380502742575014,\n",
    "called_strike = -0.065092516089806,\n",
    "swinging_strike = -0.118124935770601,\n",
    "swinging_strike_blocked = -0.118124935770601,\n",
    "force_out = -0.1955687665555,\n",
    "grounded_into_double_play = -0.1955687665555,\n",
    "fielders_choice_out = -0.1955687665555,\n",
    "fielders_choice = -0.1955687665555,\n",
    "field_out = -0.1955687665555,\n",
    "double_play = -0.1955687665555,\n",
    "Sac_fly = -0.236889645519856,\n",
    "field_error = -0.236889645519856,\n",
    "catcher_interf = -0.789788814378052\n",
    "sac_fly_double_play = -0.789788814378052\n",
    "triple_play = -0.789788814378052"
   ]
  },
  {
   "cell_type": "markdown",
   "metadata": {},
   "source": [
    "Next, the technique for assigning each pitch in the dataframe a run value."
   ]
  },
  {
   "cell_type": "code",
   "execution_count": 7,
   "id": "5abd6f1d",
   "metadata": {},
   "outputs": [],
   "source": [
    "df[\"in play\"] = df['PlayResult'] + ' ' + df['TaggedHitType']"
   ]
  },
  {
   "cell_type": "code",
   "execution_count": 8,
   "id": "e4bdc9d5",
   "metadata": {},
   "outputs": [],
   "source": [
    "inplay = df['PitchCall'] == 'InPlay'\n",
    "df.loc[inplay, 'PitchCall'] = df.loc[inplay, 'in play']"
   ]
  },
  {
   "cell_type": "code",
   "execution_count": 9,
   "id": "6fb54e12",
   "metadata": {},
   "outputs": [],
   "source": [
    "for index, row in df.iterrows():\n",
    "    if row['PitchCall'] == 'InPlay':\n",
    "        repval = row['in play']\n",
    "        df.at[index, 'PitchCall'] = repval"
   ]
  },
  {
   "cell_type": "code",
   "execution_count": 10,
   "id": "7abb566d",
   "metadata": {},
   "outputs": [],
   "source": [
    "repl = {'StrikeSwinging': 'swinging_strike', 'BallCalled': 'ball',\n",
    "       'FoulBall': 'foul', 'Out FlyBall': 'field_out', 'Single GroundBall': 'single',\n",
    "       'StrikeCalled': 'called_strike', 'Out Popup': 'field_out',\n",
    "       'Out GroundBall': 'field_out', 'Double FlyBall': 'double', \n",
    "       'BallinDirt': 'ball', 'HomeRune LineDrive': 'home_run', \n",
    "       'Out LineDrive': 'field_out', 'HitByPitch': 'hit_by_pitch', \n",
    "       'Single LineDrive': 'single', 'Double LineDrive': 'double',\n",
    "       'Error GroundBall': 'field_error', 'Sacrifice FlyBall': 'Sac_fly',\n",
    "       'HomeRun FlyBall': 'home_run', 'Double GroundBall': 'double', \n",
    "       'FieldersChoice GroundBall': 'fielders_choice', 'Single Bunt': 'single', \n",
    "       'Sacrifice Bunt': 'fielders_choice_out', 'Error Bunt': 'field_error', \n",
    "       'Single FlyBall': 'single', 'Sacrifice LineDrive': 'sac_fly', 'Out Bunt': 'field_out',\n",
    "       'Triple LineDrive': 'triple', 'Single Popup': 'single', 'Error Popup': 'field_error',\n",
    "       'Triple FlyBall': 'triple', 'Sacrifice Popup': 'sac_fly'}"
   ]
  },
  {
   "cell_type": "code",
   "execution_count": 11,
   "id": "ab2b3f15",
   "metadata": {},
   "outputs": [],
   "source": [
    "df['PitchCall'] = df['PitchCall'].replace(repl)"
   ]
  },
  {
   "cell_type": "code",
   "execution_count": 12,
   "id": "7d8d9119",
   "metadata": {},
   "outputs": [],
   "source": [
    "df[\"Run Values\"] = df[\"PitchCall\"].map({\n",
    "'home_run': 1.374328827219,\n",
    "'triple': 1.05755624961515,\n",
    "'double': 0.766083122898271,\n",
    "'single': 0.467292970729251,\n",
    "'ball': 0.0636883289483747,\n",
    "'hit_by_pitch': 0.0636883289483747,\n",
    "'blocked_ball': 0.0636883289483747,\n",
    "'foul': -0.0380502742575014,\n",
    "'foul_tip': -0.0380502742575014,\n",
    "'bunt_foul': -0.0380502742575014,\n",
    "'bunt_foul_tip': -0.0380502742575014,\n",
    "'called_strike': -0.065092516089806,\n",
    "'swinging_strike': -0.118124935770601,\n",
    "'swinging_strike_blocked': -0.118124935770601,\n",
    "'force_out': -0.1955687665555,\n",
    "'grounded_into_double_play': -0.1955687665555,\n",
    "'fielders_choice_out': -0.1955687665555,\n",
    "'fielders_choice': -0.1955687665555,\n",
    "'field_out': -0.1955687665555,\n",
    "'double_play': -0.1955687665555,\n",
    "'Sac_fly': -0.236889645519856,\n",
    "'field_error': -0.236889645519856,\n",
    "'catcher_interf': -0.789788814378052,\n",
    "'sac_fly_double_play': -0.789788814378052,\n",
    "'triple_play': -0.789788814378052\n",
    "                                       })"
   ]
  },
  {
   "cell_type": "code",
   "execution_count": 13,
   "id": "5171a3e6",
   "metadata": {},
   "outputs": [],
   "source": [
    "df = df.drop(['in play', 'PlayResult', 'PitchCall', 'TaggedHitType'], axis=1)"
   ]
  },
  {
   "cell_type": "code",
   "execution_count": 14,
   "id": "01420049",
   "metadata": {},
   "outputs": [],
   "source": [
    "df = df.drop(['index'], axis=1)"
   ]
  },
  {
   "cell_type": "code",
   "execution_count": 15,
   "id": "13e744da",
   "metadata": {},
   "outputs": [],
   "source": [
    "df.rename(columns = {'Run Values':'RV'}, inplace=True)"
   ]
  },
  {
   "cell_type": "code",
   "execution_count": 16,
   "id": "af7aa724",
   "metadata": {},
   "outputs": [],
   "source": [
    "#change the format of the pitchers' names:\n",
    "df['Pitcher'] = df['Pitcher'].str.split(' ', expand=True)[1] + ' ' + df['Pitcher'].str.split(' ', expand=True)[0]"
   ]
  },
  {
   "cell_type": "code",
   "execution_count": 17,
   "id": "ec3fee66",
   "metadata": {},
   "outputs": [],
   "source": [
    "df = df.replace(',','', regex=True)"
   ]
  },
  {
   "cell_type": "code",
   "execution_count": 18,
   "id": "f54b197a",
   "metadata": {},
   "outputs": [],
   "source": [
    "df = df.dropna()"
   ]
  },
  {
   "cell_type": "markdown",
   "metadata": {},
   "source": [
    "To train, I've subset the table by pitch type, splitting up each \"fastball\" variety as well as offspeed pitches and breaking balls.\n",
    "\n",
    "Tags on the Trackman games aren't always accurate, especially tags for the away team, but this will make do."
   ]
  },
  {
   "cell_type": "code",
   "execution_count": 19,
   "id": "6a4d3ca4",
   "metadata": {},
   "outputs": [],
   "source": [
    "dff = df[(df['TaggedPitchType'] == 'Fastball') | \n",
    "          (df['TaggedPitchType'] == 'FourSeamFastball')]\n",
    "dfc = df[df['TaggedPitchType'] == 'Cutter']\n",
    "dsk = df[(df['TaggedPitchType'] == 'TwoSeamFastball') |\n",
    "          (df['TaggedPitchType'] == 'Sinker')]\n",
    "dsl = df[df['TaggedPitchType'] == 'Slider']\n",
    "dch = df[df['TaggedPitchType'] == 'ChangeUp']\n",
    "dcb = df[df['TaggedPitchType'] == 'Curveball']\n",
    "dsp = df[df['TaggedPitchType'] == 'Splitter']"
   ]
  },
  {
   "cell_type": "code",
   "execution_count": 20,
   "id": "72d4f9d2",
   "metadata": {},
   "outputs": [],
   "source": [
    "X1 = dff[['DifferentialBreak', 'RelSpeed', 'VertRelAngle', 'ABSSideRelease', 'HorzRelAngle', 'SpinRate', 'SpinAxis', \n",
    "        'RelHeight', 'Extension', 'InducedVertBreak', 'ABSHorzBreak', 'VertApprAngle', 'HorzApprAngle', 'EffectiveVelo']]\n",
    "y1 = dff['RV']"
   ]
  },
  {
   "cell_type": "code",
   "execution_count": 21,
   "id": "a5e167be",
   "metadata": {},
   "outputs": [],
   "source": [
    "X2 = dfc[['DifferentialBreak', 'RelSpeed', 'VertRelAngle', 'ABSSideRelease', 'HorzRelAngle', 'SpinRate', 'SpinAxis', \n",
    "        'RelHeight', 'Extension', 'InducedVertBreak', 'ABSHorzBreak', 'VertApprAngle', 'HorzApprAngle', 'EffectiveVelo']]\n",
    "y2 = dfc['RV']"
   ]
  },
  {
   "cell_type": "code",
   "execution_count": 22,
   "id": "12300ea4",
   "metadata": {},
   "outputs": [],
   "source": [
    "X3 = dsk[['DifferentialBreak', 'RelSpeed', 'VertRelAngle', 'ABSSideRelease', 'HorzRelAngle', 'SpinRate', 'SpinAxis', \n",
    "        'RelHeight', 'Extension', 'InducedVertBreak', 'ABSHorzBreak', 'VertApprAngle', 'HorzApprAngle', 'EffectiveVelo']]\n",
    "y3 = dsk['RV']"
   ]
  },
  {
   "cell_type": "code",
   "execution_count": 23,
   "id": "d9aa2a5f",
   "metadata": {},
   "outputs": [],
   "source": [
    "X4 = dsl[['DifferentialBreak', 'RelSpeed', 'VertRelAngle', 'ABSSideRelease', 'HorzRelAngle', 'SpinRate', 'SpinAxis', \n",
    "        'RelHeight', 'Extension', 'InducedVertBreak', 'ABSHorzBreak', 'VertApprAngle', 'HorzApprAngle', 'EffectiveVelo']]\n",
    "y4 = dsl['RV']"
   ]
  },
  {
   "cell_type": "code",
   "execution_count": 24,
   "id": "fefec8e5",
   "metadata": {},
   "outputs": [],
   "source": [
    "X5 = dch[['DifferentialBreak', 'RelSpeed', 'VertRelAngle', 'ABSSideRelease', 'HorzRelAngle', 'SpinRate', 'SpinAxis', \n",
    "        'RelHeight', 'Extension', 'InducedVertBreak', 'ABSHorzBreak', 'VertApprAngle', 'HorzApprAngle', 'EffectiveVelo']]\n",
    "y5 = dch['RV']"
   ]
  },
  {
   "cell_type": "code",
   "execution_count": 25,
   "id": "a6bc3e15",
   "metadata": {},
   "outputs": [],
   "source": [
    "X6 = dcb[['DifferentialBreak', 'RelSpeed', 'VertRelAngle', 'ABSSideRelease', 'HorzRelAngle', 'SpinRate', 'SpinAxis', \n",
    "        'RelHeight', 'Extension', 'InducedVertBreak', 'ABSHorzBreak', 'VertApprAngle', 'HorzApprAngle', 'EffectiveVelo']]\n",
    "y6 = dcb['RV']"
   ]
  },
  {
   "cell_type": "code",
   "execution_count": 26,
   "id": "05731059",
   "metadata": {},
   "outputs": [],
   "source": [
    "X7 = dsp[['DifferentialBreak', 'RelSpeed', 'VertRelAngle', 'ABSSideRelease', 'HorzRelAngle', 'SpinRate', 'SpinAxis', \n",
    "        'RelHeight', 'Extension', 'InducedVertBreak', 'ABSHorzBreak', 'VertApprAngle', 'HorzApprAngle', 'EffectiveVelo']]\n",
    "y7 = dsp['RV']"
   ]
  },
  {
   "cell_type": "code",
   "execution_count": 27,
   "id": "e7bab43c",
   "metadata": {},
   "outputs": [],
   "source": [
    "#Split data into training and testing sets\n",
    "X1_train, X1_test, y1_train, y1_test = train_test_split(X1, y1, test_size=0.25, random_state=0)\n",
    "X2_train, X2_test, y2_train, y2_test = train_test_split(X2, y2, test_size=0.25, random_state=0)\n",
    "X3_train, X3_test, y3_train, y3_test = train_test_split(X3, y3, test_size=0.25, random_state=0)\n",
    "X4_train, X4_test, y4_train, y4_test = train_test_split(X4, y4, test_size=0.25, random_state=0)\n",
    "X5_train, X5_test, y5_train, y5_test = train_test_split(X5, y5, test_size=0.25, random_state=0)\n",
    "X6_train, X6_test, y6_train, y6_test = train_test_split(X6, y6, test_size=0.25, random_state=0)\n",
    "X7_train, X7_test, y7_train, y7_test = train_test_split(X7, y7, test_size=0.25, random_state=0)"
   ]
  },
  {
   "cell_type": "markdown",
   "metadata": {},
   "source": [
    "The method for each pitch type subset:\n",
    "1. fit the model with scikit-learn's random forest and XGBoost\n",
    "2. obtain the list of feature importances, to help contextualize the model's predictions\n",
    "3. the predicted run value used is the average of each prediction method"
   ]
  },
  {
   "cell_type": "code",
   "execution_count": 28,
   "id": "b39609f8",
   "metadata": {},
   "outputs": [
    {
     "data": {
      "text/html": [
       "<style>#sk-container-id-1 {color: black;}#sk-container-id-1 pre{padding: 0;}#sk-container-id-1 div.sk-toggleable {background-color: white;}#sk-container-id-1 label.sk-toggleable__label {cursor: pointer;display: block;width: 100%;margin-bottom: 0;padding: 0.3em;box-sizing: border-box;text-align: center;}#sk-container-id-1 label.sk-toggleable__label-arrow:before {content: \"▸\";float: left;margin-right: 0.25em;color: #696969;}#sk-container-id-1 label.sk-toggleable__label-arrow:hover:before {color: black;}#sk-container-id-1 div.sk-estimator:hover label.sk-toggleable__label-arrow:before {color: black;}#sk-container-id-1 div.sk-toggleable__content {max-height: 0;max-width: 0;overflow: hidden;text-align: left;background-color: #f0f8ff;}#sk-container-id-1 div.sk-toggleable__content pre {margin: 0.2em;color: black;border-radius: 0.25em;background-color: #f0f8ff;}#sk-container-id-1 input.sk-toggleable__control:checked~div.sk-toggleable__content {max-height: 200px;max-width: 100%;overflow: auto;}#sk-container-id-1 input.sk-toggleable__control:checked~label.sk-toggleable__label-arrow:before {content: \"▾\";}#sk-container-id-1 div.sk-estimator input.sk-toggleable__control:checked~label.sk-toggleable__label {background-color: #d4ebff;}#sk-container-id-1 div.sk-label input.sk-toggleable__control:checked~label.sk-toggleable__label {background-color: #d4ebff;}#sk-container-id-1 input.sk-hidden--visually {border: 0;clip: rect(1px 1px 1px 1px);clip: rect(1px, 1px, 1px, 1px);height: 1px;margin: -1px;overflow: hidden;padding: 0;position: absolute;width: 1px;}#sk-container-id-1 div.sk-estimator {font-family: monospace;background-color: #f0f8ff;border: 1px dotted black;border-radius: 0.25em;box-sizing: border-box;margin-bottom: 0.5em;}#sk-container-id-1 div.sk-estimator:hover {background-color: #d4ebff;}#sk-container-id-1 div.sk-parallel-item::after {content: \"\";width: 100%;border-bottom: 1px solid gray;flex-grow: 1;}#sk-container-id-1 div.sk-label:hover label.sk-toggleable__label {background-color: #d4ebff;}#sk-container-id-1 div.sk-serial::before {content: \"\";position: absolute;border-left: 1px solid gray;box-sizing: border-box;top: 0;bottom: 0;left: 50%;z-index: 0;}#sk-container-id-1 div.sk-serial {display: flex;flex-direction: column;align-items: center;background-color: white;padding-right: 0.2em;padding-left: 0.2em;position: relative;}#sk-container-id-1 div.sk-item {position: relative;z-index: 1;}#sk-container-id-1 div.sk-parallel {display: flex;align-items: stretch;justify-content: center;background-color: white;position: relative;}#sk-container-id-1 div.sk-item::before, #sk-container-id-1 div.sk-parallel-item::before {content: \"\";position: absolute;border-left: 1px solid gray;box-sizing: border-box;top: 0;bottom: 0;left: 50%;z-index: -1;}#sk-container-id-1 div.sk-parallel-item {display: flex;flex-direction: column;z-index: 1;position: relative;background-color: white;}#sk-container-id-1 div.sk-parallel-item:first-child::after {align-self: flex-end;width: 50%;}#sk-container-id-1 div.sk-parallel-item:last-child::after {align-self: flex-start;width: 50%;}#sk-container-id-1 div.sk-parallel-item:only-child::after {width: 0;}#sk-container-id-1 div.sk-dashed-wrapped {border: 1px dashed gray;margin: 0 0.4em 0.5em 0.4em;box-sizing: border-box;padding-bottom: 0.4em;background-color: white;}#sk-container-id-1 div.sk-label label {font-family: monospace;font-weight: bold;display: inline-block;line-height: 1.2em;}#sk-container-id-1 div.sk-label-container {text-align: center;}#sk-container-id-1 div.sk-container {/* jupyter's `normalize.less` sets `[hidden] { display: none; }` but bootstrap.min.css set `[hidden] { display: none !important; }` so we also need the `!important` here to be able to override the default hidden behavior on the sphinx rendered scikit-learn.org. See: https://github.com/scikit-learn/scikit-learn/issues/21755 */display: inline-block !important;position: relative;}#sk-container-id-1 div.sk-text-repr-fallback {display: none;}</style><div id=\"sk-container-id-1\" class=\"sk-top-container\"><div class=\"sk-text-repr-fallback\"><pre>RandomForestRegressor(max_depth=10, n_estimators=10)</pre><b>In a Jupyter environment, please rerun this cell to show the HTML representation or trust the notebook. <br />On GitHub, the HTML representation is unable to render, please try loading this page with nbviewer.org.</b></div><div class=\"sk-container\" hidden><div class=\"sk-item\"><div class=\"sk-estimator sk-toggleable\"><input class=\"sk-toggleable__control sk-hidden--visually\" id=\"sk-estimator-id-1\" type=\"checkbox\" checked><label for=\"sk-estimator-id-1\" class=\"sk-toggleable__label sk-toggleable__label-arrow\">RandomForestRegressor</label><div class=\"sk-toggleable__content\"><pre>RandomForestRegressor(max_depth=10, n_estimators=10)</pre></div></div></div></div></div>"
      ],
      "text/plain": [
       "RandomForestRegressor(max_depth=10, n_estimators=10)"
      ]
     },
     "execution_count": 28,
     "metadata": {},
     "output_type": "execute_result"
    }
   ],
   "source": [
    "#fastball randomforest\n",
    "rfr1 = RandomForestRegressor(n_estimators=10, max_depth=10)\n",
    "rfr1.fit(X1_train, y1_train)"
   ]
  },
  {
   "cell_type": "code",
   "execution_count": 29,
   "id": "c73bf080",
   "metadata": {},
   "outputs": [
    {
     "data": {
      "text/html": [
       "<style>#sk-container-id-2 {color: black;}#sk-container-id-2 pre{padding: 0;}#sk-container-id-2 div.sk-toggleable {background-color: white;}#sk-container-id-2 label.sk-toggleable__label {cursor: pointer;display: block;width: 100%;margin-bottom: 0;padding: 0.3em;box-sizing: border-box;text-align: center;}#sk-container-id-2 label.sk-toggleable__label-arrow:before {content: \"▸\";float: left;margin-right: 0.25em;color: #696969;}#sk-container-id-2 label.sk-toggleable__label-arrow:hover:before {color: black;}#sk-container-id-2 div.sk-estimator:hover label.sk-toggleable__label-arrow:before {color: black;}#sk-container-id-2 div.sk-toggleable__content {max-height: 0;max-width: 0;overflow: hidden;text-align: left;background-color: #f0f8ff;}#sk-container-id-2 div.sk-toggleable__content pre {margin: 0.2em;color: black;border-radius: 0.25em;background-color: #f0f8ff;}#sk-container-id-2 input.sk-toggleable__control:checked~div.sk-toggleable__content {max-height: 200px;max-width: 100%;overflow: auto;}#sk-container-id-2 input.sk-toggleable__control:checked~label.sk-toggleable__label-arrow:before {content: \"▾\";}#sk-container-id-2 div.sk-estimator input.sk-toggleable__control:checked~label.sk-toggleable__label {background-color: #d4ebff;}#sk-container-id-2 div.sk-label input.sk-toggleable__control:checked~label.sk-toggleable__label {background-color: #d4ebff;}#sk-container-id-2 input.sk-hidden--visually {border: 0;clip: rect(1px 1px 1px 1px);clip: rect(1px, 1px, 1px, 1px);height: 1px;margin: -1px;overflow: hidden;padding: 0;position: absolute;width: 1px;}#sk-container-id-2 div.sk-estimator {font-family: monospace;background-color: #f0f8ff;border: 1px dotted black;border-radius: 0.25em;box-sizing: border-box;margin-bottom: 0.5em;}#sk-container-id-2 div.sk-estimator:hover {background-color: #d4ebff;}#sk-container-id-2 div.sk-parallel-item::after {content: \"\";width: 100%;border-bottom: 1px solid gray;flex-grow: 1;}#sk-container-id-2 div.sk-label:hover label.sk-toggleable__label {background-color: #d4ebff;}#sk-container-id-2 div.sk-serial::before {content: \"\";position: absolute;border-left: 1px solid gray;box-sizing: border-box;top: 0;bottom: 0;left: 50%;z-index: 0;}#sk-container-id-2 div.sk-serial {display: flex;flex-direction: column;align-items: center;background-color: white;padding-right: 0.2em;padding-left: 0.2em;position: relative;}#sk-container-id-2 div.sk-item {position: relative;z-index: 1;}#sk-container-id-2 div.sk-parallel {display: flex;align-items: stretch;justify-content: center;background-color: white;position: relative;}#sk-container-id-2 div.sk-item::before, #sk-container-id-2 div.sk-parallel-item::before {content: \"\";position: absolute;border-left: 1px solid gray;box-sizing: border-box;top: 0;bottom: 0;left: 50%;z-index: -1;}#sk-container-id-2 div.sk-parallel-item {display: flex;flex-direction: column;z-index: 1;position: relative;background-color: white;}#sk-container-id-2 div.sk-parallel-item:first-child::after {align-self: flex-end;width: 50%;}#sk-container-id-2 div.sk-parallel-item:last-child::after {align-self: flex-start;width: 50%;}#sk-container-id-2 div.sk-parallel-item:only-child::after {width: 0;}#sk-container-id-2 div.sk-dashed-wrapped {border: 1px dashed gray;margin: 0 0.4em 0.5em 0.4em;box-sizing: border-box;padding-bottom: 0.4em;background-color: white;}#sk-container-id-2 div.sk-label label {font-family: monospace;font-weight: bold;display: inline-block;line-height: 1.2em;}#sk-container-id-2 div.sk-label-container {text-align: center;}#sk-container-id-2 div.sk-container {/* jupyter's `normalize.less` sets `[hidden] { display: none; }` but bootstrap.min.css set `[hidden] { display: none !important; }` so we also need the `!important` here to be able to override the default hidden behavior on the sphinx rendered scikit-learn.org. See: https://github.com/scikit-learn/scikit-learn/issues/21755 */display: inline-block !important;position: relative;}#sk-container-id-2 div.sk-text-repr-fallback {display: none;}</style><div id=\"sk-container-id-2\" class=\"sk-top-container\"><div class=\"sk-text-repr-fallback\"><pre>XGBRegressor(base_score=None, booster=None, callbacks=None,\n",
       "             colsample_bylevel=None, colsample_bynode=None,\n",
       "             colsample_bytree=None, early_stopping_rounds=None,\n",
       "             enable_categorical=False, eval_metric=None, feature_types=None,\n",
       "             gamma=None, gpu_id=None, grow_policy=None, importance_type=None,\n",
       "             interaction_constraints=None, learning_rate=None, max_bin=None,\n",
       "             max_cat_threshold=None, max_cat_to_onehot=None,\n",
       "             max_delta_step=None, max_depth=None, max_leaves=None,\n",
       "             min_child_weight=None, missing=nan, monotone_constraints=None,\n",
       "             n_estimators=100, n_jobs=None, num_parallel_tree=None,\n",
       "             predictor=None, random_state=None, ...)</pre><b>In a Jupyter environment, please rerun this cell to show the HTML representation or trust the notebook. <br />On GitHub, the HTML representation is unable to render, please try loading this page with nbviewer.org.</b></div><div class=\"sk-container\" hidden><div class=\"sk-item\"><div class=\"sk-estimator sk-toggleable\"><input class=\"sk-toggleable__control sk-hidden--visually\" id=\"sk-estimator-id-2\" type=\"checkbox\" checked><label for=\"sk-estimator-id-2\" class=\"sk-toggleable__label sk-toggleable__label-arrow\">XGBRegressor</label><div class=\"sk-toggleable__content\"><pre>XGBRegressor(base_score=None, booster=None, callbacks=None,\n",
       "             colsample_bylevel=None, colsample_bynode=None,\n",
       "             colsample_bytree=None, early_stopping_rounds=None,\n",
       "             enable_categorical=False, eval_metric=None, feature_types=None,\n",
       "             gamma=None, gpu_id=None, grow_policy=None, importance_type=None,\n",
       "             interaction_constraints=None, learning_rate=None, max_bin=None,\n",
       "             max_cat_threshold=None, max_cat_to_onehot=None,\n",
       "             max_delta_step=None, max_depth=None, max_leaves=None,\n",
       "             min_child_weight=None, missing=nan, monotone_constraints=None,\n",
       "             n_estimators=100, n_jobs=None, num_parallel_tree=None,\n",
       "             predictor=None, random_state=None, ...)</pre></div></div></div></div></div>"
      ],
      "text/plain": [
       "XGBRegressor(base_score=None, booster=None, callbacks=None,\n",
       "             colsample_bylevel=None, colsample_bynode=None,\n",
       "             colsample_bytree=None, early_stopping_rounds=None,\n",
       "             enable_categorical=False, eval_metric=None, feature_types=None,\n",
       "             gamma=None, gpu_id=None, grow_policy=None, importance_type=None,\n",
       "             interaction_constraints=None, learning_rate=None, max_bin=None,\n",
       "             max_cat_threshold=None, max_cat_to_onehot=None,\n",
       "             max_delta_step=None, max_depth=None, max_leaves=None,\n",
       "             min_child_weight=None, missing=nan, monotone_constraints=None,\n",
       "             n_estimators=100, n_jobs=None, num_parallel_tree=None,\n",
       "             predictor=None, random_state=None, ...)"
      ]
     },
     "execution_count": 29,
     "metadata": {},
     "output_type": "execute_result"
    }
   ],
   "source": [
    "#fastball xgboost\n",
    "xgb_model1 = XGBRegressor()\n",
    "xgb_model1.fit(X1_train, y1_train)"
   ]
  },
  {
   "cell_type": "code",
   "execution_count": 30,
   "id": "776e4384",
   "metadata": {},
   "outputs": [],
   "source": [
    "#fastball feature importances\n",
    "feature_importances1r = pd.DataFrame(rfr1.feature_importances_, index = X1_train.columns, columns=['importance']).sort_values('importance', ascending=False)\n",
    "feature_importances1x = pd.DataFrame(xgb_model1.feature_importances_, index = X1_train.columns, columns=['importance']).sort_values('importance', ascending=False)\n",
    "feature_importances1 = feature_importances1x.join(feature_importances1r,  how='outer', lsuffix='_xgb', rsuffix='_rf')\n",
    "feature_importances1['mean_importance_FF'] = (feature_importances1['importance_xgb'] + feature_importances1['importance_rf']) / 2\n",
    "feature_importances1 = feature_importances1.sort_values(by='mean_importance_FF', ascending=False).drop(['importance_xgb', 'importance_rf'], axis=1).reset_index()"
   ]
  },
  {
   "cell_type": "code",
   "execution_count": 31,
   "id": "227f12ae",
   "metadata": {},
   "outputs": [
    {
     "name": "stderr",
     "output_type": "stream",
     "text": [
      "C:\\Users\\parke\\AppData\\Local\\Temp\\ipykernel_11100\\1419107988.py:1: SettingWithCopyWarning: \n",
      "A value is trying to be set on a copy of a slice from a DataFrame.\n",
      "Try using .loc[row_indexer,col_indexer] = value instead\n",
      "\n",
      "See the caveats in the documentation: https://pandas.pydata.org/pandas-docs/stable/user_guide/indexing.html#returning-a-view-versus-a-copy\n",
      "  dff['rfPredictRV'] = rfr1.predict(X1)\n"
     ]
    }
   ],
   "source": [
    "dff['rfPredictRV'] = rfr1.predict(X1)"
   ]
  },
  {
   "cell_type": "code",
   "execution_count": 32,
   "id": "76e4d017",
   "metadata": {},
   "outputs": [
    {
     "name": "stderr",
     "output_type": "stream",
     "text": [
      "C:\\Users\\parke\\AppData\\Local\\Temp\\ipykernel_11100\\2069723281.py:1: SettingWithCopyWarning: \n",
      "A value is trying to be set on a copy of a slice from a DataFrame.\n",
      "Try using .loc[row_indexer,col_indexer] = value instead\n",
      "\n",
      "See the caveats in the documentation: https://pandas.pydata.org/pandas-docs/stable/user_guide/indexing.html#returning-a-view-versus-a-copy\n",
      "  dff['xgPredictRV'] = xgb_model1.predict(X1)\n"
     ]
    }
   ],
   "source": [
    "dff['xgPredictRV'] = xgb_model1.predict(X1)"
   ]
  },
  {
   "cell_type": "code",
   "execution_count": 33,
   "id": "2f40ef4d",
   "metadata": {},
   "outputs": [
    {
     "name": "stderr",
     "output_type": "stream",
     "text": [
      "C:\\Users\\parke\\AppData\\Local\\Temp\\ipykernel_11100\\339207183.py:1: SettingWithCopyWarning: \n",
      "A value is trying to be set on a copy of a slice from a DataFrame.\n",
      "Try using .loc[row_indexer,col_indexer] = value instead\n",
      "\n",
      "See the caveats in the documentation: https://pandas.pydata.org/pandas-docs/stable/user_guide/indexing.html#returning-a-view-versus-a-copy\n",
      "  dff['xRV'] = (dff['rfPredictRV'] + dff['xgPredictRV']) / 2\n"
     ]
    }
   ],
   "source": [
    "dff['xRV'] = (dff['rfPredictRV'] + dff['xgPredictRV']) / 2"
   ]
  },
  {
   "cell_type": "code",
   "execution_count": 34,
   "id": "4c3da3f6",
   "metadata": {},
   "outputs": [
    {
     "data": {
      "text/html": [
       "<style>#sk-container-id-3 {color: black;}#sk-container-id-3 pre{padding: 0;}#sk-container-id-3 div.sk-toggleable {background-color: white;}#sk-container-id-3 label.sk-toggleable__label {cursor: pointer;display: block;width: 100%;margin-bottom: 0;padding: 0.3em;box-sizing: border-box;text-align: center;}#sk-container-id-3 label.sk-toggleable__label-arrow:before {content: \"▸\";float: left;margin-right: 0.25em;color: #696969;}#sk-container-id-3 label.sk-toggleable__label-arrow:hover:before {color: black;}#sk-container-id-3 div.sk-estimator:hover label.sk-toggleable__label-arrow:before {color: black;}#sk-container-id-3 div.sk-toggleable__content {max-height: 0;max-width: 0;overflow: hidden;text-align: left;background-color: #f0f8ff;}#sk-container-id-3 div.sk-toggleable__content pre {margin: 0.2em;color: black;border-radius: 0.25em;background-color: #f0f8ff;}#sk-container-id-3 input.sk-toggleable__control:checked~div.sk-toggleable__content {max-height: 200px;max-width: 100%;overflow: auto;}#sk-container-id-3 input.sk-toggleable__control:checked~label.sk-toggleable__label-arrow:before {content: \"▾\";}#sk-container-id-3 div.sk-estimator input.sk-toggleable__control:checked~label.sk-toggleable__label {background-color: #d4ebff;}#sk-container-id-3 div.sk-label input.sk-toggleable__control:checked~label.sk-toggleable__label {background-color: #d4ebff;}#sk-container-id-3 input.sk-hidden--visually {border: 0;clip: rect(1px 1px 1px 1px);clip: rect(1px, 1px, 1px, 1px);height: 1px;margin: -1px;overflow: hidden;padding: 0;position: absolute;width: 1px;}#sk-container-id-3 div.sk-estimator {font-family: monospace;background-color: #f0f8ff;border: 1px dotted black;border-radius: 0.25em;box-sizing: border-box;margin-bottom: 0.5em;}#sk-container-id-3 div.sk-estimator:hover {background-color: #d4ebff;}#sk-container-id-3 div.sk-parallel-item::after {content: \"\";width: 100%;border-bottom: 1px solid gray;flex-grow: 1;}#sk-container-id-3 div.sk-label:hover label.sk-toggleable__label {background-color: #d4ebff;}#sk-container-id-3 div.sk-serial::before {content: \"\";position: absolute;border-left: 1px solid gray;box-sizing: border-box;top: 0;bottom: 0;left: 50%;z-index: 0;}#sk-container-id-3 div.sk-serial {display: flex;flex-direction: column;align-items: center;background-color: white;padding-right: 0.2em;padding-left: 0.2em;position: relative;}#sk-container-id-3 div.sk-item {position: relative;z-index: 1;}#sk-container-id-3 div.sk-parallel {display: flex;align-items: stretch;justify-content: center;background-color: white;position: relative;}#sk-container-id-3 div.sk-item::before, #sk-container-id-3 div.sk-parallel-item::before {content: \"\";position: absolute;border-left: 1px solid gray;box-sizing: border-box;top: 0;bottom: 0;left: 50%;z-index: -1;}#sk-container-id-3 div.sk-parallel-item {display: flex;flex-direction: column;z-index: 1;position: relative;background-color: white;}#sk-container-id-3 div.sk-parallel-item:first-child::after {align-self: flex-end;width: 50%;}#sk-container-id-3 div.sk-parallel-item:last-child::after {align-self: flex-start;width: 50%;}#sk-container-id-3 div.sk-parallel-item:only-child::after {width: 0;}#sk-container-id-3 div.sk-dashed-wrapped {border: 1px dashed gray;margin: 0 0.4em 0.5em 0.4em;box-sizing: border-box;padding-bottom: 0.4em;background-color: white;}#sk-container-id-3 div.sk-label label {font-family: monospace;font-weight: bold;display: inline-block;line-height: 1.2em;}#sk-container-id-3 div.sk-label-container {text-align: center;}#sk-container-id-3 div.sk-container {/* jupyter's `normalize.less` sets `[hidden] { display: none; }` but bootstrap.min.css set `[hidden] { display: none !important; }` so we also need the `!important` here to be able to override the default hidden behavior on the sphinx rendered scikit-learn.org. See: https://github.com/scikit-learn/scikit-learn/issues/21755 */display: inline-block !important;position: relative;}#sk-container-id-3 div.sk-text-repr-fallback {display: none;}</style><div id=\"sk-container-id-3\" class=\"sk-top-container\"><div class=\"sk-text-repr-fallback\"><pre>RandomForestRegressor(max_depth=10, n_estimators=10)</pre><b>In a Jupyter environment, please rerun this cell to show the HTML representation or trust the notebook. <br />On GitHub, the HTML representation is unable to render, please try loading this page with nbviewer.org.</b></div><div class=\"sk-container\" hidden><div class=\"sk-item\"><div class=\"sk-estimator sk-toggleable\"><input class=\"sk-toggleable__control sk-hidden--visually\" id=\"sk-estimator-id-3\" type=\"checkbox\" checked><label for=\"sk-estimator-id-3\" class=\"sk-toggleable__label sk-toggleable__label-arrow\">RandomForestRegressor</label><div class=\"sk-toggleable__content\"><pre>RandomForestRegressor(max_depth=10, n_estimators=10)</pre></div></div></div></div></div>"
      ],
      "text/plain": [
       "RandomForestRegressor(max_depth=10, n_estimators=10)"
      ]
     },
     "execution_count": 34,
     "metadata": {},
     "output_type": "execute_result"
    }
   ],
   "source": [
    "#cutter randomforest\n",
    "rfr2 = RandomForestRegressor(n_estimators=10, max_depth=10)\n",
    "rfr2.fit(X2_train, y2_train)"
   ]
  },
  {
   "cell_type": "code",
   "execution_count": 35,
   "id": "f4d27f66",
   "metadata": {},
   "outputs": [
    {
     "data": {
      "text/html": [
       "<style>#sk-container-id-4 {color: black;}#sk-container-id-4 pre{padding: 0;}#sk-container-id-4 div.sk-toggleable {background-color: white;}#sk-container-id-4 label.sk-toggleable__label {cursor: pointer;display: block;width: 100%;margin-bottom: 0;padding: 0.3em;box-sizing: border-box;text-align: center;}#sk-container-id-4 label.sk-toggleable__label-arrow:before {content: \"▸\";float: left;margin-right: 0.25em;color: #696969;}#sk-container-id-4 label.sk-toggleable__label-arrow:hover:before {color: black;}#sk-container-id-4 div.sk-estimator:hover label.sk-toggleable__label-arrow:before {color: black;}#sk-container-id-4 div.sk-toggleable__content {max-height: 0;max-width: 0;overflow: hidden;text-align: left;background-color: #f0f8ff;}#sk-container-id-4 div.sk-toggleable__content pre {margin: 0.2em;color: black;border-radius: 0.25em;background-color: #f0f8ff;}#sk-container-id-4 input.sk-toggleable__control:checked~div.sk-toggleable__content {max-height: 200px;max-width: 100%;overflow: auto;}#sk-container-id-4 input.sk-toggleable__control:checked~label.sk-toggleable__label-arrow:before {content: \"▾\";}#sk-container-id-4 div.sk-estimator input.sk-toggleable__control:checked~label.sk-toggleable__label {background-color: #d4ebff;}#sk-container-id-4 div.sk-label input.sk-toggleable__control:checked~label.sk-toggleable__label {background-color: #d4ebff;}#sk-container-id-4 input.sk-hidden--visually {border: 0;clip: rect(1px 1px 1px 1px);clip: rect(1px, 1px, 1px, 1px);height: 1px;margin: -1px;overflow: hidden;padding: 0;position: absolute;width: 1px;}#sk-container-id-4 div.sk-estimator {font-family: monospace;background-color: #f0f8ff;border: 1px dotted black;border-radius: 0.25em;box-sizing: border-box;margin-bottom: 0.5em;}#sk-container-id-4 div.sk-estimator:hover {background-color: #d4ebff;}#sk-container-id-4 div.sk-parallel-item::after {content: \"\";width: 100%;border-bottom: 1px solid gray;flex-grow: 1;}#sk-container-id-4 div.sk-label:hover label.sk-toggleable__label {background-color: #d4ebff;}#sk-container-id-4 div.sk-serial::before {content: \"\";position: absolute;border-left: 1px solid gray;box-sizing: border-box;top: 0;bottom: 0;left: 50%;z-index: 0;}#sk-container-id-4 div.sk-serial {display: flex;flex-direction: column;align-items: center;background-color: white;padding-right: 0.2em;padding-left: 0.2em;position: relative;}#sk-container-id-4 div.sk-item {position: relative;z-index: 1;}#sk-container-id-4 div.sk-parallel {display: flex;align-items: stretch;justify-content: center;background-color: white;position: relative;}#sk-container-id-4 div.sk-item::before, #sk-container-id-4 div.sk-parallel-item::before {content: \"\";position: absolute;border-left: 1px solid gray;box-sizing: border-box;top: 0;bottom: 0;left: 50%;z-index: -1;}#sk-container-id-4 div.sk-parallel-item {display: flex;flex-direction: column;z-index: 1;position: relative;background-color: white;}#sk-container-id-4 div.sk-parallel-item:first-child::after {align-self: flex-end;width: 50%;}#sk-container-id-4 div.sk-parallel-item:last-child::after {align-self: flex-start;width: 50%;}#sk-container-id-4 div.sk-parallel-item:only-child::after {width: 0;}#sk-container-id-4 div.sk-dashed-wrapped {border: 1px dashed gray;margin: 0 0.4em 0.5em 0.4em;box-sizing: border-box;padding-bottom: 0.4em;background-color: white;}#sk-container-id-4 div.sk-label label {font-family: monospace;font-weight: bold;display: inline-block;line-height: 1.2em;}#sk-container-id-4 div.sk-label-container {text-align: center;}#sk-container-id-4 div.sk-container {/* jupyter's `normalize.less` sets `[hidden] { display: none; }` but bootstrap.min.css set `[hidden] { display: none !important; }` so we also need the `!important` here to be able to override the default hidden behavior on the sphinx rendered scikit-learn.org. See: https://github.com/scikit-learn/scikit-learn/issues/21755 */display: inline-block !important;position: relative;}#sk-container-id-4 div.sk-text-repr-fallback {display: none;}</style><div id=\"sk-container-id-4\" class=\"sk-top-container\"><div class=\"sk-text-repr-fallback\"><pre>XGBRegressor(base_score=None, booster=None, callbacks=None,\n",
       "             colsample_bylevel=None, colsample_bynode=None,\n",
       "             colsample_bytree=None, early_stopping_rounds=None,\n",
       "             enable_categorical=False, eval_metric=None, feature_types=None,\n",
       "             gamma=None, gpu_id=None, grow_policy=None, importance_type=None,\n",
       "             interaction_constraints=None, learning_rate=None, max_bin=None,\n",
       "             max_cat_threshold=None, max_cat_to_onehot=None,\n",
       "             max_delta_step=None, max_depth=None, max_leaves=None,\n",
       "             min_child_weight=None, missing=nan, monotone_constraints=None,\n",
       "             n_estimators=100, n_jobs=None, num_parallel_tree=None,\n",
       "             predictor=None, random_state=None, ...)</pre><b>In a Jupyter environment, please rerun this cell to show the HTML representation or trust the notebook. <br />On GitHub, the HTML representation is unable to render, please try loading this page with nbviewer.org.</b></div><div class=\"sk-container\" hidden><div class=\"sk-item\"><div class=\"sk-estimator sk-toggleable\"><input class=\"sk-toggleable__control sk-hidden--visually\" id=\"sk-estimator-id-4\" type=\"checkbox\" checked><label for=\"sk-estimator-id-4\" class=\"sk-toggleable__label sk-toggleable__label-arrow\">XGBRegressor</label><div class=\"sk-toggleable__content\"><pre>XGBRegressor(base_score=None, booster=None, callbacks=None,\n",
       "             colsample_bylevel=None, colsample_bynode=None,\n",
       "             colsample_bytree=None, early_stopping_rounds=None,\n",
       "             enable_categorical=False, eval_metric=None, feature_types=None,\n",
       "             gamma=None, gpu_id=None, grow_policy=None, importance_type=None,\n",
       "             interaction_constraints=None, learning_rate=None, max_bin=None,\n",
       "             max_cat_threshold=None, max_cat_to_onehot=None,\n",
       "             max_delta_step=None, max_depth=None, max_leaves=None,\n",
       "             min_child_weight=None, missing=nan, monotone_constraints=None,\n",
       "             n_estimators=100, n_jobs=None, num_parallel_tree=None,\n",
       "             predictor=None, random_state=None, ...)</pre></div></div></div></div></div>"
      ],
      "text/plain": [
       "XGBRegressor(base_score=None, booster=None, callbacks=None,\n",
       "             colsample_bylevel=None, colsample_bynode=None,\n",
       "             colsample_bytree=None, early_stopping_rounds=None,\n",
       "             enable_categorical=False, eval_metric=None, feature_types=None,\n",
       "             gamma=None, gpu_id=None, grow_policy=None, importance_type=None,\n",
       "             interaction_constraints=None, learning_rate=None, max_bin=None,\n",
       "             max_cat_threshold=None, max_cat_to_onehot=None,\n",
       "             max_delta_step=None, max_depth=None, max_leaves=None,\n",
       "             min_child_weight=None, missing=nan, monotone_constraints=None,\n",
       "             n_estimators=100, n_jobs=None, num_parallel_tree=None,\n",
       "             predictor=None, random_state=None, ...)"
      ]
     },
     "execution_count": 35,
     "metadata": {},
     "output_type": "execute_result"
    }
   ],
   "source": [
    "#cutter xgboost\n",
    "xgb_model2 = XGBRegressor()\n",
    "xgb_model2.fit(X2_train, y2_train)"
   ]
  },
  {
   "cell_type": "code",
   "execution_count": 36,
   "id": "e54e9b91",
   "metadata": {},
   "outputs": [],
   "source": [
    "#cutter feature importances\n",
    "feature_importances2r = pd.DataFrame(rfr2.feature_importances_, index = X2_train.columns, columns=['importance']).sort_values('importance', ascending=False)\n",
    "feature_importances2x = pd.DataFrame(xgb_model2.feature_importances_, index = X2_train.columns, columns=['importance']).sort_values('importance', ascending=False)\n",
    "feature_importances2 = feature_importances2x.join(feature_importances2r,  how='outer', lsuffix='_xgb', rsuffix='_rf')\n",
    "feature_importances2['mean_importance_CT'] = (feature_importances2['importance_xgb'] + feature_importances2['importance_rf']) / 2\n",
    "feature_importances2 = feature_importances2.sort_values(by='mean_importance_CT', ascending=False).drop(['importance_xgb', 'importance_rf'], axis=1).reset_index()"
   ]
  },
  {
   "cell_type": "code",
   "execution_count": 37,
   "id": "83811d5f",
   "metadata": {},
   "outputs": [
    {
     "name": "stderr",
     "output_type": "stream",
     "text": [
      "C:\\Users\\parke\\AppData\\Local\\Temp\\ipykernel_11100\\160193162.py:1: SettingWithCopyWarning: \n",
      "A value is trying to be set on a copy of a slice from a DataFrame.\n",
      "Try using .loc[row_indexer,col_indexer] = value instead\n",
      "\n",
      "See the caveats in the documentation: https://pandas.pydata.org/pandas-docs/stable/user_guide/indexing.html#returning-a-view-versus-a-copy\n",
      "  dfc['rfPredictRV'] = rfr2.predict(X2)\n",
      "C:\\Users\\parke\\AppData\\Local\\Temp\\ipykernel_11100\\160193162.py:2: SettingWithCopyWarning: \n",
      "A value is trying to be set on a copy of a slice from a DataFrame.\n",
      "Try using .loc[row_indexer,col_indexer] = value instead\n",
      "\n",
      "See the caveats in the documentation: https://pandas.pydata.org/pandas-docs/stable/user_guide/indexing.html#returning-a-view-versus-a-copy\n",
      "  dfc['xgPredictRV'] = xgb_model2.predict(X2)\n",
      "C:\\Users\\parke\\AppData\\Local\\Temp\\ipykernel_11100\\160193162.py:3: SettingWithCopyWarning: \n",
      "A value is trying to be set on a copy of a slice from a DataFrame.\n",
      "Try using .loc[row_indexer,col_indexer] = value instead\n",
      "\n",
      "See the caveats in the documentation: https://pandas.pydata.org/pandas-docs/stable/user_guide/indexing.html#returning-a-view-versus-a-copy\n",
      "  dfc['xRV'] = (dfc['rfPredictRV'] + dfc['xgPredictRV']) / 2\n"
     ]
    }
   ],
   "source": [
    "dfc['rfPredictRV'] = rfr2.predict(X2)\n",
    "dfc['xgPredictRV'] = xgb_model2.predict(X2)\n",
    "dfc['xRV'] = (dfc['rfPredictRV'] + dfc['xgPredictRV']) / 2"
   ]
  },
  {
   "cell_type": "code",
   "execution_count": 38,
   "id": "9d514b33",
   "metadata": {},
   "outputs": [
    {
     "data": {
      "text/html": [
       "<style>#sk-container-id-5 {color: black;}#sk-container-id-5 pre{padding: 0;}#sk-container-id-5 div.sk-toggleable {background-color: white;}#sk-container-id-5 label.sk-toggleable__label {cursor: pointer;display: block;width: 100%;margin-bottom: 0;padding: 0.3em;box-sizing: border-box;text-align: center;}#sk-container-id-5 label.sk-toggleable__label-arrow:before {content: \"▸\";float: left;margin-right: 0.25em;color: #696969;}#sk-container-id-5 label.sk-toggleable__label-arrow:hover:before {color: black;}#sk-container-id-5 div.sk-estimator:hover label.sk-toggleable__label-arrow:before {color: black;}#sk-container-id-5 div.sk-toggleable__content {max-height: 0;max-width: 0;overflow: hidden;text-align: left;background-color: #f0f8ff;}#sk-container-id-5 div.sk-toggleable__content pre {margin: 0.2em;color: black;border-radius: 0.25em;background-color: #f0f8ff;}#sk-container-id-5 input.sk-toggleable__control:checked~div.sk-toggleable__content {max-height: 200px;max-width: 100%;overflow: auto;}#sk-container-id-5 input.sk-toggleable__control:checked~label.sk-toggleable__label-arrow:before {content: \"▾\";}#sk-container-id-5 div.sk-estimator input.sk-toggleable__control:checked~label.sk-toggleable__label {background-color: #d4ebff;}#sk-container-id-5 div.sk-label input.sk-toggleable__control:checked~label.sk-toggleable__label {background-color: #d4ebff;}#sk-container-id-5 input.sk-hidden--visually {border: 0;clip: rect(1px 1px 1px 1px);clip: rect(1px, 1px, 1px, 1px);height: 1px;margin: -1px;overflow: hidden;padding: 0;position: absolute;width: 1px;}#sk-container-id-5 div.sk-estimator {font-family: monospace;background-color: #f0f8ff;border: 1px dotted black;border-radius: 0.25em;box-sizing: border-box;margin-bottom: 0.5em;}#sk-container-id-5 div.sk-estimator:hover {background-color: #d4ebff;}#sk-container-id-5 div.sk-parallel-item::after {content: \"\";width: 100%;border-bottom: 1px solid gray;flex-grow: 1;}#sk-container-id-5 div.sk-label:hover label.sk-toggleable__label {background-color: #d4ebff;}#sk-container-id-5 div.sk-serial::before {content: \"\";position: absolute;border-left: 1px solid gray;box-sizing: border-box;top: 0;bottom: 0;left: 50%;z-index: 0;}#sk-container-id-5 div.sk-serial {display: flex;flex-direction: column;align-items: center;background-color: white;padding-right: 0.2em;padding-left: 0.2em;position: relative;}#sk-container-id-5 div.sk-item {position: relative;z-index: 1;}#sk-container-id-5 div.sk-parallel {display: flex;align-items: stretch;justify-content: center;background-color: white;position: relative;}#sk-container-id-5 div.sk-item::before, #sk-container-id-5 div.sk-parallel-item::before {content: \"\";position: absolute;border-left: 1px solid gray;box-sizing: border-box;top: 0;bottom: 0;left: 50%;z-index: -1;}#sk-container-id-5 div.sk-parallel-item {display: flex;flex-direction: column;z-index: 1;position: relative;background-color: white;}#sk-container-id-5 div.sk-parallel-item:first-child::after {align-self: flex-end;width: 50%;}#sk-container-id-5 div.sk-parallel-item:last-child::after {align-self: flex-start;width: 50%;}#sk-container-id-5 div.sk-parallel-item:only-child::after {width: 0;}#sk-container-id-5 div.sk-dashed-wrapped {border: 1px dashed gray;margin: 0 0.4em 0.5em 0.4em;box-sizing: border-box;padding-bottom: 0.4em;background-color: white;}#sk-container-id-5 div.sk-label label {font-family: monospace;font-weight: bold;display: inline-block;line-height: 1.2em;}#sk-container-id-5 div.sk-label-container {text-align: center;}#sk-container-id-5 div.sk-container {/* jupyter's `normalize.less` sets `[hidden] { display: none; }` but bootstrap.min.css set `[hidden] { display: none !important; }` so we also need the `!important` here to be able to override the default hidden behavior on the sphinx rendered scikit-learn.org. See: https://github.com/scikit-learn/scikit-learn/issues/21755 */display: inline-block !important;position: relative;}#sk-container-id-5 div.sk-text-repr-fallback {display: none;}</style><div id=\"sk-container-id-5\" class=\"sk-top-container\"><div class=\"sk-text-repr-fallback\"><pre>RandomForestRegressor(max_depth=10, n_estimators=10)</pre><b>In a Jupyter environment, please rerun this cell to show the HTML representation or trust the notebook. <br />On GitHub, the HTML representation is unable to render, please try loading this page with nbviewer.org.</b></div><div class=\"sk-container\" hidden><div class=\"sk-item\"><div class=\"sk-estimator sk-toggleable\"><input class=\"sk-toggleable__control sk-hidden--visually\" id=\"sk-estimator-id-5\" type=\"checkbox\" checked><label for=\"sk-estimator-id-5\" class=\"sk-toggleable__label sk-toggleable__label-arrow\">RandomForestRegressor</label><div class=\"sk-toggleable__content\"><pre>RandomForestRegressor(max_depth=10, n_estimators=10)</pre></div></div></div></div></div>"
      ],
      "text/plain": [
       "RandomForestRegressor(max_depth=10, n_estimators=10)"
      ]
     },
     "execution_count": 38,
     "metadata": {},
     "output_type": "execute_result"
    }
   ],
   "source": [
    "#sinker randomforest\n",
    "rfr3 = RandomForestRegressor(n_estimators=10, max_depth=10)\n",
    "rfr3.fit(X3_train, y3_train)"
   ]
  },
  {
   "cell_type": "code",
   "execution_count": 39,
   "id": "c613242f",
   "metadata": {},
   "outputs": [
    {
     "data": {
      "text/html": [
       "<style>#sk-container-id-6 {color: black;}#sk-container-id-6 pre{padding: 0;}#sk-container-id-6 div.sk-toggleable {background-color: white;}#sk-container-id-6 label.sk-toggleable__label {cursor: pointer;display: block;width: 100%;margin-bottom: 0;padding: 0.3em;box-sizing: border-box;text-align: center;}#sk-container-id-6 label.sk-toggleable__label-arrow:before {content: \"▸\";float: left;margin-right: 0.25em;color: #696969;}#sk-container-id-6 label.sk-toggleable__label-arrow:hover:before {color: black;}#sk-container-id-6 div.sk-estimator:hover label.sk-toggleable__label-arrow:before {color: black;}#sk-container-id-6 div.sk-toggleable__content {max-height: 0;max-width: 0;overflow: hidden;text-align: left;background-color: #f0f8ff;}#sk-container-id-6 div.sk-toggleable__content pre {margin: 0.2em;color: black;border-radius: 0.25em;background-color: #f0f8ff;}#sk-container-id-6 input.sk-toggleable__control:checked~div.sk-toggleable__content {max-height: 200px;max-width: 100%;overflow: auto;}#sk-container-id-6 input.sk-toggleable__control:checked~label.sk-toggleable__label-arrow:before {content: \"▾\";}#sk-container-id-6 div.sk-estimator input.sk-toggleable__control:checked~label.sk-toggleable__label {background-color: #d4ebff;}#sk-container-id-6 div.sk-label input.sk-toggleable__control:checked~label.sk-toggleable__label {background-color: #d4ebff;}#sk-container-id-6 input.sk-hidden--visually {border: 0;clip: rect(1px 1px 1px 1px);clip: rect(1px, 1px, 1px, 1px);height: 1px;margin: -1px;overflow: hidden;padding: 0;position: absolute;width: 1px;}#sk-container-id-6 div.sk-estimator {font-family: monospace;background-color: #f0f8ff;border: 1px dotted black;border-radius: 0.25em;box-sizing: border-box;margin-bottom: 0.5em;}#sk-container-id-6 div.sk-estimator:hover {background-color: #d4ebff;}#sk-container-id-6 div.sk-parallel-item::after {content: \"\";width: 100%;border-bottom: 1px solid gray;flex-grow: 1;}#sk-container-id-6 div.sk-label:hover label.sk-toggleable__label {background-color: #d4ebff;}#sk-container-id-6 div.sk-serial::before {content: \"\";position: absolute;border-left: 1px solid gray;box-sizing: border-box;top: 0;bottom: 0;left: 50%;z-index: 0;}#sk-container-id-6 div.sk-serial {display: flex;flex-direction: column;align-items: center;background-color: white;padding-right: 0.2em;padding-left: 0.2em;position: relative;}#sk-container-id-6 div.sk-item {position: relative;z-index: 1;}#sk-container-id-6 div.sk-parallel {display: flex;align-items: stretch;justify-content: center;background-color: white;position: relative;}#sk-container-id-6 div.sk-item::before, #sk-container-id-6 div.sk-parallel-item::before {content: \"\";position: absolute;border-left: 1px solid gray;box-sizing: border-box;top: 0;bottom: 0;left: 50%;z-index: -1;}#sk-container-id-6 div.sk-parallel-item {display: flex;flex-direction: column;z-index: 1;position: relative;background-color: white;}#sk-container-id-6 div.sk-parallel-item:first-child::after {align-self: flex-end;width: 50%;}#sk-container-id-6 div.sk-parallel-item:last-child::after {align-self: flex-start;width: 50%;}#sk-container-id-6 div.sk-parallel-item:only-child::after {width: 0;}#sk-container-id-6 div.sk-dashed-wrapped {border: 1px dashed gray;margin: 0 0.4em 0.5em 0.4em;box-sizing: border-box;padding-bottom: 0.4em;background-color: white;}#sk-container-id-6 div.sk-label label {font-family: monospace;font-weight: bold;display: inline-block;line-height: 1.2em;}#sk-container-id-6 div.sk-label-container {text-align: center;}#sk-container-id-6 div.sk-container {/* jupyter's `normalize.less` sets `[hidden] { display: none; }` but bootstrap.min.css set `[hidden] { display: none !important; }` so we also need the `!important` here to be able to override the default hidden behavior on the sphinx rendered scikit-learn.org. See: https://github.com/scikit-learn/scikit-learn/issues/21755 */display: inline-block !important;position: relative;}#sk-container-id-6 div.sk-text-repr-fallback {display: none;}</style><div id=\"sk-container-id-6\" class=\"sk-top-container\"><div class=\"sk-text-repr-fallback\"><pre>XGBRegressor(base_score=None, booster=None, callbacks=None,\n",
       "             colsample_bylevel=None, colsample_bynode=None,\n",
       "             colsample_bytree=None, early_stopping_rounds=None,\n",
       "             enable_categorical=False, eval_metric=None, feature_types=None,\n",
       "             gamma=None, gpu_id=None, grow_policy=None, importance_type=None,\n",
       "             interaction_constraints=None, learning_rate=None, max_bin=None,\n",
       "             max_cat_threshold=None, max_cat_to_onehot=None,\n",
       "             max_delta_step=None, max_depth=None, max_leaves=None,\n",
       "             min_child_weight=None, missing=nan, monotone_constraints=None,\n",
       "             n_estimators=100, n_jobs=None, num_parallel_tree=None,\n",
       "             predictor=None, random_state=None, ...)</pre><b>In a Jupyter environment, please rerun this cell to show the HTML representation or trust the notebook. <br />On GitHub, the HTML representation is unable to render, please try loading this page with nbviewer.org.</b></div><div class=\"sk-container\" hidden><div class=\"sk-item\"><div class=\"sk-estimator sk-toggleable\"><input class=\"sk-toggleable__control sk-hidden--visually\" id=\"sk-estimator-id-6\" type=\"checkbox\" checked><label for=\"sk-estimator-id-6\" class=\"sk-toggleable__label sk-toggleable__label-arrow\">XGBRegressor</label><div class=\"sk-toggleable__content\"><pre>XGBRegressor(base_score=None, booster=None, callbacks=None,\n",
       "             colsample_bylevel=None, colsample_bynode=None,\n",
       "             colsample_bytree=None, early_stopping_rounds=None,\n",
       "             enable_categorical=False, eval_metric=None, feature_types=None,\n",
       "             gamma=None, gpu_id=None, grow_policy=None, importance_type=None,\n",
       "             interaction_constraints=None, learning_rate=None, max_bin=None,\n",
       "             max_cat_threshold=None, max_cat_to_onehot=None,\n",
       "             max_delta_step=None, max_depth=None, max_leaves=None,\n",
       "             min_child_weight=None, missing=nan, monotone_constraints=None,\n",
       "             n_estimators=100, n_jobs=None, num_parallel_tree=None,\n",
       "             predictor=None, random_state=None, ...)</pre></div></div></div></div></div>"
      ],
      "text/plain": [
       "XGBRegressor(base_score=None, booster=None, callbacks=None,\n",
       "             colsample_bylevel=None, colsample_bynode=None,\n",
       "             colsample_bytree=None, early_stopping_rounds=None,\n",
       "             enable_categorical=False, eval_metric=None, feature_types=None,\n",
       "             gamma=None, gpu_id=None, grow_policy=None, importance_type=None,\n",
       "             interaction_constraints=None, learning_rate=None, max_bin=None,\n",
       "             max_cat_threshold=None, max_cat_to_onehot=None,\n",
       "             max_delta_step=None, max_depth=None, max_leaves=None,\n",
       "             min_child_weight=None, missing=nan, monotone_constraints=None,\n",
       "             n_estimators=100, n_jobs=None, num_parallel_tree=None,\n",
       "             predictor=None, random_state=None, ...)"
      ]
     },
     "execution_count": 39,
     "metadata": {},
     "output_type": "execute_result"
    }
   ],
   "source": [
    "#sinker xgboost\n",
    "xgb_model3 = XGBRegressor()\n",
    "xgb_model3.fit(X3_train, y3_train)"
   ]
  },
  {
   "cell_type": "code",
   "execution_count": 40,
   "id": "9fda8a66",
   "metadata": {},
   "outputs": [],
   "source": [
    "#sinker feature importances\n",
    "feature_importances3r = pd.DataFrame(rfr3.feature_importances_, index = X3_train.columns, columns=['importance']).sort_values('importance', ascending=False)\n",
    "feature_importances3x = pd.DataFrame(xgb_model3.feature_importances_, index = X3_train.columns, columns=['importance']).sort_values('importance', ascending=False)\n",
    "feature_importances3 = feature_importances3x.join(feature_importances3r,  how='outer', lsuffix='_xgb', rsuffix='_rf')\n",
    "feature_importances3['mean_importance_SK'] = (feature_importances3['importance_xgb'] + feature_importances3['importance_rf']) / 2\n",
    "feature_importances3 = feature_importances3.sort_values(by='mean_importance_SK', ascending=False).drop(['importance_xgb', 'importance_rf'], axis=1).reset_index()"
   ]
  },
  {
   "cell_type": "code",
   "execution_count": 41,
   "id": "1ce8dd61",
   "metadata": {},
   "outputs": [
    {
     "name": "stderr",
     "output_type": "stream",
     "text": [
      "C:\\Users\\parke\\AppData\\Local\\Temp\\ipykernel_11100\\4016345501.py:1: SettingWithCopyWarning: \n",
      "A value is trying to be set on a copy of a slice from a DataFrame.\n",
      "Try using .loc[row_indexer,col_indexer] = value instead\n",
      "\n",
      "See the caveats in the documentation: https://pandas.pydata.org/pandas-docs/stable/user_guide/indexing.html#returning-a-view-versus-a-copy\n",
      "  dsk['rfPredictRV'] = rfr3.predict(X3)\n",
      "C:\\Users\\parke\\AppData\\Local\\Temp\\ipykernel_11100\\4016345501.py:2: SettingWithCopyWarning: \n",
      "A value is trying to be set on a copy of a slice from a DataFrame.\n",
      "Try using .loc[row_indexer,col_indexer] = value instead\n",
      "\n",
      "See the caveats in the documentation: https://pandas.pydata.org/pandas-docs/stable/user_guide/indexing.html#returning-a-view-versus-a-copy\n",
      "  dsk['xgPredictRV'] = xgb_model3.predict(X3)\n",
      "C:\\Users\\parke\\AppData\\Local\\Temp\\ipykernel_11100\\4016345501.py:3: SettingWithCopyWarning: \n",
      "A value is trying to be set on a copy of a slice from a DataFrame.\n",
      "Try using .loc[row_indexer,col_indexer] = value instead\n",
      "\n",
      "See the caveats in the documentation: https://pandas.pydata.org/pandas-docs/stable/user_guide/indexing.html#returning-a-view-versus-a-copy\n",
      "  dsk['xRV'] = (dsk['rfPredictRV'] + dsk['xgPredictRV']) / 2\n"
     ]
    }
   ],
   "source": [
    "dsk['rfPredictRV'] = rfr3.predict(X3)\n",
    "dsk['xgPredictRV'] = xgb_model3.predict(X3)\n",
    "dsk['xRV'] = (dsk['rfPredictRV'] + dsk['xgPredictRV']) / 2"
   ]
  },
  {
   "cell_type": "code",
   "execution_count": 42,
   "id": "1e882141",
   "metadata": {},
   "outputs": [
    {
     "data": {
      "text/html": [
       "<style>#sk-container-id-7 {color: black;}#sk-container-id-7 pre{padding: 0;}#sk-container-id-7 div.sk-toggleable {background-color: white;}#sk-container-id-7 label.sk-toggleable__label {cursor: pointer;display: block;width: 100%;margin-bottom: 0;padding: 0.3em;box-sizing: border-box;text-align: center;}#sk-container-id-7 label.sk-toggleable__label-arrow:before {content: \"▸\";float: left;margin-right: 0.25em;color: #696969;}#sk-container-id-7 label.sk-toggleable__label-arrow:hover:before {color: black;}#sk-container-id-7 div.sk-estimator:hover label.sk-toggleable__label-arrow:before {color: black;}#sk-container-id-7 div.sk-toggleable__content {max-height: 0;max-width: 0;overflow: hidden;text-align: left;background-color: #f0f8ff;}#sk-container-id-7 div.sk-toggleable__content pre {margin: 0.2em;color: black;border-radius: 0.25em;background-color: #f0f8ff;}#sk-container-id-7 input.sk-toggleable__control:checked~div.sk-toggleable__content {max-height: 200px;max-width: 100%;overflow: auto;}#sk-container-id-7 input.sk-toggleable__control:checked~label.sk-toggleable__label-arrow:before {content: \"▾\";}#sk-container-id-7 div.sk-estimator input.sk-toggleable__control:checked~label.sk-toggleable__label {background-color: #d4ebff;}#sk-container-id-7 div.sk-label input.sk-toggleable__control:checked~label.sk-toggleable__label {background-color: #d4ebff;}#sk-container-id-7 input.sk-hidden--visually {border: 0;clip: rect(1px 1px 1px 1px);clip: rect(1px, 1px, 1px, 1px);height: 1px;margin: -1px;overflow: hidden;padding: 0;position: absolute;width: 1px;}#sk-container-id-7 div.sk-estimator {font-family: monospace;background-color: #f0f8ff;border: 1px dotted black;border-radius: 0.25em;box-sizing: border-box;margin-bottom: 0.5em;}#sk-container-id-7 div.sk-estimator:hover {background-color: #d4ebff;}#sk-container-id-7 div.sk-parallel-item::after {content: \"\";width: 100%;border-bottom: 1px solid gray;flex-grow: 1;}#sk-container-id-7 div.sk-label:hover label.sk-toggleable__label {background-color: #d4ebff;}#sk-container-id-7 div.sk-serial::before {content: \"\";position: absolute;border-left: 1px solid gray;box-sizing: border-box;top: 0;bottom: 0;left: 50%;z-index: 0;}#sk-container-id-7 div.sk-serial {display: flex;flex-direction: column;align-items: center;background-color: white;padding-right: 0.2em;padding-left: 0.2em;position: relative;}#sk-container-id-7 div.sk-item {position: relative;z-index: 1;}#sk-container-id-7 div.sk-parallel {display: flex;align-items: stretch;justify-content: center;background-color: white;position: relative;}#sk-container-id-7 div.sk-item::before, #sk-container-id-7 div.sk-parallel-item::before {content: \"\";position: absolute;border-left: 1px solid gray;box-sizing: border-box;top: 0;bottom: 0;left: 50%;z-index: -1;}#sk-container-id-7 div.sk-parallel-item {display: flex;flex-direction: column;z-index: 1;position: relative;background-color: white;}#sk-container-id-7 div.sk-parallel-item:first-child::after {align-self: flex-end;width: 50%;}#sk-container-id-7 div.sk-parallel-item:last-child::after {align-self: flex-start;width: 50%;}#sk-container-id-7 div.sk-parallel-item:only-child::after {width: 0;}#sk-container-id-7 div.sk-dashed-wrapped {border: 1px dashed gray;margin: 0 0.4em 0.5em 0.4em;box-sizing: border-box;padding-bottom: 0.4em;background-color: white;}#sk-container-id-7 div.sk-label label {font-family: monospace;font-weight: bold;display: inline-block;line-height: 1.2em;}#sk-container-id-7 div.sk-label-container {text-align: center;}#sk-container-id-7 div.sk-container {/* jupyter's `normalize.less` sets `[hidden] { display: none; }` but bootstrap.min.css set `[hidden] { display: none !important; }` so we also need the `!important` here to be able to override the default hidden behavior on the sphinx rendered scikit-learn.org. See: https://github.com/scikit-learn/scikit-learn/issues/21755 */display: inline-block !important;position: relative;}#sk-container-id-7 div.sk-text-repr-fallback {display: none;}</style><div id=\"sk-container-id-7\" class=\"sk-top-container\"><div class=\"sk-text-repr-fallback\"><pre>RandomForestRegressor(max_depth=10, n_estimators=10)</pre><b>In a Jupyter environment, please rerun this cell to show the HTML representation or trust the notebook. <br />On GitHub, the HTML representation is unable to render, please try loading this page with nbviewer.org.</b></div><div class=\"sk-container\" hidden><div class=\"sk-item\"><div class=\"sk-estimator sk-toggleable\"><input class=\"sk-toggleable__control sk-hidden--visually\" id=\"sk-estimator-id-7\" type=\"checkbox\" checked><label for=\"sk-estimator-id-7\" class=\"sk-toggleable__label sk-toggleable__label-arrow\">RandomForestRegressor</label><div class=\"sk-toggleable__content\"><pre>RandomForestRegressor(max_depth=10, n_estimators=10)</pre></div></div></div></div></div>"
      ],
      "text/plain": [
       "RandomForestRegressor(max_depth=10, n_estimators=10)"
      ]
     },
     "execution_count": 42,
     "metadata": {},
     "output_type": "execute_result"
    }
   ],
   "source": [
    "#slider randomforest\n",
    "rfr4 = RandomForestRegressor(n_estimators=10, max_depth=10)\n",
    "rfr4.fit(X4_train, y4_train)"
   ]
  },
  {
   "cell_type": "code",
   "execution_count": 43,
   "id": "2c658730",
   "metadata": {},
   "outputs": [
    {
     "data": {
      "text/html": [
       "<style>#sk-container-id-8 {color: black;}#sk-container-id-8 pre{padding: 0;}#sk-container-id-8 div.sk-toggleable {background-color: white;}#sk-container-id-8 label.sk-toggleable__label {cursor: pointer;display: block;width: 100%;margin-bottom: 0;padding: 0.3em;box-sizing: border-box;text-align: center;}#sk-container-id-8 label.sk-toggleable__label-arrow:before {content: \"▸\";float: left;margin-right: 0.25em;color: #696969;}#sk-container-id-8 label.sk-toggleable__label-arrow:hover:before {color: black;}#sk-container-id-8 div.sk-estimator:hover label.sk-toggleable__label-arrow:before {color: black;}#sk-container-id-8 div.sk-toggleable__content {max-height: 0;max-width: 0;overflow: hidden;text-align: left;background-color: #f0f8ff;}#sk-container-id-8 div.sk-toggleable__content pre {margin: 0.2em;color: black;border-radius: 0.25em;background-color: #f0f8ff;}#sk-container-id-8 input.sk-toggleable__control:checked~div.sk-toggleable__content {max-height: 200px;max-width: 100%;overflow: auto;}#sk-container-id-8 input.sk-toggleable__control:checked~label.sk-toggleable__label-arrow:before {content: \"▾\";}#sk-container-id-8 div.sk-estimator input.sk-toggleable__control:checked~label.sk-toggleable__label {background-color: #d4ebff;}#sk-container-id-8 div.sk-label input.sk-toggleable__control:checked~label.sk-toggleable__label {background-color: #d4ebff;}#sk-container-id-8 input.sk-hidden--visually {border: 0;clip: rect(1px 1px 1px 1px);clip: rect(1px, 1px, 1px, 1px);height: 1px;margin: -1px;overflow: hidden;padding: 0;position: absolute;width: 1px;}#sk-container-id-8 div.sk-estimator {font-family: monospace;background-color: #f0f8ff;border: 1px dotted black;border-radius: 0.25em;box-sizing: border-box;margin-bottom: 0.5em;}#sk-container-id-8 div.sk-estimator:hover {background-color: #d4ebff;}#sk-container-id-8 div.sk-parallel-item::after {content: \"\";width: 100%;border-bottom: 1px solid gray;flex-grow: 1;}#sk-container-id-8 div.sk-label:hover label.sk-toggleable__label {background-color: #d4ebff;}#sk-container-id-8 div.sk-serial::before {content: \"\";position: absolute;border-left: 1px solid gray;box-sizing: border-box;top: 0;bottom: 0;left: 50%;z-index: 0;}#sk-container-id-8 div.sk-serial {display: flex;flex-direction: column;align-items: center;background-color: white;padding-right: 0.2em;padding-left: 0.2em;position: relative;}#sk-container-id-8 div.sk-item {position: relative;z-index: 1;}#sk-container-id-8 div.sk-parallel {display: flex;align-items: stretch;justify-content: center;background-color: white;position: relative;}#sk-container-id-8 div.sk-item::before, #sk-container-id-8 div.sk-parallel-item::before {content: \"\";position: absolute;border-left: 1px solid gray;box-sizing: border-box;top: 0;bottom: 0;left: 50%;z-index: -1;}#sk-container-id-8 div.sk-parallel-item {display: flex;flex-direction: column;z-index: 1;position: relative;background-color: white;}#sk-container-id-8 div.sk-parallel-item:first-child::after {align-self: flex-end;width: 50%;}#sk-container-id-8 div.sk-parallel-item:last-child::after {align-self: flex-start;width: 50%;}#sk-container-id-8 div.sk-parallel-item:only-child::after {width: 0;}#sk-container-id-8 div.sk-dashed-wrapped {border: 1px dashed gray;margin: 0 0.4em 0.5em 0.4em;box-sizing: border-box;padding-bottom: 0.4em;background-color: white;}#sk-container-id-8 div.sk-label label {font-family: monospace;font-weight: bold;display: inline-block;line-height: 1.2em;}#sk-container-id-8 div.sk-label-container {text-align: center;}#sk-container-id-8 div.sk-container {/* jupyter's `normalize.less` sets `[hidden] { display: none; }` but bootstrap.min.css set `[hidden] { display: none !important; }` so we also need the `!important` here to be able to override the default hidden behavior on the sphinx rendered scikit-learn.org. See: https://github.com/scikit-learn/scikit-learn/issues/21755 */display: inline-block !important;position: relative;}#sk-container-id-8 div.sk-text-repr-fallback {display: none;}</style><div id=\"sk-container-id-8\" class=\"sk-top-container\"><div class=\"sk-text-repr-fallback\"><pre>XGBRegressor(base_score=None, booster=None, callbacks=None,\n",
       "             colsample_bylevel=None, colsample_bynode=None,\n",
       "             colsample_bytree=None, early_stopping_rounds=None,\n",
       "             enable_categorical=False, eval_metric=None, feature_types=None,\n",
       "             gamma=None, gpu_id=None, grow_policy=None, importance_type=None,\n",
       "             interaction_constraints=None, learning_rate=None, max_bin=None,\n",
       "             max_cat_threshold=None, max_cat_to_onehot=None,\n",
       "             max_delta_step=None, max_depth=None, max_leaves=None,\n",
       "             min_child_weight=None, missing=nan, monotone_constraints=None,\n",
       "             n_estimators=100, n_jobs=None, num_parallel_tree=None,\n",
       "             predictor=None, random_state=None, ...)</pre><b>In a Jupyter environment, please rerun this cell to show the HTML representation or trust the notebook. <br />On GitHub, the HTML representation is unable to render, please try loading this page with nbviewer.org.</b></div><div class=\"sk-container\" hidden><div class=\"sk-item\"><div class=\"sk-estimator sk-toggleable\"><input class=\"sk-toggleable__control sk-hidden--visually\" id=\"sk-estimator-id-8\" type=\"checkbox\" checked><label for=\"sk-estimator-id-8\" class=\"sk-toggleable__label sk-toggleable__label-arrow\">XGBRegressor</label><div class=\"sk-toggleable__content\"><pre>XGBRegressor(base_score=None, booster=None, callbacks=None,\n",
       "             colsample_bylevel=None, colsample_bynode=None,\n",
       "             colsample_bytree=None, early_stopping_rounds=None,\n",
       "             enable_categorical=False, eval_metric=None, feature_types=None,\n",
       "             gamma=None, gpu_id=None, grow_policy=None, importance_type=None,\n",
       "             interaction_constraints=None, learning_rate=None, max_bin=None,\n",
       "             max_cat_threshold=None, max_cat_to_onehot=None,\n",
       "             max_delta_step=None, max_depth=None, max_leaves=None,\n",
       "             min_child_weight=None, missing=nan, monotone_constraints=None,\n",
       "             n_estimators=100, n_jobs=None, num_parallel_tree=None,\n",
       "             predictor=None, random_state=None, ...)</pre></div></div></div></div></div>"
      ],
      "text/plain": [
       "XGBRegressor(base_score=None, booster=None, callbacks=None,\n",
       "             colsample_bylevel=None, colsample_bynode=None,\n",
       "             colsample_bytree=None, early_stopping_rounds=None,\n",
       "             enable_categorical=False, eval_metric=None, feature_types=None,\n",
       "             gamma=None, gpu_id=None, grow_policy=None, importance_type=None,\n",
       "             interaction_constraints=None, learning_rate=None, max_bin=None,\n",
       "             max_cat_threshold=None, max_cat_to_onehot=None,\n",
       "             max_delta_step=None, max_depth=None, max_leaves=None,\n",
       "             min_child_weight=None, missing=nan, monotone_constraints=None,\n",
       "             n_estimators=100, n_jobs=None, num_parallel_tree=None,\n",
       "             predictor=None, random_state=None, ...)"
      ]
     },
     "execution_count": 43,
     "metadata": {},
     "output_type": "execute_result"
    }
   ],
   "source": [
    "#slider xgboost\n",
    "xgb_model4 = XGBRegressor()\n",
    "xgb_model4.fit(X4_train, y4_train)"
   ]
  },
  {
   "cell_type": "code",
   "execution_count": 44,
   "id": "2c4b193c",
   "metadata": {},
   "outputs": [],
   "source": [
    "#slider feature importances\n",
    "feature_importances4r = pd.DataFrame(rfr4.feature_importances_, index = X4_train.columns, columns=['importance']).sort_values('importance', ascending=False)\n",
    "feature_importances4x = pd.DataFrame(xgb_model4.feature_importances_, index = X4_train.columns, columns=['importance']).sort_values('importance', ascending=False)\n",
    "feature_importances4 = feature_importances4x.join(feature_importances4r,  how='outer', lsuffix='_xgb', rsuffix='_rf')\n",
    "feature_importances4['mean_importance_SL'] = (feature_importances4['importance_xgb'] + feature_importances4['importance_rf']) / 2\n",
    "feature_importances4 = feature_importances4.sort_values(by='mean_importance_SL', ascending=False).drop(['importance_xgb', 'importance_rf'], axis=1).reset_index()"
   ]
  },
  {
   "cell_type": "code",
   "execution_count": 45,
   "id": "e2b46297",
   "metadata": {},
   "outputs": [
    {
     "name": "stderr",
     "output_type": "stream",
     "text": [
      "C:\\Users\\parke\\AppData\\Local\\Temp\\ipykernel_11100\\3321447266.py:1: SettingWithCopyWarning: \n",
      "A value is trying to be set on a copy of a slice from a DataFrame.\n",
      "Try using .loc[row_indexer,col_indexer] = value instead\n",
      "\n",
      "See the caveats in the documentation: https://pandas.pydata.org/pandas-docs/stable/user_guide/indexing.html#returning-a-view-versus-a-copy\n",
      "  dsl['rfPredictRV'] = rfr4.predict(X4)\n",
      "C:\\Users\\parke\\AppData\\Local\\Temp\\ipykernel_11100\\3321447266.py:2: SettingWithCopyWarning: \n",
      "A value is trying to be set on a copy of a slice from a DataFrame.\n",
      "Try using .loc[row_indexer,col_indexer] = value instead\n",
      "\n",
      "See the caveats in the documentation: https://pandas.pydata.org/pandas-docs/stable/user_guide/indexing.html#returning-a-view-versus-a-copy\n",
      "  dsl['xgPredictRV'] = xgb_model4.predict(X4)\n",
      "C:\\Users\\parke\\AppData\\Local\\Temp\\ipykernel_11100\\3321447266.py:3: SettingWithCopyWarning: \n",
      "A value is trying to be set on a copy of a slice from a DataFrame.\n",
      "Try using .loc[row_indexer,col_indexer] = value instead\n",
      "\n",
      "See the caveats in the documentation: https://pandas.pydata.org/pandas-docs/stable/user_guide/indexing.html#returning-a-view-versus-a-copy\n",
      "  dsl['xRV'] = (dsl['rfPredictRV'] + dsl['xgPredictRV']) / 2\n"
     ]
    }
   ],
   "source": [
    "dsl['rfPredictRV'] = rfr4.predict(X4)\n",
    "dsl['xgPredictRV'] = xgb_model4.predict(X4)\n",
    "dsl['xRV'] = (dsl['rfPredictRV'] + dsl['xgPredictRV']) / 2"
   ]
  },
  {
   "cell_type": "code",
   "execution_count": 46,
   "id": "f3905e5f",
   "metadata": {},
   "outputs": [
    {
     "data": {
      "text/html": [
       "<style>#sk-container-id-9 {color: black;}#sk-container-id-9 pre{padding: 0;}#sk-container-id-9 div.sk-toggleable {background-color: white;}#sk-container-id-9 label.sk-toggleable__label {cursor: pointer;display: block;width: 100%;margin-bottom: 0;padding: 0.3em;box-sizing: border-box;text-align: center;}#sk-container-id-9 label.sk-toggleable__label-arrow:before {content: \"▸\";float: left;margin-right: 0.25em;color: #696969;}#sk-container-id-9 label.sk-toggleable__label-arrow:hover:before {color: black;}#sk-container-id-9 div.sk-estimator:hover label.sk-toggleable__label-arrow:before {color: black;}#sk-container-id-9 div.sk-toggleable__content {max-height: 0;max-width: 0;overflow: hidden;text-align: left;background-color: #f0f8ff;}#sk-container-id-9 div.sk-toggleable__content pre {margin: 0.2em;color: black;border-radius: 0.25em;background-color: #f0f8ff;}#sk-container-id-9 input.sk-toggleable__control:checked~div.sk-toggleable__content {max-height: 200px;max-width: 100%;overflow: auto;}#sk-container-id-9 input.sk-toggleable__control:checked~label.sk-toggleable__label-arrow:before {content: \"▾\";}#sk-container-id-9 div.sk-estimator input.sk-toggleable__control:checked~label.sk-toggleable__label {background-color: #d4ebff;}#sk-container-id-9 div.sk-label input.sk-toggleable__control:checked~label.sk-toggleable__label {background-color: #d4ebff;}#sk-container-id-9 input.sk-hidden--visually {border: 0;clip: rect(1px 1px 1px 1px);clip: rect(1px, 1px, 1px, 1px);height: 1px;margin: -1px;overflow: hidden;padding: 0;position: absolute;width: 1px;}#sk-container-id-9 div.sk-estimator {font-family: monospace;background-color: #f0f8ff;border: 1px dotted black;border-radius: 0.25em;box-sizing: border-box;margin-bottom: 0.5em;}#sk-container-id-9 div.sk-estimator:hover {background-color: #d4ebff;}#sk-container-id-9 div.sk-parallel-item::after {content: \"\";width: 100%;border-bottom: 1px solid gray;flex-grow: 1;}#sk-container-id-9 div.sk-label:hover label.sk-toggleable__label {background-color: #d4ebff;}#sk-container-id-9 div.sk-serial::before {content: \"\";position: absolute;border-left: 1px solid gray;box-sizing: border-box;top: 0;bottom: 0;left: 50%;z-index: 0;}#sk-container-id-9 div.sk-serial {display: flex;flex-direction: column;align-items: center;background-color: white;padding-right: 0.2em;padding-left: 0.2em;position: relative;}#sk-container-id-9 div.sk-item {position: relative;z-index: 1;}#sk-container-id-9 div.sk-parallel {display: flex;align-items: stretch;justify-content: center;background-color: white;position: relative;}#sk-container-id-9 div.sk-item::before, #sk-container-id-9 div.sk-parallel-item::before {content: \"\";position: absolute;border-left: 1px solid gray;box-sizing: border-box;top: 0;bottom: 0;left: 50%;z-index: -1;}#sk-container-id-9 div.sk-parallel-item {display: flex;flex-direction: column;z-index: 1;position: relative;background-color: white;}#sk-container-id-9 div.sk-parallel-item:first-child::after {align-self: flex-end;width: 50%;}#sk-container-id-9 div.sk-parallel-item:last-child::after {align-self: flex-start;width: 50%;}#sk-container-id-9 div.sk-parallel-item:only-child::after {width: 0;}#sk-container-id-9 div.sk-dashed-wrapped {border: 1px dashed gray;margin: 0 0.4em 0.5em 0.4em;box-sizing: border-box;padding-bottom: 0.4em;background-color: white;}#sk-container-id-9 div.sk-label label {font-family: monospace;font-weight: bold;display: inline-block;line-height: 1.2em;}#sk-container-id-9 div.sk-label-container {text-align: center;}#sk-container-id-9 div.sk-container {/* jupyter's `normalize.less` sets `[hidden] { display: none; }` but bootstrap.min.css set `[hidden] { display: none !important; }` so we also need the `!important` here to be able to override the default hidden behavior on the sphinx rendered scikit-learn.org. See: https://github.com/scikit-learn/scikit-learn/issues/21755 */display: inline-block !important;position: relative;}#sk-container-id-9 div.sk-text-repr-fallback {display: none;}</style><div id=\"sk-container-id-9\" class=\"sk-top-container\"><div class=\"sk-text-repr-fallback\"><pre>RandomForestRegressor(max_depth=10, n_estimators=10)</pre><b>In a Jupyter environment, please rerun this cell to show the HTML representation or trust the notebook. <br />On GitHub, the HTML representation is unable to render, please try loading this page with nbviewer.org.</b></div><div class=\"sk-container\" hidden><div class=\"sk-item\"><div class=\"sk-estimator sk-toggleable\"><input class=\"sk-toggleable__control sk-hidden--visually\" id=\"sk-estimator-id-9\" type=\"checkbox\" checked><label for=\"sk-estimator-id-9\" class=\"sk-toggleable__label sk-toggleable__label-arrow\">RandomForestRegressor</label><div class=\"sk-toggleable__content\"><pre>RandomForestRegressor(max_depth=10, n_estimators=10)</pre></div></div></div></div></div>"
      ],
      "text/plain": [
       "RandomForestRegressor(max_depth=10, n_estimators=10)"
      ]
     },
     "execution_count": 46,
     "metadata": {},
     "output_type": "execute_result"
    }
   ],
   "source": [
    "#changeup randomforest\n",
    "rfr5 = RandomForestRegressor(n_estimators=10, max_depth=10)\n",
    "rfr5.fit(X5_train, y5_train)"
   ]
  },
  {
   "cell_type": "code",
   "execution_count": 47,
   "id": "d4409954",
   "metadata": {},
   "outputs": [
    {
     "data": {
      "text/html": [
       "<style>#sk-container-id-10 {color: black;}#sk-container-id-10 pre{padding: 0;}#sk-container-id-10 div.sk-toggleable {background-color: white;}#sk-container-id-10 label.sk-toggleable__label {cursor: pointer;display: block;width: 100%;margin-bottom: 0;padding: 0.3em;box-sizing: border-box;text-align: center;}#sk-container-id-10 label.sk-toggleable__label-arrow:before {content: \"▸\";float: left;margin-right: 0.25em;color: #696969;}#sk-container-id-10 label.sk-toggleable__label-arrow:hover:before {color: black;}#sk-container-id-10 div.sk-estimator:hover label.sk-toggleable__label-arrow:before {color: black;}#sk-container-id-10 div.sk-toggleable__content {max-height: 0;max-width: 0;overflow: hidden;text-align: left;background-color: #f0f8ff;}#sk-container-id-10 div.sk-toggleable__content pre {margin: 0.2em;color: black;border-radius: 0.25em;background-color: #f0f8ff;}#sk-container-id-10 input.sk-toggleable__control:checked~div.sk-toggleable__content {max-height: 200px;max-width: 100%;overflow: auto;}#sk-container-id-10 input.sk-toggleable__control:checked~label.sk-toggleable__label-arrow:before {content: \"▾\";}#sk-container-id-10 div.sk-estimator input.sk-toggleable__control:checked~label.sk-toggleable__label {background-color: #d4ebff;}#sk-container-id-10 div.sk-label input.sk-toggleable__control:checked~label.sk-toggleable__label {background-color: #d4ebff;}#sk-container-id-10 input.sk-hidden--visually {border: 0;clip: rect(1px 1px 1px 1px);clip: rect(1px, 1px, 1px, 1px);height: 1px;margin: -1px;overflow: hidden;padding: 0;position: absolute;width: 1px;}#sk-container-id-10 div.sk-estimator {font-family: monospace;background-color: #f0f8ff;border: 1px dotted black;border-radius: 0.25em;box-sizing: border-box;margin-bottom: 0.5em;}#sk-container-id-10 div.sk-estimator:hover {background-color: #d4ebff;}#sk-container-id-10 div.sk-parallel-item::after {content: \"\";width: 100%;border-bottom: 1px solid gray;flex-grow: 1;}#sk-container-id-10 div.sk-label:hover label.sk-toggleable__label {background-color: #d4ebff;}#sk-container-id-10 div.sk-serial::before {content: \"\";position: absolute;border-left: 1px solid gray;box-sizing: border-box;top: 0;bottom: 0;left: 50%;z-index: 0;}#sk-container-id-10 div.sk-serial {display: flex;flex-direction: column;align-items: center;background-color: white;padding-right: 0.2em;padding-left: 0.2em;position: relative;}#sk-container-id-10 div.sk-item {position: relative;z-index: 1;}#sk-container-id-10 div.sk-parallel {display: flex;align-items: stretch;justify-content: center;background-color: white;position: relative;}#sk-container-id-10 div.sk-item::before, #sk-container-id-10 div.sk-parallel-item::before {content: \"\";position: absolute;border-left: 1px solid gray;box-sizing: border-box;top: 0;bottom: 0;left: 50%;z-index: -1;}#sk-container-id-10 div.sk-parallel-item {display: flex;flex-direction: column;z-index: 1;position: relative;background-color: white;}#sk-container-id-10 div.sk-parallel-item:first-child::after {align-self: flex-end;width: 50%;}#sk-container-id-10 div.sk-parallel-item:last-child::after {align-self: flex-start;width: 50%;}#sk-container-id-10 div.sk-parallel-item:only-child::after {width: 0;}#sk-container-id-10 div.sk-dashed-wrapped {border: 1px dashed gray;margin: 0 0.4em 0.5em 0.4em;box-sizing: border-box;padding-bottom: 0.4em;background-color: white;}#sk-container-id-10 div.sk-label label {font-family: monospace;font-weight: bold;display: inline-block;line-height: 1.2em;}#sk-container-id-10 div.sk-label-container {text-align: center;}#sk-container-id-10 div.sk-container {/* jupyter's `normalize.less` sets `[hidden] { display: none; }` but bootstrap.min.css set `[hidden] { display: none !important; }` so we also need the `!important` here to be able to override the default hidden behavior on the sphinx rendered scikit-learn.org. See: https://github.com/scikit-learn/scikit-learn/issues/21755 */display: inline-block !important;position: relative;}#sk-container-id-10 div.sk-text-repr-fallback {display: none;}</style><div id=\"sk-container-id-10\" class=\"sk-top-container\"><div class=\"sk-text-repr-fallback\"><pre>XGBRegressor(base_score=None, booster=None, callbacks=None,\n",
       "             colsample_bylevel=None, colsample_bynode=None,\n",
       "             colsample_bytree=None, early_stopping_rounds=None,\n",
       "             enable_categorical=False, eval_metric=None, feature_types=None,\n",
       "             gamma=None, gpu_id=None, grow_policy=None, importance_type=None,\n",
       "             interaction_constraints=None, learning_rate=None, max_bin=None,\n",
       "             max_cat_threshold=None, max_cat_to_onehot=None,\n",
       "             max_delta_step=None, max_depth=None, max_leaves=None,\n",
       "             min_child_weight=None, missing=nan, monotone_constraints=None,\n",
       "             n_estimators=100, n_jobs=None, num_parallel_tree=None,\n",
       "             predictor=None, random_state=None, ...)</pre><b>In a Jupyter environment, please rerun this cell to show the HTML representation or trust the notebook. <br />On GitHub, the HTML representation is unable to render, please try loading this page with nbviewer.org.</b></div><div class=\"sk-container\" hidden><div class=\"sk-item\"><div class=\"sk-estimator sk-toggleable\"><input class=\"sk-toggleable__control sk-hidden--visually\" id=\"sk-estimator-id-10\" type=\"checkbox\" checked><label for=\"sk-estimator-id-10\" class=\"sk-toggleable__label sk-toggleable__label-arrow\">XGBRegressor</label><div class=\"sk-toggleable__content\"><pre>XGBRegressor(base_score=None, booster=None, callbacks=None,\n",
       "             colsample_bylevel=None, colsample_bynode=None,\n",
       "             colsample_bytree=None, early_stopping_rounds=None,\n",
       "             enable_categorical=False, eval_metric=None, feature_types=None,\n",
       "             gamma=None, gpu_id=None, grow_policy=None, importance_type=None,\n",
       "             interaction_constraints=None, learning_rate=None, max_bin=None,\n",
       "             max_cat_threshold=None, max_cat_to_onehot=None,\n",
       "             max_delta_step=None, max_depth=None, max_leaves=None,\n",
       "             min_child_weight=None, missing=nan, monotone_constraints=None,\n",
       "             n_estimators=100, n_jobs=None, num_parallel_tree=None,\n",
       "             predictor=None, random_state=None, ...)</pre></div></div></div></div></div>"
      ],
      "text/plain": [
       "XGBRegressor(base_score=None, booster=None, callbacks=None,\n",
       "             colsample_bylevel=None, colsample_bynode=None,\n",
       "             colsample_bytree=None, early_stopping_rounds=None,\n",
       "             enable_categorical=False, eval_metric=None, feature_types=None,\n",
       "             gamma=None, gpu_id=None, grow_policy=None, importance_type=None,\n",
       "             interaction_constraints=None, learning_rate=None, max_bin=None,\n",
       "             max_cat_threshold=None, max_cat_to_onehot=None,\n",
       "             max_delta_step=None, max_depth=None, max_leaves=None,\n",
       "             min_child_weight=None, missing=nan, monotone_constraints=None,\n",
       "             n_estimators=100, n_jobs=None, num_parallel_tree=None,\n",
       "             predictor=None, random_state=None, ...)"
      ]
     },
     "execution_count": 47,
     "metadata": {},
     "output_type": "execute_result"
    }
   ],
   "source": [
    "#changeup xgboost\n",
    "xgb_model5 = XGBRegressor()\n",
    "xgb_model5.fit(X5_train, y5_train)"
   ]
  },
  {
   "cell_type": "code",
   "execution_count": 48,
   "id": "3775362e",
   "metadata": {},
   "outputs": [],
   "source": [
    "#changeup feature importances\n",
    "feature_importances5r = pd.DataFrame(rfr5.feature_importances_, index = X5_train.columns, columns=['importance']).sort_values('importance', ascending=False)\n",
    "feature_importances5x = pd.DataFrame(xgb_model5.feature_importances_, index = X5_train.columns, columns=['importance']).sort_values('importance', ascending=False)\n",
    "feature_importances5 = feature_importances5x.join(feature_importances5r,  how='outer', lsuffix='_xgb', rsuffix='_rf')\n",
    "feature_importances5['mean_importance_CH'] = (feature_importances5['importance_xgb'] + feature_importances5['importance_rf']) / 2\n",
    "feature_importances5 = feature_importances5.sort_values(by='mean_importance_CH', ascending=False).drop(['importance_xgb', 'importance_rf'], axis=1).reset_index()"
   ]
  },
  {
   "cell_type": "code",
   "execution_count": 49,
   "id": "b9096de6",
   "metadata": {},
   "outputs": [
    {
     "name": "stderr",
     "output_type": "stream",
     "text": [
      "C:\\Users\\parke\\AppData\\Local\\Temp\\ipykernel_11100\\493573308.py:1: SettingWithCopyWarning: \n",
      "A value is trying to be set on a copy of a slice from a DataFrame.\n",
      "Try using .loc[row_indexer,col_indexer] = value instead\n",
      "\n",
      "See the caveats in the documentation: https://pandas.pydata.org/pandas-docs/stable/user_guide/indexing.html#returning-a-view-versus-a-copy\n",
      "  dch['rfPredictRV'] = rfr5.predict(X5)\n",
      "C:\\Users\\parke\\AppData\\Local\\Temp\\ipykernel_11100\\493573308.py:2: SettingWithCopyWarning: \n",
      "A value is trying to be set on a copy of a slice from a DataFrame.\n",
      "Try using .loc[row_indexer,col_indexer] = value instead\n",
      "\n",
      "See the caveats in the documentation: https://pandas.pydata.org/pandas-docs/stable/user_guide/indexing.html#returning-a-view-versus-a-copy\n",
      "  dch['xgPredictRV'] = xgb_model5.predict(X5)\n",
      "C:\\Users\\parke\\AppData\\Local\\Temp\\ipykernel_11100\\493573308.py:3: SettingWithCopyWarning: \n",
      "A value is trying to be set on a copy of a slice from a DataFrame.\n",
      "Try using .loc[row_indexer,col_indexer] = value instead\n",
      "\n",
      "See the caveats in the documentation: https://pandas.pydata.org/pandas-docs/stable/user_guide/indexing.html#returning-a-view-versus-a-copy\n",
      "  dch['xRV'] = (dch['rfPredictRV'] + dch['xgPredictRV']) / 2\n"
     ]
    }
   ],
   "source": [
    "dch['rfPredictRV'] = rfr5.predict(X5)\n",
    "dch['xgPredictRV'] = xgb_model5.predict(X5)\n",
    "dch['xRV'] = (dch['rfPredictRV'] + dch['xgPredictRV']) / 2"
   ]
  },
  {
   "cell_type": "code",
   "execution_count": 50,
   "id": "175cd717",
   "metadata": {},
   "outputs": [
    {
     "data": {
      "text/html": [
       "<style>#sk-container-id-11 {color: black;}#sk-container-id-11 pre{padding: 0;}#sk-container-id-11 div.sk-toggleable {background-color: white;}#sk-container-id-11 label.sk-toggleable__label {cursor: pointer;display: block;width: 100%;margin-bottom: 0;padding: 0.3em;box-sizing: border-box;text-align: center;}#sk-container-id-11 label.sk-toggleable__label-arrow:before {content: \"▸\";float: left;margin-right: 0.25em;color: #696969;}#sk-container-id-11 label.sk-toggleable__label-arrow:hover:before {color: black;}#sk-container-id-11 div.sk-estimator:hover label.sk-toggleable__label-arrow:before {color: black;}#sk-container-id-11 div.sk-toggleable__content {max-height: 0;max-width: 0;overflow: hidden;text-align: left;background-color: #f0f8ff;}#sk-container-id-11 div.sk-toggleable__content pre {margin: 0.2em;color: black;border-radius: 0.25em;background-color: #f0f8ff;}#sk-container-id-11 input.sk-toggleable__control:checked~div.sk-toggleable__content {max-height: 200px;max-width: 100%;overflow: auto;}#sk-container-id-11 input.sk-toggleable__control:checked~label.sk-toggleable__label-arrow:before {content: \"▾\";}#sk-container-id-11 div.sk-estimator input.sk-toggleable__control:checked~label.sk-toggleable__label {background-color: #d4ebff;}#sk-container-id-11 div.sk-label input.sk-toggleable__control:checked~label.sk-toggleable__label {background-color: #d4ebff;}#sk-container-id-11 input.sk-hidden--visually {border: 0;clip: rect(1px 1px 1px 1px);clip: rect(1px, 1px, 1px, 1px);height: 1px;margin: -1px;overflow: hidden;padding: 0;position: absolute;width: 1px;}#sk-container-id-11 div.sk-estimator {font-family: monospace;background-color: #f0f8ff;border: 1px dotted black;border-radius: 0.25em;box-sizing: border-box;margin-bottom: 0.5em;}#sk-container-id-11 div.sk-estimator:hover {background-color: #d4ebff;}#sk-container-id-11 div.sk-parallel-item::after {content: \"\";width: 100%;border-bottom: 1px solid gray;flex-grow: 1;}#sk-container-id-11 div.sk-label:hover label.sk-toggleable__label {background-color: #d4ebff;}#sk-container-id-11 div.sk-serial::before {content: \"\";position: absolute;border-left: 1px solid gray;box-sizing: border-box;top: 0;bottom: 0;left: 50%;z-index: 0;}#sk-container-id-11 div.sk-serial {display: flex;flex-direction: column;align-items: center;background-color: white;padding-right: 0.2em;padding-left: 0.2em;position: relative;}#sk-container-id-11 div.sk-item {position: relative;z-index: 1;}#sk-container-id-11 div.sk-parallel {display: flex;align-items: stretch;justify-content: center;background-color: white;position: relative;}#sk-container-id-11 div.sk-item::before, #sk-container-id-11 div.sk-parallel-item::before {content: \"\";position: absolute;border-left: 1px solid gray;box-sizing: border-box;top: 0;bottom: 0;left: 50%;z-index: -1;}#sk-container-id-11 div.sk-parallel-item {display: flex;flex-direction: column;z-index: 1;position: relative;background-color: white;}#sk-container-id-11 div.sk-parallel-item:first-child::after {align-self: flex-end;width: 50%;}#sk-container-id-11 div.sk-parallel-item:last-child::after {align-self: flex-start;width: 50%;}#sk-container-id-11 div.sk-parallel-item:only-child::after {width: 0;}#sk-container-id-11 div.sk-dashed-wrapped {border: 1px dashed gray;margin: 0 0.4em 0.5em 0.4em;box-sizing: border-box;padding-bottom: 0.4em;background-color: white;}#sk-container-id-11 div.sk-label label {font-family: monospace;font-weight: bold;display: inline-block;line-height: 1.2em;}#sk-container-id-11 div.sk-label-container {text-align: center;}#sk-container-id-11 div.sk-container {/* jupyter's `normalize.less` sets `[hidden] { display: none; }` but bootstrap.min.css set `[hidden] { display: none !important; }` so we also need the `!important` here to be able to override the default hidden behavior on the sphinx rendered scikit-learn.org. See: https://github.com/scikit-learn/scikit-learn/issues/21755 */display: inline-block !important;position: relative;}#sk-container-id-11 div.sk-text-repr-fallback {display: none;}</style><div id=\"sk-container-id-11\" class=\"sk-top-container\"><div class=\"sk-text-repr-fallback\"><pre>RandomForestRegressor(max_depth=10, n_estimators=10)</pre><b>In a Jupyter environment, please rerun this cell to show the HTML representation or trust the notebook. <br />On GitHub, the HTML representation is unable to render, please try loading this page with nbviewer.org.</b></div><div class=\"sk-container\" hidden><div class=\"sk-item\"><div class=\"sk-estimator sk-toggleable\"><input class=\"sk-toggleable__control sk-hidden--visually\" id=\"sk-estimator-id-11\" type=\"checkbox\" checked><label for=\"sk-estimator-id-11\" class=\"sk-toggleable__label sk-toggleable__label-arrow\">RandomForestRegressor</label><div class=\"sk-toggleable__content\"><pre>RandomForestRegressor(max_depth=10, n_estimators=10)</pre></div></div></div></div></div>"
      ],
      "text/plain": [
       "RandomForestRegressor(max_depth=10, n_estimators=10)"
      ]
     },
     "execution_count": 50,
     "metadata": {},
     "output_type": "execute_result"
    }
   ],
   "source": [
    "#curveball randomforest\n",
    "rfr6 = RandomForestRegressor(n_estimators=10, max_depth=10)\n",
    "rfr6.fit(X6_train, y6_train)"
   ]
  },
  {
   "cell_type": "code",
   "execution_count": 51,
   "id": "7da184cf",
   "metadata": {},
   "outputs": [
    {
     "data": {
      "text/html": [
       "<style>#sk-container-id-12 {color: black;}#sk-container-id-12 pre{padding: 0;}#sk-container-id-12 div.sk-toggleable {background-color: white;}#sk-container-id-12 label.sk-toggleable__label {cursor: pointer;display: block;width: 100%;margin-bottom: 0;padding: 0.3em;box-sizing: border-box;text-align: center;}#sk-container-id-12 label.sk-toggleable__label-arrow:before {content: \"▸\";float: left;margin-right: 0.25em;color: #696969;}#sk-container-id-12 label.sk-toggleable__label-arrow:hover:before {color: black;}#sk-container-id-12 div.sk-estimator:hover label.sk-toggleable__label-arrow:before {color: black;}#sk-container-id-12 div.sk-toggleable__content {max-height: 0;max-width: 0;overflow: hidden;text-align: left;background-color: #f0f8ff;}#sk-container-id-12 div.sk-toggleable__content pre {margin: 0.2em;color: black;border-radius: 0.25em;background-color: #f0f8ff;}#sk-container-id-12 input.sk-toggleable__control:checked~div.sk-toggleable__content {max-height: 200px;max-width: 100%;overflow: auto;}#sk-container-id-12 input.sk-toggleable__control:checked~label.sk-toggleable__label-arrow:before {content: \"▾\";}#sk-container-id-12 div.sk-estimator input.sk-toggleable__control:checked~label.sk-toggleable__label {background-color: #d4ebff;}#sk-container-id-12 div.sk-label input.sk-toggleable__control:checked~label.sk-toggleable__label {background-color: #d4ebff;}#sk-container-id-12 input.sk-hidden--visually {border: 0;clip: rect(1px 1px 1px 1px);clip: rect(1px, 1px, 1px, 1px);height: 1px;margin: -1px;overflow: hidden;padding: 0;position: absolute;width: 1px;}#sk-container-id-12 div.sk-estimator {font-family: monospace;background-color: #f0f8ff;border: 1px dotted black;border-radius: 0.25em;box-sizing: border-box;margin-bottom: 0.5em;}#sk-container-id-12 div.sk-estimator:hover {background-color: #d4ebff;}#sk-container-id-12 div.sk-parallel-item::after {content: \"\";width: 100%;border-bottom: 1px solid gray;flex-grow: 1;}#sk-container-id-12 div.sk-label:hover label.sk-toggleable__label {background-color: #d4ebff;}#sk-container-id-12 div.sk-serial::before {content: \"\";position: absolute;border-left: 1px solid gray;box-sizing: border-box;top: 0;bottom: 0;left: 50%;z-index: 0;}#sk-container-id-12 div.sk-serial {display: flex;flex-direction: column;align-items: center;background-color: white;padding-right: 0.2em;padding-left: 0.2em;position: relative;}#sk-container-id-12 div.sk-item {position: relative;z-index: 1;}#sk-container-id-12 div.sk-parallel {display: flex;align-items: stretch;justify-content: center;background-color: white;position: relative;}#sk-container-id-12 div.sk-item::before, #sk-container-id-12 div.sk-parallel-item::before {content: \"\";position: absolute;border-left: 1px solid gray;box-sizing: border-box;top: 0;bottom: 0;left: 50%;z-index: -1;}#sk-container-id-12 div.sk-parallel-item {display: flex;flex-direction: column;z-index: 1;position: relative;background-color: white;}#sk-container-id-12 div.sk-parallel-item:first-child::after {align-self: flex-end;width: 50%;}#sk-container-id-12 div.sk-parallel-item:last-child::after {align-self: flex-start;width: 50%;}#sk-container-id-12 div.sk-parallel-item:only-child::after {width: 0;}#sk-container-id-12 div.sk-dashed-wrapped {border: 1px dashed gray;margin: 0 0.4em 0.5em 0.4em;box-sizing: border-box;padding-bottom: 0.4em;background-color: white;}#sk-container-id-12 div.sk-label label {font-family: monospace;font-weight: bold;display: inline-block;line-height: 1.2em;}#sk-container-id-12 div.sk-label-container {text-align: center;}#sk-container-id-12 div.sk-container {/* jupyter's `normalize.less` sets `[hidden] { display: none; }` but bootstrap.min.css set `[hidden] { display: none !important; }` so we also need the `!important` here to be able to override the default hidden behavior on the sphinx rendered scikit-learn.org. See: https://github.com/scikit-learn/scikit-learn/issues/21755 */display: inline-block !important;position: relative;}#sk-container-id-12 div.sk-text-repr-fallback {display: none;}</style><div id=\"sk-container-id-12\" class=\"sk-top-container\"><div class=\"sk-text-repr-fallback\"><pre>XGBRegressor(base_score=None, booster=None, callbacks=None,\n",
       "             colsample_bylevel=None, colsample_bynode=None,\n",
       "             colsample_bytree=None, early_stopping_rounds=None,\n",
       "             enable_categorical=False, eval_metric=None, feature_types=None,\n",
       "             gamma=None, gpu_id=None, grow_policy=None, importance_type=None,\n",
       "             interaction_constraints=None, learning_rate=None, max_bin=None,\n",
       "             max_cat_threshold=None, max_cat_to_onehot=None,\n",
       "             max_delta_step=None, max_depth=None, max_leaves=None,\n",
       "             min_child_weight=None, missing=nan, monotone_constraints=None,\n",
       "             n_estimators=100, n_jobs=None, num_parallel_tree=None,\n",
       "             predictor=None, random_state=None, ...)</pre><b>In a Jupyter environment, please rerun this cell to show the HTML representation or trust the notebook. <br />On GitHub, the HTML representation is unable to render, please try loading this page with nbviewer.org.</b></div><div class=\"sk-container\" hidden><div class=\"sk-item\"><div class=\"sk-estimator sk-toggleable\"><input class=\"sk-toggleable__control sk-hidden--visually\" id=\"sk-estimator-id-12\" type=\"checkbox\" checked><label for=\"sk-estimator-id-12\" class=\"sk-toggleable__label sk-toggleable__label-arrow\">XGBRegressor</label><div class=\"sk-toggleable__content\"><pre>XGBRegressor(base_score=None, booster=None, callbacks=None,\n",
       "             colsample_bylevel=None, colsample_bynode=None,\n",
       "             colsample_bytree=None, early_stopping_rounds=None,\n",
       "             enable_categorical=False, eval_metric=None, feature_types=None,\n",
       "             gamma=None, gpu_id=None, grow_policy=None, importance_type=None,\n",
       "             interaction_constraints=None, learning_rate=None, max_bin=None,\n",
       "             max_cat_threshold=None, max_cat_to_onehot=None,\n",
       "             max_delta_step=None, max_depth=None, max_leaves=None,\n",
       "             min_child_weight=None, missing=nan, monotone_constraints=None,\n",
       "             n_estimators=100, n_jobs=None, num_parallel_tree=None,\n",
       "             predictor=None, random_state=None, ...)</pre></div></div></div></div></div>"
      ],
      "text/plain": [
       "XGBRegressor(base_score=None, booster=None, callbacks=None,\n",
       "             colsample_bylevel=None, colsample_bynode=None,\n",
       "             colsample_bytree=None, early_stopping_rounds=None,\n",
       "             enable_categorical=False, eval_metric=None, feature_types=None,\n",
       "             gamma=None, gpu_id=None, grow_policy=None, importance_type=None,\n",
       "             interaction_constraints=None, learning_rate=None, max_bin=None,\n",
       "             max_cat_threshold=None, max_cat_to_onehot=None,\n",
       "             max_delta_step=None, max_depth=None, max_leaves=None,\n",
       "             min_child_weight=None, missing=nan, monotone_constraints=None,\n",
       "             n_estimators=100, n_jobs=None, num_parallel_tree=None,\n",
       "             predictor=None, random_state=None, ...)"
      ]
     },
     "execution_count": 51,
     "metadata": {},
     "output_type": "execute_result"
    }
   ],
   "source": [
    "#curveball xgboost\n",
    "xgb_model6 = XGBRegressor()\n",
    "xgb_model6.fit(X6_train, y6_train)"
   ]
  },
  {
   "cell_type": "code",
   "execution_count": 52,
   "id": "15b4a5a5",
   "metadata": {},
   "outputs": [],
   "source": [
    "#curveball feature importances\n",
    "feature_importances6r = pd.DataFrame(rfr6.feature_importances_, index = X6_train.columns, columns=['importance']).sort_values('importance', ascending=False)\n",
    "feature_importances6x = pd.DataFrame(xgb_model6.feature_importances_, index = X6_train.columns, columns=['importance']).sort_values('importance', ascending=False)\n",
    "feature_importances6 = feature_importances6x.join(feature_importances6r,  how='outer', lsuffix='_xgb', rsuffix='_rf')\n",
    "feature_importances6['mean_importance_CB'] = (feature_importances6['importance_xgb'] + feature_importances6['importance_rf']) / 2\n",
    "feature_importances6 = feature_importances6.sort_values(by='mean_importance_CB', ascending=False).drop(['importance_xgb', 'importance_rf'], axis=1).reset_index()"
   ]
  },
  {
   "cell_type": "code",
   "execution_count": 53,
   "id": "64618828",
   "metadata": {},
   "outputs": [],
   "source": [
    "#merge the feature importances to create the full table\n",
    "mean_features0 = feature_importances1.merge(feature_importances2, on='index', how='left')\n",
    "mean_features1 = mean_features0.merge(feature_importances3, on='index', how='left')\n",
    "mean_features2 = mean_features1.merge(feature_importances4, on='index', how='left')\n",
    "mean_features3 = mean_features2.merge(feature_importances5, on='index', how='left')\n",
    "mean_features = mean_features3.merge(feature_importances6, on='index', how='left')\n",
    "\n",
    "#mean_features.to_csv(r'2023stuffplus_feature_importances2.csv', index=False)"
   ]
  },
  {
   "cell_type": "code",
   "execution_count": 54,
   "id": "53ad22f3",
   "metadata": {},
   "outputs": [
    {
     "name": "stderr",
     "output_type": "stream",
     "text": [
      "C:\\Users\\parke\\AppData\\Local\\Temp\\ipykernel_11100\\2053571981.py:1: SettingWithCopyWarning: \n",
      "A value is trying to be set on a copy of a slice from a DataFrame.\n",
      "Try using .loc[row_indexer,col_indexer] = value instead\n",
      "\n",
      "See the caveats in the documentation: https://pandas.pydata.org/pandas-docs/stable/user_guide/indexing.html#returning-a-view-versus-a-copy\n",
      "  dcb['rfPredictRV'] = rfr6.predict(X6)\n",
      "C:\\Users\\parke\\AppData\\Local\\Temp\\ipykernel_11100\\2053571981.py:2: SettingWithCopyWarning: \n",
      "A value is trying to be set on a copy of a slice from a DataFrame.\n",
      "Try using .loc[row_indexer,col_indexer] = value instead\n",
      "\n",
      "See the caveats in the documentation: https://pandas.pydata.org/pandas-docs/stable/user_guide/indexing.html#returning-a-view-versus-a-copy\n",
      "  dcb['xgPredictRV'] = xgb_model6.predict(X6)\n",
      "C:\\Users\\parke\\AppData\\Local\\Temp\\ipykernel_11100\\2053571981.py:3: SettingWithCopyWarning: \n",
      "A value is trying to be set on a copy of a slice from a DataFrame.\n",
      "Try using .loc[row_indexer,col_indexer] = value instead\n",
      "\n",
      "See the caveats in the documentation: https://pandas.pydata.org/pandas-docs/stable/user_guide/indexing.html#returning-a-view-versus-a-copy\n",
      "  dcb['xRV'] = (dcb['rfPredictRV'] + dcb['xgPredictRV']) / 2\n"
     ]
    }
   ],
   "source": [
    "dcb['rfPredictRV'] = rfr6.predict(X6)\n",
    "dcb['xgPredictRV'] = xgb_model6.predict(X6)\n",
    "dcb['xRV'] = (dcb['rfPredictRV'] + dcb['xgPredictRV']) / 2"
   ]
  },
  {
   "cell_type": "code",
   "execution_count": 55,
   "id": "3c20bdf1",
   "metadata": {},
   "outputs": [
    {
     "data": {
      "text/html": [
       "<style>#sk-container-id-13 {color: black;}#sk-container-id-13 pre{padding: 0;}#sk-container-id-13 div.sk-toggleable {background-color: white;}#sk-container-id-13 label.sk-toggleable__label {cursor: pointer;display: block;width: 100%;margin-bottom: 0;padding: 0.3em;box-sizing: border-box;text-align: center;}#sk-container-id-13 label.sk-toggleable__label-arrow:before {content: \"▸\";float: left;margin-right: 0.25em;color: #696969;}#sk-container-id-13 label.sk-toggleable__label-arrow:hover:before {color: black;}#sk-container-id-13 div.sk-estimator:hover label.sk-toggleable__label-arrow:before {color: black;}#sk-container-id-13 div.sk-toggleable__content {max-height: 0;max-width: 0;overflow: hidden;text-align: left;background-color: #f0f8ff;}#sk-container-id-13 div.sk-toggleable__content pre {margin: 0.2em;color: black;border-radius: 0.25em;background-color: #f0f8ff;}#sk-container-id-13 input.sk-toggleable__control:checked~div.sk-toggleable__content {max-height: 200px;max-width: 100%;overflow: auto;}#sk-container-id-13 input.sk-toggleable__control:checked~label.sk-toggleable__label-arrow:before {content: \"▾\";}#sk-container-id-13 div.sk-estimator input.sk-toggleable__control:checked~label.sk-toggleable__label {background-color: #d4ebff;}#sk-container-id-13 div.sk-label input.sk-toggleable__control:checked~label.sk-toggleable__label {background-color: #d4ebff;}#sk-container-id-13 input.sk-hidden--visually {border: 0;clip: rect(1px 1px 1px 1px);clip: rect(1px, 1px, 1px, 1px);height: 1px;margin: -1px;overflow: hidden;padding: 0;position: absolute;width: 1px;}#sk-container-id-13 div.sk-estimator {font-family: monospace;background-color: #f0f8ff;border: 1px dotted black;border-radius: 0.25em;box-sizing: border-box;margin-bottom: 0.5em;}#sk-container-id-13 div.sk-estimator:hover {background-color: #d4ebff;}#sk-container-id-13 div.sk-parallel-item::after {content: \"\";width: 100%;border-bottom: 1px solid gray;flex-grow: 1;}#sk-container-id-13 div.sk-label:hover label.sk-toggleable__label {background-color: #d4ebff;}#sk-container-id-13 div.sk-serial::before {content: \"\";position: absolute;border-left: 1px solid gray;box-sizing: border-box;top: 0;bottom: 0;left: 50%;z-index: 0;}#sk-container-id-13 div.sk-serial {display: flex;flex-direction: column;align-items: center;background-color: white;padding-right: 0.2em;padding-left: 0.2em;position: relative;}#sk-container-id-13 div.sk-item {position: relative;z-index: 1;}#sk-container-id-13 div.sk-parallel {display: flex;align-items: stretch;justify-content: center;background-color: white;position: relative;}#sk-container-id-13 div.sk-item::before, #sk-container-id-13 div.sk-parallel-item::before {content: \"\";position: absolute;border-left: 1px solid gray;box-sizing: border-box;top: 0;bottom: 0;left: 50%;z-index: -1;}#sk-container-id-13 div.sk-parallel-item {display: flex;flex-direction: column;z-index: 1;position: relative;background-color: white;}#sk-container-id-13 div.sk-parallel-item:first-child::after {align-self: flex-end;width: 50%;}#sk-container-id-13 div.sk-parallel-item:last-child::after {align-self: flex-start;width: 50%;}#sk-container-id-13 div.sk-parallel-item:only-child::after {width: 0;}#sk-container-id-13 div.sk-dashed-wrapped {border: 1px dashed gray;margin: 0 0.4em 0.5em 0.4em;box-sizing: border-box;padding-bottom: 0.4em;background-color: white;}#sk-container-id-13 div.sk-label label {font-family: monospace;font-weight: bold;display: inline-block;line-height: 1.2em;}#sk-container-id-13 div.sk-label-container {text-align: center;}#sk-container-id-13 div.sk-container {/* jupyter's `normalize.less` sets `[hidden] { display: none; }` but bootstrap.min.css set `[hidden] { display: none !important; }` so we also need the `!important` here to be able to override the default hidden behavior on the sphinx rendered scikit-learn.org. See: https://github.com/scikit-learn/scikit-learn/issues/21755 */display: inline-block !important;position: relative;}#sk-container-id-13 div.sk-text-repr-fallback {display: none;}</style><div id=\"sk-container-id-13\" class=\"sk-top-container\"><div class=\"sk-text-repr-fallback\"><pre>RandomForestRegressor(max_depth=10, n_estimators=10)</pre><b>In a Jupyter environment, please rerun this cell to show the HTML representation or trust the notebook. <br />On GitHub, the HTML representation is unable to render, please try loading this page with nbviewer.org.</b></div><div class=\"sk-container\" hidden><div class=\"sk-item\"><div class=\"sk-estimator sk-toggleable\"><input class=\"sk-toggleable__control sk-hidden--visually\" id=\"sk-estimator-id-13\" type=\"checkbox\" checked><label for=\"sk-estimator-id-13\" class=\"sk-toggleable__label sk-toggleable__label-arrow\">RandomForestRegressor</label><div class=\"sk-toggleable__content\"><pre>RandomForestRegressor(max_depth=10, n_estimators=10)</pre></div></div></div></div></div>"
      ],
      "text/plain": [
       "RandomForestRegressor(max_depth=10, n_estimators=10)"
      ]
     },
     "execution_count": 55,
     "metadata": {},
     "output_type": "execute_result"
    }
   ],
   "source": [
    "#splitter randomforest\n",
    "rfr7 = RandomForestRegressor(n_estimators=10, max_depth=10)\n",
    "rfr7.fit(X7_train, y7_train)"
   ]
  },
  {
   "cell_type": "code",
   "execution_count": 56,
   "id": "85c83c6d",
   "metadata": {},
   "outputs": [
    {
     "data": {
      "text/html": [
       "<style>#sk-container-id-14 {color: black;}#sk-container-id-14 pre{padding: 0;}#sk-container-id-14 div.sk-toggleable {background-color: white;}#sk-container-id-14 label.sk-toggleable__label {cursor: pointer;display: block;width: 100%;margin-bottom: 0;padding: 0.3em;box-sizing: border-box;text-align: center;}#sk-container-id-14 label.sk-toggleable__label-arrow:before {content: \"▸\";float: left;margin-right: 0.25em;color: #696969;}#sk-container-id-14 label.sk-toggleable__label-arrow:hover:before {color: black;}#sk-container-id-14 div.sk-estimator:hover label.sk-toggleable__label-arrow:before {color: black;}#sk-container-id-14 div.sk-toggleable__content {max-height: 0;max-width: 0;overflow: hidden;text-align: left;background-color: #f0f8ff;}#sk-container-id-14 div.sk-toggleable__content pre {margin: 0.2em;color: black;border-radius: 0.25em;background-color: #f0f8ff;}#sk-container-id-14 input.sk-toggleable__control:checked~div.sk-toggleable__content {max-height: 200px;max-width: 100%;overflow: auto;}#sk-container-id-14 input.sk-toggleable__control:checked~label.sk-toggleable__label-arrow:before {content: \"▾\";}#sk-container-id-14 div.sk-estimator input.sk-toggleable__control:checked~label.sk-toggleable__label {background-color: #d4ebff;}#sk-container-id-14 div.sk-label input.sk-toggleable__control:checked~label.sk-toggleable__label {background-color: #d4ebff;}#sk-container-id-14 input.sk-hidden--visually {border: 0;clip: rect(1px 1px 1px 1px);clip: rect(1px, 1px, 1px, 1px);height: 1px;margin: -1px;overflow: hidden;padding: 0;position: absolute;width: 1px;}#sk-container-id-14 div.sk-estimator {font-family: monospace;background-color: #f0f8ff;border: 1px dotted black;border-radius: 0.25em;box-sizing: border-box;margin-bottom: 0.5em;}#sk-container-id-14 div.sk-estimator:hover {background-color: #d4ebff;}#sk-container-id-14 div.sk-parallel-item::after {content: \"\";width: 100%;border-bottom: 1px solid gray;flex-grow: 1;}#sk-container-id-14 div.sk-label:hover label.sk-toggleable__label {background-color: #d4ebff;}#sk-container-id-14 div.sk-serial::before {content: \"\";position: absolute;border-left: 1px solid gray;box-sizing: border-box;top: 0;bottom: 0;left: 50%;z-index: 0;}#sk-container-id-14 div.sk-serial {display: flex;flex-direction: column;align-items: center;background-color: white;padding-right: 0.2em;padding-left: 0.2em;position: relative;}#sk-container-id-14 div.sk-item {position: relative;z-index: 1;}#sk-container-id-14 div.sk-parallel {display: flex;align-items: stretch;justify-content: center;background-color: white;position: relative;}#sk-container-id-14 div.sk-item::before, #sk-container-id-14 div.sk-parallel-item::before {content: \"\";position: absolute;border-left: 1px solid gray;box-sizing: border-box;top: 0;bottom: 0;left: 50%;z-index: -1;}#sk-container-id-14 div.sk-parallel-item {display: flex;flex-direction: column;z-index: 1;position: relative;background-color: white;}#sk-container-id-14 div.sk-parallel-item:first-child::after {align-self: flex-end;width: 50%;}#sk-container-id-14 div.sk-parallel-item:last-child::after {align-self: flex-start;width: 50%;}#sk-container-id-14 div.sk-parallel-item:only-child::after {width: 0;}#sk-container-id-14 div.sk-dashed-wrapped {border: 1px dashed gray;margin: 0 0.4em 0.5em 0.4em;box-sizing: border-box;padding-bottom: 0.4em;background-color: white;}#sk-container-id-14 div.sk-label label {font-family: monospace;font-weight: bold;display: inline-block;line-height: 1.2em;}#sk-container-id-14 div.sk-label-container {text-align: center;}#sk-container-id-14 div.sk-container {/* jupyter's `normalize.less` sets `[hidden] { display: none; }` but bootstrap.min.css set `[hidden] { display: none !important; }` so we also need the `!important` here to be able to override the default hidden behavior on the sphinx rendered scikit-learn.org. See: https://github.com/scikit-learn/scikit-learn/issues/21755 */display: inline-block !important;position: relative;}#sk-container-id-14 div.sk-text-repr-fallback {display: none;}</style><div id=\"sk-container-id-14\" class=\"sk-top-container\"><div class=\"sk-text-repr-fallback\"><pre>XGBRegressor(base_score=None, booster=None, callbacks=None,\n",
       "             colsample_bylevel=None, colsample_bynode=None,\n",
       "             colsample_bytree=None, early_stopping_rounds=None,\n",
       "             enable_categorical=False, eval_metric=None, feature_types=None,\n",
       "             gamma=None, gpu_id=None, grow_policy=None, importance_type=None,\n",
       "             interaction_constraints=None, learning_rate=None, max_bin=None,\n",
       "             max_cat_threshold=None, max_cat_to_onehot=None,\n",
       "             max_delta_step=None, max_depth=None, max_leaves=None,\n",
       "             min_child_weight=None, missing=nan, monotone_constraints=None,\n",
       "             n_estimators=100, n_jobs=None, num_parallel_tree=None,\n",
       "             predictor=None, random_state=None, ...)</pre><b>In a Jupyter environment, please rerun this cell to show the HTML representation or trust the notebook. <br />On GitHub, the HTML representation is unable to render, please try loading this page with nbviewer.org.</b></div><div class=\"sk-container\" hidden><div class=\"sk-item\"><div class=\"sk-estimator sk-toggleable\"><input class=\"sk-toggleable__control sk-hidden--visually\" id=\"sk-estimator-id-14\" type=\"checkbox\" checked><label for=\"sk-estimator-id-14\" class=\"sk-toggleable__label sk-toggleable__label-arrow\">XGBRegressor</label><div class=\"sk-toggleable__content\"><pre>XGBRegressor(base_score=None, booster=None, callbacks=None,\n",
       "             colsample_bylevel=None, colsample_bynode=None,\n",
       "             colsample_bytree=None, early_stopping_rounds=None,\n",
       "             enable_categorical=False, eval_metric=None, feature_types=None,\n",
       "             gamma=None, gpu_id=None, grow_policy=None, importance_type=None,\n",
       "             interaction_constraints=None, learning_rate=None, max_bin=None,\n",
       "             max_cat_threshold=None, max_cat_to_onehot=None,\n",
       "             max_delta_step=None, max_depth=None, max_leaves=None,\n",
       "             min_child_weight=None, missing=nan, monotone_constraints=None,\n",
       "             n_estimators=100, n_jobs=None, num_parallel_tree=None,\n",
       "             predictor=None, random_state=None, ...)</pre></div></div></div></div></div>"
      ],
      "text/plain": [
       "XGBRegressor(base_score=None, booster=None, callbacks=None,\n",
       "             colsample_bylevel=None, colsample_bynode=None,\n",
       "             colsample_bytree=None, early_stopping_rounds=None,\n",
       "             enable_categorical=False, eval_metric=None, feature_types=None,\n",
       "             gamma=None, gpu_id=None, grow_policy=None, importance_type=None,\n",
       "             interaction_constraints=None, learning_rate=None, max_bin=None,\n",
       "             max_cat_threshold=None, max_cat_to_onehot=None,\n",
       "             max_delta_step=None, max_depth=None, max_leaves=None,\n",
       "             min_child_weight=None, missing=nan, monotone_constraints=None,\n",
       "             n_estimators=100, n_jobs=None, num_parallel_tree=None,\n",
       "             predictor=None, random_state=None, ...)"
      ]
     },
     "execution_count": 56,
     "metadata": {},
     "output_type": "execute_result"
    }
   ],
   "source": [
    "#splitter xgboost\n",
    "xgb_model7 = XGBRegressor()\n",
    "xgb_model7.fit(X7_train, y7_train)"
   ]
  },
  {
   "cell_type": "code",
   "execution_count": 57,
   "id": "d0d73eae",
   "metadata": {},
   "outputs": [
    {
     "name": "stderr",
     "output_type": "stream",
     "text": [
      "C:\\Users\\parke\\AppData\\Local\\Temp\\ipykernel_11100\\3618380927.py:1: SettingWithCopyWarning: \n",
      "A value is trying to be set on a copy of a slice from a DataFrame.\n",
      "Try using .loc[row_indexer,col_indexer] = value instead\n",
      "\n",
      "See the caveats in the documentation: https://pandas.pydata.org/pandas-docs/stable/user_guide/indexing.html#returning-a-view-versus-a-copy\n",
      "  dsp['rfPredictRV'] = rfr7.predict(X7)\n",
      "C:\\Users\\parke\\AppData\\Local\\Temp\\ipykernel_11100\\3618380927.py:2: SettingWithCopyWarning: \n",
      "A value is trying to be set on a copy of a slice from a DataFrame.\n",
      "Try using .loc[row_indexer,col_indexer] = value instead\n",
      "\n",
      "See the caveats in the documentation: https://pandas.pydata.org/pandas-docs/stable/user_guide/indexing.html#returning-a-view-versus-a-copy\n",
      "  dsp['xgPredictRV'] = xgb_model7.predict(X7)\n",
      "C:\\Users\\parke\\AppData\\Local\\Temp\\ipykernel_11100\\3618380927.py:3: SettingWithCopyWarning: \n",
      "A value is trying to be set on a copy of a slice from a DataFrame.\n",
      "Try using .loc[row_indexer,col_indexer] = value instead\n",
      "\n",
      "See the caveats in the documentation: https://pandas.pydata.org/pandas-docs/stable/user_guide/indexing.html#returning-a-view-versus-a-copy\n",
      "  dsp['xRV'] = (dsp['rfPredictRV'] + dsp['xgPredictRV']) / 2\n"
     ]
    }
   ],
   "source": [
    "dsp['rfPredictRV'] = rfr7.predict(X7)\n",
    "dsp['xgPredictRV'] = xgb_model7.predict(X7)\n",
    "dsp['xRV'] = (dsp['rfPredictRV'] + dsp['xgPredictRV']) / 2"
   ]
  },
  {
   "cell_type": "markdown",
   "metadata": {},
   "source": [
    "Now, calculate Stuff+"
   ]
  },
  {
   "cell_type": "code",
   "execution_count": 58,
   "id": "37cadcb8",
   "metadata": {},
   "outputs": [
    {
     "name": "stderr",
     "output_type": "stream",
     "text": [
      "C:\\Users\\parke\\AppData\\Local\\Temp\\ipykernel_11100\\3046490841.py:1: SettingWithCopyWarning: \n",
      "A value is trying to be set on a copy of a slice from a DataFrame.\n",
      "Try using .loc[row_indexer,col_indexer] = value instead\n",
      "\n",
      "See the caveats in the documentation: https://pandas.pydata.org/pandas-docs/stable/user_guide/indexing.html#returning-a-view-versus-a-copy\n",
      "  dff['xRV/100'] = dff['xRV'] * 100\n",
      "C:\\Users\\parke\\AppData\\Local\\Temp\\ipykernel_11100\\3046490841.py:2: SettingWithCopyWarning: \n",
      "A value is trying to be set on a copy of a slice from a DataFrame.\n",
      "Try using .loc[row_indexer,col_indexer] = value instead\n",
      "\n",
      "See the caveats in the documentation: https://pandas.pydata.org/pandas-docs/stable/user_guide/indexing.html#returning-a-view-versus-a-copy\n",
      "  dfc['xRV/100'] = dfc['xRV'] * 100\n",
      "C:\\Users\\parke\\AppData\\Local\\Temp\\ipykernel_11100\\3046490841.py:3: SettingWithCopyWarning: \n",
      "A value is trying to be set on a copy of a slice from a DataFrame.\n",
      "Try using .loc[row_indexer,col_indexer] = value instead\n",
      "\n",
      "See the caveats in the documentation: https://pandas.pydata.org/pandas-docs/stable/user_guide/indexing.html#returning-a-view-versus-a-copy\n",
      "  dsk['xRV/100'] = dsk['xRV'] * 100\n",
      "C:\\Users\\parke\\AppData\\Local\\Temp\\ipykernel_11100\\3046490841.py:4: SettingWithCopyWarning: \n",
      "A value is trying to be set on a copy of a slice from a DataFrame.\n",
      "Try using .loc[row_indexer,col_indexer] = value instead\n",
      "\n",
      "See the caveats in the documentation: https://pandas.pydata.org/pandas-docs/stable/user_guide/indexing.html#returning-a-view-versus-a-copy\n",
      "  dch['xRV/100'] = dch['xRV'] * 100\n",
      "C:\\Users\\parke\\AppData\\Local\\Temp\\ipykernel_11100\\3046490841.py:5: SettingWithCopyWarning: \n",
      "A value is trying to be set on a copy of a slice from a DataFrame.\n",
      "Try using .loc[row_indexer,col_indexer] = value instead\n",
      "\n",
      "See the caveats in the documentation: https://pandas.pydata.org/pandas-docs/stable/user_guide/indexing.html#returning-a-view-versus-a-copy\n",
      "  dcb['xRV/100'] = dcb['xRV'] * 100\n",
      "C:\\Users\\parke\\AppData\\Local\\Temp\\ipykernel_11100\\3046490841.py:6: SettingWithCopyWarning: \n",
      "A value is trying to be set on a copy of a slice from a DataFrame.\n",
      "Try using .loc[row_indexer,col_indexer] = value instead\n",
      "\n",
      "See the caveats in the documentation: https://pandas.pydata.org/pandas-docs/stable/user_guide/indexing.html#returning-a-view-versus-a-copy\n",
      "  dsl['xRV/100'] = dsl['xRV'] * 100\n",
      "C:\\Users\\parke\\AppData\\Local\\Temp\\ipykernel_11100\\3046490841.py:7: SettingWithCopyWarning: \n",
      "A value is trying to be set on a copy of a slice from a DataFrame.\n",
      "Try using .loc[row_indexer,col_indexer] = value instead\n",
      "\n",
      "See the caveats in the documentation: https://pandas.pydata.org/pandas-docs/stable/user_guide/indexing.html#returning-a-view-versus-a-copy\n",
      "  dsp['xRV/100'] = dsp['xRV'] * 100\n"
     ]
    }
   ],
   "source": [
    "dff['xRV/100'] = dff['xRV'] * 100\n",
    "dfc['xRV/100'] = dfc['xRV'] * 100\n",
    "dsk['xRV/100'] = dsk['xRV'] * 100\n",
    "dch['xRV/100'] = dch['xRV'] * 100\n",
    "dcb['xRV/100'] = dcb['xRV'] * 100\n",
    "dsl['xRV/100'] = dsl['xRV'] * 100\n",
    "dsp['xRV/100'] = dsp['xRV'] * 100"
   ]
  },
  {
   "cell_type": "code",
   "execution_count": 59,
   "id": "2e8c4469",
   "metadata": {},
   "outputs": [],
   "source": [
    "#Create a new column called xRV/100 scaled negative which is the xRV/100 - 3.503456\n",
    "dff = dff.assign(xRV100_scaled_negative=dff['xRV/100'] - 3.50345)\n",
    "dfc = dfc.assign(xRV100_scaled_negative=dfc['xRV/100'] - 3.50345)\n",
    "dsk = dsk.assign(xRV100_scaled_negative=dsk['xRV/100'] - 3.50345)\n",
    "dch = dch.assign(xRV100_scaled_negative=dch['xRV/100'] - 3.50345)\n",
    "dsl = dsl.assign(xRV100_scaled_negative=dsl['xRV/100'] - 3.50345)\n",
    "dcb = dcb.assign(xRV100_scaled_negative=dcb['xRV/100'] - 3.50345)\n",
    "dsp = dsp.assign(xRV100_scaled_negative=dsp['xRV/100'] - 3.50345)"
   ]
  },
  {
   "cell_type": "code",
   "execution_count": 60,
   "id": "67ed9e0a",
   "metadata": {},
   "outputs": [],
   "source": [
    "#Create a new column which is the aboslute value of xRV/100 scaled negative\n",
    "dff = dff.assign(xRV100_scaled_negative_abs=dff['xRV100_scaled_negative'].abs())\n",
    "dfc = dfc.assign(xRV100_scaled_negative_abs=dfc['xRV100_scaled_negative'].abs())\n",
    "dsk = dsk.assign(xRV100_scaled_negative_abs=dsk['xRV100_scaled_negative'].abs())\n",
    "dch = dch.assign(xRV100_scaled_negative_abs=dch['xRV100_scaled_negative'].abs())\n",
    "dsl = dsl.assign(xRV100_scaled_negative_abs=dsl['xRV100_scaled_negative'].abs())\n",
    "dcb = dcb.assign(xRV100_scaled_negative_abs=dcb['xRV100_scaled_negative'].abs())\n",
    "dsp = dsp.assign(xRV100_scaled_negative_abs=dsp['xRV100_scaled_negative'].abs())"
   ]
  },
  {
   "cell_type": "code",
   "execution_count": 61,
   "id": "25a91eca",
   "metadata": {},
   "outputs": [],
   "source": [
    "#create a new column called Stuff+ which is ((xRV100_scaled_negative_abs)/mean of xRV100_scaled_negative_abs) * 100\n",
    "dff = dff.assign(Stuff_plus=(dff['xRV100_scaled_negative_abs']/dff['xRV100_scaled_negative_abs'].mean())*100)\n",
    "dfc = dfc.assign(Stuff_plus=(dfc['xRV100_scaled_negative_abs']/dfc['xRV100_scaled_negative_abs'].mean())*100)\n",
    "dsk = dsk.assign(Stuff_plus=(dsk['xRV100_scaled_negative_abs']/dsk['xRV100_scaled_negative_abs'].mean())*100)\n",
    "dch = dch.assign(Stuff_plus=(dch['xRV100_scaled_negative_abs']/dch['xRV100_scaled_negative_abs'].mean())*100)\n",
    "dsl = dsl.assign(Stuff_plus=(dsl['xRV100_scaled_negative_abs']/dsl['xRV100_scaled_negative_abs'].mean())*100)\n",
    "dcb = dcb.assign(Stuff_plus=(dcb['xRV100_scaled_negative_abs']/dcb['xRV100_scaled_negative_abs'].mean())*100)\n",
    "dsp = dsp.assign(Stuff_plus=(dsp['xRV100_scaled_negative_abs']/dsp['xRV100_scaled_negative_abs'].mean())*100)"
   ]
  },
  {
   "cell_type": "markdown",
   "metadata": {},
   "source": [
    "For each pitch type subset, get each pitcher's average Stuff+."
   ]
  },
  {
   "cell_type": "code",
   "execution_count": 62,
   "id": "89b6891d",
   "metadata": {},
   "outputs": [],
   "source": [
    "#fastball averages\n",
    "dffavg = dff.groupby(['Pitcher', 'PitcherTeam', 'TaggedPitchType']).agg({'RelSpeed': 'mean', 'SpinRate': 'mean', 'InducedVertBreak': 'mean', 'HorzBreak': 'mean', 'VertApprAngle': 'mean', 'Stuff_plus': 'mean'}).reset_index()"
   ]
  },
  {
   "cell_type": "code",
   "execution_count": 63,
   "id": "0f13da97",
   "metadata": {},
   "outputs": [],
   "source": [
    "pff = dff.groupby(['Pitcher', 'PitcherTeam']).size().to_numpy()\n",
    "dffavg['PitchCount'] = pff"
   ]
  },
  {
   "cell_type": "code",
   "execution_count": 64,
   "id": "9a204180",
   "metadata": {},
   "outputs": [],
   "source": [
    "dffavg = dffavg.round(2)"
   ]
  },
  {
   "cell_type": "code",
   "execution_count": 65,
   "id": "033d1280",
   "metadata": {},
   "outputs": [
    {
     "data": {
      "text/html": [
       "<div>\n",
       "<style scoped>\n",
       "    .dataframe tbody tr th:only-of-type {\n",
       "        vertical-align: middle;\n",
       "    }\n",
       "\n",
       "    .dataframe tbody tr th {\n",
       "        vertical-align: top;\n",
       "    }\n",
       "\n",
       "    .dataframe thead th {\n",
       "        text-align: right;\n",
       "    }\n",
       "</style>\n",
       "<table border=\"1\" class=\"dataframe\">\n",
       "  <thead>\n",
       "    <tr style=\"text-align: right;\">\n",
       "      <th></th>\n",
       "      <th>Pitcher</th>\n",
       "      <th>PitcherTeam</th>\n",
       "      <th>TaggedPitchType</th>\n",
       "      <th>RelSpeed</th>\n",
       "      <th>SpinRate</th>\n",
       "      <th>InducedVertBreak</th>\n",
       "      <th>HorzBreak</th>\n",
       "      <th>VertApprAngle</th>\n",
       "      <th>Stuff_plus</th>\n",
       "      <th>PitchCount</th>\n",
       "    </tr>\n",
       "  </thead>\n",
       "  <tbody>\n",
       "    <tr>\n",
       "      <th>4129</th>\n",
       "      <td>Paul Skenes</td>\n",
       "      <td>LSU_TIG</td>\n",
       "      <td>Fastball</td>\n",
       "      <td>98.25</td>\n",
       "      <td>2517.75</td>\n",
       "      <td>15.79</td>\n",
       "      <td>17.08</td>\n",
       "      <td>-5.08</td>\n",
       "      <td>154.97</td>\n",
       "      <td>887</td>\n",
       "    </tr>\n",
       "  </tbody>\n",
       "</table>\n",
       "</div>"
      ],
      "text/plain": [
       "          Pitcher PitcherTeam TaggedPitchType  RelSpeed  SpinRate  \\\n",
       "4129  Paul Skenes     LSU_TIG        Fastball     98.25   2517.75   \n",
       "\n",
       "      InducedVertBreak  HorzBreak  VertApprAngle  Stuff_plus  PitchCount  \n",
       "4129             15.79      17.08          -5.08      154.97         887  "
      ]
     },
     "execution_count": 65,
     "metadata": {},
     "output_type": "execute_result"
    }
   ],
   "source": [
    "dffavg.loc[dffavg['Pitcher'] == 'Paul Skenes']"
   ]
  },
  {
   "cell_type": "code",
   "execution_count": 66,
   "id": "60ce8909",
   "metadata": {},
   "outputs": [],
   "source": [
    "#cutter average\n",
    "dfcavg = dfc.groupby(['Pitcher', 'PitcherTeam', 'TaggedPitchType']).agg({'RelSpeed': 'mean', 'SpinRate': 'mean', 'InducedVertBreak': 'mean', 'HorzBreak': 'mean', 'VertApprAngle': 'mean', 'Stuff_plus': 'mean'}).reset_index()"
   ]
  },
  {
   "cell_type": "code",
   "execution_count": 67,
   "id": "b1f4d891",
   "metadata": {},
   "outputs": [],
   "source": [
    "pcc = dfc.groupby(['Pitcher', 'PitcherTeam']).size().to_numpy()\n",
    "dfcavg['PitchCount'] = pcc"
   ]
  },
  {
   "cell_type": "code",
   "execution_count": 68,
   "id": "c29fd971",
   "metadata": {},
   "outputs": [],
   "source": [
    "dfcavg = dfcavg.round(2)"
   ]
  },
  {
   "cell_type": "code",
   "execution_count": 69,
   "id": "297e66b3",
   "metadata": {},
   "outputs": [],
   "source": [
    "#sinkers\n",
    "dskavg = dsk.groupby(['Pitcher', 'PitcherTeam', 'TaggedPitchType']).agg({'RelSpeed': 'mean', 'SpinRate': 'mean', 'InducedVertBreak': 'mean', 'HorzBreak': 'mean', 'VertApprAngle': 'mean', 'Stuff_plus': 'mean'}).reset_index()"
   ]
  },
  {
   "cell_type": "code",
   "execution_count": 70,
   "id": "62ee83e8",
   "metadata": {},
   "outputs": [],
   "source": [
    "psk = dsk.groupby(['Pitcher', 'PitcherTeam']).size().to_numpy()\n",
    "dskavg['PitchCount'] = psk"
   ]
  },
  {
   "cell_type": "code",
   "execution_count": 71,
   "id": "dde5b3e4",
   "metadata": {},
   "outputs": [],
   "source": [
    "dskavg = dskavg.round(2)"
   ]
  },
  {
   "cell_type": "code",
   "execution_count": 72,
   "id": "7facd866",
   "metadata": {},
   "outputs": [],
   "source": [
    "#changeups\n",
    "dchavg = dch.groupby(['Pitcher', 'PitcherTeam', 'TaggedPitchType']).agg({'RelSpeed': 'mean', 'SpinRate': 'mean', 'InducedVertBreak': 'mean', 'HorzBreak': 'mean', 'VertApprAngle': 'mean', 'Stuff_plus': 'mean'}).reset_index()"
   ]
  },
  {
   "cell_type": "code",
   "execution_count": 73,
   "id": "c42e9bf6",
   "metadata": {},
   "outputs": [],
   "source": [
    "pch = dch.groupby(['Pitcher', 'PitcherTeam']).size().to_numpy()\n",
    "dchavg['PitchCount'] = pch"
   ]
  },
  {
   "cell_type": "code",
   "execution_count": 74,
   "id": "a47c5afa",
   "metadata": {},
   "outputs": [],
   "source": [
    "dchavg = dchavg.round(2)"
   ]
  },
  {
   "cell_type": "code",
   "execution_count": 75,
   "id": "1a354fc5",
   "metadata": {},
   "outputs": [],
   "source": [
    "#sliders\n",
    "dslavg = dsl.groupby(['Pitcher', 'PitcherTeam', 'TaggedPitchType']).agg({'RelSpeed': 'mean', 'SpinRate': 'mean', 'InducedVertBreak': 'mean', 'HorzBreak': 'mean', 'VertApprAngle': 'mean', 'Stuff_plus': 'mean'}).reset_index()"
   ]
  },
  {
   "cell_type": "code",
   "execution_count": 76,
   "id": "9b999fc1",
   "metadata": {},
   "outputs": [],
   "source": [
    "psl = dsl.groupby(['Pitcher', 'PitcherTeam']).size().to_numpy()\n",
    "dslavg['PitchCount'] = psl"
   ]
  },
  {
   "cell_type": "code",
   "execution_count": 77,
   "id": "336bf62c",
   "metadata": {},
   "outputs": [],
   "source": [
    "dslavg = dslavg.round(2)"
   ]
  },
  {
   "cell_type": "code",
   "execution_count": 78,
   "id": "16903151",
   "metadata": {},
   "outputs": [],
   "source": [
    "#curveball\n",
    "dcbavg = dcb.groupby(['Pitcher', 'PitcherTeam', 'TaggedPitchType']).agg({'RelSpeed': 'mean', 'SpinRate': 'mean', 'InducedVertBreak': 'mean', 'HorzBreak': 'mean', 'VertApprAngle': 'mean', 'Stuff_plus': 'mean'}).reset_index()"
   ]
  },
  {
   "cell_type": "code",
   "execution_count": 79,
   "id": "f30520fa",
   "metadata": {},
   "outputs": [],
   "source": [
    "pcb = dcb.groupby(['Pitcher', 'PitcherTeam']).size().to_numpy()\n",
    "dcbavg['PitchCount'] = pcb"
   ]
  },
  {
   "cell_type": "code",
   "execution_count": 80,
   "id": "4919171a",
   "metadata": {},
   "outputs": [],
   "source": [
    "dcbavg = dcbavg.round(2)"
   ]
  },
  {
   "cell_type": "code",
   "execution_count": 81,
   "id": "57f39444",
   "metadata": {},
   "outputs": [],
   "source": [
    "#splitter\n",
    "dspavg = dsp.groupby(['Pitcher', 'PitcherTeam', 'TaggedPitchType']).agg({'RelSpeed': 'mean', 'SpinRate': 'mean', 'InducedVertBreak': 'mean', 'HorzBreak': 'mean', 'VertApprAngle': 'mean', 'Stuff_plus': 'mean'}).reset_index()"
   ]
  },
  {
   "cell_type": "code",
   "execution_count": 82,
   "id": "c3a674f2",
   "metadata": {},
   "outputs": [],
   "source": [
    "psp = dsp.groupby(['Pitcher', 'PitcherTeam']).size().to_numpy()\n",
    "dspavg['PitchCount'] = psp"
   ]
  },
  {
   "cell_type": "code",
   "execution_count": 83,
   "id": "5450e3bb",
   "metadata": {},
   "outputs": [],
   "source": [
    "dstuffplus = pd.concat([dffavg, dfcavg, dskavg, dchavg, dcbavg, dslavg, dspavg])"
   ]
  },
  {
   "cell_type": "markdown",
   "metadata": {},
   "source": [
    "The final table with Stuff+ for each pitcher by pitch type:"
   ]
  },
  {
   "cell_type": "code",
   "execution_count": 100,
   "metadata": {},
   "outputs": [
    {
     "data": {
      "text/html": [
       "<div>\n",
       "<style scoped>\n",
       "    .dataframe tbody tr th:only-of-type {\n",
       "        vertical-align: middle;\n",
       "    }\n",
       "\n",
       "    .dataframe tbody tr th {\n",
       "        vertical-align: top;\n",
       "    }\n",
       "\n",
       "    .dataframe thead th {\n",
       "        text-align: right;\n",
       "    }\n",
       "</style>\n",
       "<table border=\"1\" class=\"dataframe\">\n",
       "  <thead>\n",
       "    <tr style=\"text-align: right;\">\n",
       "      <th></th>\n",
       "      <th>Pitcher</th>\n",
       "      <th>PitcherTeam</th>\n",
       "      <th>TaggedPitchType</th>\n",
       "      <th>RelSpeed</th>\n",
       "      <th>SpinRate</th>\n",
       "      <th>InducedVertBreak</th>\n",
       "      <th>HorzBreak</th>\n",
       "      <th>VertApprAngle</th>\n",
       "      <th>Stuff_plus</th>\n",
       "      <th>PitchCount</th>\n",
       "    </tr>\n",
       "  </thead>\n",
       "  <tbody>\n",
       "    <tr>\n",
       "      <th>3503</th>\n",
       "      <td>blaine palmer</td>\n",
       "      <td>ABI_WIL</td>\n",
       "      <td>Curveball</td>\n",
       "      <td>75.20</td>\n",
       "      <td>2528.93</td>\n",
       "      <td>-9.05</td>\n",
       "      <td>-16.51</td>\n",
       "      <td>-10.63</td>\n",
       "      <td>77.59</td>\n",
       "      <td>4</td>\n",
       "    </tr>\n",
       "    <tr>\n",
       "      <th>1076</th>\n",
       "      <td>blaine palmer</td>\n",
       "      <td>ABI_WIL</td>\n",
       "      <td>Cutter</td>\n",
       "      <td>82.80</td>\n",
       "      <td>2373.13</td>\n",
       "      <td>5.94</td>\n",
       "      <td>-4.95</td>\n",
       "      <td>-7.28</td>\n",
       "      <td>51.04</td>\n",
       "      <td>7</td>\n",
       "    </tr>\n",
       "    <tr>\n",
       "      <th>5311</th>\n",
       "      <td>blaine palmer</td>\n",
       "      <td>ABI_WIL</td>\n",
       "      <td>Fastball</td>\n",
       "      <td>90.32</td>\n",
       "      <td>2252.62</td>\n",
       "      <td>14.77</td>\n",
       "      <td>8.67</td>\n",
       "      <td>-5.55</td>\n",
       "      <td>82.52</td>\n",
       "      <td>26</td>\n",
       "    </tr>\n",
       "    <tr>\n",
       "      <th>5312</th>\n",
       "      <td>cory arther</td>\n",
       "      <td>AND_UNI</td>\n",
       "      <td>Fastball</td>\n",
       "      <td>83.64</td>\n",
       "      <td>2176.19</td>\n",
       "      <td>16.09</td>\n",
       "      <td>-8.25</td>\n",
       "      <td>-3.73</td>\n",
       "      <td>113.89</td>\n",
       "      <td>7</td>\n",
       "    </tr>\n",
       "    <tr>\n",
       "      <th>4993</th>\n",
       "      <td>cory arther</td>\n",
       "      <td>AND_UNI</td>\n",
       "      <td>Slider</td>\n",
       "      <td>73.20</td>\n",
       "      <td>1871.65</td>\n",
       "      <td>-8.83</td>\n",
       "      <td>10.13</td>\n",
       "      <td>-9.20</td>\n",
       "      <td>43.79</td>\n",
       "      <td>3</td>\n",
       "    </tr>\n",
       "    <tr>\n",
       "      <th>4994</th>\n",
       "      <td>kaleb king</td>\n",
       "      <td>AND_UNI</td>\n",
       "      <td>Slider</td>\n",
       "      <td>75.10</td>\n",
       "      <td>2561.12</td>\n",
       "      <td>-5.44</td>\n",
       "      <td>14.62</td>\n",
       "      <td>-9.07</td>\n",
       "      <td>37.08</td>\n",
       "      <td>5</td>\n",
       "    </tr>\n",
       "    <tr>\n",
       "      <th>4522</th>\n",
       "      <td>kaleb king</td>\n",
       "      <td>AND_UNI</td>\n",
       "      <td>ChangeUp</td>\n",
       "      <td>78.98</td>\n",
       "      <td>2414.52</td>\n",
       "      <td>-1.22</td>\n",
       "      <td>7.81</td>\n",
       "      <td>-7.64</td>\n",
       "      <td>88.25</td>\n",
       "      <td>4</td>\n",
       "    </tr>\n",
       "    <tr>\n",
       "      <th>5313</th>\n",
       "      <td>kaleb king</td>\n",
       "      <td>AND_UNI</td>\n",
       "      <td>Fastball</td>\n",
       "      <td>88.38</td>\n",
       "      <td>2382.55</td>\n",
       "      <td>14.42</td>\n",
       "      <td>-1.46</td>\n",
       "      <td>-5.13</td>\n",
       "      <td>83.64</td>\n",
       "      <td>28</td>\n",
       "    </tr>\n",
       "    <tr>\n",
       "      <th>4995</th>\n",
       "      <td>mac ketchin</td>\n",
       "      <td>AND_UNI</td>\n",
       "      <td>Slider</td>\n",
       "      <td>78.45</td>\n",
       "      <td>2321.03</td>\n",
       "      <td>-0.25</td>\n",
       "      <td>-6.47</td>\n",
       "      <td>-7.80</td>\n",
       "      <td>100.61</td>\n",
       "      <td>14</td>\n",
       "    </tr>\n",
       "    <tr>\n",
       "      <th>5314</th>\n",
       "      <td>mac ketchin</td>\n",
       "      <td>AND_UNI</td>\n",
       "      <td>Fastball</td>\n",
       "      <td>86.64</td>\n",
       "      <td>2175.96</td>\n",
       "      <td>14.09</td>\n",
       "      <td>14.68</td>\n",
       "      <td>-4.46</td>\n",
       "      <td>86.74</td>\n",
       "      <td>21</td>\n",
       "    </tr>\n",
       "  </tbody>\n",
       "</table>\n",
       "</div>"
      ],
      "text/plain": [
       "            Pitcher PitcherTeam TaggedPitchType  RelSpeed  SpinRate  \\\n",
       "3503  blaine palmer     ABI_WIL       Curveball     75.20   2528.93   \n",
       "1076  blaine palmer     ABI_WIL          Cutter     82.80   2373.13   \n",
       "5311  blaine palmer     ABI_WIL        Fastball     90.32   2252.62   \n",
       "5312    cory arther     AND_UNI        Fastball     83.64   2176.19   \n",
       "4993    cory arther     AND_UNI          Slider     73.20   1871.65   \n",
       "4994     kaleb king     AND_UNI          Slider     75.10   2561.12   \n",
       "4522     kaleb king     AND_UNI        ChangeUp     78.98   2414.52   \n",
       "5313     kaleb king     AND_UNI        Fastball     88.38   2382.55   \n",
       "4995    mac ketchin     AND_UNI          Slider     78.45   2321.03   \n",
       "5314    mac ketchin     AND_UNI        Fastball     86.64   2175.96   \n",
       "\n",
       "      InducedVertBreak  HorzBreak  VertApprAngle  Stuff_plus  PitchCount  \n",
       "3503             -9.05     -16.51         -10.63       77.59           4  \n",
       "1076              5.94      -4.95          -7.28       51.04           7  \n",
       "5311             14.77       8.67          -5.55       82.52          26  \n",
       "5312             16.09      -8.25          -3.73      113.89           7  \n",
       "4993             -8.83      10.13          -9.20       43.79           3  \n",
       "4994             -5.44      14.62          -9.07       37.08           5  \n",
       "4522             -1.22       7.81          -7.64       88.25           4  \n",
       "5313             14.42      -1.46          -5.13       83.64          28  \n",
       "4995             -0.25      -6.47          -7.80      100.61          14  \n",
       "5314             14.09      14.68          -4.46       86.74          21  "
      ]
     },
     "execution_count": 100,
     "metadata": {},
     "output_type": "execute_result"
    }
   ],
   "source": [
    "dstuffplus.sort_values(by=['Pitcher']).tail(10)"
   ]
  },
  {
   "cell_type": "markdown",
   "metadata": {},
   "source": [
    "The arsenal Stuff+ value is calculated with a weighted average by pitch count (the mean no longer being 100):"
   ]
  },
  {
   "cell_type": "code",
   "execution_count": 85,
   "id": "daa3ccf1",
   "metadata": {},
   "outputs": [],
   "source": [
    "def w_avg(df, values, weights):\n",
    "    d = df[values]\n",
    "    w = df[weights]\n",
    "    return (d * w).sum() / w.sum()"
   ]
  },
  {
   "cell_type": "code",
   "execution_count": 94,
   "id": "a8406053",
   "metadata": {},
   "outputs": [],
   "source": [
    "dstuffplus_arsenal = dstuffplus.groupby(['Pitcher', 'PitcherTeam']).apply(w_avg, 'Stuff_plus', 'PitchCount').reset_index().rename(columns={0: 'Stuff+'})"
   ]
  },
  {
   "cell_type": "code",
   "execution_count": 96,
   "id": "53649897",
   "metadata": {},
   "outputs": [
    {
     "data": {
      "text/html": [
       "<div>\n",
       "<style scoped>\n",
       "    .dataframe tbody tr th:only-of-type {\n",
       "        vertical-align: middle;\n",
       "    }\n",
       "\n",
       "    .dataframe tbody tr th {\n",
       "        vertical-align: top;\n",
       "    }\n",
       "\n",
       "    .dataframe thead th {\n",
       "        text-align: right;\n",
       "    }\n",
       "</style>\n",
       "<table border=\"1\" class=\"dataframe\">\n",
       "  <thead>\n",
       "    <tr style=\"text-align: right;\">\n",
       "      <th></th>\n",
       "      <th>Pitcher</th>\n",
       "      <th>PitcherTeam</th>\n",
       "      <th>Stuff+</th>\n",
       "    </tr>\n",
       "  </thead>\n",
       "  <tbody>\n",
       "    <tr>\n",
       "      <th>5430</th>\n",
       "      <td>Zeke Swartz</td>\n",
       "      <td>PIE_LIO</td>\n",
       "      <td>71.854268</td>\n",
       "    </tr>\n",
       "    <tr>\n",
       "      <th>5431</th>\n",
       "      <td>Zeke Wood</td>\n",
       "      <td>TEX_BOB</td>\n",
       "      <td>116.769865</td>\n",
       "    </tr>\n",
       "    <tr>\n",
       "      <th>5432</th>\n",
       "      <td>Zeph Hoffpauir</td>\n",
       "      <td>NEW_PRI</td>\n",
       "      <td>98.600778</td>\n",
       "    </tr>\n",
       "    <tr>\n",
       "      <th>5433</th>\n",
       "      <td>Zeus Ponder</td>\n",
       "      <td>SOU_COU</td>\n",
       "      <td>103.688220</td>\n",
       "    </tr>\n",
       "    <tr>\n",
       "      <th>5434</th>\n",
       "      <td>Zion Clay</td>\n",
       "      <td>BER_COL1</td>\n",
       "      <td>75.424167</td>\n",
       "    </tr>\n",
       "    <tr>\n",
       "      <th>5435</th>\n",
       "      <td>austin mercado</td>\n",
       "      <td>AND_UNI</td>\n",
       "      <td>83.225714</td>\n",
       "    </tr>\n",
       "    <tr>\n",
       "      <th>5436</th>\n",
       "      <td>blaine palmer</td>\n",
       "      <td>ABI_WIL</td>\n",
       "      <td>76.031351</td>\n",
       "    </tr>\n",
       "    <tr>\n",
       "      <th>5437</th>\n",
       "      <td>cory arther</td>\n",
       "      <td>AND_UNI</td>\n",
       "      <td>92.860000</td>\n",
       "    </tr>\n",
       "    <tr>\n",
       "      <th>5438</th>\n",
       "      <td>kaleb king</td>\n",
       "      <td>AND_UNI</td>\n",
       "      <td>77.846486</td>\n",
       "    </tr>\n",
       "    <tr>\n",
       "      <th>5439</th>\n",
       "      <td>mac ketchin</td>\n",
       "      <td>AND_UNI</td>\n",
       "      <td>92.288000</td>\n",
       "    </tr>\n",
       "  </tbody>\n",
       "</table>\n",
       "</div>"
      ],
      "text/plain": [
       "             Pitcher PitcherTeam      Stuff+\n",
       "5430     Zeke Swartz     PIE_LIO   71.854268\n",
       "5431       Zeke Wood     TEX_BOB  116.769865\n",
       "5432  Zeph Hoffpauir     NEW_PRI   98.600778\n",
       "5433     Zeus Ponder     SOU_COU  103.688220\n",
       "5434       Zion Clay    BER_COL1   75.424167\n",
       "5435  austin mercado     AND_UNI   83.225714\n",
       "5436   blaine palmer     ABI_WIL   76.031351\n",
       "5437     cory arther     AND_UNI   92.860000\n",
       "5438      kaleb king     AND_UNI   77.846486\n",
       "5439     mac ketchin     AND_UNI   92.288000"
      ]
     },
     "execution_count": 96,
     "metadata": {},
     "output_type": "execute_result"
    }
   ],
   "source": [
    "dstuffplus_arsenal.tail(10)"
   ]
  },
  {
   "cell_type": "markdown",
   "metadata": {},
   "source": [
    "Below are functions that can be used to get the Stuff+ for each pitch type, utilizing the unique trained models for each pitch type:"
   ]
  },
  {
   "cell_type": "code",
   "execution_count": 88,
   "id": "c08b8aa2",
   "metadata": {},
   "outputs": [],
   "source": [
    "def getFBstuff(df):\n",
    "    \n",
    "    '''Function to get fastball stuff plus.\n",
    "    DataFrame must Run Values already input.\n",
    "    Gets xRV, then does calculations to get Stuff+\n",
    "    returns DataFrame with Stuff+ value for each pitch.\n",
    "    Only use for fastballs, function accesses trained model for fastballs.\n",
    "    '''\n",
    "    #first, we need to add some columns that we'll use for prediction.\n",
    "    df.insert(6, \"DifferentialBreak\", df[\"InducedVertBreak\"] - df[\"HorzBreak\"].abs(), True)\n",
    "    df.insert(10, \"ABSSideRelease\", df[\"RelSide\"].abs(), True)\n",
    "    df.insert(11, 'ABSHorzBreak', df['HorzBreak'].abs(), True)\n",
    "\n",
    "    #next, set your predictor and response variables. \n",
    "    X = df[['DifferentialBreak', 'RelSpeed', 'VertRelAngle', 'ABSSideRelease', 'HorzRelAngle', 'SpinRate', 'SpinAxis', \n",
    "        'RelHeight', 'Extension', 'InducedVertBreak', 'ABSHorzBreak', 'VertApprAngle', 'HorzApprAngle', 'EffectiveVelo']]\n",
    "    y = df['RV']\n",
    "\n",
    "    #now, we can use the random forest and xgboost objects from this doc to predict.\n",
    "    #X1 and y1 refer to the objects trained on fastballs.\n",
    "    df['rfPredictRV'] = rfr1.predict(X)\n",
    "    df['xgPredictRV'] = xgb_model1.predict(X)\n",
    "    df['xRV'] = (df['rfPredictRV'] + df['xgPredictRV']) / 2\n",
    "    #the xRV column is the mean of the two different predictors' results.\n",
    "\n",
    "    #calculating Stuff+:\n",
    "\n",
    "    #add a column for xRV * 100\n",
    "    df['xRV100'] = df['xRV'] * 100\n",
    "\n",
    "    #add a column to scale the xRV100, so that we can take its abs\n",
    "    df = df.assign(xRV100_scaled_negative=df['xRV100'] - 3.50345)\n",
    "\n",
    "    df = df.assign(xRV100_scaled_negative_abs=df['xRV100_scaled_negative'].abs())\n",
    "    \n",
    "    #and get the stuff plus:\n",
    "    df_stuffplus = df.assign(Stuff_plus=(df['xRV100_scaled_negative_abs']/df['xRV100_scaled_negative_abs'].mean())*100)\n",
    "\n",
    "    return df_stuffplus"
   ]
  },
  {
   "cell_type": "code",
   "execution_count": 89,
   "id": "83dc94dd",
   "metadata": {},
   "outputs": [],
   "source": [
    "def getCTstuff(df):\n",
    "    \n",
    "    '''Function to get cutter stuff plus.\n",
    "    DataFrame must Run Values already input.\n",
    "    Gets xRV, then does calculations to get Stuff+\n",
    "    returns DataFrame with Stuff+ value for each pitch.\n",
    "    Only use for specific pitch type, function accesses trained model for pitch type.\n",
    "    '''\n",
    "    #first, we need to add some columns that we'll use for prediction.\n",
    "    df.insert(6, \"DifferentialBreak\", df[\"InducedVertBreak\"] - df[\"HorzBreak\"].abs(), True)\n",
    "    df.insert(10, \"ABSSideRelease\", df[\"RelSide\"].abs(), True)\n",
    "    df.insert(11, 'ABSHorzBreak', df['HorzBreak'].abs(), True)\n",
    "\n",
    "    #next, set your predictor and response variables. \n",
    "    X = df[['DifferentialBreak', 'RelSpeed', 'VertRelAngle', 'ABSSideRelease', 'HorzRelAngle', 'SpinRate', 'SpinAxis', \n",
    "        'RelHeight', 'Extension', 'InducedVertBreak', 'ABSHorzBreak', 'VertApprAngle', 'HorzApprAngle', 'EffectiveVelo']]\n",
    "    y = df['RV']\n",
    "\n",
    "    #now, we can use the random forest and xgboost objects from this doc to predict.\n",
    "    #X1 and y1 refer to the objects trained on fastballs.\n",
    "    df['rfPredictRV'] = rfr2.predict(X)\n",
    "    df['xgPredictRV'] = xgb_model2.predict(X)\n",
    "    df['xRV'] = (df['rfPredictRV'] + df['xgPredictRV']) / 2\n",
    "    #the xRV column is the mean of the two different predictors' results.\n",
    "\n",
    "    #calculating Stuff+:\n",
    "\n",
    "    #add a column for xRV * 100\n",
    "    df['xRV100'] = df['xRV'] * 100\n",
    "\n",
    "    #add a column to scale the xRV100, so that we can take its abs\n",
    "    df = df.assign(xRV100_scaled_negative=df['xRV100'] - 3.50345)\n",
    "\n",
    "    df = df.assign(xRV100_scaled_negative_abs=df['xRV100_scaled_negative'].abs())\n",
    "    \n",
    "    #and get the stuff plus:\n",
    "    df_stuffplus = df.assign(Stuff_plus=(df['xRV100_scaled_negative_abs']/df['xRV100_scaled_negative_abs'].mean())*100)\n",
    "\n",
    "    return df_stuffplus"
   ]
  },
  {
   "cell_type": "code",
   "execution_count": 90,
   "id": "a2ab0ff1",
   "metadata": {},
   "outputs": [],
   "source": [
    "def getSKstuff(df):\n",
    "    \n",
    "    '''Function to get sinker stuff plus.\n",
    "    DataFrame must Run Values already input.\n",
    "    Gets xRV, then does calculations to get Stuff+\n",
    "    returns DataFrame with Stuff+ value for each pitch.\n",
    "    Only use for specific pitch type, function accesses trained model for pitch type.\n",
    "    '''\n",
    "    #first, we need to add some columns that we'll use for prediction.\n",
    "    df.insert(6, \"DifferentialBreak\", df[\"InducedVertBreak\"] - df[\"HorzBreak\"].abs(), True)\n",
    "    df.insert(10, \"ABSSideRelease\", df[\"RelSide\"].abs(), True)\n",
    "    df.insert(11, 'ABSHorzBreak', df['HorzBreak'].abs(), True)\n",
    "\n",
    "    #next, set your predictor and response variables. \n",
    "    X = df[['DifferentialBreak', 'RelSpeed', 'VertRelAngle', 'ABSSideRelease', 'HorzRelAngle', 'SpinRate', 'SpinAxis', \n",
    "        'RelHeight', 'Extension', 'InducedVertBreak', 'ABSHorzBreak', 'VertApprAngle', 'HorzApprAngle', 'EffectiveVelo']]\n",
    "    y = df['RV']\n",
    "\n",
    "    #now, we can use the random forest and xgboost objects from this doc to predict.\n",
    "    #X1 and y1 refer to the objects trained on fastballs.\n",
    "    df['rfPredictRV'] = rfr3.predict(X)\n",
    "    df['xgPredictRV'] = xgb_model3.predict(X)\n",
    "    df['xRV'] = (df['rfPredictRV'] + df['xgPredictRV']) / 2\n",
    "    #the xRV column is the mean of the two different predictors' results.\n",
    "\n",
    "    #calculating Stuff+:\n",
    "\n",
    "    #add a column for xRV * 100\n",
    "    df['xRV100'] = df['xRV'] * 100\n",
    "\n",
    "    #add a column to scale the xRV100, so that we can take its abs\n",
    "    df = df.assign(xRV100_scaled_negative=df['xRV100'] - 3.50345)\n",
    "\n",
    "    df = df.assign(xRV100_scaled_negative_abs=df['xRV100_scaled_negative'].abs())\n",
    "    \n",
    "    #and get the stuff plus:\n",
    "    df_stuffplus = df.assign(Stuff_plus=(df['xRV100_scaled_negative_abs']/df['xRV100_scaled_negative_abs'].mean())*100)\n",
    "\n",
    "    return df_stuffplus"
   ]
  },
  {
   "cell_type": "code",
   "execution_count": 91,
   "id": "2d622b61",
   "metadata": {},
   "outputs": [],
   "source": [
    "def getCHstuff(df):\n",
    "    \n",
    "    '''Function to get changeup stuff plus.\n",
    "    DataFrame must Run Values already input.\n",
    "    Gets xRV, then does calculations to get Stuff+\n",
    "    returns DataFrame with Stuff+ value for each pitch.\n",
    "    Only use for specific pitch type, function accesses trained model for pitch type.\n",
    "    '''\n",
    "    #first, we need to add some columns that we'll use for prediction.\n",
    "    df.insert(6, \"DifferentialBreak\", df[\"InducedVertBreak\"] - df[\"HorzBreak\"].abs(), True)\n",
    "    df.insert(10, \"ABSSideRelease\", df[\"RelSide\"].abs(), True)\n",
    "    df.insert(11, 'ABSHorzBreak', df['HorzBreak'].abs(), True)\n",
    "\n",
    "    #next, set your predictor and response variables. \n",
    "    X = df[['DifferentialBreak', 'RelSpeed', 'VertRelAngle', 'ABSSideRelease', 'HorzRelAngle', 'SpinRate', 'SpinAxis', \n",
    "        'RelHeight', 'Extension', 'InducedVertBreak', 'ABSHorzBreak', 'VertApprAngle', 'HorzApprAngle', 'EffectiveVelo']]\n",
    "    y = df['RV']\n",
    "\n",
    "    #now, we can use the random forest and xgboost objects from this doc to predict.\n",
    "    #X1 and y1 refer to the objects trained on fastballs.\n",
    "    df['rfPredictRV'] = rfr5.predict(X)\n",
    "    df['xgPredictRV'] = xgb_model5.predict(X)\n",
    "    df['xRV'] = (df['rfPredictRV'] + df['xgPredictRV']) / 2\n",
    "    #the xRV column is the mean of the two different predictors' results.\n",
    "\n",
    "    #calculating Stuff+:\n",
    "\n",
    "    #add a column for xRV * 100\n",
    "    df['xRV100'] = df['xRV'] * 100\n",
    "\n",
    "    #add a column to scale the xRV100, so that we can take its abs\n",
    "    df = df.assign(xRV100_scaled_negative=df['xRV100'] - 3.50345)\n",
    "\n",
    "    df = df.assign(xRV100_scaled_negative_abs=df['xRV100_scaled_negative'].abs())\n",
    "    \n",
    "    #and get the stuff plus:\n",
    "    df_stuffplus = df.assign(Stuff_plus=(df['xRV100_scaled_negative_abs']/df['xRV100_scaled_negative_abs'].mean())*100)\n",
    "\n",
    "    return df_stuffplus"
   ]
  },
  {
   "cell_type": "code",
   "execution_count": 92,
   "id": "0704b97e",
   "metadata": {},
   "outputs": [],
   "source": [
    "def getSLstuff(df):\n",
    "    \n",
    "    '''Function to get slider stuff plus.\n",
    "    DataFrame must Run Values already input.\n",
    "    Gets xRV, then does calculations to get Stuff+\n",
    "    returns DataFrame with Stuff+ value for each pitch.\n",
    "    Only use for specific pitch type, function accesses trained model for pitch type.\n",
    "    '''\n",
    "    #first, we need to add some columns that we'll use for prediction.\n",
    "    df.insert(6, \"DifferentialBreak\", df[\"InducedVertBreak\"] - df[\"HorzBreak\"].abs(), True)\n",
    "    df.insert(10, \"ABSSideRelease\", df[\"RelSide\"].abs(), True)\n",
    "    df.insert(11, 'ABSHorzBreak', df['HorzBreak'].abs(), True)\n",
    "\n",
    "    #next, set your predictor and response variables. \n",
    "    X = df[['DifferentialBreak', 'RelSpeed', 'VertRelAngle', 'ABSSideRelease', 'HorzRelAngle', 'SpinRate', 'SpinAxis', \n",
    "        'RelHeight', 'Extension', 'InducedVertBreak', 'ABSHorzBreak', 'VertApprAngle', 'HorzApprAngle', 'EffectiveVelo']]\n",
    "    y = df['RV']\n",
    "\n",
    "    #now, we can use the random forest and xgboost objects from this doc to predict.\n",
    "    #X1 and y1 refer to the objects trained on fastballs.\n",
    "    df['rfPredictRV'] = rfr4.predict(X)\n",
    "    df['xgPredictRV'] = xgb_model4.predict(X)\n",
    "    df['xRV'] = (df['rfPredictRV'] + df['xgPredictRV']) / 2\n",
    "    #the xRV column is the mean of the two different predictors' results.\n",
    "\n",
    "    #calculating Stuff+:\n",
    "\n",
    "    #add a column for xRV * 100\n",
    "    df['xRV100'] = df['xRV'] * 100\n",
    "\n",
    "    #add a column to scale the xRV100, so that we can take its abs\n",
    "    df = df.assign(xRV100_scaled_negative=df['xRV100'] - 3.50345)\n",
    "\n",
    "    df = df.assign(xRV100_scaled_negative_abs=df['xRV100_scaled_negative'].abs())\n",
    "    \n",
    "    #and get the stuff plus:\n",
    "    df_stuffplus = df.assign(Stuff_plus=(df['xRV100_scaled_negative_abs']/df['xRV100_scaled_negative_abs'].mean())*100)\n",
    "\n",
    "    return df_stuffplus"
   ]
  },
  {
   "cell_type": "code",
   "execution_count": 93,
   "id": "18222575",
   "metadata": {},
   "outputs": [],
   "source": [
    "def getCBstuff(df):\n",
    "    \n",
    "    '''Function to get curveball stuff plus.\n",
    "    DataFrame must Run Values already input.\n",
    "    Gets xRV, then does calculations to get Stuff+\n",
    "    returns DataFrame with Stuff+ value for each pitch.\n",
    "    Only use for specific pitch type, function accesses trained model for pitch type.\n",
    "    '''\n",
    "    #first, we need to add some columns that we'll use for prediction.\n",
    "    df.insert(6, \"DifferentialBreak\", df[\"InducedVertBreak\"] - df[\"HorzBreak\"].abs(), True)\n",
    "    df.insert(10, \"ABSSideRelease\", df[\"RelSide\"].abs(), True)\n",
    "    df.insert(11, 'ABSHorzBreak', df['HorzBreak'].abs(), True)\n",
    "\n",
    "    #next, set your predictor and response variables. \n",
    "    X = df[['DifferentialBreak', 'RelSpeed', 'VertRelAngle', 'ABSSideRelease', 'HorzRelAngle', 'SpinRate', 'SpinAxis', \n",
    "        'RelHeight', 'Extension', 'InducedVertBreak', 'ABSHorzBreak', 'VertApprAngle', 'HorzApprAngle', 'EffectiveVelo']]\n",
    "    y = df['RV']\n",
    "\n",
    "    #now, we can use the random forest and xgboost objects from this doc to predict.\n",
    "    #X1 and y1 refer to the objects trained on fastballs.\n",
    "    df['rfPredictRV'] = rfr6.predict(X)\n",
    "    df['xgPredictRV'] = xgb_model6.predict(X)\n",
    "    df['xRV'] = (df['rfPredictRV'] + df['xgPredictRV']) / 2\n",
    "    #the xRV column is the mean of the two different predictors' results.\n",
    "\n",
    "    #calculating Stuff+:\n",
    "\n",
    "    #add a column for xRV * 100\n",
    "    df['xRV100'] = df['xRV'] * 100\n",
    "\n",
    "    #add a column to scale the xRV100, so that we can take its abs\n",
    "    df = df.assign(xRV100_scaled_negative=df['xRV100'] - 3.50345)\n",
    "\n",
    "    df = df.assign(xRV100_scaled_negative_abs=df['xRV100_scaled_negative'].abs())\n",
    "    \n",
    "    #and get the stuff plus:\n",
    "    df_stuffplus = df.assign(Stuff_plus=(df['xRV100_scaled_negative_abs']/df['xRV100_scaled_negative_abs'].mean())*100)\n",
    "\n",
    "    return df_stuffplus"
   ]
  }
 ],
 "metadata": {
  "kernelspec": {
   "display_name": "Python 3 (ipykernel)",
   "language": "python",
   "name": "python3"
  },
  "language_info": {
   "codemirror_mode": {
    "name": "ipython",
    "version": 3
   },
   "file_extension": ".py",
   "mimetype": "text/x-python",
   "name": "python",
   "nbconvert_exporter": "python",
   "pygments_lexer": "ipython3",
   "version": "3.11.4"
  }
 },
 "nbformat": 4,
 "nbformat_minor": 5
}
