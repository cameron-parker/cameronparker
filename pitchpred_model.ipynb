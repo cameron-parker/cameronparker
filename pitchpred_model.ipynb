{
 "cells": [
  {
   "cell_type": "code",
   "execution_count": 237,
   "metadata": {},
   "outputs": [],
   "source": [
    "import numpy as np\n",
    "import pandas as pd\n",
    "import matplotlib.pyplot as plt\n",
    "import seaborn as sns\n",
    "from sklearn.ensemble import RandomForestRegressor\n",
    "from sklearn.model_selection import train_test_split, cross_val_score\n",
    "from sklearn.tree import DecisionTreeRegressor\n",
    "from pathlib import Path\n",
    "import statsmodels.api as sm\n",
    "import glob\n",
    "import os\n",
    "import xgboost as xgb\n",
    "from xgboost import XGBRegressor\n",
    "from sklearn.metrics import mean_squared_error\n",
    "import matplotlib.patches as patches\n",
    "from sklearn.model_selection import KFold\n",
    "from sklearn.tree import DecisionTreeClassifier\n",
    "from sklearn.tree import plot_tree\n",
    "from sklearn.ensemble import RandomForestClassifier\n",
    "from sklearn.impute import SimpleImputer"
   ]
  },
  {
   "cell_type": "markdown",
   "metadata": {},
   "source": [
    "This is a model that predicts the likely next pitch type in a unique count, previous pitch type, and previous outcome (ball or strike) sequence. It is useful during games to identify pitch calling tendencies held by the other team in specific pitcher hand - batter side matchups, which is often found in collegiate pitch calling. "
   ]
  },
  {
   "cell_type": "code",
   "execution_count": 238,
   "metadata": {},
   "outputs": [],
   "source": [
    "data2024 = pd.read_csv(r'2024NCAATrackman.csv', low_memory=False)"
   ]
  },
  {
   "cell_type": "code",
   "execution_count": 239,
   "metadata": {},
   "outputs": [],
   "source": [
    "sb2024 = data2024.loc[data2024['PitcherTeam'] == 'ORE_DUC']"
   ]
  },
  {
   "cell_type": "code",
   "execution_count": 240,
   "metadata": {},
   "outputs": [],
   "source": [
    "sb = sb2024.iloc[:, :54]"
   ]
  },
  {
   "cell_type": "markdown",
   "metadata": {},
   "source": [
    "Prep the raw data for the predictor function:"
   ]
  },
  {
   "cell_type": "code",
   "execution_count": 241,
   "metadata": {},
   "outputs": [],
   "source": [
    "sb['Balls'] = sb['Balls'].astype(int)\n",
    "sb['Strikes'] = sb['Strikes'].astype(int)"
   ]
  },
  {
   "cell_type": "code",
   "execution_count": 242,
   "metadata": {},
   "outputs": [],
   "source": [
    "sb['count'] = sb['Balls'].astype(str) + '' + sb['Strikes'].astype(str)"
   ]
  },
  {
   "cell_type": "code",
   "execution_count": 243,
   "metadata": {},
   "outputs": [
    {
     "data": {
      "text/plain": [
       "array(['00', '10', '11', '21', '31', '32', '01', '02', '20', '12', '22',\n",
       "       '30'], dtype=object)"
      ]
     },
     "execution_count": 243,
     "metadata": {},
     "output_type": "execute_result"
    }
   ],
   "source": [
    "sb['count'].unique()"
   ]
  },
  {
   "cell_type": "code",
   "execution_count": 244,
   "metadata": {},
   "outputs": [],
   "source": [
    "counts = ['0 0', '0 1', '1 0', '2 0', \n",
    "                '1 1', '0 2', '3 0', '3 1',\n",
    "                '1 2', '2 1', '2 2', '3 2']"
   ]
  },
  {
   "cell_type": "code",
   "execution_count": 245,
   "metadata": {},
   "outputs": [],
   "source": [
    "sb_rhh_rhp = sb[(sb['PitcherThrows'] == 'Right') & (sb['BatterSide'] == 'Right')]\n",
    "sb_rhh_lhp = sb[(sb['PitcherThrows'] == 'Left') & (sb['BatterSide'] == 'Right')]\n",
    "sb_lhh_lhp = sb[(sb['PitcherThrows'] == 'Left') & (sb['BatterSide'] == 'Left')]\n",
    "sb_lhh_rhp = sb[(sb['PitcherThrows'] == 'Right') & (sb['BatterSide'] == 'Left')]"
   ]
  },
  {
   "cell_type": "code",
   "execution_count": 246,
   "metadata": {},
   "outputs": [],
   "source": [
    "pitch_group_mapping = {\n",
    "        'FourSeamFastBall': 'hard',\n",
    "        'TwoSeamFastBall': 'hard',\n",
    "        'Fastball': 'hard',\n",
    "        'Sinker': 'hard',\n",
    "        'Cutter': 'hard',\n",
    "        'ChangeUp': 'os',\n",
    "        'Changeup': 'os',\n",
    "        'Splitter': 'os',\n",
    "        'Slider': 'break',\n",
    "        'Curveball': 'break',\n",
    "        'Knuckleball': 'os',\n",
    "        'OneSeamFastBall': 'hard'\n",
    "}"
   ]
  },
  {
   "cell_type": "code",
   "execution_count": 247,
   "metadata": {},
   "outputs": [],
   "source": [
    "sb['PitchGroup'] = sb['TaggedPitchType'].map(pitch_group_mapping)"
   ]
  },
  {
   "cell_type": "code",
   "execution_count": 248,
   "metadata": {},
   "outputs": [],
   "source": [
    "sb = sb.dropna(subset=['PitchGroup'])"
   ]
  },
  {
   "cell_type": "code",
   "execution_count": 249,
   "metadata": {},
   "outputs": [],
   "source": [
    "def encodegroup(row):\n",
    "    hit_keywords = ['Fastball', 'Sinker', 'Cutter']\n",
    "    hit2_keywords = ['Slider', 'Curveball']\n",
    "    hit3_keywords = ['ChangeUp', 'Splitter']\n",
    "    if any(keyword in row['TaggedPitchType'] for keyword in hit_keywords):\n",
    "        return 'hard'\n",
    "    elif any(keyword in row['TaggedPitchType'] for keyword in hit2_keywords):\n",
    "        return 'break'\n",
    "    elif any(keyword in row['TaggedPitchType'] for keyword in hit3_keywords):\n",
    "        return 'os'\n",
    "    else:\n",
    "        return pd.NA\n",
    "\n",
    "sb['PitchGroup'] = sb.apply(encodegroup, axis=1)"
   ]
  },
  {
   "cell_type": "code",
   "execution_count": 250,
   "metadata": {},
   "outputs": [],
   "source": [
    "def count_at_bats(df):\n",
    "    at_bats = []\n",
    "    current_pa = None\n",
    "    at_bat_count = 0\n",
    "    \n",
    "    for index, row in df.iterrows():\n",
    "        if row['PAofInning'] != current_pa:\n",
    "            current_pa = row['PAofInning']\n",
    "            at_bat_count += 1\n",
    "        at_bats.append(at_bat_count)\n",
    "    \n",
    "    return at_bats\n",
    "\n",
    "sb['ABcount'] = count_at_bats(sb)"
   ]
  },
  {
   "cell_type": "code",
   "execution_count": 251,
   "metadata": {},
   "outputs": [],
   "source": [
    "def determine_outcome(row):\n",
    "    hit_keywords = ['StrikeCalled', 'StrikeSwinging', 'InPlay', 'FoulBallNotFieldable', 'FoulBallFieldable', 'FoulBall']\n",
    "    hit_keywords2 = ['BallCalled', 'BallinDirt', 'BallIntentional', 'HitByPitch']  # Add all possible variations of 'hit'\n",
    "    if any(keyword in row['PitchCall'] for keyword in hit_keywords):\n",
    "        return 'S'\n",
    "    elif any(keyword in row['PitchCall'] for keyword in hit_keywords2):\n",
    "        return 'B'\n",
    "    else:\n",
    "        return pd.NA\n",
    "\n",
    "sb['outcome'] = sb.apply(determine_outcome, axis=1)"
   ]
  },
  {
   "cell_type": "code",
   "execution_count": 252,
   "metadata": {},
   "outputs": [],
   "source": [
    "sb = sb[sb['PitchCall'] != 'Undefined']"
   ]
  },
  {
   "cell_type": "code",
   "execution_count": 253,
   "metadata": {},
   "outputs": [],
   "source": [
    "count_map = {'00': 0, '01': 1, '10': 2, '20': 3, '11': 4, '02': 5,\n",
    "              '30': 6, '31': 7, '12': 8, '21': 9, '22': 10, '32': 11}\n",
    "sb['count_num'] = sb['count'].map(count_map)\n",
    "\n",
    "# encode previous pitch group and outcome\n",
    "pitch_map = {'hard': 0, 'break': 1, 'os': 2}\n",
    "sb['PitchGroup_encoded'] = sb['PitchGroup'].map(pitch_map)\n",
    "outcome_map = {'S': 1, 'B': 0}\n",
    "sb['Outcome_encoded'] = sb['outcome'].map(outcome_map)\n",
    "\n",
    "sb = sb.dropna(subset=['PitchGroup_encoded', 'Outcome_encoded'])"
   ]
  },
  {
   "cell_type": "code",
   "execution_count": 254,
   "metadata": {},
   "outputs": [],
   "source": [
    "def prep_df(df):\n",
    "    pitch_group_mapping = {\n",
    "    'FourSeamFastball': 'hard',\n",
    "    'TwoSeamFastball': 'hard',\n",
    "    'Fastball': 'hard',\n",
    "    'Sinker': 'hard',\n",
    "    'Cutter': 'hard',\n",
    "    'ChangeUp': 'os',\n",
    "    'Splitter': 'os',\n",
    "    'Slider': 'break',\n",
    "    'Curveball': 'break'\n",
    "    }\n",
    "    df['PitchGroup'] = df['TaggedPitchType'].map(pitch_group_mapping)\n",
    "    df['PitchGroup'] = df.apply(encodegroup, axis=1)\n",
    "    df['ABcount'] = count_at_bats(df)\n",
    "    df['outcome'] = df.apply(determine_outcome, axis=1)\n",
    "\n",
    "    count_map = {'00': 0, '01': 1, '10': 2, '20': 3, '11': 4, '02': 5,\n",
    "              '30': 6, '31': 7, '12': 8, '21': 9, '22': 10, '32': 11}\n",
    "    df['count_num'] = df['count'].map(count_map)\n",
    "\n",
    "    pitch_map = {'hard': 0, 'break': 1, 'os': 2}\n",
    "    df['PitchGroup_encoded'] = df['PitchGroup'].map(pitch_map)\n",
    "    outcome_map = {'S': 1, 'B': 0}\n",
    "    df['Outcome_encoded'] = df['outcome'].map(outcome_map)\n",
    "\n",
    "    df = df.dropna(subset=['PitchGroup_encoded', 'Outcome_encoded'])\n",
    "\n",
    "    return df"
   ]
  },
  {
   "cell_type": "code",
   "execution_count": 255,
   "metadata": {},
   "outputs": [],
   "source": [
    "def predict_at_bat(df):\n",
    "    '''\n",
    "    Function to add predictions to a Trackman DataFrame\n",
    "    given it has been processed with the above code\n",
    "    '''\n",
    "    group_df = df.copy()\n",
    "    \n",
    "    group_df.loc[:, 'previous_pitchgroup'] = group_df.loc[:, 'PitchGroup_encoded'].shift(1)\n",
    "    group_df.loc[:, 'previous_outcome'] = group_df.loc[:, 'Outcome_encoded'].shift(1)\n",
    "    group_df.loc[:, 'prev_pitchgroup'] = group_df.loc[:, 'PitchGroup'].shift(1)\n",
    "    group_df.loc[:, 'prev_outcome'] = group_df.loc[:, 'outcome'].shift(1)\n",
    "\n",
    "    group_df = group_df.dropna(subset=['previous_pitchgroup', 'previous_outcome', 'prev_pitchgroup', 'prev_outcome'])  # drop 0-0 pitches\n",
    "    group_df = group_df[group_df['count_num'] != 0]  # double down to be sure\n",
    "\n",
    "    X = group_df[['count_num', 'previous_pitchgroup', 'previous_outcome']]\n",
    "    y = group_df['PitchGroup'] \n",
    "\n",
    "    clf = RandomForestClassifier(n_estimators=100)\n",
    "    clf.fit(X, y)\n",
    "\n",
    "    group_df.loc[:, 'Predicted_PitchGroup'] = clf.predict(X)\n",
    "\n",
    "    prob_array = clf.predict_proba(X)\n",
    "\n",
    "    break_prob = []\n",
    "    hard_prob = []\n",
    "    os_prob = []\n",
    "\n",
    "    # create the probability columns\n",
    "    for i in range(len(prob_array)):\n",
    "        break_prob.append(prob_array[i][0])\n",
    "        hard_prob.append(prob_array[i][1])\n",
    "        os_prob.append(prob_array[i][2])\n",
    "\n",
    "    group_df.loc[:, 'breakprob'] = break_prob\n",
    "    group_df.loc[:, 'hardprob'] = hard_prob\n",
    "    group_df.loc[:, 'osprob'] = os_prob\n",
    "\n",
    "    # get the score\n",
    "    score = np.round(clf.score(X, y), 3)\n",
    "    print(f\"accuracy: {score}\")\n",
    "\n",
    "    return group_df, clf"
   ]
  },
  {
   "cell_type": "code",
   "execution_count": 256,
   "metadata": {},
   "outputs": [],
   "source": [
    "sb_f = sb[sb.groupby('ABcount')['PitchGroup'].transform('size') > 1] #filter out one-pitch at bats"
   ]
  },
  {
   "cell_type": "code",
   "execution_count": 257,
   "metadata": {},
   "outputs": [
    {
     "name": "stdout",
     "output_type": "stream",
     "text": [
      "accuracy: 0.608\n"
     ]
    }
   ],
   "source": [
    "df, model = predict_at_bat(sb_f)"
   ]
  },
  {
   "cell_type": "code",
   "execution_count": 258,
   "metadata": {},
   "outputs": [],
   "source": [
    "dfshort = df[['PitchGroup', 'outcome', 'count', 'count_num', 'PitchGroup_encoded', 'Outcome_encoded', 'previous_pitchgroup', 'prev_pitchgroup', \n",
    "              'previous_outcome', 'prev_outcome', 'Predicted_PitchGroup', 'breakprob', 'hardprob', 'osprob']]"
   ]
  },
  {
   "cell_type": "code",
   "execution_count": 259,
   "metadata": {},
   "outputs": [],
   "source": [
    "unique_combinations = dfshort.groupby(['count', 'prev_pitchgroup', 'prev_outcome']).first().reset_index()"
   ]
  },
  {
   "cell_type": "code",
   "execution_count": 260,
   "metadata": {},
   "outputs": [],
   "source": [
    "df_probs = unique_combinations[['count', 'prev_pitchgroup', 'prev_outcome', 'Predicted_PitchGroup', 'breakprob', 'hardprob', 'osprob']]"
   ]
  },
  {
   "cell_type": "markdown",
   "metadata": {},
   "source": [
    "Use the unique matchups for better results:"
   ]
  },
  {
   "cell_type": "code",
   "execution_count": 261,
   "metadata": {},
   "outputs": [],
   "source": [
    "df_lp_lb = prep_df(sb_lhh_lhp)\n",
    "df_lp_rb = prep_df(sb_rhh_lhp)\n",
    "df_rp_lb = prep_df(sb_lhh_rhp)\n",
    "df_rp_rb = prep_df(sb_rhh_rhp)"
   ]
  },
  {
   "cell_type": "code",
   "execution_count": 262,
   "metadata": {},
   "outputs": [
    {
     "name": "stdout",
     "output_type": "stream",
     "text": [
      "accuracy: 0.795\n",
      "accuracy: 0.623\n",
      "accuracy: 0.602\n",
      "accuracy: 0.664\n"
     ]
    }
   ],
   "source": [
    "df_lp_lb, m_lp_lb = predict_at_bat(df_lp_lb)\n",
    "df_lp_rb, m_lp_rb = predict_at_bat(df_lp_rb)\n",
    "df_rp_lb, m_rp_lb = predict_at_bat(df_rp_lb)\n",
    "df_rp_rb, m_rp_rb = predict_at_bat(df_rp_rb)"
   ]
  },
  {
   "cell_type": "markdown",
   "metadata": {},
   "source": [
    "Grab the unique combinations of each count-pitchtype sequence:"
   ]
  },
  {
   "cell_type": "code",
   "execution_count": 263,
   "metadata": {},
   "outputs": [],
   "source": [
    "df_lp_lb = df_lp_lb.groupby(['count', 'prev_pitchgroup', 'prev_outcome']).first().reset_index()[['count', 'prev_pitchgroup', 'prev_outcome', 'Predicted_PitchGroup', 'breakprob', 'hardprob', 'osprob']]"
   ]
  },
  {
   "cell_type": "code",
   "execution_count": 264,
   "metadata": {},
   "outputs": [],
   "source": [
    "df_lp_rb = df_lp_rb.groupby(['count', 'prev_pitchgroup', 'prev_outcome']).first().reset_index()[['count', 'prev_pitchgroup', 'prev_outcome', 'Predicted_PitchGroup', 'breakprob', 'hardprob', 'osprob']]"
   ]
  },
  {
   "cell_type": "code",
   "execution_count": 265,
   "metadata": {},
   "outputs": [],
   "source": [
    "df_rp_lb = df_rp_lb.groupby(['count', 'prev_pitchgroup', 'prev_outcome']).first().reset_index()[['count', 'prev_pitchgroup', 'prev_outcome', 'Predicted_PitchGroup', 'breakprob', 'hardprob', 'osprob']]"
   ]
  },
  {
   "cell_type": "code",
   "execution_count": 266,
   "metadata": {},
   "outputs": [],
   "source": [
    "df_rp_rb = df_rp_rb.groupby(['count', 'prev_pitchgroup', 'prev_outcome']).first().reset_index()[['count', 'prev_pitchgroup', 'prev_outcome', 'Predicted_PitchGroup', 'breakprob', 'hardprob', 'osprob']]"
   ]
  },
  {
   "cell_type": "markdown",
   "metadata": {},
   "source": [
    "Final product to be used during a game:"
   ]
  },
  {
   "cell_type": "code",
   "execution_count": 267,
   "metadata": {},
   "outputs": [
    {
     "data": {
      "text/html": [
       "<div>\n",
       "<style scoped>\n",
       "    .dataframe tbody tr th:only-of-type {\n",
       "        vertical-align: middle;\n",
       "    }\n",
       "\n",
       "    .dataframe tbody tr th {\n",
       "        vertical-align: top;\n",
       "    }\n",
       "\n",
       "    .dataframe thead th {\n",
       "        text-align: right;\n",
       "    }\n",
       "</style>\n",
       "<table border=\"1\" class=\"dataframe\">\n",
       "  <thead>\n",
       "    <tr style=\"text-align: right;\">\n",
       "      <th></th>\n",
       "      <th>count</th>\n",
       "      <th>prev_pitchgroup</th>\n",
       "      <th>prev_outcome</th>\n",
       "      <th>Predicted_PitchGroup</th>\n",
       "      <th>breakprob</th>\n",
       "      <th>hardprob</th>\n",
       "      <th>osprob</th>\n",
       "    </tr>\n",
       "  </thead>\n",
       "  <tbody>\n",
       "    <tr>\n",
       "      <th>0</th>\n",
       "      <td>01</td>\n",
       "      <td>break</td>\n",
       "      <td>S</td>\n",
       "      <td>hard</td>\n",
       "      <td>0.400839</td>\n",
       "      <td>0.599161</td>\n",
       "      <td>0.000000</td>\n",
       "    </tr>\n",
       "    <tr>\n",
       "      <th>1</th>\n",
       "      <td>01</td>\n",
       "      <td>hard</td>\n",
       "      <td>S</td>\n",
       "      <td>break</td>\n",
       "      <td>0.628690</td>\n",
       "      <td>0.303855</td>\n",
       "      <td>0.067455</td>\n",
       "    </tr>\n",
       "    <tr>\n",
       "      <th>2</th>\n",
       "      <td>02</td>\n",
       "      <td>break</td>\n",
       "      <td>S</td>\n",
       "      <td>hard</td>\n",
       "      <td>0.218056</td>\n",
       "      <td>0.781944</td>\n",
       "      <td>0.000000</td>\n",
       "    </tr>\n",
       "    <tr>\n",
       "      <th>3</th>\n",
       "      <td>02</td>\n",
       "      <td>hard</td>\n",
       "      <td>S</td>\n",
       "      <td>hard</td>\n",
       "      <td>0.277988</td>\n",
       "      <td>0.580329</td>\n",
       "      <td>0.141683</td>\n",
       "    </tr>\n",
       "    <tr>\n",
       "      <th>4</th>\n",
       "      <td>10</td>\n",
       "      <td>break</td>\n",
       "      <td>B</td>\n",
       "      <td>hard</td>\n",
       "      <td>0.326090</td>\n",
       "      <td>0.673910</td>\n",
       "      <td>0.000000</td>\n",
       "    </tr>\n",
       "    <tr>\n",
       "      <th>5</th>\n",
       "      <td>10</td>\n",
       "      <td>hard</td>\n",
       "      <td>B</td>\n",
       "      <td>hard</td>\n",
       "      <td>0.000000</td>\n",
       "      <td>1.000000</td>\n",
       "      <td>0.000000</td>\n",
       "    </tr>\n",
       "    <tr>\n",
       "      <th>6</th>\n",
       "      <td>11</td>\n",
       "      <td>break</td>\n",
       "      <td>B</td>\n",
       "      <td>break</td>\n",
       "      <td>0.861137</td>\n",
       "      <td>0.138863</td>\n",
       "      <td>0.000000</td>\n",
       "    </tr>\n",
       "    <tr>\n",
       "      <th>7</th>\n",
       "      <td>11</td>\n",
       "      <td>break</td>\n",
       "      <td>S</td>\n",
       "      <td>hard</td>\n",
       "      <td>0.032202</td>\n",
       "      <td>0.967798</td>\n",
       "      <td>0.000000</td>\n",
       "    </tr>\n",
       "    <tr>\n",
       "      <th>8</th>\n",
       "      <td>11</td>\n",
       "      <td>hard</td>\n",
       "      <td>B</td>\n",
       "      <td>hard</td>\n",
       "      <td>0.458984</td>\n",
       "      <td>0.541016</td>\n",
       "      <td>0.000000</td>\n",
       "    </tr>\n",
       "    <tr>\n",
       "      <th>9</th>\n",
       "      <td>11</td>\n",
       "      <td>hard</td>\n",
       "      <td>S</td>\n",
       "      <td>hard</td>\n",
       "      <td>0.371475</td>\n",
       "      <td>0.628525</td>\n",
       "      <td>0.000000</td>\n",
       "    </tr>\n",
       "  </tbody>\n",
       "</table>\n",
       "</div>"
      ],
      "text/plain": [
       "  count prev_pitchgroup prev_outcome Predicted_PitchGroup  breakprob  \\\n",
       "0    01           break            S                 hard   0.400839   \n",
       "1    01            hard            S                break   0.628690   \n",
       "2    02           break            S                 hard   0.218056   \n",
       "3    02            hard            S                 hard   0.277988   \n",
       "4    10           break            B                 hard   0.326090   \n",
       "5    10            hard            B                 hard   0.000000   \n",
       "6    11           break            B                break   0.861137   \n",
       "7    11           break            S                 hard   0.032202   \n",
       "8    11            hard            B                 hard   0.458984   \n",
       "9    11            hard            S                 hard   0.371475   \n",
       "\n",
       "   hardprob    osprob  \n",
       "0  0.599161  0.000000  \n",
       "1  0.303855  0.067455  \n",
       "2  0.781944  0.000000  \n",
       "3  0.580329  0.141683  \n",
       "4  0.673910  0.000000  \n",
       "5  1.000000  0.000000  \n",
       "6  0.138863  0.000000  \n",
       "7  0.967798  0.000000  \n",
       "8  0.541016  0.000000  \n",
       "9  0.628525  0.000000  "
      ]
     },
     "execution_count": 267,
     "metadata": {},
     "output_type": "execute_result"
    }
   ],
   "source": [
    "df_lp_lb.head(10)"
   ]
  }
 ],
 "metadata": {
  "kernelspec": {
   "display_name": "base",
   "language": "python",
   "name": "python3"
  },
  "language_info": {
   "codemirror_mode": {
    "name": "ipython",
    "version": 3
   },
   "file_extension": ".py",
   "mimetype": "text/x-python",
   "name": "python",
   "nbconvert_exporter": "python",
   "pygments_lexer": "ipython3",
   "version": "3.11.8"
  }
 },
 "nbformat": 4,
 "nbformat_minor": 2
}
