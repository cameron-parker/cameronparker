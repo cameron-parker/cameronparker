{
 "cells": [
  {
   "cell_type": "code",
   "execution_count": 19,
   "metadata": {},
   "outputs": [],
   "source": [
    "import numpy as np\n",
    "import pandas as pd\n",
    "import matplotlib.pyplot as plt\n",
    "import seaborn as sns\n",
    "from sklearn.ensemble import RandomForestRegressor\n",
    "from sklearn.model_selection import train_test_split, cross_val_score\n",
    "from sklearn.tree import DecisionTreeRegressor\n",
    "from pathlib import Path\n",
    "import statsmodels.api as sm\n",
    "import glob\n",
    "import os\n",
    "import xgboost as xgb\n",
    "from xgboost import XGBRegressor\n",
    "from sklearn.metrics import mean_squared_error\n",
    "import matplotlib.patches as patches\n",
    "from sklearn.model_selection import KFold\n",
    "from sklearn.tree import DecisionTreeClassifier\n",
    "from sklearn.tree import plot_tree\n",
    "from sklearn.ensemble import RandomForestClassifier\n",
    "from sklearn.impute import SimpleImputer"
   ]
  },
  {
   "cell_type": "markdown",
   "metadata": {},
   "source": [
    "This is a model that predicts the likely next pitch type in a unique count, previous pitch type, and previous outcome (ball or strike) sequence. It is useful during games to identify pitch calling tendencies held by the other team in specific pitcher hand - batter side matchups, which is often found in collegiate pitch calling. "
   ]
  },
  {
   "cell_type": "code",
   "execution_count": 20,
   "metadata": {},
   "outputs": [],
   "source": [
    "data2024 = pd.read_csv(r'2024NCAATrackman.csv', low_memory=False)"
   ]
  },
  {
   "cell_type": "code",
   "execution_count": 21,
   "metadata": {},
   "outputs": [],
   "source": [
    "sb2024 = data2024.loc[data2024['PitcherTeam'] == 'ORE_DUC']"
   ]
  },
  {
   "cell_type": "code",
   "execution_count": 22,
   "metadata": {},
   "outputs": [],
   "source": [
    "sb = sb2024.iloc[:, :54]"
   ]
  },
  {
   "cell_type": "markdown",
   "metadata": {},
   "source": [
    "Prep the raw data for the predictor function:"
   ]
  },
  {
   "cell_type": "code",
   "execution_count": 23,
   "metadata": {},
   "outputs": [],
   "source": [
    "sb['Balls'] = sb['Balls'].astype(int)\n",
    "sb['Strikes'] = sb['Strikes'].astype(int)"
   ]
  },
  {
   "cell_type": "code",
   "execution_count": 24,
   "metadata": {},
   "outputs": [],
   "source": [
    "sb['count'] = sb['Balls'].astype(str) + '' + sb['Strikes'].astype(str)"
   ]
  },
  {
   "cell_type": "code",
   "execution_count": 25,
   "metadata": {},
   "outputs": [
    {
     "data": {
      "text/plain": [
       "array(['00', '10', '11', '21', '31', '32', '01', '02', '20', '12', '22',\n",
       "       '30'], dtype=object)"
      ]
     },
     "execution_count": 25,
     "metadata": {},
     "output_type": "execute_result"
    }
   ],
   "source": [
    "sb['count'].unique()"
   ]
  },
  {
   "cell_type": "code",
   "execution_count": 26,
   "metadata": {},
   "outputs": [],
   "source": [
    "counts = ['0 0', '0 1', '1 0', '2 0', \n",
    "                '1 1', '0 2', '3 0', '3 1',\n",
    "                '1 2', '2 1', '2 2', '3 2']"
   ]
  },
  {
   "cell_type": "code",
   "execution_count": 27,
   "metadata": {},
   "outputs": [],
   "source": [
    "sb_rhh_rhp = sb[(sb['PitcherThrows'] == 'Right') & (sb['BatterSide'] == 'Right')]\n",
    "sb_rhh_lhp = sb[(sb['PitcherThrows'] == 'Left') & (sb['BatterSide'] == 'Right')]\n",
    "sb_lhh_lhp = sb[(sb['PitcherThrows'] == 'Left') & (sb['BatterSide'] == 'Left')]\n",
    "sb_lhh_rhp = sb[(sb['PitcherThrows'] == 'Right') & (sb['BatterSide'] == 'Left')]"
   ]
  },
  {
   "cell_type": "code",
   "execution_count": 28,
   "metadata": {},
   "outputs": [],
   "source": [
    "pitch_group_mapping = {\n",
    "        'FourSeamFastBall': 'hard',\n",
    "        'TwoSeamFastBall': 'hard',\n",
    "        'Fastball': 'hard',\n",
    "        'Sinker': 'hard',\n",
    "        'Cutter': 'hard',\n",
    "        'ChangeUp': 'os',\n",
    "        'Changeup': 'os',\n",
    "        'Splitter': 'os',\n",
    "        'Slider': 'break',\n",
    "        'Curveball': 'break',\n",
    "        'Knuckleball': 'os',\n",
    "        'OneSeamFastBall': 'hard'\n",
    "}"
   ]
  },
  {
   "cell_type": "code",
   "execution_count": 29,
   "metadata": {},
   "outputs": [],
   "source": [
    "sb['PitchGroup'] = sb['TaggedPitchType'].map(pitch_group_mapping)"
   ]
  },
  {
   "cell_type": "code",
   "execution_count": 30,
   "metadata": {},
   "outputs": [],
   "source": [
    "sb = sb.dropna(subset=['PitchGroup'])"
   ]
  },
  {
   "cell_type": "code",
   "execution_count": 31,
   "metadata": {},
   "outputs": [],
   "source": [
    "def encodegroup(row):\n",
    "    hit_keywords = ['Fastball', 'Sinker', 'Cutter']\n",
    "    hit2_keywords = ['Slider', 'Curveball']\n",
    "    hit3_keywords = ['ChangeUp', 'Splitter']\n",
    "    if any(keyword in row['TaggedPitchType'] for keyword in hit_keywords):\n",
    "        return 'hard'\n",
    "    elif any(keyword in row['TaggedPitchType'] for keyword in hit2_keywords):\n",
    "        return 'break'\n",
    "    elif any(keyword in row['TaggedPitchType'] for keyword in hit3_keywords):\n",
    "        return 'os'\n",
    "    else:\n",
    "        return pd.NA\n",
    "\n",
    "sb['PitchGroup'] = sb.apply(encodegroup, axis=1)"
   ]
  },
  {
   "cell_type": "code",
   "execution_count": 32,
   "metadata": {},
   "outputs": [],
   "source": [
    "def count_at_bats(df):\n",
    "    at_bats = []\n",
    "    current_pa = None\n",
    "    at_bat_count = 0\n",
    "    \n",
    "    for index, row in df.iterrows():\n",
    "        if row['PAofInning'] != current_pa:\n",
    "            current_pa = row['PAofInning']\n",
    "            at_bat_count += 1\n",
    "        at_bats.append(at_bat_count)\n",
    "    \n",
    "    return at_bats\n",
    "\n",
    "sb['ABcount'] = count_at_bats(sb)"
   ]
  },
  {
   "cell_type": "code",
   "execution_count": 33,
   "metadata": {},
   "outputs": [],
   "source": [
    "def determine_outcome(row):\n",
    "    hit_keywords = ['StrikeCalled', 'StrikeSwinging', 'InPlay', 'FoulBallNotFieldable', 'FoulBallFieldable', 'FoulBall']\n",
    "    hit_keywords2 = ['BallCalled', 'BallinDirt', 'BallIntentional', 'HitByPitch']  # Add all possible variations of 'hit'\n",
    "    if any(keyword in row['PitchCall'] for keyword in hit_keywords):\n",
    "        return 'S'\n",
    "    elif any(keyword in row['PitchCall'] for keyword in hit_keywords2):\n",
    "        return 'B'\n",
    "    else:\n",
    "        return pd.NA\n",
    "\n",
    "sb['outcome'] = sb.apply(determine_outcome, axis=1)"
   ]
  },
  {
   "cell_type": "code",
   "execution_count": 34,
   "metadata": {},
   "outputs": [],
   "source": [
    "sb = sb[sb['PitchCall'] != 'Undefined']"
   ]
  },
  {
   "cell_type": "code",
   "execution_count": 35,
   "metadata": {},
   "outputs": [],
   "source": [
    "count_map = {'00': 0, '01': 1, '10': 2, '20': 3, '11': 4, '02': 5,\n",
    "              '30': 6, '31': 7, '12': 8, '21': 9, '22': 10, '32': 11}\n",
    "sb['count_num'] = sb['count'].map(count_map)\n",
    "\n",
    "# encode previous pitch group and outcome\n",
    "pitch_map = {'hard': 0, 'break': 1, 'os': 2}\n",
    "sb['PitchGroup_encoded'] = sb['PitchGroup'].map(pitch_map)\n",
    "outcome_map = {'S': 1, 'B': 0}\n",
    "sb['Outcome_encoded'] = sb['outcome'].map(outcome_map)\n",
    "\n",
    "sb = sb.dropna(subset=['PitchGroup_encoded', 'Outcome_encoded'])"
   ]
  },
  {
   "cell_type": "code",
   "execution_count": 36,
   "metadata": {},
   "outputs": [],
   "source": [
    "def prep_df(df):\n",
    "    pitch_group_mapping = {\n",
    "    'FourSeamFastball': 'hard',\n",
    "    'TwoSeamFastball': 'hard',\n",
    "    'Fastball': 'hard',\n",
    "    'Sinker': 'hard',\n",
    "    'Cutter': 'hard',\n",
    "    'ChangeUp': 'os',\n",
    "    'Splitter': 'os',\n",
    "    'Slider': 'break',\n",
    "    'Curveball': 'break'\n",
    "    }\n",
    "    df['PitchGroup'] = df['TaggedPitchType'].map(pitch_group_mapping)\n",
    "    df['PitchGroup'] = df.apply(encodegroup, axis=1)\n",
    "    df['ABcount'] = count_at_bats(df)\n",
    "    df['outcome'] = df.apply(determine_outcome, axis=1)\n",
    "\n",
    "    count_map = {'00': 0, '01': 1, '10': 2, '20': 3, '11': 4, '02': 5,\n",
    "              '30': 6, '31': 7, '12': 8, '21': 9, '22': 10, '32': 11}\n",
    "    df['count_num'] = df['count'].map(count_map)\n",
    "\n",
    "    pitch_map = {'hard': 0, 'break': 1, 'os': 2}\n",
    "    df['PitchGroup_encoded'] = df['PitchGroup'].map(pitch_map)\n",
    "    outcome_map = {'S': 1, 'B': 0}\n",
    "    df['Outcome_encoded'] = df['outcome'].map(outcome_map)\n",
    "\n",
    "    df = df.dropna(subset=['PitchGroup_encoded', 'Outcome_encoded'])\n",
    "\n",
    "    return df"
   ]
  },
  {
   "cell_type": "code",
   "execution_count": 37,
   "metadata": {},
   "outputs": [],
   "source": [
    "def predict_at_bat(group_df):\n",
    "  '''\n",
    "  function to add predictions to a Trackman df\n",
    "  given it has been processed with the above code\n",
    "  '''\n",
    "  \n",
    "  group_df['previous_pitchgroup'] = group_df['PitchGroup_encoded'].shift(1)\n",
    "  group_df['previous_outcome'] = group_df['Outcome_encoded'].shift(1)\n",
    "  group_df['prev_pitchgroup'] = group_df['PitchGroup'].shift(1)\n",
    "  group_df['prev_outcome'] = group_df['outcome'].shift(1)\n",
    "\n",
    "  group_df = group_df.dropna(subset=['previous_pitchgroup', 'previous_outcome', 'prev_pitchgroup', 'prev_outcome']) #drop 0-0 pitches\n",
    "  group_df = group_df[group_df['count_num'] != 0] # double down to be sure\n",
    "\n",
    "  X = group_df[['count_num', 'previous_pitchgroup', 'previous_outcome']]\n",
    "  y = group_df[['PitchGroup']]\n",
    "\n",
    "  clf = RandomForestClassifier(n_estimators=100)\n",
    "  clf.fit(X, y)\n",
    "\n",
    "  group_df['Predicted_PitchGroup'] = clf.predict(X)\n",
    "\n",
    "  prob_array = clf.predict_proba(X)\n",
    "\n",
    "  break_prob = []\n",
    "  hard_prob = []\n",
    "  os_prob = []\n",
    "\n",
    "  # create the probability columns\n",
    "  for i in range(len(prob_array)):\n",
    "    break_prob.append(prob_array[i][0])\n",
    "    hard_prob.append(prob_array[i][1])\n",
    "    os_prob.append(prob_array[i][2])\n",
    "  \n",
    "  group_df['breakprob'] = break_prob\n",
    "  group_df['hardprob'] = hard_prob\n",
    "  group_df['osprob'] = os_prob\n",
    "\n",
    "  # get the score\n",
    "  score = np.round(clf.score(X, y), 3)\n",
    "  print(f\"accuracy: {score}\")\n",
    "  \n",
    "  return group_df, clf"
   ]
  },
  {
   "cell_type": "code",
   "execution_count": 38,
   "metadata": {},
   "outputs": [],
   "source": [
    "sb_f = sb[sb.groupby('ABcount')['PitchGroup'].transform('size') > 1] #filter out one-pitch at bats"
   ]
  },
  {
   "cell_type": "code",
   "execution_count": 39,
   "metadata": {},
   "outputs": [
    {
     "name": "stderr",
     "output_type": "stream",
     "text": [
      "C:\\Users\\parke\\AppData\\Local\\Temp\\ipykernel_33816\\1239531429.py:7: SettingWithCopyWarning: \n",
      "A value is trying to be set on a copy of a slice from a DataFrame.\n",
      "Try using .loc[row_indexer,col_indexer] = value instead\n",
      "\n",
      "See the caveats in the documentation: https://pandas.pydata.org/pandas-docs/stable/user_guide/indexing.html#returning-a-view-versus-a-copy\n",
      "  group_df['previous_pitchgroup'] = group_df['PitchGroup_encoded'].shift(1)\n",
      "C:\\Users\\parke\\AppData\\Local\\Temp\\ipykernel_33816\\1239531429.py:8: SettingWithCopyWarning: \n",
      "A value is trying to be set on a copy of a slice from a DataFrame.\n",
      "Try using .loc[row_indexer,col_indexer] = value instead\n",
      "\n",
      "See the caveats in the documentation: https://pandas.pydata.org/pandas-docs/stable/user_guide/indexing.html#returning-a-view-versus-a-copy\n",
      "  group_df['previous_outcome'] = group_df['Outcome_encoded'].shift(1)\n",
      "C:\\Users\\parke\\AppData\\Local\\Temp\\ipykernel_33816\\1239531429.py:9: SettingWithCopyWarning: \n",
      "A value is trying to be set on a copy of a slice from a DataFrame.\n",
      "Try using .loc[row_indexer,col_indexer] = value instead\n",
      "\n",
      "See the caveats in the documentation: https://pandas.pydata.org/pandas-docs/stable/user_guide/indexing.html#returning-a-view-versus-a-copy\n",
      "  group_df['prev_pitchgroup'] = group_df['PitchGroup'].shift(1)\n",
      "C:\\Users\\parke\\AppData\\Local\\Temp\\ipykernel_33816\\1239531429.py:10: SettingWithCopyWarning: \n",
      "A value is trying to be set on a copy of a slice from a DataFrame.\n",
      "Try using .loc[row_indexer,col_indexer] = value instead\n",
      "\n",
      "See the caveats in the documentation: https://pandas.pydata.org/pandas-docs/stable/user_guide/indexing.html#returning-a-view-versus-a-copy\n",
      "  group_df['prev_outcome'] = group_df['outcome'].shift(1)\n",
      "C:\\Users\\parke\\AppData\\Local\\Temp\\ipykernel_33816\\1239531429.py:19: DataConversionWarning: A column-vector y was passed when a 1d array was expected. Please change the shape of y to (n_samples,), for example using ravel().\n",
      "  clf.fit(X, y)\n"
     ]
    },
    {
     "name": "stdout",
     "output_type": "stream",
     "text": [
      "accuracy: 0.608\n"
     ]
    }
   ],
   "source": [
    "df, model = predict_at_bat(sb_f)"
   ]
  },
  {
   "cell_type": "code",
   "execution_count": 40,
   "metadata": {},
   "outputs": [],
   "source": [
    "dfshort = df[['PitchGroup', 'outcome', 'count', 'count_num', 'PitchGroup_encoded', 'Outcome_encoded', 'previous_pitchgroup', 'prev_pitchgroup', \n",
    "              'previous_outcome', 'prev_outcome', 'Predicted_PitchGroup', 'breakprob', 'hardprob', 'osprob']]"
   ]
  },
  {
   "cell_type": "code",
   "execution_count": 41,
   "metadata": {},
   "outputs": [],
   "source": [
    "unique_combinations = dfshort.groupby(['count', 'prev_pitchgroup', 'prev_outcome']).first().reset_index()"
   ]
  },
  {
   "cell_type": "code",
   "execution_count": 42,
   "metadata": {},
   "outputs": [],
   "source": [
    "df_probs = unique_combinations[['count', 'prev_pitchgroup', 'prev_outcome', 'Predicted_PitchGroup', 'breakprob', 'hardprob', 'osprob']]"
   ]
  },
  {
   "cell_type": "markdown",
   "metadata": {},
   "source": [
    "Use the unique matchups for better results:"
   ]
  },
  {
   "cell_type": "code",
   "execution_count": 43,
   "metadata": {},
   "outputs": [],
   "source": [
    "df_lp_lb = prep_df(sb_lhh_lhp)\n",
    "df_lp_rb = prep_df(sb_rhh_lhp)\n",
    "df_rp_lb = prep_df(sb_lhh_rhp)\n",
    "df_rp_rb = prep_df(sb_rhh_rhp)"
   ]
  },
  {
   "cell_type": "code",
   "execution_count": 44,
   "metadata": {},
   "outputs": [
    {
     "name": "stderr",
     "output_type": "stream",
     "text": [
      "C:\\Users\\parke\\AppData\\Local\\Temp\\ipykernel_33816\\1239531429.py:7: SettingWithCopyWarning: \n",
      "A value is trying to be set on a copy of a slice from a DataFrame.\n",
      "Try using .loc[row_indexer,col_indexer] = value instead\n",
      "\n",
      "See the caveats in the documentation: https://pandas.pydata.org/pandas-docs/stable/user_guide/indexing.html#returning-a-view-versus-a-copy\n",
      "  group_df['previous_pitchgroup'] = group_df['PitchGroup_encoded'].shift(1)\n",
      "C:\\Users\\parke\\AppData\\Local\\Temp\\ipykernel_33816\\1239531429.py:8: SettingWithCopyWarning: \n",
      "A value is trying to be set on a copy of a slice from a DataFrame.\n",
      "Try using .loc[row_indexer,col_indexer] = value instead\n",
      "\n",
      "See the caveats in the documentation: https://pandas.pydata.org/pandas-docs/stable/user_guide/indexing.html#returning-a-view-versus-a-copy\n",
      "  group_df['previous_outcome'] = group_df['Outcome_encoded'].shift(1)\n",
      "C:\\Users\\parke\\AppData\\Local\\Temp\\ipykernel_33816\\1239531429.py:9: SettingWithCopyWarning: \n",
      "A value is trying to be set on a copy of a slice from a DataFrame.\n",
      "Try using .loc[row_indexer,col_indexer] = value instead\n",
      "\n",
      "See the caveats in the documentation: https://pandas.pydata.org/pandas-docs/stable/user_guide/indexing.html#returning-a-view-versus-a-copy\n",
      "  group_df['prev_pitchgroup'] = group_df['PitchGroup'].shift(1)\n",
      "C:\\Users\\parke\\AppData\\Local\\Temp\\ipykernel_33816\\1239531429.py:10: SettingWithCopyWarning: \n",
      "A value is trying to be set on a copy of a slice from a DataFrame.\n",
      "Try using .loc[row_indexer,col_indexer] = value instead\n",
      "\n",
      "See the caveats in the documentation: https://pandas.pydata.org/pandas-docs/stable/user_guide/indexing.html#returning-a-view-versus-a-copy\n",
      "  group_df['prev_outcome'] = group_df['outcome'].shift(1)\n",
      "C:\\Users\\parke\\AppData\\Local\\Temp\\ipykernel_33816\\1239531429.py:19: DataConversionWarning: A column-vector y was passed when a 1d array was expected. Please change the shape of y to (n_samples,), for example using ravel().\n",
      "  clf.fit(X, y)\n"
     ]
    },
    {
     "name": "stdout",
     "output_type": "stream",
     "text": [
      "accuracy: 0.795\n"
     ]
    },
    {
     "name": "stderr",
     "output_type": "stream",
     "text": [
      "C:\\Users\\parke\\AppData\\Local\\Temp\\ipykernel_33816\\1239531429.py:7: SettingWithCopyWarning: \n",
      "A value is trying to be set on a copy of a slice from a DataFrame.\n",
      "Try using .loc[row_indexer,col_indexer] = value instead\n",
      "\n",
      "See the caveats in the documentation: https://pandas.pydata.org/pandas-docs/stable/user_guide/indexing.html#returning-a-view-versus-a-copy\n",
      "  group_df['previous_pitchgroup'] = group_df['PitchGroup_encoded'].shift(1)\n",
      "C:\\Users\\parke\\AppData\\Local\\Temp\\ipykernel_33816\\1239531429.py:8: SettingWithCopyWarning: \n",
      "A value is trying to be set on a copy of a slice from a DataFrame.\n",
      "Try using .loc[row_indexer,col_indexer] = value instead\n",
      "\n",
      "See the caveats in the documentation: https://pandas.pydata.org/pandas-docs/stable/user_guide/indexing.html#returning-a-view-versus-a-copy\n",
      "  group_df['previous_outcome'] = group_df['Outcome_encoded'].shift(1)\n",
      "C:\\Users\\parke\\AppData\\Local\\Temp\\ipykernel_33816\\1239531429.py:9: SettingWithCopyWarning: \n",
      "A value is trying to be set on a copy of a slice from a DataFrame.\n",
      "Try using .loc[row_indexer,col_indexer] = value instead\n",
      "\n",
      "See the caveats in the documentation: https://pandas.pydata.org/pandas-docs/stable/user_guide/indexing.html#returning-a-view-versus-a-copy\n",
      "  group_df['prev_pitchgroup'] = group_df['PitchGroup'].shift(1)\n",
      "C:\\Users\\parke\\AppData\\Local\\Temp\\ipykernel_33816\\1239531429.py:10: SettingWithCopyWarning: \n",
      "A value is trying to be set on a copy of a slice from a DataFrame.\n",
      "Try using .loc[row_indexer,col_indexer] = value instead\n",
      "\n",
      "See the caveats in the documentation: https://pandas.pydata.org/pandas-docs/stable/user_guide/indexing.html#returning-a-view-versus-a-copy\n",
      "  group_df['prev_outcome'] = group_df['outcome'].shift(1)\n",
      "C:\\Users\\parke\\AppData\\Local\\Temp\\ipykernel_33816\\1239531429.py:19: DataConversionWarning: A column-vector y was passed when a 1d array was expected. Please change the shape of y to (n_samples,), for example using ravel().\n",
      "  clf.fit(X, y)\n"
     ]
    },
    {
     "name": "stdout",
     "output_type": "stream",
     "text": [
      "accuracy: 0.623\n"
     ]
    },
    {
     "name": "stderr",
     "output_type": "stream",
     "text": [
      "C:\\Users\\parke\\AppData\\Local\\Temp\\ipykernel_33816\\1239531429.py:7: SettingWithCopyWarning: \n",
      "A value is trying to be set on a copy of a slice from a DataFrame.\n",
      "Try using .loc[row_indexer,col_indexer] = value instead\n",
      "\n",
      "See the caveats in the documentation: https://pandas.pydata.org/pandas-docs/stable/user_guide/indexing.html#returning-a-view-versus-a-copy\n",
      "  group_df['previous_pitchgroup'] = group_df['PitchGroup_encoded'].shift(1)\n",
      "C:\\Users\\parke\\AppData\\Local\\Temp\\ipykernel_33816\\1239531429.py:8: SettingWithCopyWarning: \n",
      "A value is trying to be set on a copy of a slice from a DataFrame.\n",
      "Try using .loc[row_indexer,col_indexer] = value instead\n",
      "\n",
      "See the caveats in the documentation: https://pandas.pydata.org/pandas-docs/stable/user_guide/indexing.html#returning-a-view-versus-a-copy\n",
      "  group_df['previous_outcome'] = group_df['Outcome_encoded'].shift(1)\n",
      "C:\\Users\\parke\\AppData\\Local\\Temp\\ipykernel_33816\\1239531429.py:9: SettingWithCopyWarning: \n",
      "A value is trying to be set on a copy of a slice from a DataFrame.\n",
      "Try using .loc[row_indexer,col_indexer] = value instead\n",
      "\n",
      "See the caveats in the documentation: https://pandas.pydata.org/pandas-docs/stable/user_guide/indexing.html#returning-a-view-versus-a-copy\n",
      "  group_df['prev_pitchgroup'] = group_df['PitchGroup'].shift(1)\n",
      "C:\\Users\\parke\\AppData\\Local\\Temp\\ipykernel_33816\\1239531429.py:10: SettingWithCopyWarning: \n",
      "A value is trying to be set on a copy of a slice from a DataFrame.\n",
      "Try using .loc[row_indexer,col_indexer] = value instead\n",
      "\n",
      "See the caveats in the documentation: https://pandas.pydata.org/pandas-docs/stable/user_guide/indexing.html#returning-a-view-versus-a-copy\n",
      "  group_df['prev_outcome'] = group_df['outcome'].shift(1)\n",
      "C:\\Users\\parke\\AppData\\Local\\Temp\\ipykernel_33816\\1239531429.py:19: DataConversionWarning: A column-vector y was passed when a 1d array was expected. Please change the shape of y to (n_samples,), for example using ravel().\n",
      "  clf.fit(X, y)\n"
     ]
    },
    {
     "name": "stdout",
     "output_type": "stream",
     "text": [
      "accuracy: 0.602\n"
     ]
    },
    {
     "name": "stderr",
     "output_type": "stream",
     "text": [
      "C:\\Users\\parke\\AppData\\Local\\Temp\\ipykernel_33816\\1239531429.py:7: SettingWithCopyWarning: \n",
      "A value is trying to be set on a copy of a slice from a DataFrame.\n",
      "Try using .loc[row_indexer,col_indexer] = value instead\n",
      "\n",
      "See the caveats in the documentation: https://pandas.pydata.org/pandas-docs/stable/user_guide/indexing.html#returning-a-view-versus-a-copy\n",
      "  group_df['previous_pitchgroup'] = group_df['PitchGroup_encoded'].shift(1)\n",
      "C:\\Users\\parke\\AppData\\Local\\Temp\\ipykernel_33816\\1239531429.py:8: SettingWithCopyWarning: \n",
      "A value is trying to be set on a copy of a slice from a DataFrame.\n",
      "Try using .loc[row_indexer,col_indexer] = value instead\n",
      "\n",
      "See the caveats in the documentation: https://pandas.pydata.org/pandas-docs/stable/user_guide/indexing.html#returning-a-view-versus-a-copy\n",
      "  group_df['previous_outcome'] = group_df['Outcome_encoded'].shift(1)\n",
      "C:\\Users\\parke\\AppData\\Local\\Temp\\ipykernel_33816\\1239531429.py:9: SettingWithCopyWarning: \n",
      "A value is trying to be set on a copy of a slice from a DataFrame.\n",
      "Try using .loc[row_indexer,col_indexer] = value instead\n",
      "\n",
      "See the caveats in the documentation: https://pandas.pydata.org/pandas-docs/stable/user_guide/indexing.html#returning-a-view-versus-a-copy\n",
      "  group_df['prev_pitchgroup'] = group_df['PitchGroup'].shift(1)\n",
      "C:\\Users\\parke\\AppData\\Local\\Temp\\ipykernel_33816\\1239531429.py:10: SettingWithCopyWarning: \n",
      "A value is trying to be set on a copy of a slice from a DataFrame.\n",
      "Try using .loc[row_indexer,col_indexer] = value instead\n",
      "\n",
      "See the caveats in the documentation: https://pandas.pydata.org/pandas-docs/stable/user_guide/indexing.html#returning-a-view-versus-a-copy\n",
      "  group_df['prev_outcome'] = group_df['outcome'].shift(1)\n",
      "C:\\Users\\parke\\AppData\\Local\\Temp\\ipykernel_33816\\1239531429.py:19: DataConversionWarning: A column-vector y was passed when a 1d array was expected. Please change the shape of y to (n_samples,), for example using ravel().\n",
      "  clf.fit(X, y)\n"
     ]
    },
    {
     "name": "stdout",
     "output_type": "stream",
     "text": [
      "accuracy: 0.664\n"
     ]
    }
   ],
   "source": [
    "df_lp_lb, m_lp_lb = predict_at_bat(df_lp_lb)\n",
    "df_lp_rb, m_lp_rb = predict_at_bat(df_lp_rb)\n",
    "df_rp_lb, m_rp_lb = predict_at_bat(df_rp_lb)\n",
    "df_rp_rb, m_rp_rb = predict_at_bat(df_rp_rb)"
   ]
  },
  {
   "cell_type": "markdown",
   "metadata": {},
   "source": [
    "Grab the unique combinations of each count-pitchtype sequence:"
   ]
  },
  {
   "cell_type": "code",
   "execution_count": 45,
   "metadata": {},
   "outputs": [],
   "source": [
    "df_lp_lb = df_lp_lb.groupby(['count', 'prev_pitchgroup', 'prev_outcome']).first().reset_index()[['count', 'prev_pitchgroup', 'prev_outcome', 'Predicted_PitchGroup', 'breakprob', 'hardprob', 'osprob']]"
   ]
  },
  {
   "cell_type": "code",
   "execution_count": 46,
   "metadata": {},
   "outputs": [],
   "source": [
    "df_lp_rb = df_lp_rb.groupby(['count', 'prev_pitchgroup', 'prev_outcome']).first().reset_index()[['count', 'prev_pitchgroup', 'prev_outcome', 'Predicted_PitchGroup', 'breakprob', 'hardprob', 'osprob']]"
   ]
  },
  {
   "cell_type": "code",
   "execution_count": 47,
   "metadata": {},
   "outputs": [],
   "source": [
    "df_rp_lb = df_rp_lb.groupby(['count', 'prev_pitchgroup', 'prev_outcome']).first().reset_index()[['count', 'prev_pitchgroup', 'prev_outcome', 'Predicted_PitchGroup', 'breakprob', 'hardprob', 'osprob']]"
   ]
  },
  {
   "cell_type": "code",
   "execution_count": 48,
   "metadata": {},
   "outputs": [],
   "source": [
    "df_rp_rb = df_rp_rb.groupby(['count', 'prev_pitchgroup', 'prev_outcome']).first().reset_index()[['count', 'prev_pitchgroup', 'prev_outcome', 'Predicted_PitchGroup', 'breakprob', 'hardprob', 'osprob']]"
   ]
  },
  {
   "cell_type": "markdown",
   "metadata": {},
   "source": [
    "Final product to be used during a game:"
   ]
  },
  {
   "cell_type": "code",
   "execution_count": 50,
   "metadata": {},
   "outputs": [
    {
     "data": {
      "text/html": [
       "<div>\n",
       "<style scoped>\n",
       "    .dataframe tbody tr th:only-of-type {\n",
       "        vertical-align: middle;\n",
       "    }\n",
       "\n",
       "    .dataframe tbody tr th {\n",
       "        vertical-align: top;\n",
       "    }\n",
       "\n",
       "    .dataframe thead th {\n",
       "        text-align: right;\n",
       "    }\n",
       "</style>\n",
       "<table border=\"1\" class=\"dataframe\">\n",
       "  <thead>\n",
       "    <tr style=\"text-align: right;\">\n",
       "      <th></th>\n",
       "      <th>count</th>\n",
       "      <th>prev_pitchgroup</th>\n",
       "      <th>prev_outcome</th>\n",
       "      <th>Predicted_PitchGroup</th>\n",
       "      <th>breakprob</th>\n",
       "      <th>hardprob</th>\n",
       "      <th>osprob</th>\n",
       "    </tr>\n",
       "  </thead>\n",
       "  <tbody>\n",
       "    <tr>\n",
       "      <th>0</th>\n",
       "      <td>01</td>\n",
       "      <td>break</td>\n",
       "      <td>S</td>\n",
       "      <td>hard</td>\n",
       "      <td>0.406891</td>\n",
       "      <td>0.592484</td>\n",
       "      <td>0.000625</td>\n",
       "    </tr>\n",
       "    <tr>\n",
       "      <th>1</th>\n",
       "      <td>01</td>\n",
       "      <td>hard</td>\n",
       "      <td>S</td>\n",
       "      <td>break</td>\n",
       "      <td>0.646303</td>\n",
       "      <td>0.283245</td>\n",
       "      <td>0.070452</td>\n",
       "    </tr>\n",
       "    <tr>\n",
       "      <th>2</th>\n",
       "      <td>02</td>\n",
       "      <td>break</td>\n",
       "      <td>S</td>\n",
       "      <td>hard</td>\n",
       "      <td>0.187226</td>\n",
       "      <td>0.812774</td>\n",
       "      <td>0.000000</td>\n",
       "    </tr>\n",
       "    <tr>\n",
       "      <th>3</th>\n",
       "      <td>02</td>\n",
       "      <td>hard</td>\n",
       "      <td>S</td>\n",
       "      <td>hard</td>\n",
       "      <td>0.269024</td>\n",
       "      <td>0.577043</td>\n",
       "      <td>0.153933</td>\n",
       "    </tr>\n",
       "    <tr>\n",
       "      <th>4</th>\n",
       "      <td>10</td>\n",
       "      <td>break</td>\n",
       "      <td>B</td>\n",
       "      <td>hard</td>\n",
       "      <td>0.328559</td>\n",
       "      <td>0.671441</td>\n",
       "      <td>0.000000</td>\n",
       "    </tr>\n",
       "    <tr>\n",
       "      <th>5</th>\n",
       "      <td>10</td>\n",
       "      <td>hard</td>\n",
       "      <td>B</td>\n",
       "      <td>hard</td>\n",
       "      <td>0.000000</td>\n",
       "      <td>1.000000</td>\n",
       "      <td>0.000000</td>\n",
       "    </tr>\n",
       "    <tr>\n",
       "      <th>6</th>\n",
       "      <td>11</td>\n",
       "      <td>break</td>\n",
       "      <td>B</td>\n",
       "      <td>break</td>\n",
       "      <td>0.887750</td>\n",
       "      <td>0.112250</td>\n",
       "      <td>0.000000</td>\n",
       "    </tr>\n",
       "    <tr>\n",
       "      <th>7</th>\n",
       "      <td>11</td>\n",
       "      <td>break</td>\n",
       "      <td>S</td>\n",
       "      <td>hard</td>\n",
       "      <td>0.021667</td>\n",
       "      <td>0.978333</td>\n",
       "      <td>0.000000</td>\n",
       "    </tr>\n",
       "    <tr>\n",
       "      <th>8</th>\n",
       "      <td>11</td>\n",
       "      <td>hard</td>\n",
       "      <td>B</td>\n",
       "      <td>hard</td>\n",
       "      <td>0.457041</td>\n",
       "      <td>0.542959</td>\n",
       "      <td>0.000000</td>\n",
       "    </tr>\n",
       "    <tr>\n",
       "      <th>9</th>\n",
       "      <td>11</td>\n",
       "      <td>hard</td>\n",
       "      <td>S</td>\n",
       "      <td>hard</td>\n",
       "      <td>0.354994</td>\n",
       "      <td>0.645006</td>\n",
       "      <td>0.000000</td>\n",
       "    </tr>\n",
       "  </tbody>\n",
       "</table>\n",
       "</div>"
      ],
      "text/plain": [
       "  count prev_pitchgroup prev_outcome Predicted_PitchGroup  breakprob  \\\n",
       "0    01           break            S                 hard   0.406891   \n",
       "1    01            hard            S                break   0.646303   \n",
       "2    02           break            S                 hard   0.187226   \n",
       "3    02            hard            S                 hard   0.269024   \n",
       "4    10           break            B                 hard   0.328559   \n",
       "5    10            hard            B                 hard   0.000000   \n",
       "6    11           break            B                break   0.887750   \n",
       "7    11           break            S                 hard   0.021667   \n",
       "8    11            hard            B                 hard   0.457041   \n",
       "9    11            hard            S                 hard   0.354994   \n",
       "\n",
       "   hardprob    osprob  \n",
       "0  0.592484  0.000625  \n",
       "1  0.283245  0.070452  \n",
       "2  0.812774  0.000000  \n",
       "3  0.577043  0.153933  \n",
       "4  0.671441  0.000000  \n",
       "5  1.000000  0.000000  \n",
       "6  0.112250  0.000000  \n",
       "7  0.978333  0.000000  \n",
       "8  0.542959  0.000000  \n",
       "9  0.645006  0.000000  "
      ]
     },
     "execution_count": 50,
     "metadata": {},
     "output_type": "execute_result"
    }
   ],
   "source": [
    "df_lp_lb.head(10)"
   ]
  }
 ],
 "metadata": {
  "kernelspec": {
   "display_name": "base",
   "language": "python",
   "name": "python3"
  },
  "language_info": {
   "codemirror_mode": {
    "name": "ipython",
    "version": 3
   },
   "file_extension": ".py",
   "mimetype": "text/x-python",
   "name": "python",
   "nbconvert_exporter": "python",
   "pygments_lexer": "ipython3",
   "version": "3.11.8"
  }
 },
 "nbformat": 4,
 "nbformat_minor": 2
}
